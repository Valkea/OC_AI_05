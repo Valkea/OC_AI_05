{
 "cells": [
  {
   "cell_type": "markdown",
   "id": "ebab82ad-479e-40f4-8f4f-5fbd21b92f4c",
   "metadata": {},
   "source": [
    "# Menu <a class=\"anchor\" id=\"menu\"></a>\n",
    "\n",
    "* [1. olist_customers_dataset.csv](#data_customers)\n",
    "    * [1.1 Check missing values](#data_customers_missing)\n",
    "* [2. olist_geolocation_dataset.csv](#data_geo)\n",
    "    * [2.1 Check missing values](#data_geo_missing)\n",
    "* [3. olist_order_items_dataset.csv](#data_items)\n",
    "    * [3.1 Check missing values](#data_items_missing)\n",
    "* [4. olist_order_payments_dataset.csv](#data_payments)\n",
    "    * [4.1 Check missing values](#data_payments_missing)\n",
    "* [5. olist_order_reviews_dataset.csv](#data_reviews)\n",
    "    * [5.1 Check missing values](#data_reviews_missing)\n",
    "* [6. olist_orders_dataset.csv](#data_orders)\n",
    "    * [6.1 Check missing values](#data_orders_missing)\n",
    "* [7. olist_products_dataset.csv](#data_products)\n",
    "    * [7.1 Check missing values](#data_products_missing)\n",
    "* [8. olist_sellers_dataset.csv](#data_sellers)\n",
    "    * [8.1 Check missing values](#data_sellers_missing)\n",
    "* [9. product_category_name_translation.csv](#data_categories)\n",
    "    * [9.1 Check missing values](#data_categories_missing)"
   ]
  },
  {
   "cell_type": "raw",
   "id": "51482b99-6286-445d-a171-65443d9867cc",
   "metadata": {},
   "source": [
    "* [1. General Overview](#overview)\n",
    "* [2. Check the dataset](#check)\n",
    "    * [2.1 Check duplicates](#duplicates)\n",
    "    * [2.2 Check missing values](#missing_values)\n",
    "* [3. Explore the columns + Univariate Analysis](#explore_columns)\n",
    "    * [3.1 Inspect `Boolean` variables](#explore_columns_bool)\n",
    "    * [3.2 Inspect *(non boolean)* `Categorical` variables](#explore_columns_categorical)\n",
    "    * [3.3 Inspect `Numerical` variables](#explore_columns_numerical)\n",
    "    * [3.4 Inspect `TARGET` variable](#explore_target)\n",
    "* [4. Multivariate Analysis](#multivariate_analysis)\n",
    "    * [4.1 `TARGET` distribution on the various columns](#target_distributions)\n",
    "    * [4.2 Pearson's correlations](#pearson_correlations)\n",
    "* [5. Conclusion](#conclusion)"
   ]
  },
  {
   "cell_type": "code",
   "execution_count": 1,
   "id": "690d266d-b04b-4d1e-9f41-a394d8c2e928",
   "metadata": {},
   "outputs": [],
   "source": [
    "import os\n",
    "from zipfile import ZipFile\n",
    "\n",
    "import numpy as np\n",
    "import pandas as pd\n",
    "import matplotlib.pyplot as plt\n",
    "import seaborn as sns\n",
    "\n",
    "random_seed = 0\n",
    "np.random.seed(random_seed)\n",
    "\n",
    "#import warnings\n",
    "#warnings.filterwarnings('ignore')\n",
    "\n",
    "#import gc\n",
    "#gc.enable()"
   ]
  },
  {
   "cell_type": "code",
   "execution_count": 30,
   "id": "90105169-ece2-4916-b88e-1801edc67924",
   "metadata": {},
   "outputs": [],
   "source": [
    "def print_dataset_shape(data_):\n",
    "    print(f\"Ce dataset contient {data_.shape[0]} entrées décrites par {data_.shape[1]} variables\")"
   ]
  },
  {
   "cell_type": "code",
   "execution_count": 11,
   "id": "4b1b917e-e9d0-471f-87da-58cd3f88a690",
   "metadata": {},
   "outputs": [],
   "source": [
    "def get_fill_rate(dataset):\n",
    "    return  dataset.notnull().mean(axis=0)\n",
    "    \n",
    "def print_fill_rate(dataset, col_array, sort_by_score=False):\n",
    "    fill_ratio = get_fill_rate(dataset)*100.0\n",
    "    fill_count = dataset[col_array].notnull().sum()\n",
    "    \n",
    "    total = dataset.shape[0]\n",
    "    max_size = max([len(x) for x in dataset.columns])\n",
    "    col_size = 15\n",
    "\n",
    "    if sort_by_score:\n",
    "        fill_count = fill_count.sort_values(ascending=False)    \n",
    "        \n",
    "    print(f\"{'COLUMN NAME'.rjust(max_size)} | {'EMPTY ROWS'.center(col_size)} | {'FILLING RATE'.rjust(col_size)} \\n{'-'*111}\")\n",
    "    \n",
    "    for k, v in fill_count.iteritems():\n",
    "        fraction = fill_ratio[k]\n",
    "        print(f\"{k.rjust(max_size)} | {total-v:15} | {fraction:15.2f}%\")\n",
    "        \n",
    "    return fill_ratio"
   ]
  },
  {
   "cell_type": "markdown",
   "id": "6c08a255-7be8-4803-944b-e14347c9219b",
   "metadata": {},
   "source": [
    "---\n",
    "# 1. `olist_customers_dataset.csv` <a class=\"anchor\" id=\"data_customers\"></a> [⇪](#menu)"
   ]
  },
  {
   "cell_type": "code",
   "execution_count": 27,
   "id": "1b33949e-7683-4e03-bd5b-13e937b0d678",
   "metadata": {},
   "outputs": [
    {
     "data": {
      "text/html": [
       "<div>\n",
       "<style scoped>\n",
       "    .dataframe tbody tr th:only-of-type {\n",
       "        vertical-align: middle;\n",
       "    }\n",
       "\n",
       "    .dataframe tbody tr th {\n",
       "        vertical-align: top;\n",
       "    }\n",
       "\n",
       "    .dataframe thead th {\n",
       "        text-align: right;\n",
       "    }\n",
       "</style>\n",
       "<table border=\"1\" class=\"dataframe\">\n",
       "  <thead>\n",
       "    <tr style=\"text-align: right;\">\n",
       "      <th></th>\n",
       "      <th>customer_id</th>\n",
       "      <th>customer_unique_id</th>\n",
       "      <th>customer_zip_code_prefix</th>\n",
       "      <th>customer_city</th>\n",
       "      <th>customer_state</th>\n",
       "    </tr>\n",
       "  </thead>\n",
       "  <tbody>\n",
       "    <tr>\n",
       "      <th>17917</th>\n",
       "      <td>fa5cde2f984262f2398e3180c7638648</td>\n",
       "      <td>230061b6b7d06e99964e3d22c92ae0ad</td>\n",
       "      <td>78144</td>\n",
       "      <td>varzea grande</td>\n",
       "      <td>MT</td>\n",
       "    </tr>\n",
       "    <tr>\n",
       "      <th>56219</th>\n",
       "      <td>db51f35aad5e37b5e416f74bcbb17143</td>\n",
       "      <td>f17432ee714fd40afc0b38dab3e21cdf</td>\n",
       "      <td>4438</td>\n",
       "      <td>sao paulo</td>\n",
       "      <td>SP</td>\n",
       "    </tr>\n",
       "    <tr>\n",
       "      <th>71850</th>\n",
       "      <td>bdcf33d907fe2aebe8e1dc1f936af750</td>\n",
       "      <td>06ec3677cee4b59c27b290bf07288bf5</td>\n",
       "      <td>88750</td>\n",
       "      <td>braco do norte</td>\n",
       "      <td>SC</td>\n",
       "    </tr>\n",
       "    <tr>\n",
       "      <th>15912</th>\n",
       "      <td>50f4ec7d46a714a53d430d880a9636f5</td>\n",
       "      <td>57ba03e60a4ff6b32b2b63857670d8f6</td>\n",
       "      <td>66640</td>\n",
       "      <td>belem</td>\n",
       "      <td>PA</td>\n",
       "    </tr>\n",
       "    <tr>\n",
       "      <th>92472</th>\n",
       "      <td>d2a90be3e7253852568d80763b2df91e</td>\n",
       "      <td>a439177407290b4a5118b05ef53196e0</td>\n",
       "      <td>13806</td>\n",
       "      <td>mogi mirim</td>\n",
       "      <td>SP</td>\n",
       "    </tr>\n",
       "  </tbody>\n",
       "</table>\n",
       "</div>"
      ],
      "text/plain": [
       "                            customer_id                customer_unique_id  \\\n",
       "17917  fa5cde2f984262f2398e3180c7638648  230061b6b7d06e99964e3d22c92ae0ad   \n",
       "56219  db51f35aad5e37b5e416f74bcbb17143  f17432ee714fd40afc0b38dab3e21cdf   \n",
       "71850  bdcf33d907fe2aebe8e1dc1f936af750  06ec3677cee4b59c27b290bf07288bf5   \n",
       "15912  50f4ec7d46a714a53d430d880a9636f5  57ba03e60a4ff6b32b2b63857670d8f6   \n",
       "92472  d2a90be3e7253852568d80763b2df91e  a439177407290b4a5118b05ef53196e0   \n",
       "\n",
       "       customer_zip_code_prefix   customer_city customer_state  \n",
       "17917                     78144   varzea grande             MT  \n",
       "56219                      4438       sao paulo             SP  \n",
       "71850                     88750  braco do norte             SC  \n",
       "15912                     66640           belem             PA  \n",
       "92472                     13806      mogi mirim             SP  "
      ]
     },
     "execution_count": 27,
     "metadata": {},
     "output_type": "execute_result"
    }
   ],
   "source": [
    "csv_name = \"olist_customers_dataset.csv\"\n",
    "data_customer = pd.read_csv(ZipFile(os.path.join(\"data\",f\"{csv_name}.zip\")).open(csv_name))\n",
    "data_customer.sample(5)"
   ]
  },
  {
   "cell_type": "code",
   "execution_count": 31,
   "id": "d9981935-6c1b-40de-9112-af4d5eebc502",
   "metadata": {},
   "outputs": [
    {
     "name": "stdout",
     "output_type": "stream",
     "text": [
      "Ce dataset contient 99441 entrées décrites par 5 variables\n"
     ]
    }
   ],
   "source": [
    "print_dataset_shape(data_customer)"
   ]
  },
  {
   "cell_type": "markdown",
   "id": "044edc71-d189-4879-8480-81636963868e",
   "metadata": {},
   "source": [
    "## 1.1 Check for missing values <a class=\"anchor\" id=\"data_customer_missing\"></a> [⇪](#menu)"
   ]
  },
  {
   "cell_type": "code",
   "execution_count": 13,
   "id": "25a7424b-7a8d-43ae-80ee-b991383266fc",
   "metadata": {},
   "outputs": [
    {
     "name": "stdout",
     "output_type": "stream",
     "text": [
      "             COLUMN NAME |    EMPTY ROWS   |    FILLING RATE \n",
      "---------------------------------------------------------------------------------------------------------------\n",
      "             customer_id |               0 |          100.00%\n",
      "      customer_unique_id |               0 |          100.00%\n",
      "customer_zip_code_prefix |               0 |          100.00%\n",
      "           customer_city |               0 |          100.00%\n",
      "          customer_state |               0 |          100.00%\n"
     ]
    }
   ],
   "source": [
    "_ = print_fill_rate(data_customer, data_customer.columns)"
   ]
  },
  {
   "cell_type": "markdown",
   "id": "859f78b0-e51b-4ce7-b867-8b060ff6215f",
   "metadata": {},
   "source": [
    "> Aucune valeur n'est manquante"
   ]
  },
  {
   "cell_type": "markdown",
   "id": "1ab815c5-2827-41b7-ad98-efe7f7b9a504",
   "metadata": {},
   "source": [
    "---\n",
    "# 2. `olist_geolocation_dataset.csv` <a class=\"anchor\" id=\"data_geo\"></a> [⇪](#menu)"
   ]
  },
  {
   "cell_type": "code",
   "execution_count": 3,
   "id": "1bbc3fd8-3ef5-4b28-93dc-b08593396c03",
   "metadata": {},
   "outputs": [
    {
     "data": {
      "text/html": [
       "<div>\n",
       "<style scoped>\n",
       "    .dataframe tbody tr th:only-of-type {\n",
       "        vertical-align: middle;\n",
       "    }\n",
       "\n",
       "    .dataframe tbody tr th {\n",
       "        vertical-align: top;\n",
       "    }\n",
       "\n",
       "    .dataframe thead th {\n",
       "        text-align: right;\n",
       "    }\n",
       "</style>\n",
       "<table border=\"1\" class=\"dataframe\">\n",
       "  <thead>\n",
       "    <tr style=\"text-align: right;\">\n",
       "      <th></th>\n",
       "      <th>geolocation_zip_code_prefix</th>\n",
       "      <th>geolocation_lat</th>\n",
       "      <th>geolocation_lng</th>\n",
       "      <th>geolocation_city</th>\n",
       "      <th>geolocation_state</th>\n",
       "    </tr>\n",
       "  </thead>\n",
       "  <tbody>\n",
       "    <tr>\n",
       "      <th>823176</th>\n",
       "      <td>78285</td>\n",
       "      <td>-15.624392</td>\n",
       "      <td>-58.187282</td>\n",
       "      <td>sao jose dos quatro marcos</td>\n",
       "      <td>MT</td>\n",
       "    </tr>\n",
       "    <tr>\n",
       "      <th>738409</th>\n",
       "      <td>59678</td>\n",
       "      <td>-4.841183</td>\n",
       "      <td>-37.255959</td>\n",
       "      <td>tibau</td>\n",
       "      <td>RN</td>\n",
       "    </tr>\n",
       "    <tr>\n",
       "      <th>660364</th>\n",
       "      <td>39401</td>\n",
       "      <td>-16.728432</td>\n",
       "      <td>-43.871486</td>\n",
       "      <td>montes claros</td>\n",
       "      <td>MG</td>\n",
       "    </tr>\n",
       "    <tr>\n",
       "      <th>440312</th>\n",
       "      <td>22070</td>\n",
       "      <td>-22.983260</td>\n",
       "      <td>-43.190791</td>\n",
       "      <td>rio de janeiro</td>\n",
       "      <td>RJ</td>\n",
       "    </tr>\n",
       "    <tr>\n",
       "      <th>311303</th>\n",
       "      <td>13504</td>\n",
       "      <td>-22.397701</td>\n",
       "      <td>-47.574436</td>\n",
       "      <td>rio claro</td>\n",
       "      <td>SP</td>\n",
       "    </tr>\n",
       "  </tbody>\n",
       "</table>\n",
       "</div>"
      ],
      "text/plain": [
       "        geolocation_zip_code_prefix  geolocation_lat  geolocation_lng  \\\n",
       "823176                        78285       -15.624392       -58.187282   \n",
       "738409                        59678        -4.841183       -37.255959   \n",
       "660364                        39401       -16.728432       -43.871486   \n",
       "440312                        22070       -22.983260       -43.190791   \n",
       "311303                        13504       -22.397701       -47.574436   \n",
       "\n",
       "                  geolocation_city geolocation_state  \n",
       "823176  sao jose dos quatro marcos                MT  \n",
       "738409                       tibau                RN  \n",
       "660364               montes claros                MG  \n",
       "440312              rio de janeiro                RJ  \n",
       "311303                   rio claro                SP  "
      ]
     },
     "execution_count": 3,
     "metadata": {},
     "output_type": "execute_result"
    }
   ],
   "source": [
    "csv_name = \"olist_geolocation_dataset.csv\"\n",
    "data_geo = pd.read_csv(ZipFile(os.path.join(\"data\",f\"{csv_name}.zip\")).open(csv_name))\n",
    "data_geo.sample(5)"
   ]
  },
  {
   "cell_type": "code",
   "execution_count": 32,
   "id": "f5d2c35d-5675-4724-a0e9-f313f4e9d541",
   "metadata": {},
   "outputs": [
    {
     "name": "stdout",
     "output_type": "stream",
     "text": [
      "Ce dataset contient 1000163 entrées décrites par 5 variables\n"
     ]
    }
   ],
   "source": [
    "print_dataset_shape(data_geo)"
   ]
  },
  {
   "cell_type": "markdown",
   "id": "afec3009-b0b6-4de4-8caa-dc0a4433518f",
   "metadata": {},
   "source": [
    "## 2.1 Check for missing values <a class=\"anchor\" id=\"data_geo_missing\"></a> [⇪](#menu)"
   ]
  },
  {
   "cell_type": "code",
   "execution_count": 14,
   "id": "2e88e924-12c3-44e0-9614-c37dab64539a",
   "metadata": {},
   "outputs": [
    {
     "name": "stdout",
     "output_type": "stream",
     "text": [
      "                COLUMN NAME |    EMPTY ROWS   |    FILLING RATE \n",
      "---------------------------------------------------------------------------------------------------------------\n",
      "geolocation_zip_code_prefix |               0 |          100.00%\n",
      "            geolocation_lat |               0 |          100.00%\n",
      "            geolocation_lng |               0 |          100.00%\n",
      "           geolocation_city |               0 |          100.00%\n",
      "          geolocation_state |               0 |          100.00%\n"
     ]
    }
   ],
   "source": [
    "_ = print_fill_rate(data_geo, data_geo.columns)"
   ]
  },
  {
   "cell_type": "markdown",
   "id": "0c8d9387-1d09-4984-98ad-f0cf99aae7ab",
   "metadata": {},
   "source": [
    "> Aucune valeur n'est manquante"
   ]
  },
  {
   "cell_type": "markdown",
   "id": "213e2fd4-0ad9-4af6-951f-d04354651a33",
   "metadata": {},
   "source": [
    "---\n",
    "# 3. `olist_order_items_dataset.csv` <a class=\"anchor\" id=\"data_items\"></a> [⇪](#menu)"
   ]
  },
  {
   "cell_type": "code",
   "execution_count": 4,
   "id": "9370a5e8-86c9-4c05-83c9-441dee744b8f",
   "metadata": {},
   "outputs": [
    {
     "data": {
      "text/html": [
       "<div>\n",
       "<style scoped>\n",
       "    .dataframe tbody tr th:only-of-type {\n",
       "        vertical-align: middle;\n",
       "    }\n",
       "\n",
       "    .dataframe tbody tr th {\n",
       "        vertical-align: top;\n",
       "    }\n",
       "\n",
       "    .dataframe thead th {\n",
       "        text-align: right;\n",
       "    }\n",
       "</style>\n",
       "<table border=\"1\" class=\"dataframe\">\n",
       "  <thead>\n",
       "    <tr style=\"text-align: right;\">\n",
       "      <th></th>\n",
       "      <th>order_id</th>\n",
       "      <th>order_item_id</th>\n",
       "      <th>product_id</th>\n",
       "      <th>seller_id</th>\n",
       "      <th>shipping_limit_date</th>\n",
       "      <th>price</th>\n",
       "      <th>freight_value</th>\n",
       "    </tr>\n",
       "  </thead>\n",
       "  <tbody>\n",
       "    <tr>\n",
       "      <th>92452</th>\n",
       "      <td>d1bbc3ea80f956f0a139a12f1ef2ca28</td>\n",
       "      <td>1</td>\n",
       "      <td>d01c8040e9da57814b24757884d840db</td>\n",
       "      <td>744dac408745240a2c2528fb1b6028f3</td>\n",
       "      <td>2018-02-07 22:49:33</td>\n",
       "      <td>198.00</td>\n",
       "      <td>17.83</td>\n",
       "    </tr>\n",
       "    <tr>\n",
       "      <th>85295</th>\n",
       "      <td>c1d16d2238787555fb7bed98f8fbd99d</td>\n",
       "      <td>1</td>\n",
       "      <td>3354a4e684f5e7199f9407db70ccd92b</td>\n",
       "      <td>7a67c85e85bb2ce8582c35f2203ad736</td>\n",
       "      <td>2018-06-07 02:32:01</td>\n",
       "      <td>89.99</td>\n",
       "      <td>18.21</td>\n",
       "    </tr>\n",
       "    <tr>\n",
       "      <th>7513</th>\n",
       "      <td>110e1980401cf18f27590b4023ff5e32</td>\n",
       "      <td>1</td>\n",
       "      <td>43e09fcb6175856e87a4d9b91321addb</td>\n",
       "      <td>9d4db00d65d7760644ac0c14edb5fd86</td>\n",
       "      <td>2018-06-08 18:12:51</td>\n",
       "      <td>226.99</td>\n",
       "      <td>19.50</td>\n",
       "    </tr>\n",
       "    <tr>\n",
       "      <th>17407</th>\n",
       "      <td>27dd4347486e954e77b2f577f6388819</td>\n",
       "      <td>1</td>\n",
       "      <td>a519511d5c5c1153c9f636288e50f819</td>\n",
       "      <td>1025f0e2d44d7041d6cf58b6550e0bfa</td>\n",
       "      <td>2018-03-23 07:50:39</td>\n",
       "      <td>115.00</td>\n",
       "      <td>15.69</td>\n",
       "    </tr>\n",
       "    <tr>\n",
       "      <th>16347</th>\n",
       "      <td>257006b4652ed6214a889913fec6a5ca</td>\n",
       "      <td>1</td>\n",
       "      <td>680874c570dad71c0a2844cfbf417054</td>\n",
       "      <td>5343d0649eca2a983820bfe93fc4d17e</td>\n",
       "      <td>2018-03-28 19:48:07</td>\n",
       "      <td>39.00</td>\n",
       "      <td>19.32</td>\n",
       "    </tr>\n",
       "  </tbody>\n",
       "</table>\n",
       "</div>"
      ],
      "text/plain": [
       "                               order_id  order_item_id  \\\n",
       "92452  d1bbc3ea80f956f0a139a12f1ef2ca28              1   \n",
       "85295  c1d16d2238787555fb7bed98f8fbd99d              1   \n",
       "7513   110e1980401cf18f27590b4023ff5e32              1   \n",
       "17407  27dd4347486e954e77b2f577f6388819              1   \n",
       "16347  257006b4652ed6214a889913fec6a5ca              1   \n",
       "\n",
       "                             product_id                         seller_id  \\\n",
       "92452  d01c8040e9da57814b24757884d840db  744dac408745240a2c2528fb1b6028f3   \n",
       "85295  3354a4e684f5e7199f9407db70ccd92b  7a67c85e85bb2ce8582c35f2203ad736   \n",
       "7513   43e09fcb6175856e87a4d9b91321addb  9d4db00d65d7760644ac0c14edb5fd86   \n",
       "17407  a519511d5c5c1153c9f636288e50f819  1025f0e2d44d7041d6cf58b6550e0bfa   \n",
       "16347  680874c570dad71c0a2844cfbf417054  5343d0649eca2a983820bfe93fc4d17e   \n",
       "\n",
       "       shipping_limit_date   price  freight_value  \n",
       "92452  2018-02-07 22:49:33  198.00          17.83  \n",
       "85295  2018-06-07 02:32:01   89.99          18.21  \n",
       "7513   2018-06-08 18:12:51  226.99          19.50  \n",
       "17407  2018-03-23 07:50:39  115.00          15.69  \n",
       "16347  2018-03-28 19:48:07   39.00          19.32  "
      ]
     },
     "execution_count": 4,
     "metadata": {},
     "output_type": "execute_result"
    }
   ],
   "source": [
    "csv_name = \"olist_order_items_dataset.csv\"\n",
    "data_items = pd.read_csv(ZipFile(os.path.join(\"data\",f\"{csv_name}.zip\")).open(csv_name))\n",
    "data_items.sample(5)"
   ]
  },
  {
   "cell_type": "code",
   "execution_count": 33,
   "id": "ba2c0f62-e9c0-46ec-91bd-cabe09ed3e32",
   "metadata": {},
   "outputs": [
    {
     "name": "stdout",
     "output_type": "stream",
     "text": [
      "Ce dataset contient 112650 entrées décrites par 7 variables\n"
     ]
    }
   ],
   "source": [
    "print_dataset_shape(data_items)"
   ]
  },
  {
   "cell_type": "markdown",
   "id": "20834a59-389f-4c2a-bc65-1c0107f89a2a",
   "metadata": {},
   "source": [
    "## 3.1 Check for missing values <a class=\"anchor\" id=\"data_items_missing\"></a> [⇪](#menu)"
   ]
  },
  {
   "cell_type": "code",
   "execution_count": 15,
   "id": "0e8c7217-9b5e-4d23-8ef7-5162fb2c2454",
   "metadata": {},
   "outputs": [
    {
     "name": "stdout",
     "output_type": "stream",
     "text": [
      "        COLUMN NAME |    EMPTY ROWS   |    FILLING RATE \n",
      "---------------------------------------------------------------------------------------------------------------\n",
      "           order_id |               0 |          100.00%\n",
      "      order_item_id |               0 |          100.00%\n",
      "         product_id |               0 |          100.00%\n",
      "          seller_id |               0 |          100.00%\n",
      "shipping_limit_date |               0 |          100.00%\n",
      "              price |               0 |          100.00%\n",
      "      freight_value |               0 |          100.00%\n"
     ]
    }
   ],
   "source": [
    "_ = print_fill_rate(data_items, data_items.columns)"
   ]
  },
  {
   "cell_type": "markdown",
   "id": "bb08bc53-26e8-4b99-a9df-d87b1acd76d1",
   "metadata": {},
   "source": [
    "> Aucune valeur n'est manquante"
   ]
  },
  {
   "cell_type": "markdown",
   "id": "edb2a515-a699-4bf1-9613-2e41667e87bd",
   "metadata": {},
   "source": [
    "---\n",
    "# 4. `olist_order_payments_dataset.csv` <a class=\"anchor\" id=\"data_payments\"></a> [⇪](#menu)"
   ]
  },
  {
   "cell_type": "code",
   "execution_count": 5,
   "id": "f6fa8dcf-b706-40af-957d-408c38ddb6cb",
   "metadata": {},
   "outputs": [
    {
     "data": {
      "text/html": [
       "<div>\n",
       "<style scoped>\n",
       "    .dataframe tbody tr th:only-of-type {\n",
       "        vertical-align: middle;\n",
       "    }\n",
       "\n",
       "    .dataframe tbody tr th {\n",
       "        vertical-align: top;\n",
       "    }\n",
       "\n",
       "    .dataframe thead th {\n",
       "        text-align: right;\n",
       "    }\n",
       "</style>\n",
       "<table border=\"1\" class=\"dataframe\">\n",
       "  <thead>\n",
       "    <tr style=\"text-align: right;\">\n",
       "      <th></th>\n",
       "      <th>order_id</th>\n",
       "      <th>payment_sequential</th>\n",
       "      <th>payment_type</th>\n",
       "      <th>payment_installments</th>\n",
       "      <th>payment_value</th>\n",
       "    </tr>\n",
       "  </thead>\n",
       "  <tbody>\n",
       "    <tr>\n",
       "      <th>56002</th>\n",
       "      <td>cc21ab75e3789696563aa9f32365c3ce</td>\n",
       "      <td>1</td>\n",
       "      <td>credit_card</td>\n",
       "      <td>3</td>\n",
       "      <td>551.90</td>\n",
       "    </tr>\n",
       "    <tr>\n",
       "      <th>41756</th>\n",
       "      <td>ab4362fccbf0de9194dc5b7c0ea13585</td>\n",
       "      <td>1</td>\n",
       "      <td>credit_card</td>\n",
       "      <td>1</td>\n",
       "      <td>133.17</td>\n",
       "    </tr>\n",
       "    <tr>\n",
       "      <th>18393</th>\n",
       "      <td>badcf619a4531116e06f0f2f6f711215</td>\n",
       "      <td>1</td>\n",
       "      <td>boleto</td>\n",
       "      <td>1</td>\n",
       "      <td>131.23</td>\n",
       "    </tr>\n",
       "    <tr>\n",
       "      <th>33559</th>\n",
       "      <td>a913ec1db6048950ba773ec6b408eeba</td>\n",
       "      <td>1</td>\n",
       "      <td>boleto</td>\n",
       "      <td>1</td>\n",
       "      <td>114.79</td>\n",
       "    </tr>\n",
       "    <tr>\n",
       "      <th>16512</th>\n",
       "      <td>80092307dc8a515d508a93a24516a62e</td>\n",
       "      <td>1</td>\n",
       "      <td>boleto</td>\n",
       "      <td>1</td>\n",
       "      <td>86.24</td>\n",
       "    </tr>\n",
       "  </tbody>\n",
       "</table>\n",
       "</div>"
      ],
      "text/plain": [
       "                               order_id  payment_sequential payment_type  \\\n",
       "56002  cc21ab75e3789696563aa9f32365c3ce                   1  credit_card   \n",
       "41756  ab4362fccbf0de9194dc5b7c0ea13585                   1  credit_card   \n",
       "18393  badcf619a4531116e06f0f2f6f711215                   1       boleto   \n",
       "33559  a913ec1db6048950ba773ec6b408eeba                   1       boleto   \n",
       "16512  80092307dc8a515d508a93a24516a62e                   1       boleto   \n",
       "\n",
       "       payment_installments  payment_value  \n",
       "56002                     3         551.90  \n",
       "41756                     1         133.17  \n",
       "18393                     1         131.23  \n",
       "33559                     1         114.79  \n",
       "16512                     1          86.24  "
      ]
     },
     "execution_count": 5,
     "metadata": {},
     "output_type": "execute_result"
    }
   ],
   "source": [
    "csv_name = \"olist_order_payments_dataset.csv\"\n",
    "data_payments = pd.read_csv(ZipFile(os.path.join(\"data\",f\"{csv_name}.zip\")).open(csv_name))\n",
    "data_payments.sample(5)"
   ]
  },
  {
   "cell_type": "code",
   "execution_count": 34,
   "id": "65ad8b6c-996a-40b4-8e4d-af82799d8bd1",
   "metadata": {},
   "outputs": [
    {
     "name": "stdout",
     "output_type": "stream",
     "text": [
      "Ce dataset contient 103886 entrées décrites par 5 variables\n"
     ]
    }
   ],
   "source": [
    "print_dataset_shape(data_payments)"
   ]
  },
  {
   "cell_type": "markdown",
   "id": "9eecc291-04fa-4d78-9367-30d960c433e3",
   "metadata": {},
   "source": [
    "## 4.1 Check for missing values <a class=\"anchor\" id=\"data_payments_missing\"></a> [⇪](#menu)"
   ]
  },
  {
   "cell_type": "code",
   "execution_count": 16,
   "id": "f3703aea-1e2b-4473-a12f-3f92e9bb9683",
   "metadata": {},
   "outputs": [
    {
     "name": "stdout",
     "output_type": "stream",
     "text": [
      "         COLUMN NAME |    EMPTY ROWS   |    FILLING RATE \n",
      "---------------------------------------------------------------------------------------------------------------\n",
      "            order_id |               0 |          100.00%\n",
      "  payment_sequential |               0 |          100.00%\n",
      "        payment_type |               0 |          100.00%\n",
      "payment_installments |               0 |          100.00%\n",
      "       payment_value |               0 |          100.00%\n"
     ]
    }
   ],
   "source": [
    "_ = print_fill_rate(data_payments, data_payments.columns)"
   ]
  },
  {
   "cell_type": "markdown",
   "id": "cd5be8b3-36ed-4499-98db-9d68c92e39a4",
   "metadata": {},
   "source": [
    "> Aucune valeur n'est manquante"
   ]
  },
  {
   "cell_type": "markdown",
   "id": "84ff7541-125d-4efa-88b8-ba31312f152f",
   "metadata": {},
   "source": [
    "---\n",
    "# 5. `olist_order_reviews_dataset.csv` <a class=\"anchor\" id=\"data_reviews\"></a> [⇪](#menu)"
   ]
  },
  {
   "cell_type": "code",
   "execution_count": 6,
   "id": "d03e54e2-2ac9-498a-b2de-b13a8528ec85",
   "metadata": {},
   "outputs": [
    {
     "data": {
      "text/html": [
       "<div>\n",
       "<style scoped>\n",
       "    .dataframe tbody tr th:only-of-type {\n",
       "        vertical-align: middle;\n",
       "    }\n",
       "\n",
       "    .dataframe tbody tr th {\n",
       "        vertical-align: top;\n",
       "    }\n",
       "\n",
       "    .dataframe thead th {\n",
       "        text-align: right;\n",
       "    }\n",
       "</style>\n",
       "<table border=\"1\" class=\"dataframe\">\n",
       "  <thead>\n",
       "    <tr style=\"text-align: right;\">\n",
       "      <th></th>\n",
       "      <th>review_id</th>\n",
       "      <th>order_id</th>\n",
       "      <th>review_score</th>\n",
       "      <th>review_comment_title</th>\n",
       "      <th>review_comment_message</th>\n",
       "      <th>review_creation_date</th>\n",
       "      <th>review_answer_timestamp</th>\n",
       "    </tr>\n",
       "  </thead>\n",
       "  <tbody>\n",
       "    <tr>\n",
       "      <th>69260</th>\n",
       "      <td>3fefb734355862cf1eb7babdf5538f69</td>\n",
       "      <td>05b7ab671d6b51e0b44ea73a54d9f739</td>\n",
       "      <td>1</td>\n",
       "      <td>NaN</td>\n",
       "      <td>NaN</td>\n",
       "      <td>2018-02-18 00:00:00</td>\n",
       "      <td>2018-02-18 15:42:15</td>\n",
       "    </tr>\n",
       "    <tr>\n",
       "      <th>65046</th>\n",
       "      <td>deac12f8c4305c2c8c2e03b0e6d54fea</td>\n",
       "      <td>1d7ee49ee66da430b533a85af951430c</td>\n",
       "      <td>5</td>\n",
       "      <td>NaN</td>\n",
       "      <td>Chegou antes do prazo.</td>\n",
       "      <td>2017-06-09 00:00:00</td>\n",
       "      <td>2017-06-10 00:40:42</td>\n",
       "    </tr>\n",
       "    <tr>\n",
       "      <th>85356</th>\n",
       "      <td>b78a53ebac098f009b9b95c88f84307d</td>\n",
       "      <td>c6a9052634caae576f272ecf2e3a9b1e</td>\n",
       "      <td>1</td>\n",
       "      <td>NaN</td>\n",
       "      <td>Não recomendo a ninguém, comprei um produto e ...</td>\n",
       "      <td>2018-03-28 00:00:00</td>\n",
       "      <td>2018-03-28 15:01:21</td>\n",
       "    </tr>\n",
       "    <tr>\n",
       "      <th>7729</th>\n",
       "      <td>4fc3c30a4896cb74d28424946ce574b5</td>\n",
       "      <td>6e93ed2e3c661536678cba89556cfc2e</td>\n",
       "      <td>5</td>\n",
       "      <td>NaN</td>\n",
       "      <td>Parabéns pela pontualidade....Estou satisfeita...</td>\n",
       "      <td>2017-05-12 00:00:00</td>\n",
       "      <td>2017-05-14 09:27:13</td>\n",
       "    </tr>\n",
       "    <tr>\n",
       "      <th>94996</th>\n",
       "      <td>386e4e5d4f836e39522f01677a0e0d8f</td>\n",
       "      <td>b2976bc0899d6eb3fbaa0255ee3a000b</td>\n",
       "      <td>5</td>\n",
       "      <td>NaN</td>\n",
       "      <td>NaN</td>\n",
       "      <td>2017-12-08 00:00:00</td>\n",
       "      <td>2018-01-05 12:46:37</td>\n",
       "    </tr>\n",
       "  </tbody>\n",
       "</table>\n",
       "</div>"
      ],
      "text/plain": [
       "                              review_id                          order_id  \\\n",
       "69260  3fefb734355862cf1eb7babdf5538f69  05b7ab671d6b51e0b44ea73a54d9f739   \n",
       "65046  deac12f8c4305c2c8c2e03b0e6d54fea  1d7ee49ee66da430b533a85af951430c   \n",
       "85356  b78a53ebac098f009b9b95c88f84307d  c6a9052634caae576f272ecf2e3a9b1e   \n",
       "7729   4fc3c30a4896cb74d28424946ce574b5  6e93ed2e3c661536678cba89556cfc2e   \n",
       "94996  386e4e5d4f836e39522f01677a0e0d8f  b2976bc0899d6eb3fbaa0255ee3a000b   \n",
       "\n",
       "       review_score review_comment_title  \\\n",
       "69260             1                  NaN   \n",
       "65046             5                  NaN   \n",
       "85356             1                  NaN   \n",
       "7729              5                  NaN   \n",
       "94996             5                  NaN   \n",
       "\n",
       "                                  review_comment_message review_creation_date  \\\n",
       "69260                                                NaN  2018-02-18 00:00:00   \n",
       "65046                            Chegou antes do prazo.   2017-06-09 00:00:00   \n",
       "85356  Não recomendo a ninguém, comprei um produto e ...  2018-03-28 00:00:00   \n",
       "7729   Parabéns pela pontualidade....Estou satisfeita...  2017-05-12 00:00:00   \n",
       "94996                                                NaN  2017-12-08 00:00:00   \n",
       "\n",
       "      review_answer_timestamp  \n",
       "69260     2018-02-18 15:42:15  \n",
       "65046     2017-06-10 00:40:42  \n",
       "85356     2018-03-28 15:01:21  \n",
       "7729      2017-05-14 09:27:13  \n",
       "94996     2018-01-05 12:46:37  "
      ]
     },
     "execution_count": 54,
     "metadata": {},
     "output_type": "execute_result"
    }
   ],
   "source": [
    "csv_name = \"olist_order_reviews_dataset.csv\"\n",
    "data_reviews = pd.read_csv(ZipFile(os.path.join(\"data\",f\"{csv_name}.zip\")).open(csv_name))\n",
    "data_reviews.sample(5)"
   ]
  },
  {
   "cell_type": "code",
   "execution_count": 35,
   "id": "99c2a4db-221b-48b5-bdc8-3fecbb1db4c9",
   "metadata": {},
   "outputs": [
    {
     "name": "stdout",
     "output_type": "stream",
     "text": [
      "Ce dataset contient 99224 entrées décrites par 7 variables\n"
     ]
    }
   ],
   "source": [
    "print_dataset_shape(data_reviews)"
   ]
  },
  {
   "cell_type": "markdown",
   "id": "8f7e9ada-25a8-4755-9800-29d72949e6cb",
   "metadata": {},
   "source": [
    "## 5.1 Check for missing values <a class=\"anchor\" id=\"data_reviews_missing\"></a> [⇪](#menu)"
   ]
  },
  {
   "cell_type": "code",
   "execution_count": 17,
   "id": "459fbcc8-74b3-4277-a530-6ddcc98cb934",
   "metadata": {},
   "outputs": [
    {
     "name": "stdout",
     "output_type": "stream",
     "text": [
      "            COLUMN NAME |    EMPTY ROWS   |    FILLING RATE \n",
      "---------------------------------------------------------------------------------------------------------------\n",
      "              review_id |               0 |          100.00%\n",
      "               order_id |               0 |          100.00%\n",
      "           review_score |               0 |          100.00%\n",
      "   review_comment_title |           87656 |           11.66%\n",
      " review_comment_message |           58247 |           41.30%\n",
      "   review_creation_date |               0 |          100.00%\n",
      "review_answer_timestamp |               0 |          100.00%\n"
     ]
    }
   ],
   "source": [
    "_ = print_fill_rate(data_reviews, data_reviews.columns)"
   ]
  },
  {
   "cell_type": "markdown",
   "id": "c5770c24-f39b-4d2d-9f9c-67982dbe78b3",
   "metadata": {},
   "source": [
    "> On constate qu'une très grosse partie des avis n'ont ni titre et/ou ni texte... ce qui pourrait être un problème si l'on cherchait à faire une analyse de texte avec des techniques NLP, mais ici on pourra les remplacer par une valeurs booleens indiquant si ils ont été écris ou pas. <br>\n",
    "> Par ailleurs, on note la présente de la colonne score qui présente un intérêt significatif sans qu'il ne lui manque aucune valeur."
   ]
  },
  {
   "cell_type": "markdown",
   "id": "ba46c73a-43ac-42fb-9a1f-eb7263714ed3",
   "metadata": {},
   "source": [
    ">#### `TODO`\n",
    "> - ❌ **remplacer les colonnes de messages** *(review_comment_message)* **et titres** *(review_comment_title)* par des colonnes de booleans indiquant si ils ont été rédigés ou pas **??**"
   ]
  },
  {
   "cell_type": "markdown",
   "id": "eab22930-0da8-4266-bd3c-247c219bd7ee",
   "metadata": {},
   "source": [
    "---\n",
    "# 6. `olist_orders_dataset.csv` <a class=\"anchor\" id=\"data_orders\"></a> [⇪](#menu)"
   ]
  },
  {
   "cell_type": "code",
   "execution_count": 7,
   "id": "be6ebdbd-146b-4288-a0bc-625815a3c992",
   "metadata": {},
   "outputs": [
    {
     "data": {
      "text/html": [
       "<div>\n",
       "<style scoped>\n",
       "    .dataframe tbody tr th:only-of-type {\n",
       "        vertical-align: middle;\n",
       "    }\n",
       "\n",
       "    .dataframe tbody tr th {\n",
       "        vertical-align: top;\n",
       "    }\n",
       "\n",
       "    .dataframe thead th {\n",
       "        text-align: right;\n",
       "    }\n",
       "</style>\n",
       "<table border=\"1\" class=\"dataframe\">\n",
       "  <thead>\n",
       "    <tr style=\"text-align: right;\">\n",
       "      <th></th>\n",
       "      <th>order_id</th>\n",
       "      <th>customer_id</th>\n",
       "      <th>order_status</th>\n",
       "      <th>order_purchase_timestamp</th>\n",
       "      <th>order_approved_at</th>\n",
       "      <th>order_delivered_carrier_date</th>\n",
       "      <th>order_delivered_customer_date</th>\n",
       "      <th>order_estimated_delivery_date</th>\n",
       "    </tr>\n",
       "  </thead>\n",
       "  <tbody>\n",
       "    <tr>\n",
       "      <th>67524</th>\n",
       "      <td>0ef7129ab98149bcbd4aadde9ba093d9</td>\n",
       "      <td>1dcaf101733dc31789ce23f25d3d2f51</td>\n",
       "      <td>delivered</td>\n",
       "      <td>2018-07-07 14:36:02</td>\n",
       "      <td>2018-07-11 03:35:20</td>\n",
       "      <td>2018-07-11 12:30:00</td>\n",
       "      <td>2018-07-16 11:44:27</td>\n",
       "      <td>2018-07-25 00:00:00</td>\n",
       "    </tr>\n",
       "    <tr>\n",
       "      <th>2671</th>\n",
       "      <td>776e5572d4969b8fa5b72b0fde398f6f</td>\n",
       "      <td>a0b5cdd54fb202fb47805688f4577c8f</td>\n",
       "      <td>delivered</td>\n",
       "      <td>2018-06-28 23:20:15</td>\n",
       "      <td>2018-06-28 23:35:13</td>\n",
       "      <td>2018-06-29 13:52:00</td>\n",
       "      <td>2018-06-30 16:06:20</td>\n",
       "      <td>2018-07-12 00:00:00</td>\n",
       "    </tr>\n",
       "    <tr>\n",
       "      <th>12037</th>\n",
       "      <td>84ea561a36501265e6a147837868f416</td>\n",
       "      <td>3a2165661e60e1228dcf99a3e2b3bd78</td>\n",
       "      <td>delivered</td>\n",
       "      <td>2017-10-26 14:26:14</td>\n",
       "      <td>2017-10-27 14:27:50</td>\n",
       "      <td>2017-10-28 14:19:55</td>\n",
       "      <td>2017-11-17 13:22:59</td>\n",
       "      <td>2017-11-16 00:00:00</td>\n",
       "    </tr>\n",
       "    <tr>\n",
       "      <th>16088</th>\n",
       "      <td>b747a0c744a7eebf585965a27879a49f</td>\n",
       "      <td>e4d1366afd00882f55b08566ebab9792</td>\n",
       "      <td>delivered</td>\n",
       "      <td>2018-05-03 23:39:49</td>\n",
       "      <td>2018-05-03 23:55:09</td>\n",
       "      <td>2018-05-04 14:04:00</td>\n",
       "      <td>2018-05-15 23:42:19</td>\n",
       "      <td>2018-06-05 00:00:00</td>\n",
       "    </tr>\n",
       "    <tr>\n",
       "      <th>33850</th>\n",
       "      <td>396a192aba5ce4ea3612711cf5d6bfc1</td>\n",
       "      <td>f5c3ad225e5c12d6a5b22e684f73c907</td>\n",
       "      <td>delivered</td>\n",
       "      <td>2018-06-08 22:23:18</td>\n",
       "      <td>2018-06-08 22:35:11</td>\n",
       "      <td>2018-06-11 10:49:00</td>\n",
       "      <td>2018-06-19 21:03:11</td>\n",
       "      <td>2018-07-03 00:00:00</td>\n",
       "    </tr>\n",
       "  </tbody>\n",
       "</table>\n",
       "</div>"
      ],
      "text/plain": [
       "                               order_id                       customer_id  \\\n",
       "67524  0ef7129ab98149bcbd4aadde9ba093d9  1dcaf101733dc31789ce23f25d3d2f51   \n",
       "2671   776e5572d4969b8fa5b72b0fde398f6f  a0b5cdd54fb202fb47805688f4577c8f   \n",
       "12037  84ea561a36501265e6a147837868f416  3a2165661e60e1228dcf99a3e2b3bd78   \n",
       "16088  b747a0c744a7eebf585965a27879a49f  e4d1366afd00882f55b08566ebab9792   \n",
       "33850  396a192aba5ce4ea3612711cf5d6bfc1  f5c3ad225e5c12d6a5b22e684f73c907   \n",
       "\n",
       "      order_status order_purchase_timestamp    order_approved_at  \\\n",
       "67524    delivered      2018-07-07 14:36:02  2018-07-11 03:35:20   \n",
       "2671     delivered      2018-06-28 23:20:15  2018-06-28 23:35:13   \n",
       "12037    delivered      2017-10-26 14:26:14  2017-10-27 14:27:50   \n",
       "16088    delivered      2018-05-03 23:39:49  2018-05-03 23:55:09   \n",
       "33850    delivered      2018-06-08 22:23:18  2018-06-08 22:35:11   \n",
       "\n",
       "      order_delivered_carrier_date order_delivered_customer_date  \\\n",
       "67524          2018-07-11 12:30:00           2018-07-16 11:44:27   \n",
       "2671           2018-06-29 13:52:00           2018-06-30 16:06:20   \n",
       "12037          2017-10-28 14:19:55           2017-11-17 13:22:59   \n",
       "16088          2018-05-04 14:04:00           2018-05-15 23:42:19   \n",
       "33850          2018-06-11 10:49:00           2018-06-19 21:03:11   \n",
       "\n",
       "      order_estimated_delivery_date  \n",
       "67524           2018-07-25 00:00:00  \n",
       "2671            2018-07-12 00:00:00  \n",
       "12037           2017-11-16 00:00:00  \n",
       "16088           2018-06-05 00:00:00  \n",
       "33850           2018-07-03 00:00:00  "
      ]
     },
     "execution_count": 7,
     "metadata": {},
     "output_type": "execute_result"
    }
   ],
   "source": [
    "csv_name = \"olist_orders_dataset.csv\"\n",
    "data_orders = pd.read_csv(ZipFile(os.path.join(\"data\",f\"{csv_name}.zip\")).open(csv_name))\n",
    "data_orders.sample(5)"
   ]
  },
  {
   "cell_type": "code",
   "execution_count": 36,
   "id": "52ec244f-b2dc-4c87-8d7c-782e0abcce9f",
   "metadata": {},
   "outputs": [
    {
     "name": "stdout",
     "output_type": "stream",
     "text": [
      "Ce dataset contient 99441 entrées décrites par 8 variables\n"
     ]
    }
   ],
   "source": [
    "print_dataset_shape(data_orders)"
   ]
  },
  {
   "cell_type": "markdown",
   "id": "1ae75a01-1f2d-4d72-a870-a3eaceb1949c",
   "metadata": {},
   "source": [
    "## 6.1 Check for missing values <a class=\"anchor\" id=\"data_orders_missing\"></a> [⇪](#menu)"
   ]
  },
  {
   "cell_type": "code",
   "execution_count": 18,
   "id": "559d9c1c-89ad-49df-8736-8747fbd603d7",
   "metadata": {},
   "outputs": [
    {
     "name": "stdout",
     "output_type": "stream",
     "text": [
      "                  COLUMN NAME |    EMPTY ROWS   |    FILLING RATE \n",
      "---------------------------------------------------------------------------------------------------------------\n",
      "                     order_id |               0 |          100.00%\n",
      "                  customer_id |               0 |          100.00%\n",
      "                 order_status |               0 |          100.00%\n",
      "     order_purchase_timestamp |               0 |          100.00%\n",
      "            order_approved_at |             160 |           99.84%\n",
      " order_delivered_carrier_date |            1783 |           98.21%\n",
      "order_delivered_customer_date |            2965 |           97.02%\n",
      "order_estimated_delivery_date |               0 |          100.00%\n"
     ]
    }
   ],
   "source": [
    "_ = print_fill_rate(data_orders, data_orders.columns)"
   ]
  },
  {
   "cell_type": "markdown",
   "id": "d96bb968-8471-4f4f-9c42-d5d99382c3e6",
   "metadata": {},
   "source": [
    "> Une toute petite fraction des commandes ne dispose pas des dates de validation *(order_approved_at)*, des dates d'envoi *(order_delivered_carrier_date)* ou des dates de réception *(order_delivered_customer_date)* <br>\n",
    "> Etant donné la nature des colonnes concernées et le nombre de lignes impliquées, le plus approprié semble être de les supprimer SI l'on a besoin des colonnes en question."
   ]
  },
  {
   "cell_type": "markdown",
   "id": "fa329641-260d-4cc2-b9f0-1e901373ee25",
   "metadata": {},
   "source": [
    ">#### `TODO`\n",
    "> - ❌ **supprimer** les entrées dont les dates *(order_approved_at, order_delivered_carrier_date, order_delivered_customer_date)* ne sont pas connues **SI** on a besoin des dates en question..."
   ]
  },
  {
   "cell_type": "markdown",
   "id": "dacd100a-7dc8-4449-9d33-d0d377d9a396",
   "metadata": {},
   "source": [
    "---\n",
    "# 7. `olist_products_dataset.csv` <a class=\"anchor\" id=\"data_products\"></a> [⇪](#menu)"
   ]
  },
  {
   "cell_type": "code",
   "execution_count": 56,
   "id": "fab5803c-a418-41b5-8312-7b2ae14bd4e8",
   "metadata": {},
   "outputs": [
    {
     "data": {
      "text/html": [
       "<div>\n",
       "<style scoped>\n",
       "    .dataframe tbody tr th:only-of-type {\n",
       "        vertical-align: middle;\n",
       "    }\n",
       "\n",
       "    .dataframe tbody tr th {\n",
       "        vertical-align: top;\n",
       "    }\n",
       "\n",
       "    .dataframe thead th {\n",
       "        text-align: right;\n",
       "    }\n",
       "</style>\n",
       "<table border=\"1\" class=\"dataframe\">\n",
       "  <thead>\n",
       "    <tr style=\"text-align: right;\">\n",
       "      <th></th>\n",
       "      <th>product_id</th>\n",
       "      <th>product_category_name</th>\n",
       "      <th>product_name_lenght</th>\n",
       "      <th>product_description_lenght</th>\n",
       "      <th>product_photos_qty</th>\n",
       "      <th>product_weight_g</th>\n",
       "      <th>product_length_cm</th>\n",
       "      <th>product_height_cm</th>\n",
       "      <th>product_width_cm</th>\n",
       "    </tr>\n",
       "  </thead>\n",
       "  <tbody>\n",
       "    <tr>\n",
       "      <th>17854</th>\n",
       "      <td>fb3ac05315c8f4a1b54de74e098ef7e2</td>\n",
       "      <td>automotivo</td>\n",
       "      <td>55.0</td>\n",
       "      <td>3317.0</td>\n",
       "      <td>3.0</td>\n",
       "      <td>850.0</td>\n",
       "      <td>20.0</td>\n",
       "      <td>15.0</td>\n",
       "      <td>20.0</td>\n",
       "    </tr>\n",
       "    <tr>\n",
       "      <th>8444</th>\n",
       "      <td>d906996541fe72f17ffc4a1434994857</td>\n",
       "      <td>moveis_decoracao</td>\n",
       "      <td>54.0</td>\n",
       "      <td>485.0</td>\n",
       "      <td>2.0</td>\n",
       "      <td>450.0</td>\n",
       "      <td>35.0</td>\n",
       "      <td>8.0</td>\n",
       "      <td>35.0</td>\n",
       "    </tr>\n",
       "    <tr>\n",
       "      <th>1219</th>\n",
       "      <td>115fdef806a3b8e9fc52a1dee818f2de</td>\n",
       "      <td>bebes</td>\n",
       "      <td>49.0</td>\n",
       "      <td>376.0</td>\n",
       "      <td>1.0</td>\n",
       "      <td>450.0</td>\n",
       "      <td>35.0</td>\n",
       "      <td>2.0</td>\n",
       "      <td>25.0</td>\n",
       "    </tr>\n",
       "    <tr>\n",
       "      <th>17868</th>\n",
       "      <td>92298b2c1c8b487f7029ce5ea3b87018</td>\n",
       "      <td>automotivo</td>\n",
       "      <td>58.0</td>\n",
       "      <td>676.0</td>\n",
       "      <td>2.0</td>\n",
       "      <td>1200.0</td>\n",
       "      <td>60.0</td>\n",
       "      <td>8.0</td>\n",
       "      <td>33.0</td>\n",
       "    </tr>\n",
       "    <tr>\n",
       "      <th>30865</th>\n",
       "      <td>b7e087ab49f42ad0fe758f399f4e7077</td>\n",
       "      <td>fashion_roupa_masculina</td>\n",
       "      <td>28.0</td>\n",
       "      <td>364.0</td>\n",
       "      <td>2.0</td>\n",
       "      <td>400.0</td>\n",
       "      <td>16.0</td>\n",
       "      <td>16.0</td>\n",
       "      <td>16.0</td>\n",
       "    </tr>\n",
       "  </tbody>\n",
       "</table>\n",
       "</div>"
      ],
      "text/plain": [
       "                             product_id    product_category_name  \\\n",
       "17854  fb3ac05315c8f4a1b54de74e098ef7e2               automotivo   \n",
       "8444   d906996541fe72f17ffc4a1434994857         moveis_decoracao   \n",
       "1219   115fdef806a3b8e9fc52a1dee818f2de                    bebes   \n",
       "17868  92298b2c1c8b487f7029ce5ea3b87018               automotivo   \n",
       "30865  b7e087ab49f42ad0fe758f399f4e7077  fashion_roupa_masculina   \n",
       "\n",
       "       product_name_lenght  product_description_lenght  product_photos_qty  \\\n",
       "17854                 55.0                      3317.0                 3.0   \n",
       "8444                  54.0                       485.0                 2.0   \n",
       "1219                  49.0                       376.0                 1.0   \n",
       "17868                 58.0                       676.0                 2.0   \n",
       "30865                 28.0                       364.0                 2.0   \n",
       "\n",
       "       product_weight_g  product_length_cm  product_height_cm  \\\n",
       "17854             850.0               20.0               15.0   \n",
       "8444              450.0               35.0                8.0   \n",
       "1219              450.0               35.0                2.0   \n",
       "17868            1200.0               60.0                8.0   \n",
       "30865             400.0               16.0               16.0   \n",
       "\n",
       "       product_width_cm  \n",
       "17854              20.0  \n",
       "8444               35.0  \n",
       "1219               25.0  \n",
       "17868              33.0  \n",
       "30865              16.0  "
      ]
     },
     "execution_count": 56,
     "metadata": {},
     "output_type": "execute_result"
    }
   ],
   "source": [
    "csv_name = \"olist_products_dataset.csv\"\n",
    "data_products = pd.read_csv(ZipFile(os.path.join(\"data\",f\"{csv_name}.zip\")).open(csv_name))\n",
    "data_products.sample(5)"
   ]
  },
  {
   "cell_type": "code",
   "execution_count": 57,
   "id": "91891665-fa02-4fdd-a568-4537f5282df7",
   "metadata": {},
   "outputs": [
    {
     "name": "stdout",
     "output_type": "stream",
     "text": [
      "Ce dataset contient 32951 entrées décrites par 9 variables\n"
     ]
    }
   ],
   "source": [
    "print_dataset_shape(data_products)"
   ]
  },
  {
   "cell_type": "markdown",
   "id": "315b7276-f834-4403-bd32-45f86482e6a6",
   "metadata": {},
   "source": [
    "## 7.1 Check for missing values <a class=\"anchor\" id=\"data_products_missing\"></a> [⇪](#menu)"
   ]
  },
  {
   "cell_type": "code",
   "execution_count": 58,
   "id": "66627223-43f5-4baa-aeb3-ab2ae029e660",
   "metadata": {},
   "outputs": [
    {
     "name": "stdout",
     "output_type": "stream",
     "text": [
      "               COLUMN NAME |    EMPTY ROWS   |    FILLING RATE \n",
      "---------------------------------------------------------------------------------------------------------------\n",
      "                product_id |               0 |          100.00%\n",
      "     product_category_name |             610 |           98.15%\n",
      "       product_name_lenght |             610 |           98.15%\n",
      "product_description_lenght |             610 |           98.15%\n",
      "        product_photos_qty |             610 |           98.15%\n",
      "          product_weight_g |               2 |           99.99%\n",
      "         product_length_cm |               2 |           99.99%\n",
      "         product_height_cm |               2 |           99.99%\n",
      "          product_width_cm |               2 |           99.99%\n"
     ]
    }
   ],
   "source": [
    "_ = print_fill_rate(data_products, data_products.columns)"
   ]
  },
  {
   "cell_type": "markdown",
   "id": "018a31a5-b2cd-42ec-9db3-1bef0bdf916a",
   "metadata": {},
   "source": [
    "> Une petite fraction des produits ne dispose de toutes les données. <br>\n",
    "> Nous pourrions essayer d'imputer les valeurs manquantes, mais étant donné la nature des colonnes concernées, il semble hasardeux de le faire sur la base des autres colonnes... <br>\n",
    "> Donc étant donné le nombre de produits concernés, le plus simple est de les supprimer."
   ]
  },
  {
   "cell_type": "markdown",
   "id": "d5c2cf4a-01da-4345-b494-9acf6d9b6a16",
   "metadata": {},
   "source": [
    ">#### `TODO`\n",
    "> - ❌ **supprimer** les entrées dont les valeurs sont manquantes."
   ]
  },
  {
   "cell_type": "markdown",
   "id": "d6ebb79e-03ff-49e8-915b-6ba6fcd6c0a5",
   "metadata": {},
   "source": [
    "---\n",
    "# 8. `olist_sellers_dataset.csv` <a class=\"anchor\" id=\"data_sellers\"></a> [⇪](#menu)"
   ]
  },
  {
   "cell_type": "code",
   "execution_count": 9,
   "id": "b61713e5-6134-4322-89cd-ce351e96aaed",
   "metadata": {},
   "outputs": [
    {
     "data": {
      "text/html": [
       "<div>\n",
       "<style scoped>\n",
       "    .dataframe tbody tr th:only-of-type {\n",
       "        vertical-align: middle;\n",
       "    }\n",
       "\n",
       "    .dataframe tbody tr th {\n",
       "        vertical-align: top;\n",
       "    }\n",
       "\n",
       "    .dataframe thead th {\n",
       "        text-align: right;\n",
       "    }\n",
       "</style>\n",
       "<table border=\"1\" class=\"dataframe\">\n",
       "  <thead>\n",
       "    <tr style=\"text-align: right;\">\n",
       "      <th></th>\n",
       "      <th>seller_id</th>\n",
       "      <th>seller_zip_code_prefix</th>\n",
       "      <th>seller_city</th>\n",
       "      <th>seller_state</th>\n",
       "    </tr>\n",
       "  </thead>\n",
       "  <tbody>\n",
       "    <tr>\n",
       "      <th>545</th>\n",
       "      <td>1a8e2d9c38b84a9702ac7922924b0573</td>\n",
       "      <td>89245</td>\n",
       "      <td>araquari</td>\n",
       "      <td>SC</td>\n",
       "    </tr>\n",
       "    <tr>\n",
       "      <th>91</th>\n",
       "      <td>79b93a308a97792cf53ac75f46da00b5</td>\n",
       "      <td>22420</td>\n",
       "      <td>rio de janeiro</td>\n",
       "      <td>RJ</td>\n",
       "    </tr>\n",
       "    <tr>\n",
       "      <th>1461</th>\n",
       "      <td>3d2400ac620cffa23ac81bd192f7f555</td>\n",
       "      <td>9810</td>\n",
       "      <td>sao bernardo do campo</td>\n",
       "      <td>SP</td>\n",
       "    </tr>\n",
       "    <tr>\n",
       "      <th>849</th>\n",
       "      <td>c3acdfac4e3e97ff87529454fbc03642</td>\n",
       "      <td>5705</td>\n",
       "      <td>sao paulo</td>\n",
       "      <td>SP</td>\n",
       "    </tr>\n",
       "    <tr>\n",
       "      <th>932</th>\n",
       "      <td>9aa388272ee334b6ae07bc73706e254a</td>\n",
       "      <td>36886</td>\n",
       "      <td>muriae</td>\n",
       "      <td>MG</td>\n",
       "    </tr>\n",
       "  </tbody>\n",
       "</table>\n",
       "</div>"
      ],
      "text/plain": [
       "                             seller_id  seller_zip_code_prefix  \\\n",
       "545   1a8e2d9c38b84a9702ac7922924b0573                   89245   \n",
       "91    79b93a308a97792cf53ac75f46da00b5                   22420   \n",
       "1461  3d2400ac620cffa23ac81bd192f7f555                    9810   \n",
       "849   c3acdfac4e3e97ff87529454fbc03642                    5705   \n",
       "932   9aa388272ee334b6ae07bc73706e254a                   36886   \n",
       "\n",
       "                seller_city seller_state  \n",
       "545                araquari           SC  \n",
       "91           rio de janeiro           RJ  \n",
       "1461  sao bernardo do campo           SP  \n",
       "849               sao paulo           SP  \n",
       "932                  muriae           MG  "
      ]
     },
     "execution_count": 9,
     "metadata": {},
     "output_type": "execute_result"
    }
   ],
   "source": [
    "csv_name = \"olist_sellers_dataset.csv\"\n",
    "data_sellers = pd.read_csv(os.path.join('data',csv_name))\n",
    "data_sellers.sample(5)"
   ]
  },
  {
   "cell_type": "code",
   "execution_count": 38,
   "id": "489ee97c-6c9d-4946-af23-645c71f36e04",
   "metadata": {},
   "outputs": [
    {
     "name": "stdout",
     "output_type": "stream",
     "text": [
      "Ce dataset contient 3095 entrées décrites par 4 variables\n"
     ]
    }
   ],
   "source": [
    "print_dataset_shape(data_sellers)"
   ]
  },
  {
   "cell_type": "markdown",
   "id": "2fd19638-f5f7-451d-9eb2-98417d66cf98",
   "metadata": {},
   "source": [
    "## 8.1 Check for missing values <a class=\"anchor\" id=\"data_sellers_missing\"></a> [⇪](#menu)"
   ]
  },
  {
   "cell_type": "code",
   "execution_count": 20,
   "id": "466a66a6-81be-4291-bede-fc165aa36852",
   "metadata": {},
   "outputs": [
    {
     "name": "stdout",
     "output_type": "stream",
     "text": [
      "           COLUMN NAME |    EMPTY ROWS   |    FILLING RATE \n",
      "---------------------------------------------------------------------------------------------------------------\n",
      "             seller_id |               0 |          100.00%\n",
      "seller_zip_code_prefix |               0 |          100.00%\n",
      "           seller_city |               0 |          100.00%\n",
      "          seller_state |               0 |          100.00%\n"
     ]
    }
   ],
   "source": [
    "_ = print_fill_rate(data_sellers, data_sellers.columns)"
   ]
  },
  {
   "cell_type": "markdown",
   "id": "120e9464-046e-41cf-b1e5-2f658d04003c",
   "metadata": {},
   "source": [
    "> Aucune valeur n'est manquante"
   ]
  },
  {
   "cell_type": "markdown",
   "id": "6f7dacc8-c074-48ca-a555-713eea6ade50",
   "metadata": {},
   "source": [
    "---\n",
    "# 9. `product_category_name_translation.csv` <a class=\"anchor\" id=\"data_categories\"></a> [⇪](#menu)"
   ]
  },
  {
   "cell_type": "code",
   "execution_count": 10,
   "id": "b10dc203-15f8-4af8-86a7-7be228a6ee5a",
   "metadata": {},
   "outputs": [
    {
     "data": {
      "text/html": [
       "<div>\n",
       "<style scoped>\n",
       "    .dataframe tbody tr th:only-of-type {\n",
       "        vertical-align: middle;\n",
       "    }\n",
       "\n",
       "    .dataframe tbody tr th {\n",
       "        vertical-align: top;\n",
       "    }\n",
       "\n",
       "    .dataframe thead th {\n",
       "        text-align: right;\n",
       "    }\n",
       "</style>\n",
       "<table border=\"1\" class=\"dataframe\">\n",
       "  <thead>\n",
       "    <tr style=\"text-align: right;\">\n",
       "      <th></th>\n",
       "      <th>product_category_name</th>\n",
       "      <th>product_category_name_english</th>\n",
       "    </tr>\n",
       "  </thead>\n",
       "  <tbody>\n",
       "    <tr>\n",
       "      <th>11</th>\n",
       "      <td>bebes</td>\n",
       "      <td>baby</td>\n",
       "    </tr>\n",
       "    <tr>\n",
       "      <th>18</th>\n",
       "      <td>eletroportateis</td>\n",
       "      <td>small_appliances</td>\n",
       "    </tr>\n",
       "    <tr>\n",
       "      <th>36</th>\n",
       "      <td>construcao_ferramentas_ferramentas</td>\n",
       "      <td>costruction_tools_tools</td>\n",
       "    </tr>\n",
       "    <tr>\n",
       "      <th>38</th>\n",
       "      <td>moveis_colchao_e_estofado</td>\n",
       "      <td>furniture_mattress_and_upholstery</td>\n",
       "    </tr>\n",
       "    <tr>\n",
       "      <th>69</th>\n",
       "      <td>fashion_roupa_infanto_juvenil</td>\n",
       "      <td>fashion_childrens_clothes</td>\n",
       "    </tr>\n",
       "  </tbody>\n",
       "</table>\n",
       "</div>"
      ],
      "text/plain": [
       "                 product_category_name      product_category_name_english\n",
       "11                               bebes                               baby\n",
       "18                     eletroportateis                   small_appliances\n",
       "36  construcao_ferramentas_ferramentas            costruction_tools_tools\n",
       "38           moveis_colchao_e_estofado  furniture_mattress_and_upholstery\n",
       "69       fashion_roupa_infanto_juvenil          fashion_childrens_clothes"
      ]
     },
     "execution_count": 10,
     "metadata": {},
     "output_type": "execute_result"
    }
   ],
   "source": [
    "csv_name = \"product_category_name_translation.csv\"\n",
    "data_categories = pd.read_csv(os.path.join('data',csv_name))\n",
    "data_categories.sample(5)"
   ]
  },
  {
   "cell_type": "code",
   "execution_count": 39,
   "id": "52b7d6f9-67a7-4cf3-a772-f11e5c91c4c7",
   "metadata": {},
   "outputs": [
    {
     "name": "stdout",
     "output_type": "stream",
     "text": [
      "Ce dataset contient 71 entrées décrites par 2 variables\n"
     ]
    }
   ],
   "source": [
    "print_dataset_shape(data_categories)"
   ]
  },
  {
   "cell_type": "markdown",
   "id": "06427fcd-3699-4f09-a59a-1ced76246f82",
   "metadata": {},
   "source": [
    "## 9.1 Check for missing values <a class=\"anchor\" id=\"data_categories_missing\"></a> [⇪](#menu)"
   ]
  },
  {
   "cell_type": "code",
   "execution_count": 21,
   "id": "ab116e6e-9ccd-49ac-a426-47c861c79592",
   "metadata": {},
   "outputs": [
    {
     "name": "stdout",
     "output_type": "stream",
     "text": [
      "                  COLUMN NAME |    EMPTY ROWS   |    FILLING RATE \n",
      "---------------------------------------------------------------------------------------------------------------\n",
      "        product_category_name |               0 |          100.00%\n",
      "product_category_name_english |               0 |          100.00%\n"
     ]
    }
   ],
   "source": [
    "_ = print_fill_rate(data_categories, data_categories.columns)"
   ]
  },
  {
   "cell_type": "markdown",
   "id": "9b582747-a944-45a7-b29d-02fcb9ea3cce",
   "metadata": {},
   "source": [
    "> Aucune valeur n'est manquante"
   ]
  }
 ],
 "metadata": {
  "kernelspec": {
   "display_name": "Python 3",
   "language": "python",
   "name": "python3"
  },
  "language_info": {
   "codemirror_mode": {
    "name": "ipython",
    "version": 3
   },
   "file_extension": ".py",
   "mimetype": "text/x-python",
   "name": "python",
   "nbconvert_exporter": "python",
   "pygments_lexer": "ipython3",
   "version": "3.8.10"
  }
 },
 "nbformat": 4,
 "nbformat_minor": 5
}
