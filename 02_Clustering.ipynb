{
 "cells": [
  {
   "cell_type": "markdown",
   "id": "05ecc0b1-fbb9-4800-adad-8c7fa86638cb",
   "metadata": {},
   "source": [
    "# Menu <a class=\"anchor\" id=\"menu\"></a>\n",
    "\n",
    "* [1. Segmentation par **RFM** ](#rfm)\n",
    "    * [1.1 Calcul de la `Recence`](#rfm_R)\n",
    "    * [1.2 Calcul de la `Frequence`](#rfm_F)\n",
    "    * [1.3 Calcul du `Montant`](#rfm_M)\n",
    "    * [1.4 Calcul des `scores RFM`](#rfm_scores)\n",
    "    * [1.5 Interprétation des groupes](#rfm_interpretation)\n",
    "    * [1.6 Conclusion](#rfm_conclusion)\n",
    "* [2. Feature Engineering pour modèles non-supervisés](#fe)\n",
    "* [3. Segmentation par **KMeans** ](#kmeans)\n",
    "    * [3.1 Modèle de référence](#kmeans_ref)\n",
    "    * [3.2 Modèle avec Feature Engineering](#kmeans_fe)\n",
    "    * [3.3 Modèle avec Elbow method](#kmeans_elbow)\n",
    "    * [3.4 Modèle avec GridSearchCV](#kmeans_grid)\n",
    "* [4. Segmentation par **CAH** ](#cah)\n",
    "    * [4.1 Modèle de référence](#cah_ref)\n",
    "    * [4.2 Modèle avec Feature Engineering](#cah_fe)\n",
    "    * [4.3 Modèle avec Elbow method](#cah_elbow)\n",
    "    * [4.4 Modèle avec GridSearchCV](#cah_grid)\n",
    "* [4. Segmentation par **DBScan** ](#dbscan)\n",
    "    * [5.1 Modèle de référence](#dbscan_ref)\n",
    "    * [5.2 Modèle avec Feature Engineering](#dbscan_fe)\n",
    "    * [5.3 Modèle avec Elbow method](#dbscan_elbow)\n",
    "    * [5.4 Modèle avec GridSearchCV](#dbscan_grid)\n",
    "* [5. Comparaison des modèles ](#unsupervised_comparison)"
   ]
  },
  {
   "cell_type": "markdown",
   "id": "e8ece261-9c7a-4580-885c-deebfe24a7cd",
   "metadata": {},
   "source": [
    "# La segmentation\n",
    "\n",
    "Segmenter consiste à **créer des segments homogènes de clients** que l’on peut ensuite activer dans des campagnes marketing ciblées. Cette approche permet de mieux cibler les campagnes et scénarios marketing; on segmente les clients en fonction de critères de segmentation.\n",
    "\n",
    "Il y a théoriquement autant de méthodes de segmentation qu’il y a de critères et de combinaisons de critères possibles. Mais certaines méthodes se sont imposées en raison de leur efficacité."
   ]
  },
  {
   "cell_type": "markdown",
   "id": "012c8fae-9494-4804-8227-fa19fc94df15",
   "metadata": {
    "tags": []
   },
   "source": [
    "---\n",
    "# Préparatifs "
   ]
  },
  {
   "cell_type": "code",
   "execution_count": 1,
   "id": "550a67b6-0cb6-495b-a328-2e3ffcf6bfc5",
   "metadata": {
    "tags": []
   },
   "outputs": [],
   "source": [
    "import os\n",
    "# import re\n",
    "import time\n",
    "# import math\n",
    "# import string\n",
    "import datetime\n",
    "# import unicodedata\n",
    "# import json\n",
    "from zipfile import ZipFile\n",
    "from functools import reduce\n",
    "\n",
    "import numpy as np\n",
    "import pandas as pd\n",
    "import matplotlib.pyplot as plt\n",
    "import seaborn as sns\n",
    "import squarify\n",
    "\n",
    "import warnings\n",
    "warnings.filterwarnings('ignore')\n",
    "\n",
    "random_seed = 0\n",
    "np.random.seed(random_seed)\n",
    "\n",
    "# import gc\n",
    "# gc.enable()"
   ]
  },
  {
   "cell_type": "code",
   "execution_count": 2,
   "id": "63b7ee71-8a1f-4b0d-94a7-b6eba182a990",
   "metadata": {},
   "outputs": [],
   "source": [
    "def load_from_zip(csv_name):\n",
    "    return pd.read_csv(ZipFile(os.path.join(\"data\", f\"{csv_name}.zip\")).open(csv_name))\n",
    "\n",
    "\n",
    "# data_geo = load_from_zip(\"olist_geolocation_dataset.csv\")\n",
    "# data_geo = pd.read_csv(os.path.join('data',\"olist_geolocation_dataset_clean.csv\"))\n",
    "\n",
    "# data_customer = load_from_zip(\"olist_customers_dataset_clean.csv\")\n",
    "data_customer = pd.read_csv(os.path.join('data', \"olist_customers_dataset_clean.csv\"))\n",
    "\n",
    "# data_orders = load_from_zip(\"olist_orders_dataset.csv\")\n",
    "data_orders = pd.read_csv(os.path.join('data', \"olist_orders_dataset_clean.csv\"))\n",
    "\n",
    "# data_items = load_from_zip(\"olist_order_items_dataset.csv\")\n",
    "data_items = pd.read_csv(os.path.join('data', \"olist_order_items_dataset_clean.csv\"))\n",
    "\n",
    "# data_products = load_from_zip(\"olist_products_dataset.csv\")\n",
    "# data_products = pd.read_csv(os.path.join('data',\"olist_products_dataset_clean.csv\"))\n",
    "\n",
    "# data_payments = load_from_zip(\"olist_order_payments_dataset.csv\")\n",
    "data_payments = pd.read_csv(os.path.join('data', \"olist_order_payments_dataset_clean.csv\"))\n",
    "\n",
    "# data_reviews = load_from_zip(\"olist_order_reviews_dataset.csv\")\n",
    "data_reviews = pd.read_csv(os.path.join('data', \"olist_order_reviews_dataset_clean.csv\"))\n",
    "\n",
    "# data_sellers = pd.read_csv(os.path.join('data',\"olist_sellers_dataset_clean.csv\"))\n",
    "# data_categories = pd.read_csv(os.path.join('data',\"product_category_name_translation_clean.csv\"))"
   ]
  },
  {
   "cell_type": "markdown",
   "id": "35c0e706-adfa-4a1a-aefe-d4144834b3f2",
   "metadata": {},
   "source": [
    "---\n",
    "# 1. Segmentation RFM *(Récence, Fréquence et Montant)* <a class=\"anchor\" id=\"rfm\"></a> [⇪](#menu)\n",
    "\n",
    "La segmentation RFM est l’une des techniques de segmentation incontournables pour améliorer le ciblage marketing et augmenter le revenu par client. \n",
    "\n",
    "Cette méthode est une **segmentation 100% comportementale**; on ne segmente pas  les clients en fonction de ce qu’ils sont *(genre, sexe, ville, CSP...)*, ni en fonction de ce qu’ils aiment *(centres d’intérêt, goûts)*, mais en fonction de ce qu’ils achètent.\n",
    "\n",
    "Le principe sous-jacent est simple : un client qui a acheté récemment, qui achète fréquemment et qui génère beaucoup de chiffre d’affaires commandera à nouveau, à coup quasiment sûr.\n",
    "\n",
    "La segmentation RFM repose sur ces 3 critères :\n",
    "- La **Récence** : Combien de temps s’est-il écoulé depuis la dernière activité du client *(achat/visite web/visite app...)* ?\n",
    "- La **Fréquence** : Au cours d’une période de temps donnée, combien de fois un client a-t-il acheté ou interagi avec la marque ? \n",
    "- Le **Montant** : Combien un client a-t-il dépensé d’argent au cours d’une période de temps donnée ?"
   ]
  },
  {
   "cell_type": "markdown",
   "id": "0a7237a4-7b1d-4dfc-9a50-fa89f4ad9816",
   "metadata": {},
   "source": [
    "## Préparatifs"
   ]
  },
  {
   "cell_type": "markdown",
   "id": "5136f54a-dc26-4406-9448-cebe1d4de2aa",
   "metadata": {},
   "source": [
    "> **Temporalité** : comme nos analyses ont montrés que l'activité n'était pas fiable au début et à la fin de la timeline disponible, nous pourrions restreintre notre jeu de données entre **Janvier 2017** et **Aout 2018**. Mais comme il est recommandé de faire une RFM sur une période cyclique et réutilisable d'une semaine, d'un mois ou d'une année, nous allons prendre les données allant de fin août 2017 à fin août 2018 (donc les données les plus récentes sur 1 an)."
   ]
  },
  {
   "cell_type": "markdown",
   "id": "67b4867a-9407-459a-b430-c48afcb29e2d",
   "metadata": {},
   "source": [
    "#### D'abord on restreint la selection entre le 01/09/2017 et le 01/09/2018 pour avoir une période d'un an et on ne garde que ceux dont le processus de livraison est allé jusqu'au bout (delivered)"
   ]
  },
  {
   "cell_type": "code",
   "execution_count": 3,
   "id": "b812c170-782e-4bc8-a819-4018e900185c",
   "metadata": {},
   "outputs": [
    {
     "data": {
      "text/html": [
       "<div>\n",
       "<style scoped>\n",
       "    .dataframe tbody tr th:only-of-type {\n",
       "        vertical-align: middle;\n",
       "    }\n",
       "\n",
       "    .dataframe tbody tr th {\n",
       "        vertical-align: top;\n",
       "    }\n",
       "\n",
       "    .dataframe thead th {\n",
       "        text-align: right;\n",
       "    }\n",
       "</style>\n",
       "<table border=\"1\" class=\"dataframe\">\n",
       "  <thead>\n",
       "    <tr style=\"text-align: right;\">\n",
       "      <th></th>\n",
       "      <th>order_id</th>\n",
       "      <th>customer_id</th>\n",
       "      <th>order_purchase_timestamp</th>\n",
       "    </tr>\n",
       "  </thead>\n",
       "  <tbody>\n",
       "    <tr>\n",
       "      <th>0</th>\n",
       "      <td>e481f51cbdc54678b7cc49136f2d6af7</td>\n",
       "      <td>9ef432eb6251297304e76186b10a928d</td>\n",
       "      <td>2017-10-02 10:56:33</td>\n",
       "    </tr>\n",
       "    <tr>\n",
       "      <th>1</th>\n",
       "      <td>53cdb2fc8bc7dce0b6741e2150273451</td>\n",
       "      <td>b0830fb4747a6c6d20dea0b8c802d7ef</td>\n",
       "      <td>2018-07-24 20:41:37</td>\n",
       "    </tr>\n",
       "    <tr>\n",
       "      <th>2</th>\n",
       "      <td>47770eb9100c2d0c44946d9cf07ec65d</td>\n",
       "      <td>41ce2a54c0b03bf3443c3d931a367089</td>\n",
       "      <td>2018-08-08 08:38:49</td>\n",
       "    </tr>\n",
       "    <tr>\n",
       "      <th>3</th>\n",
       "      <td>949d5b44dbf5de918fe9c16f97b45f8a</td>\n",
       "      <td>f88197465ea7920adcdbec7375364d82</td>\n",
       "      <td>2017-11-18 19:28:06</td>\n",
       "    </tr>\n",
       "    <tr>\n",
       "      <th>4</th>\n",
       "      <td>ad21c59c0840e6cb83a9ceb5573f8159</td>\n",
       "      <td>8ab97904e6daea8866dbdbc4fb7aad2c</td>\n",
       "      <td>2018-02-13 21:18:39</td>\n",
       "    </tr>\n",
       "  </tbody>\n",
       "</table>\n",
       "</div>"
      ],
      "text/plain": [
       "                           order_id                       customer_id  \\\n",
       "0  e481f51cbdc54678b7cc49136f2d6af7  9ef432eb6251297304e76186b10a928d   \n",
       "1  53cdb2fc8bc7dce0b6741e2150273451  b0830fb4747a6c6d20dea0b8c802d7ef   \n",
       "2  47770eb9100c2d0c44946d9cf07ec65d  41ce2a54c0b03bf3443c3d931a367089   \n",
       "3  949d5b44dbf5de918fe9c16f97b45f8a  f88197465ea7920adcdbec7375364d82   \n",
       "4  ad21c59c0840e6cb83a9ceb5573f8159  8ab97904e6daea8866dbdbc4fb7aad2c   \n",
       "\n",
       "  order_purchase_timestamp  \n",
       "0      2017-10-02 10:56:33  \n",
       "1      2018-07-24 20:41:37  \n",
       "2      2018-08-08 08:38:49  \n",
       "3      2017-11-18 19:28:06  \n",
       "4      2018-02-13 21:18:39  "
      ]
     },
     "execution_count": 3,
     "metadata": {},
     "output_type": "execute_result"
    }
   ],
   "source": [
    "selection1 = data_orders[\n",
    "    (data_orders.order_purchase_timestamp >= '2017-09-01 00:00:00') & \n",
    "    (data_orders.order_purchase_timestamp < '2018-09-01 00:00:00') & \n",
    "    (data_orders.order_status == 'delivered')][['order_id', 'customer_id', 'order_purchase_timestamp']]\n",
    "selection1.head()"
   ]
  },
  {
   "cell_type": "markdown",
   "id": "aa588e15-aac7-4bb9-b339-6672155a25a4",
   "metadata": {},
   "source": [
    "#### Puis on associe ces commandes aux id uniques des clients qui les ont passées"
   ]
  },
  {
   "cell_type": "code",
   "execution_count": 4,
   "id": "6e6e19f1-aceb-41d9-9526-28f0a15f63a6",
   "metadata": {},
   "outputs": [
    {
     "data": {
      "text/html": [
       "<div>\n",
       "<style scoped>\n",
       "    .dataframe tbody tr th:only-of-type {\n",
       "        vertical-align: middle;\n",
       "    }\n",
       "\n",
       "    .dataframe tbody tr th {\n",
       "        vertical-align: top;\n",
       "    }\n",
       "\n",
       "    .dataframe thead th {\n",
       "        text-align: right;\n",
       "    }\n",
       "</style>\n",
       "<table border=\"1\" class=\"dataframe\">\n",
       "  <thead>\n",
       "    <tr style=\"text-align: right;\">\n",
       "      <th></th>\n",
       "      <th>order_id</th>\n",
       "      <th>customer_id</th>\n",
       "      <th>order_purchase_timestamp</th>\n",
       "      <th>customer_unique_id</th>\n",
       "    </tr>\n",
       "  </thead>\n",
       "  <tbody>\n",
       "    <tr>\n",
       "      <th>0</th>\n",
       "      <td>e481f51cbdc54678b7cc49136f2d6af7</td>\n",
       "      <td>9ef432eb6251297304e76186b10a928d</td>\n",
       "      <td>2017-10-02 10:56:33</td>\n",
       "      <td>7c396fd4830fd04220f754e42b4e5bff</td>\n",
       "    </tr>\n",
       "    <tr>\n",
       "      <th>1</th>\n",
       "      <td>53cdb2fc8bc7dce0b6741e2150273451</td>\n",
       "      <td>b0830fb4747a6c6d20dea0b8c802d7ef</td>\n",
       "      <td>2018-07-24 20:41:37</td>\n",
       "      <td>af07308b275d755c9edb36a90c618231</td>\n",
       "    </tr>\n",
       "    <tr>\n",
       "      <th>2</th>\n",
       "      <td>47770eb9100c2d0c44946d9cf07ec65d</td>\n",
       "      <td>41ce2a54c0b03bf3443c3d931a367089</td>\n",
       "      <td>2018-08-08 08:38:49</td>\n",
       "      <td>3a653a41f6f9fc3d2a113cf8398680e8</td>\n",
       "    </tr>\n",
       "    <tr>\n",
       "      <th>3</th>\n",
       "      <td>949d5b44dbf5de918fe9c16f97b45f8a</td>\n",
       "      <td>f88197465ea7920adcdbec7375364d82</td>\n",
       "      <td>2017-11-18 19:28:06</td>\n",
       "      <td>7c142cf63193a1473d2e66489a9ae977</td>\n",
       "    </tr>\n",
       "    <tr>\n",
       "      <th>4</th>\n",
       "      <td>ad21c59c0840e6cb83a9ceb5573f8159</td>\n",
       "      <td>8ab97904e6daea8866dbdbc4fb7aad2c</td>\n",
       "      <td>2018-02-13 21:18:39</td>\n",
       "      <td>72632f0f9dd73dfee390c9b22eb56dd6</td>\n",
       "    </tr>\n",
       "  </tbody>\n",
       "</table>\n",
       "</div>"
      ],
      "text/plain": [
       "                           order_id                       customer_id  \\\n",
       "0  e481f51cbdc54678b7cc49136f2d6af7  9ef432eb6251297304e76186b10a928d   \n",
       "1  53cdb2fc8bc7dce0b6741e2150273451  b0830fb4747a6c6d20dea0b8c802d7ef   \n",
       "2  47770eb9100c2d0c44946d9cf07ec65d  41ce2a54c0b03bf3443c3d931a367089   \n",
       "3  949d5b44dbf5de918fe9c16f97b45f8a  f88197465ea7920adcdbec7375364d82   \n",
       "4  ad21c59c0840e6cb83a9ceb5573f8159  8ab97904e6daea8866dbdbc4fb7aad2c   \n",
       "\n",
       "  order_purchase_timestamp                customer_unique_id  \n",
       "0      2017-10-02 10:56:33  7c396fd4830fd04220f754e42b4e5bff  \n",
       "1      2018-07-24 20:41:37  af07308b275d755c9edb36a90c618231  \n",
       "2      2018-08-08 08:38:49  3a653a41f6f9fc3d2a113cf8398680e8  \n",
       "3      2017-11-18 19:28:06  7c142cf63193a1473d2e66489a9ae977  \n",
       "4      2018-02-13 21:18:39  72632f0f9dd73dfee390c9b22eb56dd6  "
      ]
     },
     "execution_count": 4,
     "metadata": {},
     "output_type": "execute_result"
    }
   ],
   "source": [
    "selection2 = selection1.merge(data_customer[['customer_id', 'customer_unique_id']], on='customer_id', how='left')\n",
    "selection2.head()"
   ]
  },
  {
   "cell_type": "markdown",
   "id": "b8b10c74-e683-4cd9-8f9c-ad2f9661986b",
   "metadata": {},
   "source": [
    "## 1.1 Calcul de la `Récence` <a class=\"anchor\" id=\"rfm_R\"></a> [⇪](#menu)"
   ]
  },
  {
   "cell_type": "markdown",
   "id": "1fc960c1-b497-4b5b-8c0a-9fe0984ab408",
   "metadata": {},
   "source": [
    "#### On converti la date d'achat en nombre de jours écoulés *(depuis le moment ou l'on arrête notre selection donc le 01/09/2018)*"
   ]
  },
  {
   "cell_type": "code",
   "execution_count": 5,
   "id": "856036d0-841b-4a4f-94df-53178ce26ab6",
   "metadata": {},
   "outputs": [
    {
     "data": {
      "text/html": [
       "<div>\n",
       "<style scoped>\n",
       "    .dataframe tbody tr th:only-of-type {\n",
       "        vertical-align: middle;\n",
       "    }\n",
       "\n",
       "    .dataframe tbody tr th {\n",
       "        vertical-align: top;\n",
       "    }\n",
       "\n",
       "    .dataframe thead th {\n",
       "        text-align: right;\n",
       "    }\n",
       "</style>\n",
       "<table border=\"1\" class=\"dataframe\">\n",
       "  <thead>\n",
       "    <tr style=\"text-align: right;\">\n",
       "      <th></th>\n",
       "      <th>order_id</th>\n",
       "      <th>customer_id</th>\n",
       "      <th>customer_unique_id</th>\n",
       "      <th>days_ago</th>\n",
       "    </tr>\n",
       "  </thead>\n",
       "  <tbody>\n",
       "    <tr>\n",
       "      <th>0</th>\n",
       "      <td>e481f51cbdc54678b7cc49136f2d6af7</td>\n",
       "      <td>9ef432eb6251297304e76186b10a928d</td>\n",
       "      <td>7c396fd4830fd04220f754e42b4e5bff</td>\n",
       "      <td>-334</td>\n",
       "    </tr>\n",
       "    <tr>\n",
       "      <th>1</th>\n",
       "      <td>53cdb2fc8bc7dce0b6741e2150273451</td>\n",
       "      <td>b0830fb4747a6c6d20dea0b8c802d7ef</td>\n",
       "      <td>af07308b275d755c9edb36a90c618231</td>\n",
       "      <td>-39</td>\n",
       "    </tr>\n",
       "    <tr>\n",
       "      <th>2</th>\n",
       "      <td>47770eb9100c2d0c44946d9cf07ec65d</td>\n",
       "      <td>41ce2a54c0b03bf3443c3d931a367089</td>\n",
       "      <td>3a653a41f6f9fc3d2a113cf8398680e8</td>\n",
       "      <td>-24</td>\n",
       "    </tr>\n",
       "    <tr>\n",
       "      <th>3</th>\n",
       "      <td>949d5b44dbf5de918fe9c16f97b45f8a</td>\n",
       "      <td>f88197465ea7920adcdbec7375364d82</td>\n",
       "      <td>7c142cf63193a1473d2e66489a9ae977</td>\n",
       "      <td>-287</td>\n",
       "    </tr>\n",
       "    <tr>\n",
       "      <th>4</th>\n",
       "      <td>ad21c59c0840e6cb83a9ceb5573f8159</td>\n",
       "      <td>8ab97904e6daea8866dbdbc4fb7aad2c</td>\n",
       "      <td>72632f0f9dd73dfee390c9b22eb56dd6</td>\n",
       "      <td>-200</td>\n",
       "    </tr>\n",
       "  </tbody>\n",
       "</table>\n",
       "</div>"
      ],
      "text/plain": [
       "                           order_id                       customer_id  \\\n",
       "0  e481f51cbdc54678b7cc49136f2d6af7  9ef432eb6251297304e76186b10a928d   \n",
       "1  53cdb2fc8bc7dce0b6741e2150273451  b0830fb4747a6c6d20dea0b8c802d7ef   \n",
       "2  47770eb9100c2d0c44946d9cf07ec65d  41ce2a54c0b03bf3443c3d931a367089   \n",
       "3  949d5b44dbf5de918fe9c16f97b45f8a  f88197465ea7920adcdbec7375364d82   \n",
       "4  ad21c59c0840e6cb83a9ceb5573f8159  8ab97904e6daea8866dbdbc4fb7aad2c   \n",
       "\n",
       "                 customer_unique_id  days_ago  \n",
       "0  7c396fd4830fd04220f754e42b4e5bff      -334  \n",
       "1  af07308b275d755c9edb36a90c618231       -39  \n",
       "2  3a653a41f6f9fc3d2a113cf8398680e8       -24  \n",
       "3  7c142cf63193a1473d2e66489a9ae977      -287  \n",
       "4  72632f0f9dd73dfee390c9b22eb56dd6      -200  "
      ]
     },
     "execution_count": 5,
     "metadata": {},
     "output_type": "execute_result"
    }
   ],
   "source": [
    "ref_date = datetime.datetime.strptime('2018-09-01 00:00:00', '%Y-%m-%d %H:%M:%S')\n",
    "selection3 = selection2.copy()\n",
    "\n",
    "selection3.order_purchase_timestamp = selection2.order_purchase_timestamp.apply(lambda x: datetime.datetime.strptime(x, '%Y-%m-%d %H:%M:%S'))\n",
    "selection3['days_ago'] = selection3.order_purchase_timestamp - ref_date\n",
    "selection3['days_ago'] = selection3.days_ago.apply(lambda x: x.days)\n",
    "selection3.drop(columns=['order_purchase_timestamp'], inplace=True)\n",
    "selection3.head()"
   ]
  },
  {
   "cell_type": "code",
   "execution_count": 6,
   "id": "223982e3-b4fd-497c-b9f9-82b30a324ca8",
   "metadata": {},
   "outputs": [
    {
     "data": {
      "text/html": [
       "<div>\n",
       "<style scoped>\n",
       "    .dataframe tbody tr th:only-of-type {\n",
       "        vertical-align: middle;\n",
       "    }\n",
       "\n",
       "    .dataframe tbody tr th {\n",
       "        vertical-align: top;\n",
       "    }\n",
       "\n",
       "    .dataframe thead th {\n",
       "        text-align: right;\n",
       "    }\n",
       "</style>\n",
       "<table border=\"1\" class=\"dataframe\">\n",
       "  <thead>\n",
       "    <tr style=\"text-align: right;\">\n",
       "      <th></th>\n",
       "      <th>count</th>\n",
       "      <th>mean</th>\n",
       "      <th>std</th>\n",
       "      <th>min</th>\n",
       "      <th>25%</th>\n",
       "      <th>50%</th>\n",
       "      <th>75%</th>\n",
       "      <th>max</th>\n",
       "    </tr>\n",
       "  </thead>\n",
       "  <tbody>\n",
       "    <tr>\n",
       "      <th>days_ago</th>\n",
       "      <td>74213.0</td>\n",
       "      <td>-176.203778</td>\n",
       "      <td>99.367873</td>\n",
       "      <td>-365.0</td>\n",
       "      <td>-263.0</td>\n",
       "      <td>-176.0</td>\n",
       "      <td>-92.0</td>\n",
       "      <td>-3.0</td>\n",
       "    </tr>\n",
       "  </tbody>\n",
       "</table>\n",
       "</div>"
      ],
      "text/plain": [
       "            count        mean        std    min    25%    50%   75%  max\n",
       "days_ago  74213.0 -176.203778  99.367873 -365.0 -263.0 -176.0 -92.0 -3.0"
      ]
     },
     "execution_count": 6,
     "metadata": {},
     "output_type": "execute_result"
    }
   ],
   "source": [
    "selection3.describe().T"
   ]
  },
  {
   "cell_type": "markdown",
   "id": "5e4b87a1-2b31-4959-b957-8dde326245c5",
   "metadata": {},
   "source": [
    "#### Puis, on crée une **nouvelle table** `R_data` qui stoque la **recence** *(la plus petite valeur `days_ago`)* de chaque client"
   ]
  },
  {
   "cell_type": "code",
   "execution_count": 7,
   "id": "2e81e6c0-af95-461f-aebc-170c0059ed19",
   "metadata": {},
   "outputs": [
    {
     "data": {
      "text/html": [
       "<div>\n",
       "<style scoped>\n",
       "    .dataframe tbody tr th:only-of-type {\n",
       "        vertical-align: middle;\n",
       "    }\n",
       "\n",
       "    .dataframe tbody tr th {\n",
       "        vertical-align: top;\n",
       "    }\n",
       "\n",
       "    .dataframe thead th {\n",
       "        text-align: right;\n",
       "    }\n",
       "</style>\n",
       "<table border=\"1\" class=\"dataframe\">\n",
       "  <thead>\n",
       "    <tr style=\"text-align: right;\">\n",
       "      <th></th>\n",
       "      <th>customer_unique_id</th>\n",
       "      <th>recence</th>\n",
       "    </tr>\n",
       "  </thead>\n",
       "  <tbody>\n",
       "    <tr>\n",
       "      <th>0</th>\n",
       "      <td>0000366f3b9a7992bf8c76cfdf3221e2</td>\n",
       "      <td>-114</td>\n",
       "    </tr>\n",
       "    <tr>\n",
       "      <th>1</th>\n",
       "      <td>0000b849f77a49e4a4ce2b2a4ca5be3f</td>\n",
       "      <td>-117</td>\n",
       "    </tr>\n",
       "    <tr>\n",
       "      <th>2</th>\n",
       "      <td>0000f6ccb0745a6a4b88665a16c9f078</td>\n",
       "      <td>-324</td>\n",
       "    </tr>\n",
       "    <tr>\n",
       "      <th>3</th>\n",
       "      <td>0004aac84e0df4da2b147fca70cf8255</td>\n",
       "      <td>-291</td>\n",
       "    </tr>\n",
       "    <tr>\n",
       "      <th>4</th>\n",
       "      <td>0004bd2a26a76fe21f786e4fbd80607f</td>\n",
       "      <td>-149</td>\n",
       "    </tr>\n",
       "  </tbody>\n",
       "</table>\n",
       "</div>"
      ],
      "text/plain": [
       "                 customer_unique_id  recence\n",
       "0  0000366f3b9a7992bf8c76cfdf3221e2     -114\n",
       "1  0000b849f77a49e4a4ce2b2a4ca5be3f     -117\n",
       "2  0000f6ccb0745a6a4b88665a16c9f078     -324\n",
       "3  0004aac84e0df4da2b147fca70cf8255     -291\n",
       "4  0004bd2a26a76fe21f786e4fbd80607f     -149"
      ]
     },
     "execution_count": 7,
     "metadata": {},
     "output_type": "execute_result"
    }
   ],
   "source": [
    "R_data = selection3[['customer_unique_id', 'days_ago']].groupby('customer_unique_id').min().reset_index()\n",
    "R_data.rename(columns={'days_ago': 'recence'}, inplace=True)\n",
    "R_data.head()"
   ]
  },
  {
   "cell_type": "code",
   "execution_count": 8,
   "id": "d4c58f9c-0e40-4374-aace-2946ae4e369b",
   "metadata": {},
   "outputs": [
    {
     "data": {
      "text/html": [
       "<div>\n",
       "<style scoped>\n",
       "    .dataframe tbody tr th:only-of-type {\n",
       "        vertical-align: middle;\n",
       "    }\n",
       "\n",
       "    .dataframe tbody tr th {\n",
       "        vertical-align: top;\n",
       "    }\n",
       "\n",
       "    .dataframe thead th {\n",
       "        text-align: right;\n",
       "    }\n",
       "</style>\n",
       "<table border=\"1\" class=\"dataframe\">\n",
       "  <thead>\n",
       "    <tr style=\"text-align: right;\">\n",
       "      <th></th>\n",
       "      <th>count</th>\n",
       "      <th>mean</th>\n",
       "      <th>std</th>\n",
       "      <th>min</th>\n",
       "      <th>25%</th>\n",
       "      <th>50%</th>\n",
       "      <th>75%</th>\n",
       "      <th>max</th>\n",
       "    </tr>\n",
       "  </thead>\n",
       "  <tbody>\n",
       "    <tr>\n",
       "      <th>recence</th>\n",
       "      <td>72247.0</td>\n",
       "      <td>-176.54805</td>\n",
       "      <td>99.464265</td>\n",
       "      <td>-365.0</td>\n",
       "      <td>-264.0</td>\n",
       "      <td>-176.0</td>\n",
       "      <td>-92.5</td>\n",
       "      <td>-3.0</td>\n",
       "    </tr>\n",
       "  </tbody>\n",
       "</table>\n",
       "</div>"
      ],
      "text/plain": [
       "           count       mean        std    min    25%    50%   75%  max\n",
       "recence  72247.0 -176.54805  99.464265 -365.0 -264.0 -176.0 -92.5 -3.0"
      ]
     },
     "execution_count": 8,
     "metadata": {},
     "output_type": "execute_result"
    }
   ],
   "source": [
    "R_data.describe().T"
   ]
  },
  {
   "cell_type": "markdown",
   "id": "3c1ae7eb-caf4-4b10-b22a-3c288436a8b1",
   "metadata": {},
   "source": [
    "## 1.2 Calcul de la `Fréquence` <a class=\"anchor\" id=\"rfm_F\"></a> [⇪](#menu)"
   ]
  },
  {
   "cell_type": "markdown",
   "id": "46b435a3-716d-4620-a1a5-09c7d90ae64a",
   "metadata": {},
   "source": [
    "#### On ajoute la fréquence de chaque commande; c'est à dire 1..."
   ]
  },
  {
   "cell_type": "code",
   "execution_count": 9,
   "id": "a795af2d-dbb4-4911-89af-cf967d307fd7",
   "metadata": {},
   "outputs": [],
   "source": [
    "selection4 = selection3.copy()\n",
    "selection4['frequence'] = 1"
   ]
  },
  {
   "cell_type": "markdown",
   "id": "4c85894f-0faa-40d1-8e46-c24166d32499",
   "metadata": {},
   "source": [
    "#### Puis, on crée une **nouvelle table** `F_data` qui stoque la **frequence** *(le total du nombre de commande passées dans la période choisie)* de chaque client"
   ]
  },
  {
   "cell_type": "code",
   "execution_count": 10,
   "id": "c9a80890-8581-4379-8a5d-d0bbed3b147c",
   "metadata": {},
   "outputs": [
    {
     "data": {
      "text/html": [
       "<div>\n",
       "<style scoped>\n",
       "    .dataframe tbody tr th:only-of-type {\n",
       "        vertical-align: middle;\n",
       "    }\n",
       "\n",
       "    .dataframe tbody tr th {\n",
       "        vertical-align: top;\n",
       "    }\n",
       "\n",
       "    .dataframe thead th {\n",
       "        text-align: right;\n",
       "    }\n",
       "</style>\n",
       "<table border=\"1\" class=\"dataframe\">\n",
       "  <thead>\n",
       "    <tr style=\"text-align: right;\">\n",
       "      <th></th>\n",
       "      <th>customer_unique_id</th>\n",
       "      <th>frequence</th>\n",
       "    </tr>\n",
       "  </thead>\n",
       "  <tbody>\n",
       "    <tr>\n",
       "      <th>39752</th>\n",
       "      <td>8d50f5eadf50201ccdcedfb9e2ac8455</td>\n",
       "      <td>11</td>\n",
       "    </tr>\n",
       "    <tr>\n",
       "      <th>17595</th>\n",
       "      <td>3e43e6105506432c953e165fb2acf44c</td>\n",
       "      <td>9</td>\n",
       "    </tr>\n",
       "    <tr>\n",
       "      <th>28323</th>\n",
       "      <td>6469f99c1f9dfae7733b25662e7f1782</td>\n",
       "      <td>7</td>\n",
       "    </tr>\n",
       "    <tr>\n",
       "      <th>7709</th>\n",
       "      <td>1b6c7548a2a1f9037c1fd3ddfed95f33</td>\n",
       "      <td>7</td>\n",
       "    </tr>\n",
       "    <tr>\n",
       "      <th>57218</th>\n",
       "      <td>ca77025e7201e3b30c44b472ff346268</td>\n",
       "      <td>7</td>\n",
       "    </tr>\n",
       "  </tbody>\n",
       "</table>\n",
       "</div>"
      ],
      "text/plain": [
       "                     customer_unique_id  frequence\n",
       "39752  8d50f5eadf50201ccdcedfb9e2ac8455         11\n",
       "17595  3e43e6105506432c953e165fb2acf44c          9\n",
       "28323  6469f99c1f9dfae7733b25662e7f1782          7\n",
       "7709   1b6c7548a2a1f9037c1fd3ddfed95f33          7\n",
       "57218  ca77025e7201e3b30c44b472ff346268          7"
      ]
     },
     "execution_count": 10,
     "metadata": {},
     "output_type": "execute_result"
    }
   ],
   "source": [
    "F_data = selection4[['customer_unique_id', 'frequence']].groupby('customer_unique_id').sum().reset_index()\n",
    "F_data.sort_values('frequence', ascending=False).head()"
   ]
  },
  {
   "cell_type": "code",
   "execution_count": 11,
   "id": "0416ae12-a547-40bd-8b59-81007d7a1d0c",
   "metadata": {},
   "outputs": [
    {
     "data": {
      "text/html": [
       "<div>\n",
       "<style scoped>\n",
       "    .dataframe tbody tr th:only-of-type {\n",
       "        vertical-align: middle;\n",
       "    }\n",
       "\n",
       "    .dataframe tbody tr th {\n",
       "        vertical-align: top;\n",
       "    }\n",
       "\n",
       "    .dataframe thead th {\n",
       "        text-align: right;\n",
       "    }\n",
       "</style>\n",
       "<table border=\"1\" class=\"dataframe\">\n",
       "  <thead>\n",
       "    <tr style=\"text-align: right;\">\n",
       "      <th></th>\n",
       "      <th>count</th>\n",
       "      <th>mean</th>\n",
       "      <th>std</th>\n",
       "      <th>min</th>\n",
       "      <th>25%</th>\n",
       "      <th>50%</th>\n",
       "      <th>75%</th>\n",
       "      <th>max</th>\n",
       "    </tr>\n",
       "  </thead>\n",
       "  <tbody>\n",
       "    <tr>\n",
       "      <th>frequence</th>\n",
       "      <td>72247.0</td>\n",
       "      <td>1.027212</td>\n",
       "      <td>0.185742</td>\n",
       "      <td>1.0</td>\n",
       "      <td>1.0</td>\n",
       "      <td>1.0</td>\n",
       "      <td>1.0</td>\n",
       "      <td>11.0</td>\n",
       "    </tr>\n",
       "  </tbody>\n",
       "</table>\n",
       "</div>"
      ],
      "text/plain": [
       "             count      mean       std  min  25%  50%  75%   max\n",
       "frequence  72247.0  1.027212  0.185742  1.0  1.0  1.0  1.0  11.0"
      ]
     },
     "execution_count": 11,
     "metadata": {},
     "output_type": "execute_result"
    }
   ],
   "source": [
    "F_data.describe().T"
   ]
  },
  {
   "cell_type": "markdown",
   "id": "522522b7-dc72-41a4-bf4d-6c83c8e72dae",
   "metadata": {},
   "source": [
    "## 1.3 Calcul du `Montant` <a class=\"anchor\" id=\"rfm_M\"></a> [⇪](#menu)"
   ]
  },
  {
   "cell_type": "markdown",
   "id": "4d78234e-5d86-4ba4-96ff-76393b1f5685",
   "metadata": {},
   "source": [
    "#### On calcul le montant total de chaque commande *(puisqu'il peut y avoir plusieurs moyens de paiements)*"
   ]
  },
  {
   "cell_type": "code",
   "execution_count": 12,
   "id": "6635812a-ada2-4995-a867-df542674748e",
   "metadata": {},
   "outputs": [
    {
     "data": {
      "text/html": [
       "<div>\n",
       "<style scoped>\n",
       "    .dataframe tbody tr th:only-of-type {\n",
       "        vertical-align: middle;\n",
       "    }\n",
       "\n",
       "    .dataframe tbody tr th {\n",
       "        vertical-align: top;\n",
       "    }\n",
       "\n",
       "    .dataframe thead th {\n",
       "        text-align: right;\n",
       "    }\n",
       "</style>\n",
       "<table border=\"1\" class=\"dataframe\">\n",
       "  <thead>\n",
       "    <tr style=\"text-align: right;\">\n",
       "      <th></th>\n",
       "      <th>order_id</th>\n",
       "      <th>montant</th>\n",
       "    </tr>\n",
       "  </thead>\n",
       "  <tbody>\n",
       "    <tr>\n",
       "      <th>0</th>\n",
       "      <td>00010242fe8c5a6d1ba2dd792cb16214</td>\n",
       "      <td>72.19</td>\n",
       "    </tr>\n",
       "    <tr>\n",
       "      <th>1</th>\n",
       "      <td>000229ec398224ef6ca0657da4fc703e</td>\n",
       "      <td>216.87</td>\n",
       "    </tr>\n",
       "    <tr>\n",
       "      <th>2</th>\n",
       "      <td>00024acbcdf0a6daa1e931b038114c75</td>\n",
       "      <td>25.78</td>\n",
       "    </tr>\n",
       "    <tr>\n",
       "      <th>3</th>\n",
       "      <td>00054e8431b9d7675808bcb819fb4a32</td>\n",
       "      <td>31.75</td>\n",
       "    </tr>\n",
       "    <tr>\n",
       "      <th>4</th>\n",
       "      <td>000576fe39319847cbb9d288c5617fa6</td>\n",
       "      <td>880.75</td>\n",
       "    </tr>\n",
       "  </tbody>\n",
       "</table>\n",
       "</div>"
      ],
      "text/plain": [
       "                           order_id  montant\n",
       "0  00010242fe8c5a6d1ba2dd792cb16214    72.19\n",
       "1  000229ec398224ef6ca0657da4fc703e   216.87\n",
       "2  00024acbcdf0a6daa1e931b038114c75    25.78\n",
       "3  00054e8431b9d7675808bcb819fb4a32    31.75\n",
       "4  000576fe39319847cbb9d288c5617fa6   880.75"
      ]
     },
     "execution_count": 12,
     "metadata": {},
     "output_type": "execute_result"
    }
   ],
   "source": [
    "total_amount_per_order = selection3[['order_id']].merge(\n",
    "        data_payments[['order_id', 'payment_value']], on='order_id', how='left'\n",
    "    ).groupby('order_id').sum().reset_index()\n",
    "total_amount_per_order.rename(columns={'payment_value': 'montant'}, inplace=True)\n",
    "total_amount_per_order.head()"
   ]
  },
  {
   "cell_type": "markdown",
   "id": "1ec3ef07-5ae3-4372-8e61-f1d36439dfaa",
   "metadata": {},
   "source": [
    "#### Puis, on crée une **nouvelle table** `M_data` qui stoque le **montant** *(le total des montants de toutes les commandes faites sur la période choisie)* pour chaque client"
   ]
  },
  {
   "cell_type": "code",
   "execution_count": 13,
   "id": "718ca685-e750-4c24-9fe4-0742cad16708",
   "metadata": {},
   "outputs": [
    {
     "data": {
      "text/html": [
       "<div>\n",
       "<style scoped>\n",
       "    .dataframe tbody tr th:only-of-type {\n",
       "        vertical-align: middle;\n",
       "    }\n",
       "\n",
       "    .dataframe tbody tr th {\n",
       "        vertical-align: top;\n",
       "    }\n",
       "\n",
       "    .dataframe thead th {\n",
       "        text-align: right;\n",
       "    }\n",
       "</style>\n",
       "<table border=\"1\" class=\"dataframe\">\n",
       "  <thead>\n",
       "    <tr style=\"text-align: right;\">\n",
       "      <th></th>\n",
       "      <th>customer_unique_id</th>\n",
       "      <th>montant</th>\n",
       "    </tr>\n",
       "  </thead>\n",
       "  <tbody>\n",
       "    <tr>\n",
       "      <th>0</th>\n",
       "      <td>0000366f3b9a7992bf8c76cfdf3221e2</td>\n",
       "      <td>141.90</td>\n",
       "    </tr>\n",
       "    <tr>\n",
       "      <th>1</th>\n",
       "      <td>0000b849f77a49e4a4ce2b2a4ca5be3f</td>\n",
       "      <td>27.19</td>\n",
       "    </tr>\n",
       "    <tr>\n",
       "      <th>2</th>\n",
       "      <td>0000f6ccb0745a6a4b88665a16c9f078</td>\n",
       "      <td>43.62</td>\n",
       "    </tr>\n",
       "    <tr>\n",
       "      <th>3</th>\n",
       "      <td>0004aac84e0df4da2b147fca70cf8255</td>\n",
       "      <td>196.89</td>\n",
       "    </tr>\n",
       "    <tr>\n",
       "      <th>4</th>\n",
       "      <td>0004bd2a26a76fe21f786e4fbd80607f</td>\n",
       "      <td>166.98</td>\n",
       "    </tr>\n",
       "  </tbody>\n",
       "</table>\n",
       "</div>"
      ],
      "text/plain": [
       "                 customer_unique_id  montant\n",
       "0  0000366f3b9a7992bf8c76cfdf3221e2   141.90\n",
       "1  0000b849f77a49e4a4ce2b2a4ca5be3f    27.19\n",
       "2  0000f6ccb0745a6a4b88665a16c9f078    43.62\n",
       "3  0004aac84e0df4da2b147fca70cf8255   196.89\n",
       "4  0004bd2a26a76fe21f786e4fbd80607f   166.98"
      ]
     },
     "execution_count": 13,
     "metadata": {},
     "output_type": "execute_result"
    }
   ],
   "source": [
    "M_data = selection3[['customer_unique_id', 'order_id']].merge(\n",
    "        total_amount_per_order, on='order_id', how='left'\n",
    "    ).groupby('customer_unique_id').sum().reset_index()\n",
    "M_data.head()"
   ]
  },
  {
   "cell_type": "code",
   "execution_count": 14,
   "id": "ac23a12f-46a8-4782-b824-2c210f445872",
   "metadata": {},
   "outputs": [
    {
     "data": {
      "text/html": [
       "<div>\n",
       "<style scoped>\n",
       "    .dataframe tbody tr th:only-of-type {\n",
       "        vertical-align: middle;\n",
       "    }\n",
       "\n",
       "    .dataframe tbody tr th {\n",
       "        vertical-align: top;\n",
       "    }\n",
       "\n",
       "    .dataframe thead th {\n",
       "        text-align: right;\n",
       "    }\n",
       "</style>\n",
       "<table border=\"1\" class=\"dataframe\">\n",
       "  <thead>\n",
       "    <tr style=\"text-align: right;\">\n",
       "      <th></th>\n",
       "      <th>count</th>\n",
       "      <th>mean</th>\n",
       "      <th>std</th>\n",
       "      <th>min</th>\n",
       "      <th>25%</th>\n",
       "      <th>50%</th>\n",
       "      <th>75%</th>\n",
       "      <th>max</th>\n",
       "    </tr>\n",
       "  </thead>\n",
       "  <tbody>\n",
       "    <tr>\n",
       "      <th>montant</th>\n",
       "      <td>72247.0</td>\n",
       "      <td>164.548839</td>\n",
       "      <td>217.050575</td>\n",
       "      <td>0.0</td>\n",
       "      <td>63.13</td>\n",
       "      <td>108.2</td>\n",
       "      <td>182.14</td>\n",
       "      <td>7274.88</td>\n",
       "    </tr>\n",
       "  </tbody>\n",
       "</table>\n",
       "</div>"
      ],
      "text/plain": [
       "           count        mean         std  min    25%    50%     75%      max\n",
       "montant  72247.0  164.548839  217.050575  0.0  63.13  108.2  182.14  7274.88"
      ]
     },
     "execution_count": 14,
     "metadata": {},
     "output_type": "execute_result"
    }
   ],
   "source": [
    "M_data.describe().T"
   ]
  },
  {
   "cell_type": "markdown",
   "id": "fbe11456-6719-4e11-aaca-fdfa8ddfbdd7",
   "metadata": {},
   "source": [
    "## 1.4 Calcul des `scores RFM` <a class=\"anchor\" id=\"rfm_scores\"></a> [⇪](#menu)"
   ]
  },
  {
   "cell_type": "markdown",
   "id": "f3d12ce7-762f-43c2-a0e4-e52c0b9f9233",
   "metadata": {},
   "source": [
    "#### On associe les trois jeux de données `R_data`, `F_data` et `M_data` en un unique jeu de données `RFM_data`"
   ]
  },
  {
   "cell_type": "code",
   "execution_count": 15,
   "id": "dd236f15-29d4-424f-86ae-56e01d331729",
   "metadata": {},
   "outputs": [
    {
     "data": {
      "text/html": [
       "<div>\n",
       "<style scoped>\n",
       "    .dataframe tbody tr th:only-of-type {\n",
       "        vertical-align: middle;\n",
       "    }\n",
       "\n",
       "    .dataframe tbody tr th {\n",
       "        vertical-align: top;\n",
       "    }\n",
       "\n",
       "    .dataframe thead th {\n",
       "        text-align: right;\n",
       "    }\n",
       "</style>\n",
       "<table border=\"1\" class=\"dataframe\">\n",
       "  <thead>\n",
       "    <tr style=\"text-align: right;\">\n",
       "      <th></th>\n",
       "      <th>customer_unique_id</th>\n",
       "      <th>recence</th>\n",
       "      <th>frequence</th>\n",
       "      <th>montant</th>\n",
       "    </tr>\n",
       "  </thead>\n",
       "  <tbody>\n",
       "    <tr>\n",
       "      <th>39752</th>\n",
       "      <td>8d50f5eadf50201ccdcedfb9e2ac8455</td>\n",
       "      <td>-361</td>\n",
       "      <td>11</td>\n",
       "      <td>557.15</td>\n",
       "    </tr>\n",
       "    <tr>\n",
       "      <th>17595</th>\n",
       "      <td>3e43e6105506432c953e165fb2acf44c</td>\n",
       "      <td>-348</td>\n",
       "      <td>9</td>\n",
       "      <td>1172.66</td>\n",
       "    </tr>\n",
       "    <tr>\n",
       "      <th>7709</th>\n",
       "      <td>1b6c7548a2a1f9037c1fd3ddfed95f33</td>\n",
       "      <td>-292</td>\n",
       "      <td>7</td>\n",
       "      <td>959.01</td>\n",
       "    </tr>\n",
       "    <tr>\n",
       "      <th>57218</th>\n",
       "      <td>ca77025e7201e3b30c44b472ff346268</td>\n",
       "      <td>-327</td>\n",
       "      <td>7</td>\n",
       "      <td>1122.72</td>\n",
       "    </tr>\n",
       "    <tr>\n",
       "      <th>28323</th>\n",
       "      <td>6469f99c1f9dfae7733b25662e7f1782</td>\n",
       "      <td>-347</td>\n",
       "      <td>7</td>\n",
       "      <td>758.83</td>\n",
       "    </tr>\n",
       "    <tr>\n",
       "      <th>...</th>\n",
       "      <td>...</td>\n",
       "      <td>...</td>\n",
       "      <td>...</td>\n",
       "      <td>...</td>\n",
       "    </tr>\n",
       "    <tr>\n",
       "      <th>45706</th>\n",
       "      <td>a1efe9a98bf03a0025efa9bc56fe9d1f</td>\n",
       "      <td>-365</td>\n",
       "      <td>1</td>\n",
       "      <td>35.00</td>\n",
       "    </tr>\n",
       "    <tr>\n",
       "      <th>53024</th>\n",
       "      <td>bb7ff07987c9bb0345b6b948478525b4</td>\n",
       "      <td>-365</td>\n",
       "      <td>1</td>\n",
       "      <td>31.75</td>\n",
       "    </tr>\n",
       "    <tr>\n",
       "      <th>35090</th>\n",
       "      <td>7c3db55121184d445bec70d421c62135</td>\n",
       "      <td>-365</td>\n",
       "      <td>1</td>\n",
       "      <td>31.38</td>\n",
       "    </tr>\n",
       "    <tr>\n",
       "      <th>69236</th>\n",
       "      <td>f514fa8c60b510de4c90242e86801717</td>\n",
       "      <td>-365</td>\n",
       "      <td>1</td>\n",
       "      <td>31.10</td>\n",
       "    </tr>\n",
       "    <tr>\n",
       "      <th>39949</th>\n",
       "      <td>8dfb24fac32ec7170821d2be63fa9c1c</td>\n",
       "      <td>-365</td>\n",
       "      <td>1</td>\n",
       "      <td>17.85</td>\n",
       "    </tr>\n",
       "  </tbody>\n",
       "</table>\n",
       "<p>72247 rows × 4 columns</p>\n",
       "</div>"
      ],
      "text/plain": [
       "                     customer_unique_id  recence  frequence  montant\n",
       "39752  8d50f5eadf50201ccdcedfb9e2ac8455     -361         11   557.15\n",
       "17595  3e43e6105506432c953e165fb2acf44c     -348          9  1172.66\n",
       "7709   1b6c7548a2a1f9037c1fd3ddfed95f33     -292          7   959.01\n",
       "57218  ca77025e7201e3b30c44b472ff346268     -327          7  1122.72\n",
       "28323  6469f99c1f9dfae7733b25662e7f1782     -347          7   758.83\n",
       "...                                 ...      ...        ...      ...\n",
       "45706  a1efe9a98bf03a0025efa9bc56fe9d1f     -365          1    35.00\n",
       "53024  bb7ff07987c9bb0345b6b948478525b4     -365          1    31.75\n",
       "35090  7c3db55121184d445bec70d421c62135     -365          1    31.38\n",
       "69236  f514fa8c60b510de4c90242e86801717     -365          1    31.10\n",
       "39949  8dfb24fac32ec7170821d2be63fa9c1c     -365          1    17.85\n",
       "\n",
       "[72247 rows x 4 columns]"
      ]
     },
     "execution_count": 15,
     "metadata": {},
     "output_type": "execute_result"
    }
   ],
   "source": [
    "RFM_data = reduce(lambda x, y: pd.merge(x, y, on='customer_unique_id', how='left'), [R_data, F_data, M_data])\n",
    "RFM_data.sort_values(['frequence', 'recence', 'montant'], ascending=False)"
   ]
  },
  {
   "cell_type": "code",
   "execution_count": 16,
   "id": "0125ca3b-daa2-4545-aed6-5a32f54fa062",
   "metadata": {},
   "outputs": [
    {
     "data": {
      "text/html": [
       "<div>\n",
       "<style scoped>\n",
       "    .dataframe tbody tr th:only-of-type {\n",
       "        vertical-align: middle;\n",
       "    }\n",
       "\n",
       "    .dataframe tbody tr th {\n",
       "        vertical-align: top;\n",
       "    }\n",
       "\n",
       "    .dataframe thead th {\n",
       "        text-align: right;\n",
       "    }\n",
       "</style>\n",
       "<table border=\"1\" class=\"dataframe\">\n",
       "  <thead>\n",
       "    <tr style=\"text-align: right;\">\n",
       "      <th></th>\n",
       "      <th>count</th>\n",
       "      <th>mean</th>\n",
       "      <th>std</th>\n",
       "      <th>min</th>\n",
       "      <th>25%</th>\n",
       "      <th>50%</th>\n",
       "      <th>75%</th>\n",
       "      <th>max</th>\n",
       "    </tr>\n",
       "  </thead>\n",
       "  <tbody>\n",
       "    <tr>\n",
       "      <th>recence</th>\n",
       "      <td>72247.0</td>\n",
       "      <td>-176.548050</td>\n",
       "      <td>99.464265</td>\n",
       "      <td>-365.0</td>\n",
       "      <td>-264.00</td>\n",
       "      <td>-176.0</td>\n",
       "      <td>-92.50</td>\n",
       "      <td>-3.00</td>\n",
       "    </tr>\n",
       "    <tr>\n",
       "      <th>frequence</th>\n",
       "      <td>72247.0</td>\n",
       "      <td>1.027212</td>\n",
       "      <td>0.185742</td>\n",
       "      <td>1.0</td>\n",
       "      <td>1.00</td>\n",
       "      <td>1.0</td>\n",
       "      <td>1.00</td>\n",
       "      <td>11.00</td>\n",
       "    </tr>\n",
       "    <tr>\n",
       "      <th>montant</th>\n",
       "      <td>72247.0</td>\n",
       "      <td>164.548839</td>\n",
       "      <td>217.050575</td>\n",
       "      <td>0.0</td>\n",
       "      <td>63.13</td>\n",
       "      <td>108.2</td>\n",
       "      <td>182.14</td>\n",
       "      <td>7274.88</td>\n",
       "    </tr>\n",
       "  </tbody>\n",
       "</table>\n",
       "</div>"
      ],
      "text/plain": [
       "             count        mean         std    min     25%    50%     75%  \\\n",
       "recence    72247.0 -176.548050   99.464265 -365.0 -264.00 -176.0  -92.50   \n",
       "frequence  72247.0    1.027212    0.185742    1.0    1.00    1.0    1.00   \n",
       "montant    72247.0  164.548839  217.050575    0.0   63.13  108.2  182.14   \n",
       "\n",
       "               max  \n",
       "recence      -3.00  \n",
       "frequence    11.00  \n",
       "montant    7274.88  "
      ]
     },
     "execution_count": 16,
     "metadata": {},
     "output_type": "execute_result"
    }
   ],
   "source": [
    "RFM_data.describe().T"
   ]
  },
  {
   "cell_type": "markdown",
   "id": "dcc4eb0d-88f8-457a-96a6-fa213c7a4625",
   "metadata": {},
   "source": [
    "#### Puis, on utilise les quantiles pour calculer les seuil de répartition des scores pour chacune des 3 colonnes..."
   ]
  },
  {
   "cell_type": "code",
   "execution_count": 17,
   "id": "279745ad-dace-4af7-98a4-2a39c21351b4",
   "metadata": {},
   "outputs": [
    {
     "data": {
      "text/plain": [
       "0.0"
      ]
     },
     "execution_count": 17,
     "metadata": {},
     "output_type": "execute_result"
    }
   ],
   "source": [
    "num_groups = 3  # En combien de groupes voulont nous découper nos scores\n",
    "\n",
    "R_groups = RFM_data.recence.quantile(np.linspace(0, 1, num_groups+1))\n",
    "R_groups.pop(0)\n",
    "\n",
    "F_groups = RFM_data.frequence.quantile(np.linspace(0, 1, num_groups+1))\n",
    "F_groups.pop(0)\n",
    "\n",
    "M_groups = RFM_data.montant.quantile(np.linspace(0, 1, num_groups+1))\n",
    "M_groups.pop(0)"
   ]
  },
  {
   "cell_type": "code",
   "execution_count": 18,
   "id": "26263406-8e47-400e-b90d-f13ba85ca9f7",
   "metadata": {},
   "outputs": [
    {
     "name": "stdout",
     "output_type": "stream",
     "text": [
      "score:0 | Recence:[     0;-229.0] | Frequence:[     0;   1.0] | Montant:[     0; 75.25]\n",
      "score:1 | Recence:[-229.0;-122.0] | Frequence:[   1.0;   1.0] | Montant:[ 75.25;152.71]\n",
      "score:2 | Recence:[-122.0;  -3.0] | Frequence:[   1.0;  11.0] | Montant:[152.71;7274.88]\n"
     ]
    }
   ],
   "source": [
    "r_start, f_start, m_start = 0,0,0\n",
    "for i, (r, f, m) in enumerate(zip(R_groups, F_groups, M_groups)):\n",
    "    print(f\"score:{i} | Recence:[{r_start:6};{r:6}] | Frequence:[{f_start:6};{f:6}] | Montant:[{m_start:6};{m:6}]\")\n",
    "    r_start, f_start, m_start = r, f, m"
   ]
  },
  {
   "cell_type": "markdown",
   "id": "f9e29fc3-0aae-4cfe-9e81-9b8fc5326824",
   "metadata": {},
   "source": [
    ">#### 🔔 On note que les **scores de fréquence vont présenter un problème** puisque le score 2 est inexistant de par la répartition des achats\n",
    "> *(rappelons que notre Analyse Exploratoire des données a montrée que seuls environ 3% des clients font plus d'un achat)*"
   ]
  },
  {
   "cell_type": "markdown",
   "id": "0a4750cc-2fdd-4bef-8f85-c4dd510b21b2",
   "metadata": {},
   "source": [
    "#### On utilise les seuils pour calculer et ajouter les scores `R_score`, `F_score` et `M_score` des 3 colonnes `recence`, `frequence` et `montant`"
   ]
  },
  {
   "cell_type": "code",
   "execution_count": 19,
   "id": "28f70d1e-bd4d-4deb-93e4-639c4ab6bae1",
   "metadata": {},
   "outputs": [],
   "source": [
    "def eval_score(x, split_values):\n",
    "    for i, v in enumerate(split_values):\n",
    "        if(x <= v):\n",
    "            return i+1\n",
    "\n",
    "    print(f\"probleme: value={x}\\n\", split_values)\n",
    "    raise Exception\n",
    "\n",
    "\n",
    "RFM_data['R_score'] = RFM_data.recence.apply(eval_score, split_values=R_groups)\n",
    "RFM_data['F_score'] = RFM_data.frequence.apply(eval_score, split_values=F_groups)\n",
    "RFM_data['M_score'] = RFM_data.montant.apply(eval_score, split_values=M_groups)\n",
    "RFM_data['RFM_score'] = RFM_data[['R_score', 'F_score', 'M_score']].apply(\n",
    "    lambda row: int(''.join(row.values.astype(str))), axis=1\n",
    ")"
   ]
  },
  {
   "cell_type": "code",
   "execution_count": 20,
   "id": "16f8cdcb-6324-4a82-84a3-66f94dfe3ac5",
   "metadata": {},
   "outputs": [
    {
     "data": {
      "text/html": [
       "<div>\n",
       "<style scoped>\n",
       "    .dataframe tbody tr th:only-of-type {\n",
       "        vertical-align: middle;\n",
       "    }\n",
       "\n",
       "    .dataframe tbody tr th {\n",
       "        vertical-align: top;\n",
       "    }\n",
       "\n",
       "    .dataframe thead th {\n",
       "        text-align: right;\n",
       "    }\n",
       "</style>\n",
       "<table border=\"1\" class=\"dataframe\">\n",
       "  <thead>\n",
       "    <tr style=\"text-align: right;\">\n",
       "      <th></th>\n",
       "      <th>customer_unique_id</th>\n",
       "      <th>recence</th>\n",
       "      <th>frequence</th>\n",
       "      <th>montant</th>\n",
       "      <th>R_score</th>\n",
       "      <th>F_score</th>\n",
       "      <th>M_score</th>\n",
       "      <th>RFM_score</th>\n",
       "    </tr>\n",
       "  </thead>\n",
       "  <tbody>\n",
       "    <tr>\n",
       "      <th>26076</th>\n",
       "      <td>5c58de6fb80e93396e2f35642666b693</td>\n",
       "      <td>-3</td>\n",
       "      <td>1</td>\n",
       "      <td>510.96</td>\n",
       "      <td>3</td>\n",
       "      <td>1</td>\n",
       "      <td>3</td>\n",
       "      <td>313</td>\n",
       "    </tr>\n",
       "    <tr>\n",
       "      <th>49731</th>\n",
       "      <td>afbcfd0b9c5233e7ccc73428526fbb52</td>\n",
       "      <td>-3</td>\n",
       "      <td>1</td>\n",
       "      <td>497.25</td>\n",
       "      <td>3</td>\n",
       "      <td>1</td>\n",
       "      <td>3</td>\n",
       "      <td>313</td>\n",
       "    </tr>\n",
       "    <tr>\n",
       "      <th>3475</th>\n",
       "      <td>0c6d7218d5f3fa14514fd29865269993</td>\n",
       "      <td>-3</td>\n",
       "      <td>1</td>\n",
       "      <td>178.25</td>\n",
       "      <td>3</td>\n",
       "      <td>1</td>\n",
       "      <td>3</td>\n",
       "      <td>313</td>\n",
       "    </tr>\n",
       "    <tr>\n",
       "      <th>1154</th>\n",
       "      <td>0421e7a23f21e5d54efed456aedbc513</td>\n",
       "      <td>-3</td>\n",
       "      <td>1</td>\n",
       "      <td>119.42</td>\n",
       "      <td>3</td>\n",
       "      <td>1</td>\n",
       "      <td>2</td>\n",
       "      <td>312</td>\n",
       "    </tr>\n",
       "    <tr>\n",
       "      <th>51155</th>\n",
       "      <td>b4dcade04bc548b7e3b0243c801f8c26</td>\n",
       "      <td>-3</td>\n",
       "      <td>1</td>\n",
       "      <td>106.95</td>\n",
       "      <td>3</td>\n",
       "      <td>1</td>\n",
       "      <td>2</td>\n",
       "      <td>312</td>\n",
       "    </tr>\n",
       "    <tr>\n",
       "      <th>...</th>\n",
       "      <td>...</td>\n",
       "      <td>...</td>\n",
       "      <td>...</td>\n",
       "      <td>...</td>\n",
       "      <td>...</td>\n",
       "      <td>...</td>\n",
       "      <td>...</td>\n",
       "      <td>...</td>\n",
       "    </tr>\n",
       "    <tr>\n",
       "      <th>45706</th>\n",
       "      <td>a1efe9a98bf03a0025efa9bc56fe9d1f</td>\n",
       "      <td>-365</td>\n",
       "      <td>1</td>\n",
       "      <td>35.00</td>\n",
       "      <td>1</td>\n",
       "      <td>1</td>\n",
       "      <td>1</td>\n",
       "      <td>111</td>\n",
       "    </tr>\n",
       "    <tr>\n",
       "      <th>53024</th>\n",
       "      <td>bb7ff07987c9bb0345b6b948478525b4</td>\n",
       "      <td>-365</td>\n",
       "      <td>1</td>\n",
       "      <td>31.75</td>\n",
       "      <td>1</td>\n",
       "      <td>1</td>\n",
       "      <td>1</td>\n",
       "      <td>111</td>\n",
       "    </tr>\n",
       "    <tr>\n",
       "      <th>35090</th>\n",
       "      <td>7c3db55121184d445bec70d421c62135</td>\n",
       "      <td>-365</td>\n",
       "      <td>1</td>\n",
       "      <td>31.38</td>\n",
       "      <td>1</td>\n",
       "      <td>1</td>\n",
       "      <td>1</td>\n",
       "      <td>111</td>\n",
       "    </tr>\n",
       "    <tr>\n",
       "      <th>69236</th>\n",
       "      <td>f514fa8c60b510de4c90242e86801717</td>\n",
       "      <td>-365</td>\n",
       "      <td>1</td>\n",
       "      <td>31.10</td>\n",
       "      <td>1</td>\n",
       "      <td>1</td>\n",
       "      <td>1</td>\n",
       "      <td>111</td>\n",
       "    </tr>\n",
       "    <tr>\n",
       "      <th>39949</th>\n",
       "      <td>8dfb24fac32ec7170821d2be63fa9c1c</td>\n",
       "      <td>-365</td>\n",
       "      <td>1</td>\n",
       "      <td>17.85</td>\n",
       "      <td>1</td>\n",
       "      <td>1</td>\n",
       "      <td>1</td>\n",
       "      <td>111</td>\n",
       "    </tr>\n",
       "  </tbody>\n",
       "</table>\n",
       "<p>72247 rows × 8 columns</p>\n",
       "</div>"
      ],
      "text/plain": [
       "                     customer_unique_id  recence  frequence  montant  R_score  \\\n",
       "26076  5c58de6fb80e93396e2f35642666b693       -3          1   510.96        3   \n",
       "49731  afbcfd0b9c5233e7ccc73428526fbb52       -3          1   497.25        3   \n",
       "3475   0c6d7218d5f3fa14514fd29865269993       -3          1   178.25        3   \n",
       "1154   0421e7a23f21e5d54efed456aedbc513       -3          1   119.42        3   \n",
       "51155  b4dcade04bc548b7e3b0243c801f8c26       -3          1   106.95        3   \n",
       "...                                 ...      ...        ...      ...      ...   \n",
       "45706  a1efe9a98bf03a0025efa9bc56fe9d1f     -365          1    35.00        1   \n",
       "53024  bb7ff07987c9bb0345b6b948478525b4     -365          1    31.75        1   \n",
       "35090  7c3db55121184d445bec70d421c62135     -365          1    31.38        1   \n",
       "69236  f514fa8c60b510de4c90242e86801717     -365          1    31.10        1   \n",
       "39949  8dfb24fac32ec7170821d2be63fa9c1c     -365          1    17.85        1   \n",
       "\n",
       "       F_score  M_score  RFM_score  \n",
       "26076        1        3        313  \n",
       "49731        1        3        313  \n",
       "3475         1        3        313  \n",
       "1154         1        2        312  \n",
       "51155        1        2        312  \n",
       "...        ...      ...        ...  \n",
       "45706        1        1        111  \n",
       "53024        1        1        111  \n",
       "35090        1        1        111  \n",
       "69236        1        1        111  \n",
       "39949        1        1        111  \n",
       "\n",
       "[72247 rows x 8 columns]"
      ]
     },
     "execution_count": 20,
     "metadata": {},
     "output_type": "execute_result"
    }
   ],
   "source": [
    "RFM_data.sort_values(['recence', 'frequence', 'montant'], ascending=False)"
   ]
  },
  {
   "cell_type": "markdown",
   "id": "3ad6501b-e47c-45e5-b349-883cd0141772",
   "metadata": {},
   "source": [
    "## 1.5 Interprétation  <a class=\"anchor\" id=\"rfm_interpretation\"></a> [⇪](#menu)"
   ]
  },
  {
   "cell_type": "code",
   "execution_count": 21,
   "id": "c0203c07-eee8-486c-b6a5-622609793111",
   "metadata": {},
   "outputs": [
    {
     "data": {
      "text/plain": [
       "RFM_score\n",
       "111    8011\n",
       "112    7962\n",
       "113    7491\n",
       "131      20\n",
       "132     204\n",
       "133     606\n",
       "211    8114\n",
       "212    7525\n",
       "213    7561\n",
       "231      34\n",
       "232     140\n",
       "233     502\n",
       "311    7914\n",
       "312    8158\n",
       "313    7717\n",
       "331      11\n",
       "332      73\n",
       "333     204\n",
       "dtype: int64"
      ]
     },
     "execution_count": 21,
     "metadata": {},
     "output_type": "execute_result"
    }
   ],
   "source": [
    "RFM_groups_size = RFM_data.groupby('RFM_score').size()\n",
    "RFM_groups_size"
   ]
  },
  {
   "cell_type": "markdown",
   "id": "142fbb03-9936-42b5-bf6b-16e44194450d",
   "metadata": {},
   "source": [
    ">#### On pourrait les intérpêter comme suit:\n",
    ">\n",
    "> **Champions** | RFM_score = **333**\n",
    ">> A acheté récemment, achète souvent et dépense le plus.<br>\n",
    ">> Récompensez-les. Ils peuvent devenir des early adopters de vos nouveaux produits. Ils vont promouvoir votre marque.\n",
    ">\n",
    "> **Clients fidèles** | RFM_score = **233** ou **332**\n",
    ">> Dépense pas mal d’argent et assez souvent. Sensible aux promotions.<br>\n",
    ">> Proposez-leur des produits de gamme supérieure (up-sell). Demandez-leur des feedbacks. Engagez-les.\n",
    ">\n",
    "> **Clients récents**  | RFM_score = **313**, **312** ou **311**\n",
    ">> A acheté récemment mais n’achète pas souvent.<br>\n",
    ">> Envoyez-leur un programme d’onboarding. Construisez une relation clients.\n",
    ">\n",
    "> **Clients à risque** | RFM_score = **133**\n",
    ">> A dépensé beaucoup d’argent et acheté souvent... mais il y a très longtemps. Vous devez les faire revenir à vous !<br>\n",
    ">> Envoyez-leur des emails personnalisés pour reconnecter avec eux. Offrez-leur des promotions sur leur renouvellement. Fournissez-leur des ressources utiles.\n",
    ">\n",
    "> **Clients que vous ne devez pas perdre** | RFM_score = **123** ou **132**\n",
    ">> A fait les plus gros achats et acheté souvent. Mais cela fait un moment qu’il n’a plus racheté.<br>\n",
    ">> Reconquérez-les avec des promotions ou des nouveaux produits. Ne les laissez pas partir chez la concurrence, parlez-leur.\n",
    ">\n",
    "> **Clients en hibernation** | RFM_score = **112** ou **113**\n",
    ">> Son dernier achat remonte à il y a moment... Ne dépense pas beaucoup et pas souvent du tout.<br>\n",
    ">> Offrez-leur des promotions spéciales, présentez-leur des produits pertinents. Recréez de la brand value.\n",
    ">\n",
    "> **Clients perdus** | RFM_score = **111**\n",
    ">> A les plus faibles scores en Récence, Fréquence et Montant.<br>\n",
    ">> Essayez de réveiller leur intérêt avec une campagne, sinon laissez tomber."
   ]
  },
  {
   "cell_type": "markdown",
   "id": "ab4b3f30-c91c-417f-9354-dbe86d910a0e",
   "metadata": {},
   "source": [
    "#### Enfin, on peut afficher ces groupes sous forme de `treemap`"
   ]
  },
  {
   "cell_type": "code",
   "execution_count": 22,
   "id": "6cb16d2d-ba09-4fed-accc-77638e2ece0e",
   "metadata": {},
   "outputs": [
    {
     "data": {
      "image/png": "[encoded data removed]",
      "text/plain": [
       "<Figure size 1080x720 with 1 Axes>"
      ]
     },
     "metadata": {
      "needs_background": "light"
     },
     "output_type": "display_data"
    }
   ],
   "source": [
    "fig = plt.figure(figsize=(15, 10))\n",
    "ax = squarify.plot(sizes=RFM_groups_size, label=RFM_groups_size.keys(), alpha=0.6 )\n",
    "ax.axes.xaxis.set_visible(False)\n",
    "ax.axes.yaxis.set_visible(False)\n",
    "plt.show()"
   ]
  },
  {
   "cell_type": "markdown",
   "id": "bb81c434-aa75-4e2b-a32b-6db8e7e55cf7",
   "metadata": {},
   "source": [
    "## 1.6 Conclusion  <a class=\"anchor\" id=\"rfm_conclusion\"></a> [⇪](#menu)"
   ]
  },
  {
   "cell_type": "markdown",
   "id": "51d9fa2e-a75c-408a-9987-b9e75858ab12",
   "metadata": {},
   "source": [
    "> #### Dans le cas présent, la méthode RFM ne semble pas adaptée.\n",
    "> En effet, les scores de Fréquence sont difficile à découper en raison du trop grand nombre de clients qui ne font qu'un seul achat.<br>\n",
    "> Il semble donc plus approprié de se diriger vers des méthodes de ségmentation non-supervisées telles que `KMeans`, `DBScan` ou le `Hierarchical Clustering`."
   ]
  },
  {
   "cell_type": "markdown",
   "id": "00922be8-78b6-4b19-8b9e-b99c363746f3",
   "metadata": {},
   "source": [
    "---\n",
    "# 2. Feature Engineering <a class=\"anchor\" id=\"fe\"></a> [⇪](#menu)"
   ]
  },
  {
   "cell_type": "markdown",
   "id": "e7c9c28d-f0e1-43b2-aa4e-cd7a5416bad0",
   "metadata": {},
   "source": [
    ">#### Nous avons vu avec la ségmentation RFM que si les variables `Recense` et `Montant` peuvent être utile au découpage des groupes, il n'en est pas de même pour la variable `Fréquence` que nous devons mettre de coté."
   ]
  },
  {
   "cell_type": "markdown",
   "id": "68a888c7-24fa-43a4-abbb-373ab2beddfe",
   "metadata": {},
   "source": [
    "## 2.1 Regardons comment se répartissent nos clients avec ces deux seules variables..."
   ]
  },
  {
   "cell_type": "code",
   "execution_count": 23,
   "id": "999d2dd4-5ee2-4ee6-9729-5735cfe5c549",
   "metadata": {},
   "outputs": [
    {
     "data": {
      "image/png": "[encoded data removed]",
      "text/plain": [
       "<Figure size 1080x504 with 1 Axes>"
      ]
     },
     "metadata": {
      "needs_background": "light"
     },
     "output_type": "display_data"
    }
   ],
   "source": [
    "fig = plt.figure(figsize=(15, 7))\n",
    "sns.scatterplot(x=RFM_data['recence'], y=RFM_data['montant'])\n",
    "plt.show()"
   ]
  },
  {
   "cell_type": "markdown",
   "id": "385ff510-29e8-42fd-ad8e-f6bd1a88fcbd",
   "metadata": {},
   "source": [
    ">#### Il va être difficile de ségmenter correctement avec seulement ces 2 variables\n",
    "> *(le plus probable est de voir apparaitre une ségmentation sur un seul axe)*.\n",
    "> \n",
    "> Il va donc falloir compléter le jeu de données avec plus de variables issues de nos 9 jeux de données initiaux, ou encore créer de nouvelles variables utiles."
   ]
  },
  {
   "cell_type": "markdown",
   "id": "c5d1c370-5388-47e1-a08d-9f8853dc875f",
   "metadata": {},
   "source": [
    "## 2.2 Ajoutons d'autres variables pour aider à créer des clusters"
   ]
  },
  {
   "cell_type": "markdown",
   "id": "7629639d-bc5b-425c-907a-1ca1c5ce4cc6",
   "metadata": {},
   "source": [
    "#### Préparons une table de référence qui nous permettra de faire les jointures sur toutes les tables utiles "
   ]
  },
  {
   "cell_type": "code",
   "execution_count": 24,
   "id": "f683bfe1-37aa-434c-83ce-c82f2ff2734a",
   "metadata": {},
   "outputs": [
    {
     "data": {
      "text/html": [
       "<div>\n",
       "<style scoped>\n",
       "    .dataframe tbody tr th:only-of-type {\n",
       "        vertical-align: middle;\n",
       "    }\n",
       "\n",
       "    .dataframe tbody tr th {\n",
       "        vertical-align: top;\n",
       "    }\n",
       "\n",
       "    .dataframe thead th {\n",
       "        text-align: right;\n",
       "    }\n",
       "</style>\n",
       "<table border=\"1\" class=\"dataframe\">\n",
       "  <thead>\n",
       "    <tr style=\"text-align: right;\">\n",
       "      <th></th>\n",
       "      <th>order_id</th>\n",
       "      <th>customer_id</th>\n",
       "      <th>customer_unique_id</th>\n",
       "    </tr>\n",
       "  </thead>\n",
       "  <tbody>\n",
       "    <tr>\n",
       "      <th>0</th>\n",
       "      <td>e481f51cbdc54678b7cc49136f2d6af7</td>\n",
       "      <td>9ef432eb6251297304e76186b10a928d</td>\n",
       "      <td>7c396fd4830fd04220f754e42b4e5bff</td>\n",
       "    </tr>\n",
       "    <tr>\n",
       "      <th>1</th>\n",
       "      <td>53cdb2fc8bc7dce0b6741e2150273451</td>\n",
       "      <td>b0830fb4747a6c6d20dea0b8c802d7ef</td>\n",
       "      <td>af07308b275d755c9edb36a90c618231</td>\n",
       "    </tr>\n",
       "  </tbody>\n",
       "</table>\n",
       "</div>"
      ],
      "text/plain": [
       "                           order_id                       customer_id  \\\n",
       "0  e481f51cbdc54678b7cc49136f2d6af7  9ef432eb6251297304e76186b10a928d   \n",
       "1  53cdb2fc8bc7dce0b6741e2150273451  b0830fb4747a6c6d20dea0b8c802d7ef   \n",
       "\n",
       "                 customer_unique_id  \n",
       "0  7c396fd4830fd04220f754e42b4e5bff  \n",
       "1  af07308b275d755c9edb36a90c618231  "
      ]
     },
     "execution_count": 24,
     "metadata": {},
     "output_type": "execute_result"
    }
   ],
   "source": [
    "data_base_join = selection2[['order_id', 'customer_id', 'customer_unique_id']]\n",
    "data_base_join.head(2)"
   ]
  },
  {
   "cell_type": "code",
   "execution_count": 25,
   "id": "b0713ad8-657c-4731-b125-61b202d3dda1",
   "metadata": {},
   "outputs": [
    {
     "data": {
      "text/plain": [
       "(74213, 3)"
      ]
     },
     "execution_count": 25,
     "metadata": {},
     "output_type": "execute_result"
    }
   ],
   "source": [
    "data_base_join.shape"
   ]
  },
  {
   "cell_type": "markdown",
   "id": "1fa32f65-b47d-4c4b-8422-c53850104dcf",
   "metadata": {},
   "source": [
    "#### Préparons notre nouveau jeu de données avec les colonnes `Recence` et `Montant` du RFM\n",
    "> C'est à cette nouvelle table que l'on va ajouter petit à petit les variables que l'on va préparer ou récupèrer des autres datasets"
   ]
  },
  {
   "cell_type": "code",
   "execution_count": 26,
   "id": "e7983072-2acf-4c1e-87a6-d35d61e88290",
   "metadata": {},
   "outputs": [
    {
     "data": {
      "text/html": [
       "<div>\n",
       "<style scoped>\n",
       "    .dataframe tbody tr th:only-of-type {\n",
       "        vertical-align: middle;\n",
       "    }\n",
       "\n",
       "    .dataframe tbody tr th {\n",
       "        vertical-align: top;\n",
       "    }\n",
       "\n",
       "    .dataframe thead th {\n",
       "        text-align: right;\n",
       "    }\n",
       "</style>\n",
       "<table border=\"1\" class=\"dataframe\">\n",
       "  <thead>\n",
       "    <tr style=\"text-align: right;\">\n",
       "      <th></th>\n",
       "      <th>customer_unique_id</th>\n",
       "      <th>recence</th>\n",
       "      <th>montant</th>\n",
       "    </tr>\n",
       "  </thead>\n",
       "  <tbody>\n",
       "    <tr>\n",
       "      <th>0</th>\n",
       "      <td>7c396fd4830fd04220f754e42b4e5bff</td>\n",
       "      <td>-362</td>\n",
       "      <td>82.82</td>\n",
       "    </tr>\n",
       "    <tr>\n",
       "      <th>1</th>\n",
       "      <td>af07308b275d755c9edb36a90c618231</td>\n",
       "      <td>-39</td>\n",
       "      <td>141.46</td>\n",
       "    </tr>\n",
       "  </tbody>\n",
       "</table>\n",
       "</div>"
      ],
      "text/plain": [
       "                 customer_unique_id  recence  montant\n",
       "0  7c396fd4830fd04220f754e42b4e5bff     -362    82.82\n",
       "1  af07308b275d755c9edb36a90c618231      -39   141.46"
      ]
     },
     "execution_count": 26,
     "metadata": {},
     "output_type": "execute_result"
    }
   ],
   "source": [
    "data_clustering = data_base_join[['customer_unique_id']].merge(\n",
    "        RFM_data[['customer_unique_id', 'recence', 'montant']],\n",
    "        on='customer_unique_id', how='left'\n",
    "    )\n",
    "data_clustering.head(2)"
   ]
  },
  {
   "cell_type": "code",
   "execution_count": 27,
   "id": "a5482e90-69fd-4b42-875f-301498fbf9ab",
   "metadata": {},
   "outputs": [
    {
     "data": {
      "text/plain": [
       "(74213, 3)"
      ]
     },
     "execution_count": 27,
     "metadata": {},
     "output_type": "execute_result"
    }
   ],
   "source": [
    "data_clustering.shape"
   ]
  },
  {
   "cell_type": "markdown",
   "id": "f5c9cbc3-7870-45f5-963b-04bc8e165581",
   "metadata": {},
   "source": [
    "### `olist_order_reviews_dataset.csv`\n",
    "> ajoutons **les notes** données aux commandes par les clients et **le temps de réponse** à l'enquête de satisfaction *(que nous avions calculés lors de l'EDA)*."
   ]
  },
  {
   "cell_type": "markdown",
   "id": "9d310106-f927-4e30-9795-b5dbb791ed65",
   "metadata": {},
   "source": [
    "#### Nous allons d'abord récupèrer ces variables `par commande`"
   ]
  },
  {
   "cell_type": "code",
   "execution_count": 28,
   "id": "fd5647e9-cb1b-4e0d-b5c6-d4e219af3f60",
   "metadata": {},
   "outputs": [
    {
     "data": {
      "text/plain": [
       "(74213, 5)"
      ]
     },
     "execution_count": 28,
     "metadata": {},
     "output_type": "execute_result"
    }
   ],
   "source": [
    "data_fe1 = data_base_join.merge(\n",
    "        data_reviews[['order_id', 'review_score', 'answer_days']].groupby('order_id').last(), \n",
    "        on='order_id', how='left'\n",
    "    )\n",
    "data_fe1.shape"
   ]
  },
  {
   "cell_type": "code",
   "execution_count": 29,
   "id": "1385a28f-c124-4e2c-b46b-571087aef963",
   "metadata": {},
   "outputs": [
    {
     "data": {
      "text/html": [
       "<div>\n",
       "<style scoped>\n",
       "    .dataframe tbody tr th:only-of-type {\n",
       "        vertical-align: middle;\n",
       "    }\n",
       "\n",
       "    .dataframe tbody tr th {\n",
       "        vertical-align: top;\n",
       "    }\n",
       "\n",
       "    .dataframe thead th {\n",
       "        text-align: right;\n",
       "    }\n",
       "</style>\n",
       "<table border=\"1\" class=\"dataframe\">\n",
       "  <thead>\n",
       "    <tr style=\"text-align: right;\">\n",
       "      <th></th>\n",
       "      <th>order_id</th>\n",
       "      <th>customer_id</th>\n",
       "      <th>customer_unique_id</th>\n",
       "      <th>review_score</th>\n",
       "      <th>answer_days</th>\n",
       "    </tr>\n",
       "  </thead>\n",
       "  <tbody>\n",
       "    <tr>\n",
       "      <th>0</th>\n",
       "      <td>e481f51cbdc54678b7cc49136f2d6af7</td>\n",
       "      <td>9ef432eb6251297304e76186b10a928d</td>\n",
       "      <td>7c396fd4830fd04220f754e42b4e5bff</td>\n",
       "      <td>4.0</td>\n",
       "      <td>1.0</td>\n",
       "    </tr>\n",
       "    <tr>\n",
       "      <th>1</th>\n",
       "      <td>53cdb2fc8bc7dce0b6741e2150273451</td>\n",
       "      <td>b0830fb4747a6c6d20dea0b8c802d7ef</td>\n",
       "      <td>af07308b275d755c9edb36a90c618231</td>\n",
       "      <td>4.0</td>\n",
       "      <td>0.0</td>\n",
       "    </tr>\n",
       "  </tbody>\n",
       "</table>\n",
       "</div>"
      ],
      "text/plain": [
       "                           order_id                       customer_id  \\\n",
       "0  e481f51cbdc54678b7cc49136f2d6af7  9ef432eb6251297304e76186b10a928d   \n",
       "1  53cdb2fc8bc7dce0b6741e2150273451  b0830fb4747a6c6d20dea0b8c802d7ef   \n",
       "\n",
       "                 customer_unique_id  review_score  answer_days  \n",
       "0  7c396fd4830fd04220f754e42b4e5bff           4.0          1.0  \n",
       "1  af07308b275d755c9edb36a90c618231           4.0          0.0  "
      ]
     },
     "execution_count": 29,
     "metadata": {},
     "output_type": "execute_result"
    }
   ],
   "source": [
    "data_fe1.head(2)"
   ]
  },
  {
   "cell_type": "markdown",
   "id": "09da8e9d-29cb-443e-b829-40cbd2a9a25f",
   "metadata": {},
   "source": [
    "#### Puis en faire la moyenne `par client`"
   ]
  },
  {
   "cell_type": "code",
   "execution_count": 30,
   "id": "41fde4eb-3519-498d-9ac4-41ee60bc95b1",
   "metadata": {},
   "outputs": [
    {
     "data": {
      "text/html": [
       "<div>\n",
       "<style scoped>\n",
       "    .dataframe tbody tr th:only-of-type {\n",
       "        vertical-align: middle;\n",
       "    }\n",
       "\n",
       "    .dataframe tbody tr th {\n",
       "        vertical-align: top;\n",
       "    }\n",
       "\n",
       "    .dataframe thead th {\n",
       "        text-align: right;\n",
       "    }\n",
       "</style>\n",
       "<table border=\"1\" class=\"dataframe\">\n",
       "  <thead>\n",
       "    <tr style=\"text-align: right;\">\n",
       "      <th></th>\n",
       "      <th>customer_unique_id</th>\n",
       "      <th>review_score</th>\n",
       "      <th>answer_days</th>\n",
       "    </tr>\n",
       "  </thead>\n",
       "  <tbody>\n",
       "    <tr>\n",
       "      <th>0</th>\n",
       "      <td>0000366f3b9a7992bf8c76cfdf3221e2</td>\n",
       "      <td>5.0</td>\n",
       "      <td>4.0</td>\n",
       "    </tr>\n",
       "    <tr>\n",
       "      <th>1</th>\n",
       "      <td>0000b849f77a49e4a4ce2b2a4ca5be3f</td>\n",
       "      <td>4.0</td>\n",
       "      <td>0.0</td>\n",
       "    </tr>\n",
       "  </tbody>\n",
       "</table>\n",
       "</div>"
      ],
      "text/plain": [
       "                 customer_unique_id  review_score  answer_days\n",
       "0  0000366f3b9a7992bf8c76cfdf3221e2           5.0          4.0\n",
       "1  0000b849f77a49e4a4ce2b2a4ca5be3f           4.0          0.0"
      ]
     },
     "execution_count": 30,
     "metadata": {},
     "output_type": "execute_result"
    }
   ],
   "source": [
    "data_fe2 = data_fe1.groupby('customer_unique_id').mean().reset_index()\n",
    "data_fe2.head(2)"
   ]
  },
  {
   "cell_type": "code",
   "execution_count": 31,
   "id": "40e8e835-2a7c-443b-b29d-951679816e7e",
   "metadata": {},
   "outputs": [
    {
     "data": {
      "text/plain": [
       "(72247, 3)"
      ]
     },
     "execution_count": 31,
     "metadata": {},
     "output_type": "execute_result"
    }
   ],
   "source": [
    "data_fe2.shape"
   ]
  },
  {
   "cell_type": "markdown",
   "id": "2e65baa3-d46b-4eeb-82f1-4c6ece2f085b",
   "metadata": {},
   "source": [
    "#### On vérifie que l'on a pas perdu ou ajouté de lignes dans les jointures..."
   ]
  },
  {
   "cell_type": "code",
   "execution_count": 32,
   "id": "07765d53-e961-4525-b99d-80edf89f19b6",
   "metadata": {},
   "outputs": [
    {
     "data": {
      "text/plain": [
       "72247"
      ]
     },
     "execution_count": 32,
     "metadata": {},
     "output_type": "execute_result"
    }
   ],
   "source": [
    "selection2.customer_unique_id.nunique()"
   ]
  },
  {
   "cell_type": "markdown",
   "id": "f44b7ec5-ff49-4912-9f5f-d15e8b63eb87",
   "metadata": {},
   "source": [
    "#### On applique les nouvelles valeurs sur le jeu de données `data_clustering`"
   ]
  },
  {
   "cell_type": "code",
   "execution_count": 33,
   "id": "6afe19db-c1a6-4870-8c7b-ec0816c17123",
   "metadata": {},
   "outputs": [
    {
     "data": {
      "text/html": [
       "<div>\n",
       "<style scoped>\n",
       "    .dataframe tbody tr th:only-of-type {\n",
       "        vertical-align: middle;\n",
       "    }\n",
       "\n",
       "    .dataframe tbody tr th {\n",
       "        vertical-align: top;\n",
       "    }\n",
       "\n",
       "    .dataframe thead th {\n",
       "        text-align: right;\n",
       "    }\n",
       "</style>\n",
       "<table border=\"1\" class=\"dataframe\">\n",
       "  <thead>\n",
       "    <tr style=\"text-align: right;\">\n",
       "      <th></th>\n",
       "      <th>customer_unique_id</th>\n",
       "      <th>recence</th>\n",
       "      <th>montant</th>\n",
       "      <th>review_score</th>\n",
       "      <th>answer_days</th>\n",
       "    </tr>\n",
       "  </thead>\n",
       "  <tbody>\n",
       "    <tr>\n",
       "      <th>0</th>\n",
       "      <td>7c396fd4830fd04220f754e42b4e5bff</td>\n",
       "      <td>-362</td>\n",
       "      <td>82.82</td>\n",
       "      <td>4.5</td>\n",
       "      <td>1.0</td>\n",
       "    </tr>\n",
       "    <tr>\n",
       "      <th>1</th>\n",
       "      <td>af07308b275d755c9edb36a90c618231</td>\n",
       "      <td>-39</td>\n",
       "      <td>141.46</td>\n",
       "      <td>4.0</td>\n",
       "      <td>0.0</td>\n",
       "    </tr>\n",
       "  </tbody>\n",
       "</table>\n",
       "</div>"
      ],
      "text/plain": [
       "                 customer_unique_id  recence  montant  review_score  \\\n",
       "0  7c396fd4830fd04220f754e42b4e5bff     -362    82.82           4.5   \n",
       "1  af07308b275d755c9edb36a90c618231      -39   141.46           4.0   \n",
       "\n",
       "   answer_days  \n",
       "0          1.0  \n",
       "1          0.0  "
      ]
     },
     "execution_count": 33,
     "metadata": {},
     "output_type": "execute_result"
    }
   ],
   "source": [
    "data_clustering = data_clustering.merge(data_fe2, on='customer_unique_id', how='left')\n",
    "data_clustering.head(2)"
   ]
  },
  {
   "cell_type": "code",
   "execution_count": 34,
   "id": "4ad61283-c474-4397-9710-1ff67a235845",
   "metadata": {},
   "outputs": [
    {
     "data": {
      "text/plain": [
       "(74213, 5)"
      ]
     },
     "execution_count": 34,
     "metadata": {},
     "output_type": "execute_result"
    }
   ],
   "source": [
    "data_clustering.shape"
   ]
  },
  {
   "cell_type": "markdown",
   "id": "6b169f10-14c1-4a7c-b5cb-759212f99842",
   "metadata": {},
   "source": [
    "### `olist_order_items_dataset.csv`\n",
    "> ajoutons **le nombre moyen de produits** et le **le nombre total de produits** commandé par client"
   ]
  },
  {
   "cell_type": "markdown",
   "id": "c438d241-f00f-467a-a5ee-1f85d556e49e",
   "metadata": {},
   "source": [
    "#### Nous allons d'abord récupèrer ces variables `par commande`"
   ]
  },
  {
   "cell_type": "code",
   "execution_count": 35,
   "id": "9a6a32ab-00fa-4d81-81b2-d38f202397ec",
   "metadata": {},
   "outputs": [
    {
     "data": {
      "text/html": [
       "<div>\n",
       "<style scoped>\n",
       "    .dataframe tbody tr th:only-of-type {\n",
       "        vertical-align: middle;\n",
       "    }\n",
       "\n",
       "    .dataframe tbody tr th {\n",
       "        vertical-align: top;\n",
       "    }\n",
       "\n",
       "    .dataframe thead th {\n",
       "        text-align: right;\n",
       "    }\n",
       "</style>\n",
       "<table border=\"1\" class=\"dataframe\">\n",
       "  <thead>\n",
       "    <tr style=\"text-align: right;\">\n",
       "      <th></th>\n",
       "      <th>order_id</th>\n",
       "      <th>order_item_id</th>\n",
       "    </tr>\n",
       "  </thead>\n",
       "  <tbody>\n",
       "    <tr>\n",
       "      <th>0</th>\n",
       "      <td>00010242fe8c5a6d1ba2dd792cb16214</td>\n",
       "      <td>1</td>\n",
       "    </tr>\n",
       "    <tr>\n",
       "      <th>1</th>\n",
       "      <td>00018f77f2f0320c557190d7a144bdd3</td>\n",
       "      <td>1</td>\n",
       "    </tr>\n",
       "  </tbody>\n",
       "</table>\n",
       "</div>"
      ],
      "text/plain": [
       "                           order_id  order_item_id\n",
       "0  00010242fe8c5a6d1ba2dd792cb16214              1\n",
       "1  00018f77f2f0320c557190d7a144bdd3              1"
      ]
     },
     "execution_count": 35,
     "metadata": {},
     "output_type": "execute_result"
    }
   ],
   "source": [
    "data_fe = data_items.groupby('order_id').last()[['order_item_id']].reset_index()\n",
    "data_fe.head(2)"
   ]
  },
  {
   "cell_type": "code",
   "execution_count": 36,
   "id": "c4faa25a-da94-4552-807a-31e6c3079f1c",
   "metadata": {},
   "outputs": [
    {
     "data": {
      "text/html": [
       "<div>\n",
       "<style scoped>\n",
       "    .dataframe tbody tr th:only-of-type {\n",
       "        vertical-align: middle;\n",
       "    }\n",
       "\n",
       "    .dataframe tbody tr th {\n",
       "        vertical-align: top;\n",
       "    }\n",
       "\n",
       "    .dataframe thead th {\n",
       "        text-align: right;\n",
       "    }\n",
       "</style>\n",
       "<table border=\"1\" class=\"dataframe\">\n",
       "  <thead>\n",
       "    <tr style=\"text-align: right;\">\n",
       "      <th></th>\n",
       "      <th>order_id</th>\n",
       "      <th>customer_id</th>\n",
       "      <th>customer_unique_id</th>\n",
       "      <th>order_item_id</th>\n",
       "    </tr>\n",
       "  </thead>\n",
       "  <tbody>\n",
       "    <tr>\n",
       "      <th>0</th>\n",
       "      <td>e481f51cbdc54678b7cc49136f2d6af7</td>\n",
       "      <td>9ef432eb6251297304e76186b10a928d</td>\n",
       "      <td>7c396fd4830fd04220f754e42b4e5bff</td>\n",
       "      <td>1</td>\n",
       "    </tr>\n",
       "    <tr>\n",
       "      <th>1</th>\n",
       "      <td>53cdb2fc8bc7dce0b6741e2150273451</td>\n",
       "      <td>b0830fb4747a6c6d20dea0b8c802d7ef</td>\n",
       "      <td>af07308b275d755c9edb36a90c618231</td>\n",
       "      <td>1</td>\n",
       "    </tr>\n",
       "  </tbody>\n",
       "</table>\n",
       "</div>"
      ],
      "text/plain": [
       "                           order_id                       customer_id  \\\n",
       "0  e481f51cbdc54678b7cc49136f2d6af7  9ef432eb6251297304e76186b10a928d   \n",
       "1  53cdb2fc8bc7dce0b6741e2150273451  b0830fb4747a6c6d20dea0b8c802d7ef   \n",
       "\n",
       "                 customer_unique_id  order_item_id  \n",
       "0  7c396fd4830fd04220f754e42b4e5bff              1  \n",
       "1  af07308b275d755c9edb36a90c618231              1  "
      ]
     },
     "execution_count": 36,
     "metadata": {},
     "output_type": "execute_result"
    }
   ],
   "source": [
    "data_fe = data_base_join.merge(data_fe, on='order_id', how='left')\n",
    "data_fe.head(2)"
   ]
  },
  {
   "cell_type": "code",
   "execution_count": 37,
   "id": "458bc6b5-a18c-451d-bd3c-ace846b628e4",
   "metadata": {},
   "outputs": [
    {
     "data": {
      "text/plain": [
       "(74213, 4)"
      ]
     },
     "execution_count": 37,
     "metadata": {},
     "output_type": "execute_result"
    }
   ],
   "source": [
    "data_fe.shape"
   ]
  },
  {
   "cell_type": "markdown",
   "id": "4ffb74df-709a-447a-9ab8-c7335a9741dc",
   "metadata": {},
   "source": [
    "#### Puis en faire la moyenne `par client`"
   ]
  },
  {
   "cell_type": "code",
   "execution_count": 38,
   "id": "40b040c2-7055-469e-9602-18376d4cb349",
   "metadata": {},
   "outputs": [
    {
     "data": {
      "text/html": [
       "<div>\n",
       "<style scoped>\n",
       "    .dataframe tbody tr th:only-of-type {\n",
       "        vertical-align: middle;\n",
       "    }\n",
       "\n",
       "    .dataframe tbody tr th {\n",
       "        vertical-align: top;\n",
       "    }\n",
       "\n",
       "    .dataframe thead th {\n",
       "        text-align: right;\n",
       "    }\n",
       "</style>\n",
       "<table border=\"1\" class=\"dataframe\">\n",
       "  <thead>\n",
       "    <tr style=\"text-align: right;\">\n",
       "      <th></th>\n",
       "      <th>customer_unique_id</th>\n",
       "      <th>mean_items</th>\n",
       "    </tr>\n",
       "  </thead>\n",
       "  <tbody>\n",
       "    <tr>\n",
       "      <th>0</th>\n",
       "      <td>0000366f3b9a7992bf8c76cfdf3221e2</td>\n",
       "      <td>1.0</td>\n",
       "    </tr>\n",
       "    <tr>\n",
       "      <th>1</th>\n",
       "      <td>0000b849f77a49e4a4ce2b2a4ca5be3f</td>\n",
       "      <td>1.0</td>\n",
       "    </tr>\n",
       "  </tbody>\n",
       "</table>\n",
       "</div>"
      ],
      "text/plain": [
       "                 customer_unique_id  mean_items\n",
       "0  0000366f3b9a7992bf8c76cfdf3221e2         1.0\n",
       "1  0000b849f77a49e4a4ce2b2a4ca5be3f         1.0"
      ]
     },
     "execution_count": 38,
     "metadata": {},
     "output_type": "execute_result"
    }
   ],
   "source": [
    "data_fe2 = data_fe.groupby('customer_unique_id').mean().reset_index()\n",
    "data_fe2.rename(columns={'order_item_id': 'mean_items'}, inplace=True)\n",
    "data_fe2.head(2)"
   ]
  },
  {
   "cell_type": "code",
   "execution_count": 39,
   "id": "3304f986-af59-4f4d-82ab-1574be7ca049",
   "metadata": {},
   "outputs": [
    {
     "data": {
      "text/html": [
       "<div>\n",
       "<style scoped>\n",
       "    .dataframe tbody tr th:only-of-type {\n",
       "        vertical-align: middle;\n",
       "    }\n",
       "\n",
       "    .dataframe tbody tr th {\n",
       "        vertical-align: top;\n",
       "    }\n",
       "\n",
       "    .dataframe thead th {\n",
       "        text-align: right;\n",
       "    }\n",
       "</style>\n",
       "<table border=\"1\" class=\"dataframe\">\n",
       "  <thead>\n",
       "    <tr style=\"text-align: right;\">\n",
       "      <th></th>\n",
       "      <th>count</th>\n",
       "      <th>mean</th>\n",
       "      <th>std</th>\n",
       "      <th>min</th>\n",
       "      <th>25%</th>\n",
       "      <th>50%</th>\n",
       "      <th>75%</th>\n",
       "      <th>max</th>\n",
       "    </tr>\n",
       "  </thead>\n",
       "  <tbody>\n",
       "    <tr>\n",
       "      <th>mean_items</th>\n",
       "      <td>72247.0</td>\n",
       "      <td>1.141812</td>\n",
       "      <td>0.533297</td>\n",
       "      <td>1.0</td>\n",
       "      <td>1.0</td>\n",
       "      <td>1.0</td>\n",
       "      <td>1.0</td>\n",
       "      <td>20.0</td>\n",
       "    </tr>\n",
       "  </tbody>\n",
       "</table>\n",
       "</div>"
      ],
      "text/plain": [
       "              count      mean       std  min  25%  50%  75%   max\n",
       "mean_items  72247.0  1.141812  0.533297  1.0  1.0  1.0  1.0  20.0"
      ]
     },
     "execution_count": 39,
     "metadata": {},
     "output_type": "execute_result"
    }
   ],
   "source": [
    "data_fe2.describe().T"
   ]
  },
  {
   "cell_type": "code",
   "execution_count": 40,
   "id": "e1756285-9abc-445d-9fd1-aba1f9b7186b",
   "metadata": {},
   "outputs": [
    {
     "data": {
      "text/html": [
       "<div>\n",
       "<style scoped>\n",
       "    .dataframe tbody tr th:only-of-type {\n",
       "        vertical-align: middle;\n",
       "    }\n",
       "\n",
       "    .dataframe tbody tr th {\n",
       "        vertical-align: top;\n",
       "    }\n",
       "\n",
       "    .dataframe thead th {\n",
       "        text-align: right;\n",
       "    }\n",
       "</style>\n",
       "<table border=\"1\" class=\"dataframe\">\n",
       "  <thead>\n",
       "    <tr style=\"text-align: right;\">\n",
       "      <th></th>\n",
       "      <th>customer_unique_id</th>\n",
       "      <th>total_items</th>\n",
       "    </tr>\n",
       "  </thead>\n",
       "  <tbody>\n",
       "    <tr>\n",
       "      <th>0</th>\n",
       "      <td>0000366f3b9a7992bf8c76cfdf3221e2</td>\n",
       "      <td>1</td>\n",
       "    </tr>\n",
       "    <tr>\n",
       "      <th>1</th>\n",
       "      <td>0000b849f77a49e4a4ce2b2a4ca5be3f</td>\n",
       "      <td>1</td>\n",
       "    </tr>\n",
       "  </tbody>\n",
       "</table>\n",
       "</div>"
      ],
      "text/plain": [
       "                 customer_unique_id  total_items\n",
       "0  0000366f3b9a7992bf8c76cfdf3221e2            1\n",
       "1  0000b849f77a49e4a4ce2b2a4ca5be3f            1"
      ]
     },
     "execution_count": 40,
     "metadata": {},
     "output_type": "execute_result"
    }
   ],
   "source": [
    "data_fe3 = data_fe.groupby('customer_unique_id').sum().reset_index()\n",
    "data_fe3.rename(columns={'order_item_id': 'total_items'}, inplace=True)\n",
    "data_fe3.head(2)"
   ]
  },
  {
   "cell_type": "code",
   "execution_count": 41,
   "id": "a48d335d-28f2-47e9-99ed-da3745824a2e",
   "metadata": {},
   "outputs": [
    {
     "data": {
      "text/html": [
       "<div>\n",
       "<style scoped>\n",
       "    .dataframe tbody tr th:only-of-type {\n",
       "        vertical-align: middle;\n",
       "    }\n",
       "\n",
       "    .dataframe tbody tr th {\n",
       "        vertical-align: top;\n",
       "    }\n",
       "\n",
       "    .dataframe thead th {\n",
       "        text-align: right;\n",
       "    }\n",
       "</style>\n",
       "<table border=\"1\" class=\"dataframe\">\n",
       "  <thead>\n",
       "    <tr style=\"text-align: right;\">\n",
       "      <th></th>\n",
       "      <th>count</th>\n",
       "      <th>mean</th>\n",
       "      <th>std</th>\n",
       "      <th>min</th>\n",
       "      <th>25%</th>\n",
       "      <th>50%</th>\n",
       "      <th>75%</th>\n",
       "      <th>max</th>\n",
       "    </tr>\n",
       "  </thead>\n",
       "  <tbody>\n",
       "    <tr>\n",
       "      <th>total_items</th>\n",
       "      <td>72247.0</td>\n",
       "      <td>1.175647</td>\n",
       "      <td>0.616571</td>\n",
       "      <td>1.0</td>\n",
       "      <td>1.0</td>\n",
       "      <td>1.0</td>\n",
       "      <td>1.0</td>\n",
       "      <td>24.0</td>\n",
       "    </tr>\n",
       "  </tbody>\n",
       "</table>\n",
       "</div>"
      ],
      "text/plain": [
       "               count      mean       std  min  25%  50%  75%   max\n",
       "total_items  72247.0  1.175647  0.616571  1.0  1.0  1.0  1.0  24.0"
      ]
     },
     "execution_count": 41,
     "metadata": {},
     "output_type": "execute_result"
    }
   ],
   "source": [
    "data_fe3.describe().T"
   ]
  },
  {
   "cell_type": "code",
   "execution_count": 42,
   "id": "07c544e1-fe58-4fda-8905-1aa64e915f8e",
   "metadata": {},
   "outputs": [
    {
     "data": {
      "text/html": [
       "<div>\n",
       "<style scoped>\n",
       "    .dataframe tbody tr th:only-of-type {\n",
       "        vertical-align: middle;\n",
       "    }\n",
       "\n",
       "    .dataframe tbody tr th {\n",
       "        vertical-align: top;\n",
       "    }\n",
       "\n",
       "    .dataframe thead th {\n",
       "        text-align: right;\n",
       "    }\n",
       "</style>\n",
       "<table border=\"1\" class=\"dataframe\">\n",
       "  <thead>\n",
       "    <tr style=\"text-align: right;\">\n",
       "      <th></th>\n",
       "      <th>customer_unique_id</th>\n",
       "      <th>recence</th>\n",
       "      <th>montant</th>\n",
       "      <th>review_score</th>\n",
       "      <th>answer_days</th>\n",
       "      <th>mean_items</th>\n",
       "      <th>total_items</th>\n",
       "    </tr>\n",
       "  </thead>\n",
       "  <tbody>\n",
       "    <tr>\n",
       "      <th>0</th>\n",
       "      <td>7c396fd4830fd04220f754e42b4e5bff</td>\n",
       "      <td>-362</td>\n",
       "      <td>82.82</td>\n",
       "      <td>4.5</td>\n",
       "      <td>1.0</td>\n",
       "      <td>1.0</td>\n",
       "      <td>2</td>\n",
       "    </tr>\n",
       "    <tr>\n",
       "      <th>1</th>\n",
       "      <td>af07308b275d755c9edb36a90c618231</td>\n",
       "      <td>-39</td>\n",
       "      <td>141.46</td>\n",
       "      <td>4.0</td>\n",
       "      <td>0.0</td>\n",
       "      <td>1.0</td>\n",
       "      <td>1</td>\n",
       "    </tr>\n",
       "  </tbody>\n",
       "</table>\n",
       "</div>"
      ],
      "text/plain": [
       "                 customer_unique_id  recence  montant  review_score  \\\n",
       "0  7c396fd4830fd04220f754e42b4e5bff     -362    82.82           4.5   \n",
       "1  af07308b275d755c9edb36a90c618231      -39   141.46           4.0   \n",
       "\n",
       "   answer_days  mean_items  total_items  \n",
       "0          1.0         1.0            2  \n",
       "1          0.0         1.0            1  "
      ]
     },
     "execution_count": 42,
     "metadata": {},
     "output_type": "execute_result"
    }
   ],
   "source": [
    "data_clustering = data_clustering.merge(data_fe2, on='customer_unique_id', how='left')\n",
    "data_clustering = data_clustering.merge(data_fe3, on='customer_unique_id', how='left')\n",
    "data_clustering.head(2)"
   ]
  },
  {
   "cell_type": "code",
   "execution_count": 43,
   "id": "1db2b3e1-b04a-4036-b60f-f333b4319a18",
   "metadata": {},
   "outputs": [
    {
     "data": {
      "text/plain": [
       "(74213, 7)"
      ]
     },
     "execution_count": 43,
     "metadata": {},
     "output_type": "execute_result"
    }
   ],
   "source": [
    "data_clustering.shape"
   ]
  },
  {
   "cell_type": "markdown",
   "id": "f97fd6a2-f7cf-4f35-a416-eec2aa698789",
   "metadata": {},
   "source": [
    "### `olist_orders_dataset.csv`\n",
    "> ajoutons **le temps de livraison moyen** des commandes pour chaque client"
   ]
  },
  {
   "cell_type": "markdown",
   "id": "52cf4c31-efdd-416c-89be-aa9dda5f4351",
   "metadata": {},
   "source": [
    "#### Nous allons d'abord récupèrer ces variables `par commande`"
   ]
  },
  {
   "cell_type": "code",
   "execution_count": 44,
   "id": "0eaeb525-0c84-4915-88d8-61a68edafa63",
   "metadata": {},
   "outputs": [
    {
     "data": {
      "text/html": [
       "<div>\n",
       "<style scoped>\n",
       "    .dataframe tbody tr th:only-of-type {\n",
       "        vertical-align: middle;\n",
       "    }\n",
       "\n",
       "    .dataframe tbody tr th {\n",
       "        vertical-align: top;\n",
       "    }\n",
       "\n",
       "    .dataframe thead th {\n",
       "        text-align: right;\n",
       "    }\n",
       "</style>\n",
       "<table border=\"1\" class=\"dataframe\">\n",
       "  <thead>\n",
       "    <tr style=\"text-align: right;\">\n",
       "      <th></th>\n",
       "      <th>order_id</th>\n",
       "      <th>customer_id</th>\n",
       "      <th>customer_unique_id</th>\n",
       "      <th>delivery_days</th>\n",
       "    </tr>\n",
       "  </thead>\n",
       "  <tbody>\n",
       "    <tr>\n",
       "      <th>0</th>\n",
       "      <td>e481f51cbdc54678b7cc49136f2d6af7</td>\n",
       "      <td>9ef432eb6251297304e76186b10a928d</td>\n",
       "      <td>7c396fd4830fd04220f754e42b4e5bff</td>\n",
       "      <td>8.0</td>\n",
       "    </tr>\n",
       "    <tr>\n",
       "      <th>1</th>\n",
       "      <td>53cdb2fc8bc7dce0b6741e2150273451</td>\n",
       "      <td>b0830fb4747a6c6d20dea0b8c802d7ef</td>\n",
       "      <td>af07308b275d755c9edb36a90c618231</td>\n",
       "      <td>14.0</td>\n",
       "    </tr>\n",
       "  </tbody>\n",
       "</table>\n",
       "</div>"
      ],
      "text/plain": [
       "                           order_id                       customer_id  \\\n",
       "0  e481f51cbdc54678b7cc49136f2d6af7  9ef432eb6251297304e76186b10a928d   \n",
       "1  53cdb2fc8bc7dce0b6741e2150273451  b0830fb4747a6c6d20dea0b8c802d7ef   \n",
       "\n",
       "                 customer_unique_id  delivery_days  \n",
       "0  7c396fd4830fd04220f754e42b4e5bff            8.0  \n",
       "1  af07308b275d755c9edb36a90c618231           14.0  "
      ]
     },
     "execution_count": 44,
     "metadata": {},
     "output_type": "execute_result"
    }
   ],
   "source": [
    "data_fe = data_base_join.merge(\n",
    "        data_orders[['order_id', 'delivery_days']].groupby('order_id').last(), \n",
    "        on='order_id', how='left'\n",
    ")\n",
    "data_fe.head(2)"
   ]
  },
  {
   "cell_type": "code",
   "execution_count": 45,
   "id": "00ffa969-4c99-4bbd-bed8-0b454c989559",
   "metadata": {},
   "outputs": [
    {
     "data": {
      "text/plain": [
       "(74213, 4)"
      ]
     },
     "execution_count": 45,
     "metadata": {},
     "output_type": "execute_result"
    }
   ],
   "source": [
    "data_fe.shape"
   ]
  },
  {
   "cell_type": "markdown",
   "id": "621afa6b-ecaa-4261-add9-8d729c54dab1",
   "metadata": {},
   "source": [
    "#### Puis en faire la moyenne `par client`"
   ]
  },
  {
   "cell_type": "code",
   "execution_count": 46,
   "id": "b079e02c-7834-4140-a716-1b27346d1648",
   "metadata": {},
   "outputs": [
    {
     "data": {
      "text/html": [
       "<div>\n",
       "<style scoped>\n",
       "    .dataframe tbody tr th:only-of-type {\n",
       "        vertical-align: middle;\n",
       "    }\n",
       "\n",
       "    .dataframe tbody tr th {\n",
       "        vertical-align: top;\n",
       "    }\n",
       "\n",
       "    .dataframe thead th {\n",
       "        text-align: right;\n",
       "    }\n",
       "</style>\n",
       "<table border=\"1\" class=\"dataframe\">\n",
       "  <thead>\n",
       "    <tr style=\"text-align: right;\">\n",
       "      <th></th>\n",
       "      <th>customer_unique_id</th>\n",
       "      <th>delivery_days</th>\n",
       "    </tr>\n",
       "  </thead>\n",
       "  <tbody>\n",
       "    <tr>\n",
       "      <th>0</th>\n",
       "      <td>0000366f3b9a7992bf8c76cfdf3221e2</td>\n",
       "      <td>6.0</td>\n",
       "    </tr>\n",
       "    <tr>\n",
       "      <th>1</th>\n",
       "      <td>0000b849f77a49e4a4ce2b2a4ca5be3f</td>\n",
       "      <td>3.0</td>\n",
       "    </tr>\n",
       "  </tbody>\n",
       "</table>\n",
       "</div>"
      ],
      "text/plain": [
       "                 customer_unique_id  delivery_days\n",
       "0  0000366f3b9a7992bf8c76cfdf3221e2            6.0\n",
       "1  0000b849f77a49e4a4ce2b2a4ca5be3f            3.0"
      ]
     },
     "execution_count": 46,
     "metadata": {},
     "output_type": "execute_result"
    }
   ],
   "source": [
    "data_fe2 = data_fe.groupby('customer_unique_id').mean().reset_index()\n",
    "data_fe2.head(2)"
   ]
  },
  {
   "cell_type": "code",
   "execution_count": 47,
   "id": "0b47853e-ab63-476b-9cc9-99df72909023",
   "metadata": {},
   "outputs": [
    {
     "data": {
      "text/plain": [
       "(72247, 2)"
      ]
     },
     "execution_count": 47,
     "metadata": {},
     "output_type": "execute_result"
    }
   ],
   "source": [
    "data_fe2.shape"
   ]
  },
  {
   "cell_type": "markdown",
   "id": "b9a61822-4123-4efe-afcc-8233369890c3",
   "metadata": {},
   "source": [
    "#### On applique les nouvelles valeurs sur le jeu de données `data_clustering`"
   ]
  },
  {
   "cell_type": "markdown",
   "id": "a0ff36de-4433-449f-82cf-9a14e810dc18",
   "metadata": {},
   "source": [
    ">#### 🔔 Finalement je ne l'applique pas, car j'ai découvert que c'était inversement corrélé avec la variable `review_score`"
   ]
  },
  {
   "cell_type": "raw",
   "id": "c795dab6-c1fc-4ff6-ae7d-904cfe0703f5",
   "metadata": {},
   "source": [
    "data_clustering = data_clustering.merge(data_fe2, on='customer_unique_id', how='left')\n",
    "data_clustering.head(2)"
   ]
  },
  {
   "cell_type": "raw",
   "id": "b875cda1-1f3a-4585-904f-4155d5f97b7b",
   "metadata": {},
   "source": [
    "data_clustering.shape"
   ]
  },
  {
   "cell_type": "markdown",
   "id": "859888b3-7c5a-41b3-88fe-9e548e27aa69",
   "metadata": {},
   "source": [
    "## 2.3 Préparons le jeu de données pour les algorithmes de clustering non-supervisés"
   ]
  },
  {
   "cell_type": "markdown",
   "id": "f0c7a81e-0955-4b4e-b07e-f7c206d30482",
   "metadata": {},
   "source": [
    "### Supprimons la colonne `customer_unique_id` qui était utile pour faire les jointures, mais qui ne l'est pas pour le clustering"
   ]
  },
  {
   "cell_type": "code",
   "execution_count": 48,
   "id": "2110457d-f42a-4bbd-85f3-e0a52f6d9081",
   "metadata": {},
   "outputs": [
    {
     "data": {
      "text/html": [
       "<div>\n",
       "<style scoped>\n",
       "    .dataframe tbody tr th:only-of-type {\n",
       "        vertical-align: middle;\n",
       "    }\n",
       "\n",
       "    .dataframe tbody tr th {\n",
       "        vertical-align: top;\n",
       "    }\n",
       "\n",
       "    .dataframe thead th {\n",
       "        text-align: right;\n",
       "    }\n",
       "</style>\n",
       "<table border=\"1\" class=\"dataframe\">\n",
       "  <thead>\n",
       "    <tr style=\"text-align: right;\">\n",
       "      <th></th>\n",
       "      <th>recence</th>\n",
       "      <th>montant</th>\n",
       "      <th>review_score</th>\n",
       "      <th>answer_days</th>\n",
       "      <th>mean_items</th>\n",
       "      <th>total_items</th>\n",
       "    </tr>\n",
       "  </thead>\n",
       "  <tbody>\n",
       "    <tr>\n",
       "      <th>0</th>\n",
       "      <td>-362</td>\n",
       "      <td>82.82</td>\n",
       "      <td>4.5</td>\n",
       "      <td>1.0</td>\n",
       "      <td>1.0</td>\n",
       "      <td>2</td>\n",
       "    </tr>\n",
       "    <tr>\n",
       "      <th>1</th>\n",
       "      <td>-39</td>\n",
       "      <td>141.46</td>\n",
       "      <td>4.0</td>\n",
       "      <td>0.0</td>\n",
       "      <td>1.0</td>\n",
       "      <td>1</td>\n",
       "    </tr>\n",
       "  </tbody>\n",
       "</table>\n",
       "</div>"
      ],
      "text/plain": [
       "   recence  montant  review_score  answer_days  mean_items  total_items\n",
       "0     -362    82.82           4.5          1.0         1.0            2\n",
       "1      -39   141.46           4.0          0.0         1.0            1"
      ]
     },
     "execution_count": 48,
     "metadata": {},
     "output_type": "execute_result"
    }
   ],
   "source": [
    "X_cluster = data_clustering[[*data_clustering.select_dtypes(include='number')]].copy()\n",
    "X_cluster.head(2)"
   ]
  },
  {
   "cell_type": "code",
   "execution_count": 49,
   "id": "72b951ac-6842-4192-ab87-10ff6d785635",
   "metadata": {},
   "outputs": [
    {
     "data": {
      "text/plain": [
       "(74213, 6)"
      ]
     },
     "execution_count": 49,
     "metadata": {},
     "output_type": "execute_result"
    }
   ],
   "source": [
    "X_cluster.shape"
   ]
  },
  {
   "cell_type": "markdown",
   "id": "1209cc10-a2ac-4f92-bebb-3cd46f03b793",
   "metadata": {},
   "source": [
    "### Supprimons les `NaN`"
   ]
  },
  {
   "cell_type": "code",
   "execution_count": 50,
   "id": "aa9c80cd-7270-4f96-95cf-838a2badd44e",
   "metadata": {},
   "outputs": [
    {
     "data": {
      "text/plain": [
       "recence         0.000000\n",
       "montant         0.000000\n",
       "review_score    0.006158\n",
       "answer_days     0.006158\n",
       "mean_items      0.000000\n",
       "total_items     0.000000\n",
       "dtype: float64"
      ]
     },
     "execution_count": 50,
     "metadata": {},
     "output_type": "execute_result"
    }
   ],
   "source": [
    "X_cluster.isnull().mean()"
   ]
  },
  {
   "cell_type": "code",
   "execution_count": 51,
   "id": "e3ac89a0-1bae-4986-b368-129bb20d5f50",
   "metadata": {},
   "outputs": [],
   "source": [
    "X_cluster.dropna(inplace=True)"
   ]
  },
  {
   "cell_type": "code",
   "execution_count": 52,
   "id": "a2c9b6c2-d297-4df6-9a99-60608645bda4",
   "metadata": {},
   "outputs": [
    {
     "data": {
      "text/plain": [
       "recence         0.0\n",
       "montant         0.0\n",
       "review_score    0.0\n",
       "answer_days     0.0\n",
       "mean_items      0.0\n",
       "total_items     0.0\n",
       "dtype: float64"
      ]
     },
     "execution_count": 52,
     "metadata": {},
     "output_type": "execute_result"
    }
   ],
   "source": [
    "X_cluster.isnull().mean()"
   ]
  },
  {
   "cell_type": "code",
   "execution_count": 53,
   "id": "75fb0b0c-071e-484b-aa59-e2753afbf644",
   "metadata": {},
   "outputs": [
    {
     "data": {
      "text/plain": [
       "(73756, 6)"
      ]
     },
     "execution_count": 53,
     "metadata": {},
     "output_type": "execute_result"
    }
   ],
   "source": [
    "X_cluster.shape"
   ]
  },
  {
   "cell_type": "markdown",
   "id": "1a936e97-3735-42d2-8975-b1c162a348b5",
   "metadata": {},
   "source": [
    "### Normalisons les variables\n",
    "> En effet, dans la mesure où nous allons utiliser des algorithmes basés sur la distance et ou l'on constate clairement des différences d'échelles, il est préférable de normaliser nos données."
   ]
  },
  {
   "cell_type": "code",
   "execution_count": 54,
   "id": "cb26a0b8-fcfa-43f4-8dc1-600b4aea43cd",
   "metadata": {},
   "outputs": [],
   "source": [
    "from sklearn.preprocessing import MinMaxScaler  # StandardScaler, LabelEncoder, OneHotEncoder, OrdinalEncoder,"
   ]
  },
  {
   "cell_type": "code",
   "execution_count": 55,
   "id": "c572b5c6-638a-4114-a5e3-b2bc1080e071",
   "metadata": {},
   "outputs": [],
   "source": [
    "def fit_normalizer(data):\n",
    "    \"\"\" Normalize the values of the provided dataset\n",
    "\n",
    "    Parameters\n",
    "    ----------\n",
    "    data: pandas' DataFrame\n",
    "        the dataset used as reference for the scaler\n",
    "\n",
    "    Returns\n",
    "    -------\n",
    "    MinMaxScaler\n",
    "        the scaler instance\n",
    "    \"\"\"\n",
    "\n",
    "    scaler = MinMaxScaler()\n",
    "    scaler.fit(data)\n",
    "\n",
    "    return scaler\n",
    "\n",
    "\n",
    "def normalize(data, scaler):\n",
    "    \"\"\" Transform the provided dataset using the provided scaler.\n",
    "\n",
    "    Parameters\n",
    "    ----------\n",
    "    data: pandas' DataFrame\n",
    "        the dataset that needs to be scaled\n",
    "    scaler: MinMaxScaler \n",
    "        the scaler instance to apply on the dataset\n",
    "\n",
    "    Returns\n",
    "    -------\n",
    "    DataFrame\n",
    "        a new dataframe with the scaled values\n",
    "    \"\"\"\n",
    "\n",
    "    dt = data.copy()\n",
    "    dt = pd.DataFrame(scaler.transform(dt), index=dt.index, columns=dt.columns)\n",
    "\n",
    "    return dt\n",
    "\n",
    "\n",
    "def get_inverse_normalization(scaler, data):\n",
    "    \"\"\" Transform the provided dataset using the provided scaler back to the original scales\n",
    "\n",
    "    Parameters\n",
    "    ----------\n",
    "    data: pandas' DataFrame\n",
    "        the dataset that needs to be scaled\n",
    "    scaler: MinMaxScaler \n",
    "        the scaler instance to apply on the dataset\n",
    "    columns: list\n",
    "        the list of columns to consider\n",
    "\n",
    "    Returns\n",
    "    -------\n",
    "    DataFrame\n",
    "        a new dataframe with the scaled values\n",
    "    \"\"\"\n",
    "    \n",
    "    return pd.DataFrame(scaler.inverse_transform(data), columns=data.columns)"
   ]
  },
  {
   "cell_type": "code",
   "execution_count": 56,
   "id": "42d3571f-9fe1-402f-99a9-e42e7118299e",
   "metadata": {},
   "outputs": [],
   "source": [
    "model_scaler = fit_normalizer(X_cluster)\n",
    "X_cluster_norm = normalize(X_cluster, model_scaler)"
   ]
  },
  {
   "cell_type": "code",
   "execution_count": 57,
   "id": "b8295299-0316-40d3-b80e-0be123d9fc91",
   "metadata": {},
   "outputs": [
    {
     "data": {
      "text/html": [
       "<div>\n",
       "<style scoped>\n",
       "    .dataframe tbody tr th:only-of-type {\n",
       "        vertical-align: middle;\n",
       "    }\n",
       "\n",
       "    .dataframe tbody tr th {\n",
       "        vertical-align: top;\n",
       "    }\n",
       "\n",
       "    .dataframe thead th {\n",
       "        text-align: right;\n",
       "    }\n",
       "</style>\n",
       "<table border=\"1\" class=\"dataframe\">\n",
       "  <thead>\n",
       "    <tr style=\"text-align: right;\">\n",
       "      <th></th>\n",
       "      <th>recence</th>\n",
       "      <th>montant</th>\n",
       "      <th>review_score</th>\n",
       "      <th>answer_days</th>\n",
       "      <th>mean_items</th>\n",
       "      <th>total_items</th>\n",
       "    </tr>\n",
       "  </thead>\n",
       "  <tbody>\n",
       "    <tr>\n",
       "      <th>0</th>\n",
       "      <td>0.008287</td>\n",
       "      <td>0.011384</td>\n",
       "      <td>0.875</td>\n",
       "      <td>0.002874</td>\n",
       "      <td>0.0</td>\n",
       "      <td>0.043478</td>\n",
       "    </tr>\n",
       "    <tr>\n",
       "      <th>1</th>\n",
       "      <td>0.900552</td>\n",
       "      <td>0.019445</td>\n",
       "      <td>0.750</td>\n",
       "      <td>0.000000</td>\n",
       "      <td>0.0</td>\n",
       "      <td>0.000000</td>\n",
       "    </tr>\n",
       "  </tbody>\n",
       "</table>\n",
       "</div>"
      ],
      "text/plain": [
       "    recence   montant  review_score  answer_days  mean_items  total_items\n",
       "0  0.008287  0.011384         0.875     0.002874         0.0     0.043478\n",
       "1  0.900552  0.019445         0.750     0.000000         0.0     0.000000"
      ]
     },
     "execution_count": 57,
     "metadata": {},
     "output_type": "execute_result"
    }
   ],
   "source": [
    "X_cluster_norm.head(2)"
   ]
  },
  {
   "cell_type": "code",
   "execution_count": 58,
   "id": "12b7895c-fa2d-49b6-8e74-cfc75bea8d78",
   "metadata": {},
   "outputs": [
    {
     "data": {
      "text/html": [
       "<div>\n",
       "<style scoped>\n",
       "    .dataframe tbody tr th:only-of-type {\n",
       "        vertical-align: middle;\n",
       "    }\n",
       "\n",
       "    .dataframe tbody tr th {\n",
       "        vertical-align: top;\n",
       "    }\n",
       "\n",
       "    .dataframe thead th {\n",
       "        text-align: right;\n",
       "    }\n",
       "</style>\n",
       "<table border=\"1\" class=\"dataframe\">\n",
       "  <thead>\n",
       "    <tr style=\"text-align: right;\">\n",
       "      <th></th>\n",
       "      <th>count</th>\n",
       "      <th>mean</th>\n",
       "      <th>std</th>\n",
       "      <th>min</th>\n",
       "      <th>25%</th>\n",
       "      <th>50%</th>\n",
       "      <th>75%</th>\n",
       "      <th>max</th>\n",
       "    </tr>\n",
       "  </thead>\n",
       "  <tbody>\n",
       "    <tr>\n",
       "      <th>recence</th>\n",
       "      <td>73756.0</td>\n",
       "      <td>0.517608</td>\n",
       "      <td>0.274942</td>\n",
       "      <td>0.0</td>\n",
       "      <td>0.276243</td>\n",
       "      <td>0.516575</td>\n",
       "      <td>0.748619</td>\n",
       "      <td>1.0</td>\n",
       "    </tr>\n",
       "    <tr>\n",
       "      <th>montant</th>\n",
       "      <td>73756.0</td>\n",
       "      <td>0.023218</td>\n",
       "      <td>0.030423</td>\n",
       "      <td>0.0</td>\n",
       "      <td>0.008797</td>\n",
       "      <td>0.015226</td>\n",
       "      <td>0.025741</td>\n",
       "      <td>1.0</td>\n",
       "    </tr>\n",
       "    <tr>\n",
       "      <th>review_score</th>\n",
       "      <td>73756.0</td>\n",
       "      <td>0.783465</td>\n",
       "      <td>0.324573</td>\n",
       "      <td>0.0</td>\n",
       "      <td>0.750000</td>\n",
       "      <td>1.000000</td>\n",
       "      <td>1.000000</td>\n",
       "      <td>1.0</td>\n",
       "    </tr>\n",
       "    <tr>\n",
       "      <th>answer_days</th>\n",
       "      <td>73756.0</td>\n",
       "      <td>0.006848</td>\n",
       "      <td>0.020018</td>\n",
       "      <td>0.0</td>\n",
       "      <td>0.000000</td>\n",
       "      <td>0.002874</td>\n",
       "      <td>0.008621</td>\n",
       "      <td>1.0</td>\n",
       "    </tr>\n",
       "    <tr>\n",
       "      <th>mean_items</th>\n",
       "      <td>73756.0</td>\n",
       "      <td>0.007565</td>\n",
       "      <td>0.028138</td>\n",
       "      <td>0.0</td>\n",
       "      <td>0.000000</td>\n",
       "      <td>0.000000</td>\n",
       "      <td>0.000000</td>\n",
       "      <td>1.0</td>\n",
       "    </tr>\n",
       "    <tr>\n",
       "      <th>total_items</th>\n",
       "      <td>73756.0</td>\n",
       "      <td>0.009570</td>\n",
       "      <td>0.032213</td>\n",
       "      <td>0.0</td>\n",
       "      <td>0.000000</td>\n",
       "      <td>0.000000</td>\n",
       "      <td>0.000000</td>\n",
       "      <td>1.0</td>\n",
       "    </tr>\n",
       "  </tbody>\n",
       "</table>\n",
       "</div>"
      ],
      "text/plain": [
       "                count      mean       std  min       25%       50%       75%  \\\n",
       "recence       73756.0  0.517608  0.274942  0.0  0.276243  0.516575  0.748619   \n",
       "montant       73756.0  0.023218  0.030423  0.0  0.008797  0.015226  0.025741   \n",
       "review_score  73756.0  0.783465  0.324573  0.0  0.750000  1.000000  1.000000   \n",
       "answer_days   73756.0  0.006848  0.020018  0.0  0.000000  0.002874  0.008621   \n",
       "mean_items    73756.0  0.007565  0.028138  0.0  0.000000  0.000000  0.000000   \n",
       "total_items   73756.0  0.009570  0.032213  0.0  0.000000  0.000000  0.000000   \n",
       "\n",
       "              max  \n",
       "recence       1.0  \n",
       "montant       1.0  \n",
       "review_score  1.0  \n",
       "answer_days   1.0  \n",
       "mean_items    1.0  \n",
       "total_items   1.0  "
      ]
     },
     "execution_count": 58,
     "metadata": {},
     "output_type": "execute_result"
    }
   ],
   "source": [
    "X_cluster_norm.describe().T"
   ]
  },
  {
   "cell_type": "markdown",
   "id": "9cf667a9-c836-493f-b87e-4638921717fa",
   "metadata": {},
   "source": [
    "### Créeons un jeu de données réduit pour que les algorithmes puissent travailler plus rapidement dans un premier temps"
   ]
  },
  {
   "cell_type": "code",
   "execution_count": 59,
   "id": "3e5251c5-4263-421c-8450-f68071dbfa60",
   "metadata": {},
   "outputs": [],
   "source": [
    "X_sample = X_cluster_norm.sample(frac=0.25, random_state=random_seed).reset_index(drop=True).copy()"
   ]
  },
  {
   "cell_type": "markdown",
   "id": "8d01abf9-f587-4ed3-97c1-a8c86483c376",
   "metadata": {},
   "source": [
    "---\n",
    "# 3. Apprentissage non-supervisé *(sans optimisation*)  <a class=\"anchor\" id=\"unsupervised\"></a> [⇪](#menu)\n",
    "\n",
    "- 🚩 ICI on parle de l'apprentisage suppervisé \n",
    "- 🚩 ICI on explique que l'on a pas besoin de train/validation/test split\n",
    "> La plupart des algorithmes de clustering ne peuvent pas \"prédire\" pour de nouvelles données. K-means est une rare exception, car vous pouvez effectuer une classification par plus proche voisin sur les centroïdes pour prédire. Mais pour toute méthode qui n'utilise pas les centroïdes, on ne voit pas très bien comment on pourrait appliquer cela à des données \"test\".\n",
    "- 🚩 ICI on parle de la metric utilisé dans le cadre du clustering --> silhouette (ses avantages, ses défauts, ses bornes -1/+1 etc.)"
   ]
  },
  {
   "cell_type": "markdown",
   "id": "e8dd0f14-8d4d-4f62-ae5b-baf5d36b13e7",
   "metadata": {
    "tags": []
   },
   "source": [
    "### Définissons la métrique utilisée par la fonction de recherche des hyper-paramètres"
   ]
  },
  {
   "cell_type": "code",
   "execution_count": 60,
   "id": "c5d0bfbc-cb8c-4541-817c-9f962d6ca788",
   "metadata": {},
   "outputs": [],
   "source": [
    "from sklearn.metrics import make_scorer, silhouette_score, silhouette_samples"
   ]
  },
  {
   "cell_type": "code",
   "execution_count": 61,
   "id": "0211d1de-b604-483b-be48-7b8d1787ccf0",
   "metadata": {},
   "outputs": [],
   "source": [
    "def cv_silhouette_scorer(estimator, X_ref):\n",
    "    estimator.fit(X_ref)\n",
    "    cluster_labels = estimator.labels_\n",
    "    num_labels = len(set(cluster_labels))\n",
    "    num_samples = len(X_ref.index)\n",
    "    if num_labels == 1 or num_labels == num_samples:\n",
    "        return -1\n",
    "    else:\n",
    "        return silhouette_score(X_ref, cluster_labels)"
   ]
  },
  {
   "cell_type": "markdown",
   "id": "d3dbd438-fb48-44b9-b65a-6672699fa18d",
   "metadata": {
    "tags": []
   },
   "source": [
    "### Définissons des fonctions pour afficher et enregistrer les scores"
   ]
  },
  {
   "cell_type": "code",
   "execution_count": 62,
   "id": "157301ea-3ae0-440f-916f-0aa9a9ccf165",
   "metadata": {},
   "outputs": [],
   "source": [
    "from yellowbrick.cluster import SilhouetteVisualizer, InterclusterDistance"
   ]
  },
  {
   "cell_type": "code",
   "execution_count": 63,
   "id": "29ecdadc-31c9-437e-ac3a-2aa68d5f1168",
   "metadata": {
    "tags": []
   },
   "outputs": [],
   "source": [
    "scores_df = pd.DataFrame(columns=['Method', 'params', 'best_params', 'silhouette', 'Training time', 'Inference time'])\n",
    "scores_path = 'data/scores.csv'\n",
    "scores_df.to_csv(scores_path, index=False)\n",
    "\n",
    "\n",
    "def get_clustering_scores(method_name, model, X_ref=None, param_grid=None, best_params=None, training_time=None, inference_time=None, register=False, **others):\n",
    "    \"\"\" Compute / Display / Save scores for the provided model\n",
    "\n",
    "    More precisely, it compute the scores then call various function to display and save them.\n",
    "\n",
    "    Parameters\n",
    "    ----------\n",
    "    method_name: str\n",
    "        the name used to identify the record in the list\n",
    "    model: \n",
    "        the model that needs to be evaluated\n",
    "    X_ref: list of lists\n",
    "        the X values used to get the predictions\n",
    "    param_grid: dict\n",
    "        the parameter grid used to get the provided scores\n",
    "    best_params: dict\n",
    "        the best parameters found with the gridsearch\n",
    "    training_time: float\n",
    "        the time needed for the fitting process\n",
    "    inference_time: float\n",
    "        the time needed for the prediction process\n",
    "    \"\"\"\n",
    "\n",
    "    if X_ref is None:\n",
    "        X_ref = X_cluster\n",
    "\n",
    "    scores = {\n",
    "        'silhouette': cv_silhouette_scorer(model, X_ref),\n",
    "    }\n",
    "\n",
    "    # Register score and replace if it already exists\n",
    "    if register:\n",
    "        save_score(method_name, param_grid, best_params, training_time, inference_time, **scores)\n",
    "\n",
    "    # Basic report\n",
    "    scores_str = \"\"\n",
    "    for key in scores.keys():\n",
    "        scores_str += f\"{key.upper().rjust(20)} : {scores[key]:.4f}\\n\"\n",
    "\n",
    "    print(f\"--- {method_name} ---\".ljust(100, '-'), \"\\n\\n\", scores_str, sep=\"\")\n",
    "\n",
    "    # Silhouette plot\n",
    "    visualizer = SilhouetteVisualizer(model, colors='yellowbrick', is_fitted=True)\n",
    "    visualizer.fit(X_ref)\n",
    "    visualizer.show();"
   ]
  },
  {
   "cell_type": "code",
   "execution_count": 64,
   "id": "0d2099ec-100d-44d9-9eef-4f22fabe5e17",
   "metadata": {
    "tags": []
   },
   "outputs": [],
   "source": [
    "def save_score(method_name, param_grid, best_params, training_time, inference_time, **scores):\n",
    "    \"\"\" Save the scores into the 'scores_df' DataFrame and to the 'scores_path' CSV file.\n",
    "    Each call to this function appends exactly one row to the DataFrame and hence to the CSV.\n",
    "\n",
    "    Parameters\n",
    "    ----------\n",
    "    method_name: str\n",
    "        the name used to identify the record in the list\n",
    "    param_grid: dict\n",
    "        the parameter grid used to get the provided scores\n",
    "    best_params: dict\n",
    "        the best parameters found with the gridsearch\n",
    "    training_time: float\n",
    "        the time needed for the fitting process\n",
    "    inference_time: float\n",
    "        the time needed for the prediction process\n",
    "    scores: list of parameters\n",
    "        the scores to register\n",
    "    \"\"\"\n",
    "\n",
    "    idx = np.where(scores_df.Method == method_name)[0]\n",
    "    idx = idx[0] if idx.size > 0 else len(scores_df.index)\n",
    "\n",
    "    silhouette = scores.get('silhouette', None)\n",
    "\n",
    "    scores_df.loc[idx] = [method_name, param_grid, best_params, silhouette, training_time, inference_time]\n",
    "    scores_df.to_csv(scores_path, index=False)"
   ]
  },
  {
   "cell_type": "markdown",
   "id": "04225158-a14b-4954-91e6-87ccf77077cc",
   "metadata": {},
   "source": [
    "---\n",
    ">#### `TODO`  done ✅ | todo ❌ |\n",
    "> - ✅ Comme on a des algorithmes qui utilisent les distances, il est préférable de **normaliser les données** !"
   ]
  },
  {
   "cell_type": "markdown",
   "id": "56b89098-d0cb-455a-b13f-59c41ee166f1",
   "metadata": {},
   "source": [
    "---\n",
    "# 3. K-Means <a class=\"anchor\" id=\"kmeans\"></a> [⇪](#menu)\n",
    "\n",
    "Le K-means clustering *(ou segmentation par K-moyennes)* est une technique qui vise à partitionner *n* observations en *k* clusters dans lesquels chaque observation appartient au cluster dont la moyenne est la plus proche. "
   ]
  },
  {
   "cell_type": "code",
   "execution_count": 65,
   "id": "32140063-4496-40e8-955b-5ff16fa7c02e",
   "metadata": {},
   "outputs": [],
   "source": [
    "from sklearn.cluster import KMeans"
   ]
  },
  {
   "cell_type": "markdown",
   "id": "ed0ecab6-62a5-457b-b2be-1238cea0e8b9",
   "metadata": {},
   "source": [
    "## 3.1 Basic Kmeans\n",
    "#### Commençons par regarder comment se comporte le K-means avec les données que nous avons déjà\n",
    "*(hors Fréquence puisque l'on a vu que c'est une donnée peu pertinente avec seulement 3% des clients qui achètent plus d'une fois)*"
   ]
  },
  {
   "cell_type": "code",
   "execution_count": 66,
   "id": "a4e67ce4-e781-4f03-b754-2fdc345d0398",
   "metadata": {},
   "outputs": [],
   "source": [
    "X_basic = X_sample[['recence', 'montant']]\n",
    "kmeans = KMeans(random_state=random_seed).fit(X_basic)"
   ]
  },
  {
   "cell_type": "code",
   "execution_count": 67,
   "id": "fd91892a-4db9-483b-8d91-ad872d3e7714",
   "metadata": {},
   "outputs": [
    {
     "name": "stdout",
     "output_type": "stream",
     "text": [
      "--- Kmeans [basic] ---------------------------------------------------------------------------------\n",
      "\n",
      "          SILHOUETTE : 0.5053\n",
      "\n"
     ]
    },
    {
     "data": {
      "image/png": "[encoded data removed]",
      "text/plain": [
       "<Figure size 576x396 with 1 Axes>"
      ]
     },
     "metadata": {},
     "output_type": "display_data"
    }
   ],
   "source": [
    "get_clustering_scores(\"Kmeans [basic]\",  model=kmeans, X_ref=X_basic, register=True)"
   ]
  },
  {
   "cell_type": "markdown",
   "id": "0aaeddf2-b346-4379-81b8-0fb38f9f7783",
   "metadata": {},
   "source": [
    ">#### Les silhouettes sont bien marquées, mais est-ce que ces groupes nous intéressent ??"
   ]
  },
  {
   "cell_type": "code",
   "execution_count": 68,
   "id": "1942ee5d-a6fc-4100-af18-cd43a3b5aeb7",
   "metadata": {},
   "outputs": [
    {
     "data": {
      "image/png": "[encoded data removed]",
      "text/plain": [
       "<Figure size 1080x504 with 1 Axes>"
      ]
     },
     "metadata": {},
     "output_type": "display_data"
    }
   ],
   "source": [
    "fig = plt.figure(figsize=(15,7))\n",
    "sns.scatterplot(x=X_basic['recence'], y=X_basic['montant'], hue=kmeans.labels_)\n",
    "plt.show()"
   ]
  },
  {
   "cell_type": "markdown",
   "id": "419a6947-7bef-4265-a428-91ed64d12d91",
   "metadata": {},
   "source": [
    "> Ce découpage ne présente aucun intérêt pour notre recherche de groupes types de clients.<br>\n",
    "> Nous allons donc utiliser les variables supplémentaires que nous avons préparé un peu plus tôt."
   ]
  },
  {
   "cell_type": "markdown",
   "id": "01cfcda3-fe97-4f40-8554-0735c86a8928",
   "metadata": {},
   "source": [
    "## 3.2 KMeans + Feature Engineering\n",
    "#### Ajoutons les variables que nous avons préparé dans la section Feature Engineering"
   ]
  },
  {
   "cell_type": "code",
   "execution_count": 69,
   "id": "bae4da3e-90d4-4d1f-be67-279e80b678b1",
   "metadata": {},
   "outputs": [],
   "source": [
    "X_fe = X_sample\n",
    "kmeans = KMeans(random_state=random_seed).fit(X_fe)"
   ]
  },
  {
   "cell_type": "code",
   "execution_count": 70,
   "id": "154d6568-cbb9-4051-8058-756e554479dd",
   "metadata": {},
   "outputs": [
    {
     "name": "stdout",
     "output_type": "stream",
     "text": [
      "--- Kmeans [fe] ------------------------------------------------------------------------------------\n",
      "\n",
      "          SILHOUETTE : 0.4542\n",
      "\n"
     ]
    },
    {
     "data": {
      "image/png": "[encoded data removed]",
      "text/plain": [
       "<Figure size 576x396 with 1 Axes>"
      ]
     },
     "metadata": {},
     "output_type": "display_data"
    }
   ],
   "source": [
    "get_clustering_scores(\"Kmeans [fe]\",  model=kmeans, X_ref=X_fe, register=True)"
   ]
  },
  {
   "cell_type": "markdown",
   "id": "32998c46-76ab-40b3-a141-e2aec344911e",
   "metadata": {},
   "source": [
    ">#### On note que notre silhouette_score est à la baisse, mais on voit aussi clairement que le nombre de cluster choisi n'est pas du tout adapté...\n",
    "> Nous allons donc essayer de trouver le nombre de cluster idéal"
   ]
  },
  {
   "cell_type": "markdown",
   "id": "6ecb8872-dbe6-46fc-8c75-9eddfcd0bee5",
   "metadata": {},
   "source": [
    "## 3.3 KMeans + Elbow method\n",
    "La Elbow method *(ou méthode du coude)* consiste à tester KMeans avec différentes valeurs de k pour sélectionner le nombre optimal de clusters. Comme on doit spécifier à l'avance le nombre de k à choisir, l'algorithme est quelque peu naïf - il affecte tous les membres à k clusters même si ce n'est pas le bon k pour l'ensemble de données. Idéalement, on choisit le point qui à la plus grande valeur *(selon la métrique choisie)* pour déterminer où se trouve le coude et donc choisir la valeur de **k**."
   ]
  },
  {
   "cell_type": "code",
   "execution_count": 71,
   "id": "ae33be11-10a3-4b7a-9ae1-0b1529ec50ce",
   "metadata": {},
   "outputs": [],
   "source": [
    "from yellowbrick.cluster import KElbowVisualizer"
   ]
  },
  {
   "cell_type": "code",
   "execution_count": 72,
   "id": "b5563b15-b1c1-4944-a43f-a5cb0ceff50c",
   "metadata": {},
   "outputs": [
    {
     "data": {
      "image/png": "[encoded data removed]",
      "text/plain": [
       "<Figure size 1080x360 with 3 Axes>"
      ]
     },
     "metadata": {},
     "output_type": "display_data"
    }
   ],
   "source": [
    "methods = ['distortion', 'silhouette', 'calinski_harabasz']\n",
    "kmeans = KMeans(random_state=random_seed)\n",
    "\n",
    "fig = plt.figure(figsize=(15, 5))\n",
    "for i, m in enumerate(methods):\n",
    "    ax = plt.subplot(1, 3, i+1)\n",
    "    visualizer = KElbowVisualizer(kmeans, k=(3, 20), metric=m, timings=False)\n",
    "    visualizer.fit(X_basic)\n",
    "    plt.title(f\"{m.title()} Score Elbow for KMeans Clustering\")\n",
    "    ax.set_ylabel(f'{m} score')\n",
    "    ax.set_xlabel('k')\n",
    "    #visualizer.show();\n",
    "\n",
    "plt.tight_layout()\n",
    "plt.show()"
   ]
  },
  {
   "cell_type": "code",
   "execution_count": 73,
   "id": "3e0840a4-a0d3-491d-8856-8735b1188db4",
   "metadata": {},
   "outputs": [
    {
     "data": {
      "image/png": "[encoded data removed]",
      "text/plain": [
       "<Figure size 1080x360 with 3 Axes>"
      ]
     },
     "metadata": {},
     "output_type": "display_data"
    }
   ],
   "source": [
    "methods = ['distortion', 'silhouette', 'calinski_harabasz']\n",
    "kmeans = KMeans(random_state=random_seed)\n",
    "\n",
    "fig = plt.figure(figsize=(15, 5))\n",
    "for i, m in enumerate(methods):\n",
    "    ax = plt.subplot(1, 3, i+1)\n",
    "    visualizer = KElbowVisualizer(kmeans, k=(3, 20), metric=m, timings=False)\n",
    "    visualizer.fit(X_sample)\n",
    "    plt.title(f\"{m.title()} Score Elbow for KMeans Clustering\")\n",
    "    ax.set_ylabel(f'{m} score')\n",
    "    ax.set_xlabel('k')\n",
    "    #visualizer.show();\n",
    "\n",
    "plt.tight_layout()\n",
    "plt.show()"
   ]
  },
  {
   "cell_type": "markdown",
   "id": "d9ba2dcd-28c5-4872-b710-bcd46034be88",
   "metadata": {},
   "source": [
    ">#### Conclusion **????**"
   ]
  },
  {
   "cell_type": "markdown",
   "id": "29c05e43-7cb0-4b69-b606-a4df424e4ec3",
   "metadata": {},
   "source": [
    "## 3.4 KMeans + Silhouettes\n",
    "Affichons les courbes silhouettes pour diverses valeurs **k** pour mieux visualiser le clustering"
   ]
  },
  {
   "cell_type": "code",
   "execution_count": 74,
   "id": "64fa3b5b-497c-4acd-a6a8-4d753cea85d0",
   "metadata": {},
   "outputs": [],
   "source": [
    "def plot_silhouette(model, data):\n",
    "\n",
    "    model = model.fit(data)\n",
    "    score = silhouette_score(data, model.labels_)\n",
    "    print(f\"Silhouette score moyen: {score:.3f}\")\n",
    "\n",
    "    plt.figure(figsize=(10, 7))\n",
    "    visualizer = SilhouetteVisualizer(model, colors='yellowbrick', is_fitted=True)\n",
    "    visualizer.fit(data)\n",
    "    visualizer.show();\n",
    "\n",
    "    return model"
   ]
  },
  {
   "cell_type": "code",
   "execution_count": 75,
   "id": "aeb3ba36-ec18-4a73-9542-f65fabd8ac59",
   "metadata": {},
   "outputs": [],
   "source": [
    "def get_means(fitted_model, X_cluster):\n",
    "    X_labels = pd.DataFrame(fitted_model.labels_, columns=['label'])\n",
    "    X_results = X_cluster.merge(X_labels, left_index=True, right_index=True)\n",
    "\n",
    "    groups = {}\n",
    "    for i in range(fitted_model.n_clusters):\n",
    "        groups[i] = X_results[X_results.label == i].mean()\n",
    "\n",
    "    return pd.DataFrame.from_dict(groups).T.drop(columns=['label'])"
   ]
  },
  {
   "cell_type": "markdown",
   "id": "7aa2debf-6ee1-43cc-8e7b-983fa0e8a84f",
   "metadata": {},
   "source": [
    "#### Silhouette avec **3 clusters**"
   ]
  },
  {
   "cell_type": "code",
   "execution_count": 76,
   "id": "50afdc5d-692d-4783-8609-acf7c89bd03d",
   "metadata": {},
   "outputs": [
    {
     "name": "stdout",
     "output_type": "stream",
     "text": [
      "Silhouette score moyen: 0.480\n"
     ]
    },
    {
     "data": {
      "image/png": "[encoded data removed]",
      "text/plain": [
       "<Figure size 720x504 with 1 Axes>"
      ]
     },
     "metadata": {},
     "output_type": "display_data"
    }
   ],
   "source": [
    "fitted_model = plot_silhouette(KMeans(n_clusters=3, random_state=random_seed), X_sample)"
   ]
  },
  {
   "cell_type": "code",
   "execution_count": 77,
   "id": "1a764935-b772-4aa6-928b-0ec46755b93a",
   "metadata": {},
   "outputs": [
    {
     "data": {
      "text/html": [
       "<div>\n",
       "<style scoped>\n",
       "    .dataframe tbody tr th:only-of-type {\n",
       "        vertical-align: middle;\n",
       "    }\n",
       "\n",
       "    .dataframe tbody tr th {\n",
       "        vertical-align: top;\n",
       "    }\n",
       "\n",
       "    .dataframe thead th {\n",
       "        text-align: right;\n",
       "    }\n",
       "</style>\n",
       "<table border=\"1\" class=\"dataframe\">\n",
       "  <thead>\n",
       "    <tr style=\"text-align: right;\">\n",
       "      <th></th>\n",
       "      <th>recence</th>\n",
       "      <th>montant</th>\n",
       "      <th>review_score</th>\n",
       "      <th>answer_days</th>\n",
       "      <th>mean_items</th>\n",
       "      <th>total_items</th>\n",
       "    </tr>\n",
       "  </thead>\n",
       "  <tbody>\n",
       "    <tr>\n",
       "      <th>2</th>\n",
       "      <td>-268.505627</td>\n",
       "      <td>163.755017</td>\n",
       "      <td>4.689431</td>\n",
       "      <td>2.613890</td>\n",
       "      <td>1.112123</td>\n",
       "      <td>1.217591</td>\n",
       "    </tr>\n",
       "    <tr>\n",
       "      <th>0</th>\n",
       "      <td>-189.574908</td>\n",
       "      <td>182.391430</td>\n",
       "      <td>1.784677</td>\n",
       "      <td>2.331862</td>\n",
       "      <td>1.282018</td>\n",
       "      <td>1.358539</td>\n",
       "    </tr>\n",
       "    <tr>\n",
       "      <th>1</th>\n",
       "      <td>-89.529374</td>\n",
       "      <td>164.360296</td>\n",
       "      <td>4.705270</td>\n",
       "      <td>2.153644</td>\n",
       "      <td>1.119764</td>\n",
       "      <td>1.169628</td>\n",
       "    </tr>\n",
       "  </tbody>\n",
       "</table>\n",
       "</div>"
      ],
      "text/plain": [
       "      recence     montant  review_score  answer_days  mean_items  total_items\n",
       "2 -268.505627  163.755017      4.689431     2.613890    1.112123     1.217591\n",
       "0 -189.574908  182.391430      1.784677     2.331862    1.282018     1.358539\n",
       "1  -89.529374  164.360296      4.705270     2.153644    1.119764     1.169628"
      ]
     },
     "execution_count": 77,
     "metadata": {},
     "output_type": "execute_result"
    }
   ],
   "source": [
    "get_inverse_normalization(model_scaler, get_means(fitted_model, X_sample)).sort_values(['recence'])"
   ]
  },
  {
   "cell_type": "markdown",
   "id": "53c31044-0ea0-4c78-baed-d0c97b7b290f",
   "metadata": {},
   "source": [
    ">#### On constate que:\n",
    "> - les valeurs de silhouettes pour les 3 clusters sont assez hautes sur les premiers points, mais déclinent très vite; ce qui laisse supposer qu'il pourrait y avoir plus de clusters.\n",
    "> - les clusters 0 et 1 regroupent beaucoup de points et peuvent éventuellement être découpés.\n",
    "> - le cluster 2 présente plusieurs points avec ess valeurs de silhouette négatives, ce qui laisse penser qu'ils ont été assignés au mauvais cluster.\n",
    "\n",
    "> Même si ce découpage semble intéressant, plusieurs indicateurs nous laissent penser que ce n'est pas le découpage idéal."
   ]
  },
  {
   "cell_type": "markdown",
   "id": "d3393804-f94b-4c6a-9876-099cf949d78b",
   "metadata": {},
   "source": [
    "#### Silhouette avec **4 clusters**"
   ]
  },
  {
   "cell_type": "code",
   "execution_count": 78,
   "id": "e873c3c4-7b83-4751-8a78-c665f9da3831",
   "metadata": {},
   "outputs": [
    {
     "name": "stdout",
     "output_type": "stream",
     "text": [
      "Silhouette score moyen: 0.464\n"
     ]
    },
    {
     "data": {
      "image/png": "[encoded data removed]",
      "text/plain": [
       "<Figure size 720x504 with 1 Axes>"
      ]
     },
     "metadata": {},
     "output_type": "display_data"
    }
   ],
   "source": [
    "fitted_model = plot_silhouette(KMeans(n_clusters=4, random_state=random_seed), X_sample)"
   ]
  },
  {
   "cell_type": "code",
   "execution_count": 79,
   "id": "3058fd2d-9757-49f3-bbe7-8b32559048e3",
   "metadata": {},
   "outputs": [
    {
     "data": {
      "text/html": [
       "<div>\n",
       "<style scoped>\n",
       "    .dataframe tbody tr th:only-of-type {\n",
       "        vertical-align: middle;\n",
       "    }\n",
       "\n",
       "    .dataframe tbody tr th {\n",
       "        vertical-align: top;\n",
       "    }\n",
       "\n",
       "    .dataframe thead th {\n",
       "        text-align: right;\n",
       "    }\n",
       "</style>\n",
       "<table border=\"1\" class=\"dataframe\">\n",
       "  <thead>\n",
       "    <tr style=\"text-align: right;\">\n",
       "      <th></th>\n",
       "      <th>recence</th>\n",
       "      <th>montant</th>\n",
       "      <th>review_score</th>\n",
       "      <th>answer_days</th>\n",
       "      <th>mean_items</th>\n",
       "      <th>total_items</th>\n",
       "    </tr>\n",
       "  </thead>\n",
       "  <tbody>\n",
       "    <tr>\n",
       "      <th>1</th>\n",
       "      <td>-273.421078</td>\n",
       "      <td>162.992887</td>\n",
       "      <td>4.828986</td>\n",
       "      <td>2.534459</td>\n",
       "      <td>1.111477</td>\n",
       "      <td>1.211742</td>\n",
       "    </tr>\n",
       "    <tr>\n",
       "      <th>3</th>\n",
       "      <td>-185.877707</td>\n",
       "      <td>163.601270</td>\n",
       "      <td>3.470830</td>\n",
       "      <td>2.573139</td>\n",
       "      <td>1.148441</td>\n",
       "      <td>1.252916</td>\n",
       "    </tr>\n",
       "    <tr>\n",
       "      <th>2</th>\n",
       "      <td>-185.779892</td>\n",
       "      <td>190.004100</td>\n",
       "      <td>1.229417</td>\n",
       "      <td>2.269204</td>\n",
       "      <td>1.324576</td>\n",
       "      <td>1.383120</td>\n",
       "    </tr>\n",
       "    <tr>\n",
       "      <th>0</th>\n",
       "      <td>-85.579638</td>\n",
       "      <td>165.558606</td>\n",
       "      <td>4.839030</td>\n",
       "      <td>2.157986</td>\n",
       "      <td>1.118069</td>\n",
       "      <td>1.167231</td>\n",
       "    </tr>\n",
       "  </tbody>\n",
       "</table>\n",
       "</div>"
      ],
      "text/plain": [
       "      recence     montant  review_score  answer_days  mean_items  total_items\n",
       "1 -273.421078  162.992887      4.828986     2.534459    1.111477     1.211742\n",
       "3 -185.877707  163.601270      3.470830     2.573139    1.148441     1.252916\n",
       "2 -185.779892  190.004100      1.229417     2.269204    1.324576     1.383120\n",
       "0  -85.579638  165.558606      4.839030     2.157986    1.118069     1.167231"
      ]
     },
     "execution_count": 79,
     "metadata": {},
     "output_type": "execute_result"
    }
   ],
   "source": [
    "get_inverse_normalization(model_scaler, get_means(fitted_model, X_sample)).sort_values(['recence'])"
   ]
  },
  {
   "cell_type": "markdown",
   "id": "bb49d79b-53bf-4a39-90b9-0c48605bd6cc",
   "metadata": {},
   "source": [
    ">#### On constate que:\n",
    "> - les valeurs de silhouettes pour les 3 clusters sont assez hautes sur les premiers points, mais déclinent très vite; ce qui laisse supposer qu'il pourrait y avoir plus de clusters.\n",
    "> - les clusters 0 et 1 regroupent beaucoup de points et peuvent éventuellement être découpés.\n",
    "> - le cluster 2 présente plusieurs points avec ess valeurs de silhouette négatives, ce qui laisse penser qu'ils ont été assignés au mauvais cluster.\n",
    "\n",
    "> Même si ce découpage semble intéressant, plusieurs indicateurs nous laissent penser que ce n'est pas le découpage idéal."
   ]
  },
  {
   "cell_type": "markdown",
   "id": "0e711292-c61b-435e-ad1f-9ea9cbd5bb22",
   "metadata": {},
   "source": [
    "#### Silhouette avec **5 clusters**"
   ]
  },
  {
   "cell_type": "code",
   "execution_count": 80,
   "id": "01ce3923-2a77-4068-ae16-e8056c981ee5",
   "metadata": {},
   "outputs": [
    {
     "name": "stdout",
     "output_type": "stream",
     "text": [
      "Silhouette score moyen: 0.450\n"
     ]
    },
    {
     "data": {
      "image/png": "[encoded data removed]",
      "text/plain": [
       "<Figure size 720x504 with 1 Axes>"
      ]
     },
     "metadata": {},
     "output_type": "display_data"
    }
   ],
   "source": [
    "fitted_model = plot_silhouette(KMeans(n_clusters=5, random_state=random_seed), X_sample)"
   ]
  },
  {
   "cell_type": "code",
   "execution_count": 81,
   "id": "4c622fb6-88d9-4e81-8bf3-df743f9e47a5",
   "metadata": {},
   "outputs": [
    {
     "data": {
      "text/html": [
       "<div>\n",
       "<style scoped>\n",
       "    .dataframe tbody tr th:only-of-type {\n",
       "        vertical-align: middle;\n",
       "    }\n",
       "\n",
       "    .dataframe tbody tr th {\n",
       "        vertical-align: top;\n",
       "    }\n",
       "\n",
       "    .dataframe thead th {\n",
       "        text-align: right;\n",
       "    }\n",
       "</style>\n",
       "<table border=\"1\" class=\"dataframe\">\n",
       "  <thead>\n",
       "    <tr style=\"text-align: right;\">\n",
       "      <th></th>\n",
       "      <th>recence</th>\n",
       "      <th>montant</th>\n",
       "      <th>review_score</th>\n",
       "      <th>answer_days</th>\n",
       "      <th>mean_items</th>\n",
       "      <th>total_items</th>\n",
       "    </tr>\n",
       "  </thead>\n",
       "  <tbody>\n",
       "    <tr>\n",
       "      <th>1</th>\n",
       "      <td>-267.314373</td>\n",
       "      <td>161.893560</td>\n",
       "      <td>4.993278</td>\n",
       "      <td>2.562798</td>\n",
       "      <td>1.107804</td>\n",
       "      <td>1.215117</td>\n",
       "    </tr>\n",
       "    <tr>\n",
       "      <th>3</th>\n",
       "      <td>-263.381409</td>\n",
       "      <td>166.926359</td>\n",
       "      <td>3.642412</td>\n",
       "      <td>2.695613</td>\n",
       "      <td>1.134872</td>\n",
       "      <td>1.244559</td>\n",
       "    </tr>\n",
       "    <tr>\n",
       "      <th>2</th>\n",
       "      <td>-187.987511</td>\n",
       "      <td>192.011214</td>\n",
       "      <td>1.198608</td>\n",
       "      <td>2.260408</td>\n",
       "      <td>1.327663</td>\n",
       "      <td>1.388458</td>\n",
       "    </tr>\n",
       "    <tr>\n",
       "      <th>0</th>\n",
       "      <td>-92.291751</td>\n",
       "      <td>160.699525</td>\n",
       "      <td>3.671362</td>\n",
       "      <td>2.247384</td>\n",
       "      <td>1.158216</td>\n",
       "      <td>1.210060</td>\n",
       "    </tr>\n",
       "    <tr>\n",
       "      <th>4</th>\n",
       "      <td>-90.082013</td>\n",
       "      <td>166.150151</td>\n",
       "      <td>4.997008</td>\n",
       "      <td>2.126892</td>\n",
       "      <td>1.112959</td>\n",
       "      <td>1.162971</td>\n",
       "    </tr>\n",
       "  </tbody>\n",
       "</table>\n",
       "</div>"
      ],
      "text/plain": [
       "      recence     montant  review_score  answer_days  mean_items  total_items\n",
       "1 -267.314373  161.893560      4.993278     2.562798    1.107804     1.215117\n",
       "3 -263.381409  166.926359      3.642412     2.695613    1.134872     1.244559\n",
       "2 -187.987511  192.011214      1.198608     2.260408    1.327663     1.388458\n",
       "0  -92.291751  160.699525      3.671362     2.247384    1.158216     1.210060\n",
       "4  -90.082013  166.150151      4.997008     2.126892    1.112959     1.162971"
      ]
     },
     "execution_count": 81,
     "metadata": {},
     "output_type": "execute_result"
    }
   ],
   "source": [
    "get_inverse_normalization(model_scaler, get_means(fitted_model, X_sample)).sort_values(['recence'])"
   ]
  },
  {
   "cell_type": "markdown",
   "id": "cab7b8e3-2e4d-4f64-9ba0-2ecea6e91b26",
   "metadata": {},
   "source": [
    "#### Silhouette avec **6 clusters**"
   ]
  },
  {
   "cell_type": "code",
   "execution_count": 82,
   "id": "d2161017-01d9-431f-a69d-90c083814f7b",
   "metadata": {},
   "outputs": [
    {
     "name": "stdout",
     "output_type": "stream",
     "text": [
      "Silhouette score moyen: 0.421\n"
     ]
    },
    {
     "data": {
      "image/png": "[encoded data removed]",
      "text/plain": [
       "<Figure size 720x504 with 1 Axes>"
      ]
     },
     "metadata": {},
     "output_type": "display_data"
    }
   ],
   "source": [
    "fitted_model = plot_silhouette(KMeans(n_clusters=6, random_state=random_seed), X_sample)"
   ]
  },
  {
   "cell_type": "code",
   "execution_count": 83,
   "id": "d7a09c65-b0d3-4248-8835-1330c7a93bf5",
   "metadata": {},
   "outputs": [
    {
     "data": {
      "text/html": [
       "<div>\n",
       "<style scoped>\n",
       "    .dataframe tbody tr th:only-of-type {\n",
       "        vertical-align: middle;\n",
       "    }\n",
       "\n",
       "    .dataframe tbody tr th {\n",
       "        vertical-align: top;\n",
       "    }\n",
       "\n",
       "    .dataframe thead th {\n",
       "        text-align: right;\n",
       "    }\n",
       "</style>\n",
       "<table border=\"1\" class=\"dataframe\">\n",
       "  <thead>\n",
       "    <tr style=\"text-align: right;\">\n",
       "      <th></th>\n",
       "      <th>recence</th>\n",
       "      <th>montant</th>\n",
       "      <th>review_score</th>\n",
       "      <th>answer_days</th>\n",
       "      <th>mean_items</th>\n",
       "      <th>total_items</th>\n",
       "    </tr>\n",
       "  </thead>\n",
       "  <tbody>\n",
       "    <tr>\n",
       "      <th>2</th>\n",
       "      <td>-288.437657</td>\n",
       "      <td>164.976234</td>\n",
       "      <td>4.992760</td>\n",
       "      <td>2.635495</td>\n",
       "      <td>1.106155</td>\n",
       "      <td>1.220211</td>\n",
       "    </tr>\n",
       "    <tr>\n",
       "      <th>1</th>\n",
       "      <td>-265.743540</td>\n",
       "      <td>167.601394</td>\n",
       "      <td>3.622603</td>\n",
       "      <td>2.698208</td>\n",
       "      <td>1.139248</td>\n",
       "      <td>1.247063</td>\n",
       "    </tr>\n",
       "    <tr>\n",
       "      <th>4</th>\n",
       "      <td>-233.593413</td>\n",
       "      <td>194.047180</td>\n",
       "      <td>1.171058</td>\n",
       "      <td>2.192914</td>\n",
       "      <td>1.316068</td>\n",
       "      <td>1.389820</td>\n",
       "    </tr>\n",
       "    <tr>\n",
       "      <th>5</th>\n",
       "      <td>-157.406872</td>\n",
       "      <td>163.307461</td>\n",
       "      <td>4.785956</td>\n",
       "      <td>2.257019</td>\n",
       "      <td>1.120365</td>\n",
       "      <td>1.191913</td>\n",
       "    </tr>\n",
       "    <tr>\n",
       "      <th>3</th>\n",
       "      <td>-84.128373</td>\n",
       "      <td>172.359154</td>\n",
       "      <td>2.103574</td>\n",
       "      <td>2.331875</td>\n",
       "      <td>1.280088</td>\n",
       "      <td>1.323851</td>\n",
       "    </tr>\n",
       "    <tr>\n",
       "      <th>0</th>\n",
       "      <td>-51.142683</td>\n",
       "      <td>162.666044</td>\n",
       "      <td>4.773394</td>\n",
       "      <td>2.112285</td>\n",
       "      <td>1.112876</td>\n",
       "      <td>1.151967</td>\n",
       "    </tr>\n",
       "  </tbody>\n",
       "</table>\n",
       "</div>"
      ],
      "text/plain": [
       "      recence     montant  review_score  answer_days  mean_items  total_items\n",
       "2 -288.437657  164.976234      4.992760     2.635495    1.106155     1.220211\n",
       "1 -265.743540  167.601394      3.622603     2.698208    1.139248     1.247063\n",
       "4 -233.593413  194.047180      1.171058     2.192914    1.316068     1.389820\n",
       "5 -157.406872  163.307461      4.785956     2.257019    1.120365     1.191913\n",
       "3  -84.128373  172.359154      2.103574     2.331875    1.280088     1.323851\n",
       "0  -51.142683  162.666044      4.773394     2.112285    1.112876     1.151967"
      ]
     },
     "execution_count": 83,
     "metadata": {},
     "output_type": "execute_result"
    }
   ],
   "source": [
    "get_inverse_normalization(model_scaler, get_means(fitted_model, X_sample)).sort_values(['recence'])"
   ]
  },
  {
   "cell_type": "markdown",
   "id": "e1d12eee-4eb3-4eee-a6f7-83754127314b",
   "metadata": {},
   "source": [
    "#### Silhouette avec **7 clusters**"
   ]
  },
  {
   "cell_type": "code",
   "execution_count": 84,
   "id": "fd1e1513-cf60-401f-ad7c-18a3fbf5e534",
   "metadata": {},
   "outputs": [
    {
     "name": "stdout",
     "output_type": "stream",
     "text": [
      "Silhouette score moyen: 0.443\n"
     ]
    },
    {
     "data": {
      "image/png": "[encoded data removed]",
      "text/plain": [
       "<Figure size 720x504 with 1 Axes>"
      ]
     },
     "metadata": {},
     "output_type": "display_data"
    }
   ],
   "source": [
    "fitted_model = plot_silhouette(KMeans(n_clusters=7, random_state=random_seed), X_sample)"
   ]
  },
  {
   "cell_type": "code",
   "execution_count": 85,
   "id": "cddde209-2332-4f52-947b-7aec550aabdc",
   "metadata": {},
   "outputs": [
    {
     "data": {
      "text/html": [
       "<div>\n",
       "<style scoped>\n",
       "    .dataframe tbody tr th:only-of-type {\n",
       "        vertical-align: middle;\n",
       "    }\n",
       "\n",
       "    .dataframe tbody tr th {\n",
       "        vertical-align: top;\n",
       "    }\n",
       "\n",
       "    .dataframe thead th {\n",
       "        text-align: right;\n",
       "    }\n",
       "</style>\n",
       "<table border=\"1\" class=\"dataframe\">\n",
       "  <thead>\n",
       "    <tr style=\"text-align: right;\">\n",
       "      <th></th>\n",
       "      <th>recence</th>\n",
       "      <th>montant</th>\n",
       "      <th>review_score</th>\n",
       "      <th>answer_days</th>\n",
       "      <th>mean_items</th>\n",
       "      <th>total_items</th>\n",
       "    </tr>\n",
       "  </thead>\n",
       "  <tbody>\n",
       "    <tr>\n",
       "      <th>6</th>\n",
       "      <td>-298.700177</td>\n",
       "      <td>166.722324</td>\n",
       "      <td>4.992519</td>\n",
       "      <td>2.651833</td>\n",
       "      <td>1.106973</td>\n",
       "      <td>1.229450</td>\n",
       "    </tr>\n",
       "    <tr>\n",
       "      <th>2</th>\n",
       "      <td>-262.623313</td>\n",
       "      <td>166.907260</td>\n",
       "      <td>3.659781</td>\n",
       "      <td>2.706886</td>\n",
       "      <td>1.136421</td>\n",
       "      <td>1.243628</td>\n",
       "    </tr>\n",
       "    <tr>\n",
       "      <th>5</th>\n",
       "      <td>-258.019124</td>\n",
       "      <td>195.531203</td>\n",
       "      <td>1.219920</td>\n",
       "      <td>2.309695</td>\n",
       "      <td>1.326295</td>\n",
       "      <td>1.419124</td>\n",
       "    </tr>\n",
       "    <tr>\n",
       "      <th>3</th>\n",
       "      <td>-178.055981</td>\n",
       "      <td>160.381986</td>\n",
       "      <td>4.994243</td>\n",
       "      <td>2.305167</td>\n",
       "      <td>1.109365</td>\n",
       "      <td>1.186427</td>\n",
       "    </tr>\n",
       "    <tr>\n",
       "      <th>4</th>\n",
       "      <td>-107.967466</td>\n",
       "      <td>184.499212</td>\n",
       "      <td>1.246147</td>\n",
       "      <td>2.226455</td>\n",
       "      <td>1.322774</td>\n",
       "      <td>1.351027</td>\n",
       "    </tr>\n",
       "    <tr>\n",
       "      <th>0</th>\n",
       "      <td>-94.320132</td>\n",
       "      <td>161.255066</td>\n",
       "      <td>3.720091</td>\n",
       "      <td>2.234839</td>\n",
       "      <td>1.152159</td>\n",
       "      <td>1.202558</td>\n",
       "    </tr>\n",
       "    <tr>\n",
       "      <th>1</th>\n",
       "      <td>-60.839414</td>\n",
       "      <td>165.553174</td>\n",
       "      <td>4.998047</td>\n",
       "      <td>2.081536</td>\n",
       "      <td>1.114780</td>\n",
       "      <td>1.154727</td>\n",
       "    </tr>\n",
       "  </tbody>\n",
       "</table>\n",
       "</div>"
      ],
      "text/plain": [
       "      recence     montant  review_score  answer_days  mean_items  total_items\n",
       "6 -298.700177  166.722324      4.992519     2.651833    1.106973     1.229450\n",
       "2 -262.623313  166.907260      3.659781     2.706886    1.136421     1.243628\n",
       "5 -258.019124  195.531203      1.219920     2.309695    1.326295     1.419124\n",
       "3 -178.055981  160.381986      4.994243     2.305167    1.109365     1.186427\n",
       "4 -107.967466  184.499212      1.246147     2.226455    1.322774     1.351027\n",
       "0  -94.320132  161.255066      3.720091     2.234839    1.152159     1.202558\n",
       "1  -60.839414  165.553174      4.998047     2.081536    1.114780     1.154727"
      ]
     },
     "execution_count": 85,
     "metadata": {},
     "output_type": "execute_result"
    }
   ],
   "source": [
    "get_inverse_normalization(model_scaler, get_means(fitted_model, X_sample)).sort_values(['recence'])"
   ]
  },
  {
   "cell_type": "markdown",
   "id": "c8956603-b619-405e-89f6-3e22a45ded4c",
   "metadata": {},
   "source": [
    "#### Silhouette avec **8 clusters**"
   ]
  },
  {
   "cell_type": "code",
   "execution_count": 86,
   "id": "0ebfc4b0-9838-4546-8071-2124b960d89f",
   "metadata": {},
   "outputs": [
    {
     "name": "stdout",
     "output_type": "stream",
     "text": [
      "Silhouette score moyen: 0.454\n"
     ]
    },
    {
     "data": {
      "image/png": "[encoded data removed]",
      "text/plain": [
       "<Figure size 720x504 with 1 Axes>"
      ]
     },
     "metadata": {},
     "output_type": "display_data"
    }
   ],
   "source": [
    "fitted_model = plot_silhouette(KMeans(n_clusters=8, random_state=random_seed), X_sample)"
   ]
  },
  {
   "cell_type": "code",
   "execution_count": 87,
   "id": "4058ba37-011f-46c2-96f7-f91abd511674",
   "metadata": {},
   "outputs": [
    {
     "data": {
      "text/html": [
       "<div>\n",
       "<style scoped>\n",
       "    .dataframe tbody tr th:only-of-type {\n",
       "        vertical-align: middle;\n",
       "    }\n",
       "\n",
       "    .dataframe tbody tr th {\n",
       "        vertical-align: top;\n",
       "    }\n",
       "\n",
       "    .dataframe thead th {\n",
       "        text-align: right;\n",
       "    }\n",
       "</style>\n",
       "<table border=\"1\" class=\"dataframe\">\n",
       "  <thead>\n",
       "    <tr style=\"text-align: right;\">\n",
       "      <th></th>\n",
       "      <th>recence</th>\n",
       "      <th>montant</th>\n",
       "      <th>review_score</th>\n",
       "      <th>answer_days</th>\n",
       "      <th>mean_items</th>\n",
       "      <th>total_items</th>\n",
       "    </tr>\n",
       "  </thead>\n",
       "  <tbody>\n",
       "    <tr>\n",
       "      <th>5</th>\n",
       "      <td>-298.446317</td>\n",
       "      <td>170.777909</td>\n",
       "      <td>3.671428</td>\n",
       "      <td>2.463674</td>\n",
       "      <td>1.135490</td>\n",
       "      <td>1.235955</td>\n",
       "    </tr>\n",
       "    <tr>\n",
       "      <th>0</th>\n",
       "      <td>-297.591688</td>\n",
       "      <td>167.414002</td>\n",
       "      <td>4.993059</td>\n",
       "      <td>2.651216</td>\n",
       "      <td>1.109789</td>\n",
       "      <td>1.229003</td>\n",
       "    </tr>\n",
       "    <tr>\n",
       "      <th>2</th>\n",
       "      <td>-253.852830</td>\n",
       "      <td>195.095042</td>\n",
       "      <td>1.213333</td>\n",
       "      <td>2.251824</td>\n",
       "      <td>1.311195</td>\n",
       "      <td>1.400000</td>\n",
       "    </tr>\n",
       "    <tr>\n",
       "      <th>4</th>\n",
       "      <td>-183.344322</td>\n",
       "      <td>162.835866</td>\n",
       "      <td>3.668559</td>\n",
       "      <td>2.656986</td>\n",
       "      <td>1.150401</td>\n",
       "      <td>1.246991</td>\n",
       "    </tr>\n",
       "    <tr>\n",
       "      <th>3</th>\n",
       "      <td>-175.994729</td>\n",
       "      <td>159.140327</td>\n",
       "      <td>4.994641</td>\n",
       "      <td>2.291645</td>\n",
       "      <td>1.106528</td>\n",
       "      <td>1.181603</td>\n",
       "    </tr>\n",
       "    <tr>\n",
       "      <th>7</th>\n",
       "      <td>-103.269827</td>\n",
       "      <td>184.488241</td>\n",
       "      <td>1.254786</td>\n",
       "      <td>2.288514</td>\n",
       "      <td>1.340018</td>\n",
       "      <td>1.365542</td>\n",
       "    </tr>\n",
       "    <tr>\n",
       "      <th>6</th>\n",
       "      <td>-64.500631</td>\n",
       "      <td>159.732803</td>\n",
       "      <td>3.730429</td>\n",
       "      <td>2.288352</td>\n",
       "      <td>1.144886</td>\n",
       "      <td>1.193813</td>\n",
       "    </tr>\n",
       "    <tr>\n",
       "      <th>1</th>\n",
       "      <td>-59.743555</td>\n",
       "      <td>165.925216</td>\n",
       "      <td>4.998010</td>\n",
       "      <td>2.087427</td>\n",
       "      <td>1.115332</td>\n",
       "      <td>1.156038</td>\n",
       "    </tr>\n",
       "  </tbody>\n",
       "</table>\n",
       "</div>"
      ],
      "text/plain": [
       "      recence     montant  review_score  answer_days  mean_items  total_items\n",
       "5 -298.446317  170.777909      3.671428     2.463674    1.135490     1.235955\n",
       "0 -297.591688  167.414002      4.993059     2.651216    1.109789     1.229003\n",
       "2 -253.852830  195.095042      1.213333     2.251824    1.311195     1.400000\n",
       "4 -183.344322  162.835866      3.668559     2.656986    1.150401     1.246991\n",
       "3 -175.994729  159.140327      4.994641     2.291645    1.106528     1.181603\n",
       "7 -103.269827  184.488241      1.254786     2.288514    1.340018     1.365542\n",
       "6  -64.500631  159.732803      3.730429     2.288352    1.144886     1.193813\n",
       "1  -59.743555  165.925216      4.998010     2.087427    1.115332     1.156038"
      ]
     },
     "execution_count": 87,
     "metadata": {},
     "output_type": "execute_result"
    }
   ],
   "source": [
    "get_inverse_normalization(model_scaler, get_means(fitted_model, X_sample)).sort_values(['recence'])"
   ]
  },
  {
   "cell_type": "markdown",
   "id": "283613ac-9a90-4ffe-8a74-c8f8c01b46b6",
   "metadata": {},
   "source": [
    "#### Silhouette avec **9 clusters**"
   ]
  },
  {
   "cell_type": "code",
   "execution_count": 88,
   "id": "8b10b085-71bb-4461-834c-00a1114fafdc",
   "metadata": {},
   "outputs": [
    {
     "name": "stdout",
     "output_type": "stream",
     "text": [
      "Silhouette score moyen: 0.453\n"
     ]
    },
    {
     "data": {
      "image/png": "[encoded data removed]",
      "text/plain": [
       "<Figure size 720x504 with 1 Axes>"
      ]
     },
     "metadata": {},
     "output_type": "display_data"
    }
   ],
   "source": [
    "fitted_model = plot_silhouette(KMeans(n_clusters=9, random_state=random_seed), X_sample)"
   ]
  },
  {
   "cell_type": "code",
   "execution_count": 89,
   "id": "d19947e5-6a8c-4048-a27b-964075602fab",
   "metadata": {},
   "outputs": [
    {
     "data": {
      "text/html": [
       "<div>\n",
       "<style scoped>\n",
       "    .dataframe tbody tr th:only-of-type {\n",
       "        vertical-align: middle;\n",
       "    }\n",
       "\n",
       "    .dataframe tbody tr th {\n",
       "        vertical-align: top;\n",
       "    }\n",
       "\n",
       "    .dataframe thead th {\n",
       "        text-align: right;\n",
       "    }\n",
       "</style>\n",
       "<table border=\"1\" class=\"dataframe\">\n",
       "  <thead>\n",
       "    <tr style=\"text-align: right;\">\n",
       "      <th></th>\n",
       "      <th>recence</th>\n",
       "      <th>montant</th>\n",
       "      <th>review_score</th>\n",
       "      <th>answer_days</th>\n",
       "      <th>mean_items</th>\n",
       "      <th>total_items</th>\n",
       "    </tr>\n",
       "  </thead>\n",
       "  <tbody>\n",
       "    <tr>\n",
       "      <th>5</th>\n",
       "      <td>-298.380774</td>\n",
       "      <td>170.748533</td>\n",
       "      <td>3.671532</td>\n",
       "      <td>2.463986</td>\n",
       "      <td>1.135074</td>\n",
       "      <td>1.234082</td>\n",
       "    </tr>\n",
       "    <tr>\n",
       "      <th>0</th>\n",
       "      <td>-297.591688</td>\n",
       "      <td>167.414002</td>\n",
       "      <td>4.993059</td>\n",
       "      <td>2.651216</td>\n",
       "      <td>1.109789</td>\n",
       "      <td>1.229003</td>\n",
       "    </tr>\n",
       "    <tr>\n",
       "      <th>8</th>\n",
       "      <td>-288.948428</td>\n",
       "      <td>197.461660</td>\n",
       "      <td>1.242558</td>\n",
       "      <td>2.274214</td>\n",
       "      <td>1.337526</td>\n",
       "      <td>1.426415</td>\n",
       "    </tr>\n",
       "    <tr>\n",
       "      <th>4</th>\n",
       "      <td>-183.283029</td>\n",
       "      <td>163.329196</td>\n",
       "      <td>3.666118</td>\n",
       "      <td>2.655352</td>\n",
       "      <td>1.150870</td>\n",
       "      <td>1.250131</td>\n",
       "    </tr>\n",
       "    <tr>\n",
       "      <th>2</th>\n",
       "      <td>-178.585244</td>\n",
       "      <td>190.032293</td>\n",
       "      <td>1.196577</td>\n",
       "      <td>2.164673</td>\n",
       "      <td>1.296278</td>\n",
       "      <td>1.356929</td>\n",
       "    </tr>\n",
       "    <tr>\n",
       "      <th>3</th>\n",
       "      <td>-175.994729</td>\n",
       "      <td>159.140327</td>\n",
       "      <td>4.994641</td>\n",
       "      <td>2.291645</td>\n",
       "      <td>1.106528</td>\n",
       "      <td>1.181603</td>\n",
       "    </tr>\n",
       "    <tr>\n",
       "      <th>7</th>\n",
       "      <td>-64.943639</td>\n",
       "      <td>180.165330</td>\n",
       "      <td>1.269726</td>\n",
       "      <td>2.427536</td>\n",
       "      <td>1.352657</td>\n",
       "      <td>1.371981</td>\n",
       "    </tr>\n",
       "    <tr>\n",
       "      <th>6</th>\n",
       "      <td>-64.519899</td>\n",
       "      <td>159.750600</td>\n",
       "      <td>3.731207</td>\n",
       "      <td>2.289482</td>\n",
       "      <td>1.144978</td>\n",
       "      <td>1.193304</td>\n",
       "    </tr>\n",
       "    <tr>\n",
       "      <th>1</th>\n",
       "      <td>-59.743555</td>\n",
       "      <td>165.925216</td>\n",
       "      <td>4.998010</td>\n",
       "      <td>2.087427</td>\n",
       "      <td>1.115332</td>\n",
       "      <td>1.156038</td>\n",
       "    </tr>\n",
       "  </tbody>\n",
       "</table>\n",
       "</div>"
      ],
      "text/plain": [
       "      recence     montant  review_score  answer_days  mean_items  total_items\n",
       "5 -298.380774  170.748533      3.671532     2.463986    1.135074     1.234082\n",
       "0 -297.591688  167.414002      4.993059     2.651216    1.109789     1.229003\n",
       "8 -288.948428  197.461660      1.242558     2.274214    1.337526     1.426415\n",
       "4 -183.283029  163.329196      3.666118     2.655352    1.150870     1.250131\n",
       "2 -178.585244  190.032293      1.196577     2.164673    1.296278     1.356929\n",
       "3 -175.994729  159.140327      4.994641     2.291645    1.106528     1.181603\n",
       "7  -64.943639  180.165330      1.269726     2.427536    1.352657     1.371981\n",
       "6  -64.519899  159.750600      3.731207     2.289482    1.144978     1.193304\n",
       "1  -59.743555  165.925216      4.998010     2.087427    1.115332     1.156038"
      ]
     },
     "execution_count": 89,
     "metadata": {},
     "output_type": "execute_result"
    }
   ],
   "source": [
    "get_inverse_normalization(model_scaler, get_means(fitted_model, X_sample)).sort_values(['recence'])"
   ]
  },
  {
   "cell_type": "code",
   "execution_count": null,
   "id": "e3c66d0d-1cb8-4864-82fc-8ed2c1116c6c",
   "metadata": {},
   "outputs": [],
   "source": []
  },
  {
   "cell_type": "code",
   "execution_count": 90,
   "id": "bcc756c6-7ca9-423d-8276-fbca0175faee",
   "metadata": {},
   "outputs": [
    {
     "data": {
      "text/plain": [
       "count    74213.000000\n",
       "mean       169.126755\n",
       "std        222.862315\n",
       "min          0.000000\n",
       "25%         64.000000\n",
       "50%        110.890000\n",
       "75%        187.430000\n",
       "max       7274.880000\n",
       "Name: montant, dtype: float64"
      ]
     },
     "execution_count": 90,
     "metadata": {},
     "output_type": "execute_result"
    }
   ],
   "source": [
    "data_clustering.montant.describe()"
   ]
  },
  {
   "cell_type": "code",
   "execution_count": null,
   "id": "0deeef1d-aca2-4359-9a77-f70b24bcf575",
   "metadata": {},
   "outputs": [],
   "source": []
  },
  {
   "cell_type": "code",
   "execution_count": null,
   "id": "293d36ce-88c4-4fe1-9169-855acf9016da",
   "metadata": {},
   "outputs": [],
   "source": []
  },
  {
   "cell_type": "code",
   "execution_count": 91,
   "id": "b19f565c-3539-457a-9fb6-5b69df8328c8",
   "metadata": {},
   "outputs": [
    {
     "ename": "JupyterScriptCompleted",
     "evalue": "Jupyter is waiting",
     "output_type": "error",
     "traceback": [
      "\u001b[0;31m---------------------------------------------------------------------------\u001b[0m",
      "\u001b[0;31mJupyterScriptCompleted\u001b[0m                    Traceback (most recent call last)",
      "Input \u001b[0;32mIn [91]\u001b[0m, in \u001b[0;36m<cell line: 2>\u001b[0;34m()\u001b[0m\n\u001b[1;32m      1\u001b[0m \u001b[38;5;28;01mimport\u001b[39;00m \u001b[38;5;21;01mFreeMobileSMS\u001b[39;00m \u001b[38;5;28;01mas\u001b[39;00m \u001b[38;5;21;01msms\u001b[39;00m\n\u001b[0;32m----> 2\u001b[0m \u001b[43msms\u001b[49m\u001b[38;5;241;43m.\u001b[39;49m\u001b[43msend\u001b[49m\u001b[43m(\u001b[49m\u001b[43m)\u001b[49m\n",
      "File \u001b[0;32m~/Dev/OpenClassrooms/Projets_AI/P5/FreeMobileSMS.py:25\u001b[0m, in \u001b[0;36msend\u001b[0;34m(msg, user, apikey, stop)\u001b[0m\n\u001b[1;32m     22\u001b[0m requests\u001b[38;5;241m.\u001b[39mget(sms_url)\n\u001b[1;32m     24\u001b[0m \u001b[38;5;28;01mif\u001b[39;00m stop:\n\u001b[0;32m---> 25\u001b[0m     \u001b[38;5;28;01mraise\u001b[39;00m JupyterScriptCompleted(msg)\n",
      "\u001b[0;31mJupyterScriptCompleted\u001b[0m: Jupyter is waiting"
     ]
    }
   ],
   "source": [
    "import FreeMobileSMS as sms\n",
    "sms.send()"
   ]
  },
  {
   "cell_type": "code",
   "execution_count": null,
   "id": "fac025aa-3aa7-4572-a0ef-409dcd7e108c",
   "metadata": {},
   "outputs": [],
   "source": [
    "stop"
   ]
  },
  {
   "cell_type": "code",
   "execution_count": null,
   "id": "45d1ed6b-148c-4dd9-844a-848b4a45ead9",
   "metadata": {},
   "outputs": [],
   "source": []
  },
  {
   "cell_type": "code",
   "execution_count": null,
   "id": "5d4cbfcf-9f39-4e79-a9f0-579c48b7b860",
   "metadata": {},
   "outputs": [],
   "source": [
    "import math"
   ]
  },
  {
   "cell_type": "code",
   "execution_count": null,
   "id": "70b21dad-7746-45f7-a90a-ba2e2b71c2aa",
   "metadata": {},
   "outputs": [],
   "source": [
    "for j in range(3, 8):\n",
    "    fig = plt.figure(figsize=(15, 7))\n",
    "    plt.title(f\"KMeans with {j} clusters\")\n",
    "    model = KMeans(n_clusters=j, random_state=0)\n",
    "    visualizer = InterclusterDistance(model, colors='yellowbrick')\n",
    "    visualizer.fit(X_sample)\n",
    "    visualizer.show();"
   ]
  },
  {
   "cell_type": "code",
   "execution_count": null,
   "id": "2c94ef8d-9871-47aa-89c6-aec364a7df14",
   "metadata": {},
   "outputs": [],
   "source": [
    "k_range = range(3, 8)\n",
    "X_xxx = X_sample[['recence', 'montant']]\n",
    "k_size = len(k_range)\n",
    "for i, j in enumerate(k_range):\n",
    "    model = KMeans(n_clusters=j, random_state=0)\n",
    "    model.fit(X_xxx)\n",
    "\n",
    "    fig = plt.figure(figsize=(15, 7))\n",
    "    plt.title(f\"KMeans with {j} clusters\")\n",
    "    sns.scatterplot(x=X_xxx['recence'], y=X_xxx['montant'], hue=model.labels_)\n",
    "    plt.show()"
   ]
  },
  {
   "cell_type": "code",
   "execution_count": null,
   "id": "1559a055-4f21-4675-9546-79032c9b8701",
   "metadata": {},
   "outputs": [],
   "source": []
  }
 ],
 "metadata": {
  "kernelspec": {
   "display_name": "venvP5",
   "language": "python",
   "name": "venvp5"
  },
  "language_info": {
   "codemirror_mode": {
    "name": "ipython",
    "version": 3
   },
   "file_extension": ".py",
   "mimetype": "text/x-python",
   "name": "python",
   "nbconvert_exporter": "python",
   "pygments_lexer": "ipython3",
   "version": "3.8.10"
  }
 },
 "nbformat": 4,
 "nbformat_minor": 5
}
