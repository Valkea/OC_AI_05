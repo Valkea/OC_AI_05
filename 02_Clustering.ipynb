{
 "cells": [
  {
   "cell_type": "markdown",
   "id": "592bc17f-d636-43ba-9995-d3e29c39dc8d",
   "metadata": {},
   "source": [
    "# Menu <a class=\"anchor\" id=\"menu\"></a>\n",
    "\n",
    "* [1. Segmentation par **RFM** ](#rfm)\n",
    "* ~~[2. Segmentation par **KMeans** ](#kmeans)~~\n",
    "* ~~[3. Segmentation par **CAH** ](#cah)~~\n",
    "* ~~[4. Segmentation par **DBScan** ](#dbscan)~~"
   ]
  },
  {
   "cell_type": "markdown",
   "id": "e8ece261-9c7a-4580-885c-deebfe24a7cd",
   "metadata": {},
   "source": [
    "# La segmentation\n",
    "\n",
    "Segmenter consiste à **créer des segments homogènes de clients** que l’on peut ensuite activer dans des campagnes marketing ciblées. Cette approche permet de mieux cibler les campagnes et scénarios marketing; on segmente les clients en fonction de critères de segmentation.\n",
    "\n",
    "Il y a théoriquement autant de méthodes de segmentation qu’il y a de critères et de combinaisons de critères possibles. Mais certaines méthodes se sont imposées en raison de leur efficacité."
   ]
  },
  {
   "cell_type": "markdown",
   "id": "012c8fae-9494-4804-8227-fa19fc94df15",
   "metadata": {
    "tags": []
   },
   "source": [
    "---\n",
    "# Préparatifs "
   ]
  },
  {
   "cell_type": "code",
   "execution_count": 1,
   "id": "550a67b6-0cb6-495b-a328-2e3ffcf6bfc5",
   "metadata": {
    "tags": []
   },
   "outputs": [],
   "source": [
    "import os\n",
    "#import re\n",
    "#import math\n",
    "#import string\n",
    "import datetime\n",
    "#import unicodedata\n",
    "#import json\n",
    "from zipfile import ZipFile\n",
    "\n",
    "import numpy as np\n",
    "import pandas as pd\n",
    "import matplotlib.pyplot as plt\n",
    "#import seaborn as sns\n",
    "import squarify\n",
    "\n",
    "random_seed = 0\n",
    "np.random.seed(random_seed)\n",
    "\n",
    "#import warnings\n",
    "#warnings.filterwarnings('ignore')\n",
    "\n",
    "#import gc\n",
    "#gc.enable()"
   ]
  },
  {
   "cell_type": "code",
   "execution_count": 2,
   "id": "63b7ee71-8a1f-4b0d-94a7-b6eba182a990",
   "metadata": {},
   "outputs": [],
   "source": [
    "def load_from_zip( csv_name ):\n",
    "    return pd.read_csv(ZipFile(os.path.join(\"data\",f\"{csv_name}.zip\")).open(csv_name))\n",
    "\n",
    "#data_geo = load_from_zip(\"olist_geolocation_dataset.csv\")\n",
    "#data_geo = pd.read_csv(os.path.join('data',\"olist_geolocation_dataset_clean.csv\"))\n",
    "\n",
    "#data_customer = load_from_zip(\"olist_customers_dataset_clean.csv\")\n",
    "data_customer = pd.read_csv(os.path.join('data',\"olist_customers_dataset_clean.csv\"))\n",
    "\n",
    "#data_orders = load_from_zip(\"olist_orders_dataset.csv\")\n",
    "data_orders = pd.read_csv(os.path.join('data',\"olist_orders_dataset_clean.csv\"))\n",
    "\n",
    "#data_items = load_from_zip(\"olist_order_items_dataset.csv\")\n",
    "#data_items = pd.read_csv(os.path.join('data',\"olist_order_items_dataset_clean.csv\"))\n",
    "\n",
    "#data_products = load_from_zip(\"olist_products_dataset.csv\")\n",
    "#data_products = pd.read_csv(os.path.join('data',\"olist_products_dataset_clean.csv\"))\n",
    "\n",
    "#data_payments = load_from_zip(\"olist_order_payments_dataset.csv\")\n",
    "data_payments = pd.read_csv(os.path.join('data',\"olist_order_payments_dataset_clean.csv\"))\n",
    "\n",
    "#data_reviews = load_from_zip(\"olist_order_reviews_dataset.csv\")\n",
    "#data_reviews = pd.read_csv(os.path.join('data',\"olist_order_reviews_dataset_clean.csv\"))\n",
    "\n",
    "#data_sellers = pd.read_csv(os.path.join('data',\"olist_sellers_dataset_clean.csv\"))\n",
    "#data_categories = pd.read_csv(os.path.join('data',\"product_category_name_translation_clean.csv\"))"
   ]
  },
  {
   "cell_type": "markdown",
   "id": "35c0e706-adfa-4a1a-aefe-d4144834b3f2",
   "metadata": {},
   "source": [
    "---\n",
    "# 1. Segmentation RFM *(Récence, Fréquence et Montant)* <a class=\"anchor\" id=\"rfm\"></a> [⇪](#menu)\n",
    "\n",
    "La segmentation RFM est l’une des techniques de segmentation incontournables pour améliorer le ciblage marketing et augmenter le revenu par client. \n",
    "\n",
    "Cette méthode est une **segmentation 100% comportementale**; on ne segmente pas  les clients en fonction de ce qu’ils sont *(genre, sexe, ville, CSP...)*, ni en fonction de ce qu’ils aiment *(centres d’intérêt, goûts)*, mais en fonction de ce qu’ils achètent.\n",
    "\n",
    "Le principe sous-jacent est simple : un client qui a acheté récemment, qui achète fréquemment et qui génère beaucoup de chiffre d’affaires commandera à nouveau, à coup quasiment sûr.\n",
    "\n",
    "La segmentation RFM repose sur ces 3 critères :\n",
    "- La **Récence** : Combien de temps s’est-il écoulé depuis la dernière activité du client *(achat/visite web/visite app...)* ?\n",
    "- La **Fréquence** : Au cours d’une période de temps donnée, combien de fois un client a-t-il acheté ou interagi avec la marque ? \n",
    "- Le **Montant** : Combien un client a-t-il dépensé d’argent au cours d’une période de temps donnée ?"
   ]
  },
  {
   "cell_type": "markdown",
   "id": "0a7237a4-7b1d-4dfc-9a50-fa89f4ad9816",
   "metadata": {},
   "source": [
    "## Préparatifs"
   ]
  },
  {
   "cell_type": "markdown",
   "id": "5136f54a-dc26-4406-9448-cebe1d4de2aa",
   "metadata": {},
   "source": [
    "> **Temporalité** : comme nos analyses ont montrés que l'activité n'était pas fiable au début et à la fin de la timeline disponible, nous pourrions restreintre notre jeu de données entre **Janvier 2017** et **Aout 2018**. Mais comme il est recommandé de faire une RFM sur une période cyclique et réutilisable d'une semaine, d'un mois ou d'une année, nous allons prendre les données allant de fin août 2017 à fin août 2018 (donc les données les plus récentes sur 1 an)."
   ]
  },
  {
   "cell_type": "markdown",
   "id": "67b4867a-9407-459a-b430-c48afcb29e2d",
   "metadata": {},
   "source": [
    "#### D'abord on restreint la selection entre le 01/09/2017 et le 01/09/2018 pour avoir une période d'un an et on ne garde que ceux dont le processus de livraison est allé jusqu'au bout (delivered)"
   ]
  },
  {
   "cell_type": "code",
   "execution_count": 3,
   "id": "b812c170-782e-4bc8-a819-4018e900185c",
   "metadata": {},
   "outputs": [
    {
     "data": {
      "text/html": [
       "<div>\n",
       "<style scoped>\n",
       "    .dataframe tbody tr th:only-of-type {\n",
       "        vertical-align: middle;\n",
       "    }\n",
       "\n",
       "    .dataframe tbody tr th {\n",
       "        vertical-align: top;\n",
       "    }\n",
       "\n",
       "    .dataframe thead th {\n",
       "        text-align: right;\n",
       "    }\n",
       "</style>\n",
       "<table border=\"1\" class=\"dataframe\">\n",
       "  <thead>\n",
       "    <tr style=\"text-align: right;\">\n",
       "      <th></th>\n",
       "      <th>order_id</th>\n",
       "      <th>customer_id</th>\n",
       "      <th>order_purchase_timestamp</th>\n",
       "    </tr>\n",
       "  </thead>\n",
       "  <tbody>\n",
       "    <tr>\n",
       "      <th>0</th>\n",
       "      <td>e481f51cbdc54678b7cc49136f2d6af7</td>\n",
       "      <td>9ef432eb6251297304e76186b10a928d</td>\n",
       "      <td>2017-10-02 10:56:33</td>\n",
       "    </tr>\n",
       "    <tr>\n",
       "      <th>1</th>\n",
       "      <td>53cdb2fc8bc7dce0b6741e2150273451</td>\n",
       "      <td>b0830fb4747a6c6d20dea0b8c802d7ef</td>\n",
       "      <td>2018-07-24 20:41:37</td>\n",
       "    </tr>\n",
       "    <tr>\n",
       "      <th>2</th>\n",
       "      <td>47770eb9100c2d0c44946d9cf07ec65d</td>\n",
       "      <td>41ce2a54c0b03bf3443c3d931a367089</td>\n",
       "      <td>2018-08-08 08:38:49</td>\n",
       "    </tr>\n",
       "    <tr>\n",
       "      <th>3</th>\n",
       "      <td>949d5b44dbf5de918fe9c16f97b45f8a</td>\n",
       "      <td>f88197465ea7920adcdbec7375364d82</td>\n",
       "      <td>2017-11-18 19:28:06</td>\n",
       "    </tr>\n",
       "    <tr>\n",
       "      <th>4</th>\n",
       "      <td>ad21c59c0840e6cb83a9ceb5573f8159</td>\n",
       "      <td>8ab97904e6daea8866dbdbc4fb7aad2c</td>\n",
       "      <td>2018-02-13 21:18:39</td>\n",
       "    </tr>\n",
       "  </tbody>\n",
       "</table>\n",
       "</div>"
      ],
      "text/plain": [
       "                           order_id                       customer_id  \\\n",
       "0  e481f51cbdc54678b7cc49136f2d6af7  9ef432eb6251297304e76186b10a928d   \n",
       "1  53cdb2fc8bc7dce0b6741e2150273451  b0830fb4747a6c6d20dea0b8c802d7ef   \n",
       "2  47770eb9100c2d0c44946d9cf07ec65d  41ce2a54c0b03bf3443c3d931a367089   \n",
       "3  949d5b44dbf5de918fe9c16f97b45f8a  f88197465ea7920adcdbec7375364d82   \n",
       "4  ad21c59c0840e6cb83a9ceb5573f8159  8ab97904e6daea8866dbdbc4fb7aad2c   \n",
       "\n",
       "  order_purchase_timestamp  \n",
       "0      2017-10-02 10:56:33  \n",
       "1      2018-07-24 20:41:37  \n",
       "2      2018-08-08 08:38:49  \n",
       "3      2017-11-18 19:28:06  \n",
       "4      2018-02-13 21:18:39  "
      ]
     },
     "execution_count": 3,
     "metadata": {},
     "output_type": "execute_result"
    }
   ],
   "source": [
    "selection1 = data_orders[ \n",
    "    (data_orders.order_purchase_timestamp >= '2017-09-01 00:00:00') & \n",
    "    (data_orders.order_purchase_timestamp < '2018-09-01 00:00:00') & \n",
    "    (data_orders.order_status == 'delivered') ][['order_id', 'customer_id', 'order_purchase_timestamp']]\n",
    "selection1.head()"
   ]
  },
  {
   "cell_type": "markdown",
   "id": "aa588e15-aac7-4bb9-b339-6672155a25a4",
   "metadata": {},
   "source": [
    "#### Puis on associe ces commandes aux id uniques des clients qui les ont passées"
   ]
  },
  {
   "cell_type": "code",
   "execution_count": 4,
   "id": "6e6e19f1-aceb-41d9-9526-28f0a15f63a6",
   "metadata": {},
   "outputs": [
    {
     "data": {
      "text/html": [
       "<div>\n",
       "<style scoped>\n",
       "    .dataframe tbody tr th:only-of-type {\n",
       "        vertical-align: middle;\n",
       "    }\n",
       "\n",
       "    .dataframe tbody tr th {\n",
       "        vertical-align: top;\n",
       "    }\n",
       "\n",
       "    .dataframe thead th {\n",
       "        text-align: right;\n",
       "    }\n",
       "</style>\n",
       "<table border=\"1\" class=\"dataframe\">\n",
       "  <thead>\n",
       "    <tr style=\"text-align: right;\">\n",
       "      <th></th>\n",
       "      <th>order_id</th>\n",
       "      <th>customer_id</th>\n",
       "      <th>order_purchase_timestamp</th>\n",
       "      <th>customer_unique_id</th>\n",
       "    </tr>\n",
       "  </thead>\n",
       "  <tbody>\n",
       "    <tr>\n",
       "      <th>0</th>\n",
       "      <td>e481f51cbdc54678b7cc49136f2d6af7</td>\n",
       "      <td>9ef432eb6251297304e76186b10a928d</td>\n",
       "      <td>2017-10-02 10:56:33</td>\n",
       "      <td>7c396fd4830fd04220f754e42b4e5bff</td>\n",
       "    </tr>\n",
       "    <tr>\n",
       "      <th>1</th>\n",
       "      <td>53cdb2fc8bc7dce0b6741e2150273451</td>\n",
       "      <td>b0830fb4747a6c6d20dea0b8c802d7ef</td>\n",
       "      <td>2018-07-24 20:41:37</td>\n",
       "      <td>af07308b275d755c9edb36a90c618231</td>\n",
       "    </tr>\n",
       "    <tr>\n",
       "      <th>2</th>\n",
       "      <td>47770eb9100c2d0c44946d9cf07ec65d</td>\n",
       "      <td>41ce2a54c0b03bf3443c3d931a367089</td>\n",
       "      <td>2018-08-08 08:38:49</td>\n",
       "      <td>3a653a41f6f9fc3d2a113cf8398680e8</td>\n",
       "    </tr>\n",
       "    <tr>\n",
       "      <th>3</th>\n",
       "      <td>949d5b44dbf5de918fe9c16f97b45f8a</td>\n",
       "      <td>f88197465ea7920adcdbec7375364d82</td>\n",
       "      <td>2017-11-18 19:28:06</td>\n",
       "      <td>7c142cf63193a1473d2e66489a9ae977</td>\n",
       "    </tr>\n",
       "    <tr>\n",
       "      <th>4</th>\n",
       "      <td>ad21c59c0840e6cb83a9ceb5573f8159</td>\n",
       "      <td>8ab97904e6daea8866dbdbc4fb7aad2c</td>\n",
       "      <td>2018-02-13 21:18:39</td>\n",
       "      <td>72632f0f9dd73dfee390c9b22eb56dd6</td>\n",
       "    </tr>\n",
       "  </tbody>\n",
       "</table>\n",
       "</div>"
      ],
      "text/plain": [
       "                           order_id                       customer_id  \\\n",
       "0  e481f51cbdc54678b7cc49136f2d6af7  9ef432eb6251297304e76186b10a928d   \n",
       "1  53cdb2fc8bc7dce0b6741e2150273451  b0830fb4747a6c6d20dea0b8c802d7ef   \n",
       "2  47770eb9100c2d0c44946d9cf07ec65d  41ce2a54c0b03bf3443c3d931a367089   \n",
       "3  949d5b44dbf5de918fe9c16f97b45f8a  f88197465ea7920adcdbec7375364d82   \n",
       "4  ad21c59c0840e6cb83a9ceb5573f8159  8ab97904e6daea8866dbdbc4fb7aad2c   \n",
       "\n",
       "  order_purchase_timestamp                customer_unique_id  \n",
       "0      2017-10-02 10:56:33  7c396fd4830fd04220f754e42b4e5bff  \n",
       "1      2018-07-24 20:41:37  af07308b275d755c9edb36a90c618231  \n",
       "2      2018-08-08 08:38:49  3a653a41f6f9fc3d2a113cf8398680e8  \n",
       "3      2017-11-18 19:28:06  7c142cf63193a1473d2e66489a9ae977  \n",
       "4      2018-02-13 21:18:39  72632f0f9dd73dfee390c9b22eb56dd6  "
      ]
     },
     "execution_count": 4,
     "metadata": {},
     "output_type": "execute_result"
    }
   ],
   "source": [
    "selection2 = selection1.merge(data_customer[['customer_id','customer_unique_id']], on='customer_id', how='left')\n",
    "selection2.head()"
   ]
  },
  {
   "cell_type": "markdown",
   "id": "b8b10c74-e683-4cd9-8f9c-ad2f9661986b",
   "metadata": {},
   "source": [
    "## Calcul de la `Récence`"
   ]
  },
  {
   "cell_type": "markdown",
   "id": "1fc960c1-b497-4b5b-8c0a-9fe0984ab408",
   "metadata": {},
   "source": [
    "#### On converti la date d'achat en nombre de jours écoulés *(depuis le moment ou l'on arrête notre selection donc le 01/09/2018)*"
   ]
  },
  {
   "cell_type": "code",
   "execution_count": 5,
   "id": "856036d0-841b-4a4f-94df-53178ce26ab6",
   "metadata": {},
   "outputs": [
    {
     "data": {
      "text/html": [
       "<div>\n",
       "<style scoped>\n",
       "    .dataframe tbody tr th:only-of-type {\n",
       "        vertical-align: middle;\n",
       "    }\n",
       "\n",
       "    .dataframe tbody tr th {\n",
       "        vertical-align: top;\n",
       "    }\n",
       "\n",
       "    .dataframe thead th {\n",
       "        text-align: right;\n",
       "    }\n",
       "</style>\n",
       "<table border=\"1\" class=\"dataframe\">\n",
       "  <thead>\n",
       "    <tr style=\"text-align: right;\">\n",
       "      <th></th>\n",
       "      <th>order_id</th>\n",
       "      <th>customer_id</th>\n",
       "      <th>customer_unique_id</th>\n",
       "      <th>days_ago</th>\n",
       "    </tr>\n",
       "  </thead>\n",
       "  <tbody>\n",
       "    <tr>\n",
       "      <th>0</th>\n",
       "      <td>e481f51cbdc54678b7cc49136f2d6af7</td>\n",
       "      <td>9ef432eb6251297304e76186b10a928d</td>\n",
       "      <td>7c396fd4830fd04220f754e42b4e5bff</td>\n",
       "      <td>-334</td>\n",
       "    </tr>\n",
       "    <tr>\n",
       "      <th>1</th>\n",
       "      <td>53cdb2fc8bc7dce0b6741e2150273451</td>\n",
       "      <td>b0830fb4747a6c6d20dea0b8c802d7ef</td>\n",
       "      <td>af07308b275d755c9edb36a90c618231</td>\n",
       "      <td>-39</td>\n",
       "    </tr>\n",
       "    <tr>\n",
       "      <th>2</th>\n",
       "      <td>47770eb9100c2d0c44946d9cf07ec65d</td>\n",
       "      <td>41ce2a54c0b03bf3443c3d931a367089</td>\n",
       "      <td>3a653a41f6f9fc3d2a113cf8398680e8</td>\n",
       "      <td>-24</td>\n",
       "    </tr>\n",
       "    <tr>\n",
       "      <th>3</th>\n",
       "      <td>949d5b44dbf5de918fe9c16f97b45f8a</td>\n",
       "      <td>f88197465ea7920adcdbec7375364d82</td>\n",
       "      <td>7c142cf63193a1473d2e66489a9ae977</td>\n",
       "      <td>-287</td>\n",
       "    </tr>\n",
       "    <tr>\n",
       "      <th>4</th>\n",
       "      <td>ad21c59c0840e6cb83a9ceb5573f8159</td>\n",
       "      <td>8ab97904e6daea8866dbdbc4fb7aad2c</td>\n",
       "      <td>72632f0f9dd73dfee390c9b22eb56dd6</td>\n",
       "      <td>-200</td>\n",
       "    </tr>\n",
       "  </tbody>\n",
       "</table>\n",
       "</div>"
      ],
      "text/plain": [
       "                           order_id                       customer_id  \\\n",
       "0  e481f51cbdc54678b7cc49136f2d6af7  9ef432eb6251297304e76186b10a928d   \n",
       "1  53cdb2fc8bc7dce0b6741e2150273451  b0830fb4747a6c6d20dea0b8c802d7ef   \n",
       "2  47770eb9100c2d0c44946d9cf07ec65d  41ce2a54c0b03bf3443c3d931a367089   \n",
       "3  949d5b44dbf5de918fe9c16f97b45f8a  f88197465ea7920adcdbec7375364d82   \n",
       "4  ad21c59c0840e6cb83a9ceb5573f8159  8ab97904e6daea8866dbdbc4fb7aad2c   \n",
       "\n",
       "                 customer_unique_id  days_ago  \n",
       "0  7c396fd4830fd04220f754e42b4e5bff      -334  \n",
       "1  af07308b275d755c9edb36a90c618231       -39  \n",
       "2  3a653a41f6f9fc3d2a113cf8398680e8       -24  \n",
       "3  7c142cf63193a1473d2e66489a9ae977      -287  \n",
       "4  72632f0f9dd73dfee390c9b22eb56dd6      -200  "
      ]
     },
     "execution_count": 5,
     "metadata": {},
     "output_type": "execute_result"
    }
   ],
   "source": [
    "ref_date = datetime.datetime.strptime('2018-09-01 00:00:00', '%Y-%m-%d %H:%M:%S')\n",
    "selection3 = selection2.copy()\n",
    "\n",
    "selection3.order_purchase_timestamp = selection2.order_purchase_timestamp.apply(lambda x: datetime.datetime.strptime(x, '%Y-%m-%d %H:%M:%S'))\n",
    "selection3['days_ago'] = selection3.order_purchase_timestamp - ref_date\n",
    "selection3['days_ago'] = selection3.days_ago.apply(lambda x: x.days)\n",
    "selection3.drop(columns=['order_purchase_timestamp'], inplace=True)\n",
    "selection3.head()"
   ]
  },
  {
   "cell_type": "code",
   "execution_count": 6,
   "id": "223982e3-b4fd-497c-b9f9-82b30a324ca8",
   "metadata": {},
   "outputs": [
    {
     "data": {
      "text/html": [
       "<div>\n",
       "<style scoped>\n",
       "    .dataframe tbody tr th:only-of-type {\n",
       "        vertical-align: middle;\n",
       "    }\n",
       "\n",
       "    .dataframe tbody tr th {\n",
       "        vertical-align: top;\n",
       "    }\n",
       "\n",
       "    .dataframe thead th {\n",
       "        text-align: right;\n",
       "    }\n",
       "</style>\n",
       "<table border=\"1\" class=\"dataframe\">\n",
       "  <thead>\n",
       "    <tr style=\"text-align: right;\">\n",
       "      <th></th>\n",
       "      <th>count</th>\n",
       "      <th>mean</th>\n",
       "      <th>std</th>\n",
       "      <th>min</th>\n",
       "      <th>25%</th>\n",
       "      <th>50%</th>\n",
       "      <th>75%</th>\n",
       "      <th>max</th>\n",
       "    </tr>\n",
       "  </thead>\n",
       "  <tbody>\n",
       "    <tr>\n",
       "      <th>days_ago</th>\n",
       "      <td>74213.0</td>\n",
       "      <td>-176.203778</td>\n",
       "      <td>99.367873</td>\n",
       "      <td>-365.0</td>\n",
       "      <td>-263.0</td>\n",
       "      <td>-176.0</td>\n",
       "      <td>-92.0</td>\n",
       "      <td>-3.0</td>\n",
       "    </tr>\n",
       "  </tbody>\n",
       "</table>\n",
       "</div>"
      ],
      "text/plain": [
       "            count        mean        std    min    25%    50%   75%  max\n",
       "days_ago  74213.0 -176.203778  99.367873 -365.0 -263.0 -176.0 -92.0 -3.0"
      ]
     },
     "execution_count": 6,
     "metadata": {},
     "output_type": "execute_result"
    }
   ],
   "source": [
    "selection3.describe().T"
   ]
  },
  {
   "cell_type": "markdown",
   "id": "5e4b87a1-2b31-4959-b957-8dde326245c5",
   "metadata": {},
   "source": [
    "#### Puis, on crée une **nouvelle table** `R_data` qui stoque la **recence** *(la plus petite valeur `days_ago`)* de chaque client"
   ]
  },
  {
   "cell_type": "code",
   "execution_count": 7,
   "id": "2e81e6c0-af95-461f-aebc-170c0059ed19",
   "metadata": {},
   "outputs": [
    {
     "data": {
      "text/html": [
       "<div>\n",
       "<style scoped>\n",
       "    .dataframe tbody tr th:only-of-type {\n",
       "        vertical-align: middle;\n",
       "    }\n",
       "\n",
       "    .dataframe tbody tr th {\n",
       "        vertical-align: top;\n",
       "    }\n",
       "\n",
       "    .dataframe thead th {\n",
       "        text-align: right;\n",
       "    }\n",
       "</style>\n",
       "<table border=\"1\" class=\"dataframe\">\n",
       "  <thead>\n",
       "    <tr style=\"text-align: right;\">\n",
       "      <th></th>\n",
       "      <th>customer_unique_id</th>\n",
       "      <th>recence</th>\n",
       "    </tr>\n",
       "  </thead>\n",
       "  <tbody>\n",
       "    <tr>\n",
       "      <th>0</th>\n",
       "      <td>0000366f3b9a7992bf8c76cfdf3221e2</td>\n",
       "      <td>-114</td>\n",
       "    </tr>\n",
       "    <tr>\n",
       "      <th>1</th>\n",
       "      <td>0000b849f77a49e4a4ce2b2a4ca5be3f</td>\n",
       "      <td>-117</td>\n",
       "    </tr>\n",
       "    <tr>\n",
       "      <th>2</th>\n",
       "      <td>0000f6ccb0745a6a4b88665a16c9f078</td>\n",
       "      <td>-324</td>\n",
       "    </tr>\n",
       "    <tr>\n",
       "      <th>3</th>\n",
       "      <td>0004aac84e0df4da2b147fca70cf8255</td>\n",
       "      <td>-291</td>\n",
       "    </tr>\n",
       "    <tr>\n",
       "      <th>4</th>\n",
       "      <td>0004bd2a26a76fe21f786e4fbd80607f</td>\n",
       "      <td>-149</td>\n",
       "    </tr>\n",
       "  </tbody>\n",
       "</table>\n",
       "</div>"
      ],
      "text/plain": [
       "                 customer_unique_id  recence\n",
       "0  0000366f3b9a7992bf8c76cfdf3221e2     -114\n",
       "1  0000b849f77a49e4a4ce2b2a4ca5be3f     -117\n",
       "2  0000f6ccb0745a6a4b88665a16c9f078     -324\n",
       "3  0004aac84e0df4da2b147fca70cf8255     -291\n",
       "4  0004bd2a26a76fe21f786e4fbd80607f     -149"
      ]
     },
     "execution_count": 7,
     "metadata": {},
     "output_type": "execute_result"
    }
   ],
   "source": [
    "R_data = selection3[['customer_unique_id', 'days_ago']].groupby('customer_unique_id').min().reset_index()\n",
    "R_data.rename(columns={'days_ago':'recence'}, inplace=True)\n",
    "R_data.head()"
   ]
  },
  {
   "cell_type": "code",
   "execution_count": 8,
   "id": "d4c58f9c-0e40-4374-aace-2946ae4e369b",
   "metadata": {},
   "outputs": [
    {
     "data": {
      "text/html": [
       "<div>\n",
       "<style scoped>\n",
       "    .dataframe tbody tr th:only-of-type {\n",
       "        vertical-align: middle;\n",
       "    }\n",
       "\n",
       "    .dataframe tbody tr th {\n",
       "        vertical-align: top;\n",
       "    }\n",
       "\n",
       "    .dataframe thead th {\n",
       "        text-align: right;\n",
       "    }\n",
       "</style>\n",
       "<table border=\"1\" class=\"dataframe\">\n",
       "  <thead>\n",
       "    <tr style=\"text-align: right;\">\n",
       "      <th></th>\n",
       "      <th>count</th>\n",
       "      <th>mean</th>\n",
       "      <th>std</th>\n",
       "      <th>min</th>\n",
       "      <th>25%</th>\n",
       "      <th>50%</th>\n",
       "      <th>75%</th>\n",
       "      <th>max</th>\n",
       "    </tr>\n",
       "  </thead>\n",
       "  <tbody>\n",
       "    <tr>\n",
       "      <th>recence</th>\n",
       "      <td>72247.0</td>\n",
       "      <td>-176.54805</td>\n",
       "      <td>99.464265</td>\n",
       "      <td>-365.0</td>\n",
       "      <td>-264.0</td>\n",
       "      <td>-176.0</td>\n",
       "      <td>-92.5</td>\n",
       "      <td>-3.0</td>\n",
       "    </tr>\n",
       "  </tbody>\n",
       "</table>\n",
       "</div>"
      ],
      "text/plain": [
       "           count       mean        std    min    25%    50%   75%  max\n",
       "recence  72247.0 -176.54805  99.464265 -365.0 -264.0 -176.0 -92.5 -3.0"
      ]
     },
     "execution_count": 8,
     "metadata": {},
     "output_type": "execute_result"
    }
   ],
   "source": [
    "R_data.describe().T"
   ]
  },
  {
   "cell_type": "markdown",
   "id": "3c1ae7eb-caf4-4b10-b22a-3c288436a8b1",
   "metadata": {},
   "source": [
    "## Calcul de la `Fréquence`"
   ]
  },
  {
   "cell_type": "markdown",
   "id": "46b435a3-716d-4620-a1a5-09c7d90ae64a",
   "metadata": {},
   "source": [
    "#### On ajoute la fréquence de chaque commande; c'est à dire 1..."
   ]
  },
  {
   "cell_type": "code",
   "execution_count": 9,
   "id": "a795af2d-dbb4-4911-89af-cf967d307fd7",
   "metadata": {},
   "outputs": [],
   "source": [
    "selection4 = selection3.copy()\n",
    "selection4['frequence'] = 1"
   ]
  },
  {
   "cell_type": "markdown",
   "id": "4c85894f-0faa-40d1-8e46-c24166d32499",
   "metadata": {},
   "source": [
    "#### Puis, on crée une **nouvelle table** `F_data` qui stoque la **frequence** *(le total du nombre de commande passées dans la période choisie)* de chaque client"
   ]
  },
  {
   "cell_type": "code",
   "execution_count": 10,
   "id": "c9a80890-8581-4379-8a5d-d0bbed3b147c",
   "metadata": {},
   "outputs": [
    {
     "data": {
      "text/html": [
       "<div>\n",
       "<style scoped>\n",
       "    .dataframe tbody tr th:only-of-type {\n",
       "        vertical-align: middle;\n",
       "    }\n",
       "\n",
       "    .dataframe tbody tr th {\n",
       "        vertical-align: top;\n",
       "    }\n",
       "\n",
       "    .dataframe thead th {\n",
       "        text-align: right;\n",
       "    }\n",
       "</style>\n",
       "<table border=\"1\" class=\"dataframe\">\n",
       "  <thead>\n",
       "    <tr style=\"text-align: right;\">\n",
       "      <th></th>\n",
       "      <th>customer_unique_id</th>\n",
       "      <th>frequence</th>\n",
       "    </tr>\n",
       "  </thead>\n",
       "  <tbody>\n",
       "    <tr>\n",
       "      <th>39752</th>\n",
       "      <td>8d50f5eadf50201ccdcedfb9e2ac8455</td>\n",
       "      <td>11</td>\n",
       "    </tr>\n",
       "    <tr>\n",
       "      <th>17595</th>\n",
       "      <td>3e43e6105506432c953e165fb2acf44c</td>\n",
       "      <td>9</td>\n",
       "    </tr>\n",
       "    <tr>\n",
       "      <th>28323</th>\n",
       "      <td>6469f99c1f9dfae7733b25662e7f1782</td>\n",
       "      <td>7</td>\n",
       "    </tr>\n",
       "    <tr>\n",
       "      <th>7709</th>\n",
       "      <td>1b6c7548a2a1f9037c1fd3ddfed95f33</td>\n",
       "      <td>7</td>\n",
       "    </tr>\n",
       "    <tr>\n",
       "      <th>57218</th>\n",
       "      <td>ca77025e7201e3b30c44b472ff346268</td>\n",
       "      <td>7</td>\n",
       "    </tr>\n",
       "  </tbody>\n",
       "</table>\n",
       "</div>"
      ],
      "text/plain": [
       "                     customer_unique_id  frequence\n",
       "39752  8d50f5eadf50201ccdcedfb9e2ac8455         11\n",
       "17595  3e43e6105506432c953e165fb2acf44c          9\n",
       "28323  6469f99c1f9dfae7733b25662e7f1782          7\n",
       "7709   1b6c7548a2a1f9037c1fd3ddfed95f33          7\n",
       "57218  ca77025e7201e3b30c44b472ff346268          7"
      ]
     },
     "execution_count": 10,
     "metadata": {},
     "output_type": "execute_result"
    }
   ],
   "source": [
    "F_data = selection4[['customer_unique_id', 'frequence']].groupby('customer_unique_id').sum().reset_index()\n",
    "F_data.sort_values('frequence', ascending=False).head()"
   ]
  },
  {
   "cell_type": "code",
   "execution_count": 11,
   "id": "0416ae12-a547-40bd-8b59-81007d7a1d0c",
   "metadata": {},
   "outputs": [
    {
     "data": {
      "text/html": [
       "<div>\n",
       "<style scoped>\n",
       "    .dataframe tbody tr th:only-of-type {\n",
       "        vertical-align: middle;\n",
       "    }\n",
       "\n",
       "    .dataframe tbody tr th {\n",
       "        vertical-align: top;\n",
       "    }\n",
       "\n",
       "    .dataframe thead th {\n",
       "        text-align: right;\n",
       "    }\n",
       "</style>\n",
       "<table border=\"1\" class=\"dataframe\">\n",
       "  <thead>\n",
       "    <tr style=\"text-align: right;\">\n",
       "      <th></th>\n",
       "      <th>count</th>\n",
       "      <th>mean</th>\n",
       "      <th>std</th>\n",
       "      <th>min</th>\n",
       "      <th>25%</th>\n",
       "      <th>50%</th>\n",
       "      <th>75%</th>\n",
       "      <th>max</th>\n",
       "    </tr>\n",
       "  </thead>\n",
       "  <tbody>\n",
       "    <tr>\n",
       "      <th>frequence</th>\n",
       "      <td>72247.0</td>\n",
       "      <td>1.027212</td>\n",
       "      <td>0.185742</td>\n",
       "      <td>1.0</td>\n",
       "      <td>1.0</td>\n",
       "      <td>1.0</td>\n",
       "      <td>1.0</td>\n",
       "      <td>11.0</td>\n",
       "    </tr>\n",
       "  </tbody>\n",
       "</table>\n",
       "</div>"
      ],
      "text/plain": [
       "             count      mean       std  min  25%  50%  75%   max\n",
       "frequence  72247.0  1.027212  0.185742  1.0  1.0  1.0  1.0  11.0"
      ]
     },
     "execution_count": 11,
     "metadata": {},
     "output_type": "execute_result"
    }
   ],
   "source": [
    "F_data.describe().T"
   ]
  },
  {
   "cell_type": "markdown",
   "id": "522522b7-dc72-41a4-bf4d-6c83c8e72dae",
   "metadata": {},
   "source": [
    "## Calcul du `Montant`"
   ]
  },
  {
   "cell_type": "markdown",
   "id": "4d78234e-5d86-4ba4-96ff-76393b1f5685",
   "metadata": {},
   "source": [
    "#### On calcul le montant total de chaque commande *(puisqu'il peut y avoir plusieurs moyens de paiements)*"
   ]
  },
  {
   "cell_type": "code",
   "execution_count": 12,
   "id": "6635812a-ada2-4995-a867-df542674748e",
   "metadata": {},
   "outputs": [
    {
     "data": {
      "text/html": [
       "<div>\n",
       "<style scoped>\n",
       "    .dataframe tbody tr th:only-of-type {\n",
       "        vertical-align: middle;\n",
       "    }\n",
       "\n",
       "    .dataframe tbody tr th {\n",
       "        vertical-align: top;\n",
       "    }\n",
       "\n",
       "    .dataframe thead th {\n",
       "        text-align: right;\n",
       "    }\n",
       "</style>\n",
       "<table border=\"1\" class=\"dataframe\">\n",
       "  <thead>\n",
       "    <tr style=\"text-align: right;\">\n",
       "      <th></th>\n",
       "      <th>order_id</th>\n",
       "      <th>montant</th>\n",
       "    </tr>\n",
       "  </thead>\n",
       "  <tbody>\n",
       "    <tr>\n",
       "      <th>0</th>\n",
       "      <td>00010242fe8c5a6d1ba2dd792cb16214</td>\n",
       "      <td>72.19</td>\n",
       "    </tr>\n",
       "    <tr>\n",
       "      <th>1</th>\n",
       "      <td>000229ec398224ef6ca0657da4fc703e</td>\n",
       "      <td>216.87</td>\n",
       "    </tr>\n",
       "    <tr>\n",
       "      <th>2</th>\n",
       "      <td>00024acbcdf0a6daa1e931b038114c75</td>\n",
       "      <td>25.78</td>\n",
       "    </tr>\n",
       "    <tr>\n",
       "      <th>3</th>\n",
       "      <td>00054e8431b9d7675808bcb819fb4a32</td>\n",
       "      <td>31.75</td>\n",
       "    </tr>\n",
       "    <tr>\n",
       "      <th>4</th>\n",
       "      <td>000576fe39319847cbb9d288c5617fa6</td>\n",
       "      <td>880.75</td>\n",
       "    </tr>\n",
       "  </tbody>\n",
       "</table>\n",
       "</div>"
      ],
      "text/plain": [
       "                           order_id  montant\n",
       "0  00010242fe8c5a6d1ba2dd792cb16214    72.19\n",
       "1  000229ec398224ef6ca0657da4fc703e   216.87\n",
       "2  00024acbcdf0a6daa1e931b038114c75    25.78\n",
       "3  00054e8431b9d7675808bcb819fb4a32    31.75\n",
       "4  000576fe39319847cbb9d288c5617fa6   880.75"
      ]
     },
     "execution_count": 12,
     "metadata": {},
     "output_type": "execute_result"
    }
   ],
   "source": [
    "total_amount_per_order = selection3[['order_id']].merge( data_payments[['order_id','payment_value']], on='order_id', how='left').groupby('order_id').sum().reset_index()\n",
    "total_amount_per_order.rename(columns={'payment_value':'montant'}, inplace=True)\n",
    "total_amount_per_order.head()"
   ]
  },
  {
   "cell_type": "markdown",
   "id": "1ec3ef07-5ae3-4372-8e61-f1d36439dfaa",
   "metadata": {},
   "source": [
    "#### Puis, on crée une **nouvelle table** `M_data` qui stoque le **montant** *(le total des montants de toutes les commandes faites sur la période choisie)* pour chaque client"
   ]
  },
  {
   "cell_type": "code",
   "execution_count": 13,
   "id": "718ca685-e750-4c24-9fe4-0742cad16708",
   "metadata": {},
   "outputs": [
    {
     "data": {
      "text/html": [
       "<div>\n",
       "<style scoped>\n",
       "    .dataframe tbody tr th:only-of-type {\n",
       "        vertical-align: middle;\n",
       "    }\n",
       "\n",
       "    .dataframe tbody tr th {\n",
       "        vertical-align: top;\n",
       "    }\n",
       "\n",
       "    .dataframe thead th {\n",
       "        text-align: right;\n",
       "    }\n",
       "</style>\n",
       "<table border=\"1\" class=\"dataframe\">\n",
       "  <thead>\n",
       "    <tr style=\"text-align: right;\">\n",
       "      <th></th>\n",
       "      <th>customer_unique_id</th>\n",
       "      <th>montant</th>\n",
       "    </tr>\n",
       "  </thead>\n",
       "  <tbody>\n",
       "    <tr>\n",
       "      <th>0</th>\n",
       "      <td>0000366f3b9a7992bf8c76cfdf3221e2</td>\n",
       "      <td>141.90</td>\n",
       "    </tr>\n",
       "    <tr>\n",
       "      <th>1</th>\n",
       "      <td>0000b849f77a49e4a4ce2b2a4ca5be3f</td>\n",
       "      <td>27.19</td>\n",
       "    </tr>\n",
       "    <tr>\n",
       "      <th>2</th>\n",
       "      <td>0000f6ccb0745a6a4b88665a16c9f078</td>\n",
       "      <td>43.62</td>\n",
       "    </tr>\n",
       "    <tr>\n",
       "      <th>3</th>\n",
       "      <td>0004aac84e0df4da2b147fca70cf8255</td>\n",
       "      <td>196.89</td>\n",
       "    </tr>\n",
       "    <tr>\n",
       "      <th>4</th>\n",
       "      <td>0004bd2a26a76fe21f786e4fbd80607f</td>\n",
       "      <td>166.98</td>\n",
       "    </tr>\n",
       "  </tbody>\n",
       "</table>\n",
       "</div>"
      ],
      "text/plain": [
       "                 customer_unique_id  montant\n",
       "0  0000366f3b9a7992bf8c76cfdf3221e2   141.90\n",
       "1  0000b849f77a49e4a4ce2b2a4ca5be3f    27.19\n",
       "2  0000f6ccb0745a6a4b88665a16c9f078    43.62\n",
       "3  0004aac84e0df4da2b147fca70cf8255   196.89\n",
       "4  0004bd2a26a76fe21f786e4fbd80607f   166.98"
      ]
     },
     "execution_count": 13,
     "metadata": {},
     "output_type": "execute_result"
    }
   ],
   "source": [
    "M_data = selection3[['customer_unique_id', 'order_id']].merge(total_amount_per_order, on='order_id', how='left').groupby('customer_unique_id').sum().reset_index()\n",
    "M_data.head()"
   ]
  },
  {
   "cell_type": "code",
   "execution_count": 14,
   "id": "ac23a12f-46a8-4782-b824-2c210f445872",
   "metadata": {},
   "outputs": [
    {
     "data": {
      "text/html": [
       "<div>\n",
       "<style scoped>\n",
       "    .dataframe tbody tr th:only-of-type {\n",
       "        vertical-align: middle;\n",
       "    }\n",
       "\n",
       "    .dataframe tbody tr th {\n",
       "        vertical-align: top;\n",
       "    }\n",
       "\n",
       "    .dataframe thead th {\n",
       "        text-align: right;\n",
       "    }\n",
       "</style>\n",
       "<table border=\"1\" class=\"dataframe\">\n",
       "  <thead>\n",
       "    <tr style=\"text-align: right;\">\n",
       "      <th></th>\n",
       "      <th>count</th>\n",
       "      <th>mean</th>\n",
       "      <th>std</th>\n",
       "      <th>min</th>\n",
       "      <th>25%</th>\n",
       "      <th>50%</th>\n",
       "      <th>75%</th>\n",
       "      <th>max</th>\n",
       "    </tr>\n",
       "  </thead>\n",
       "  <tbody>\n",
       "    <tr>\n",
       "      <th>montant</th>\n",
       "      <td>72247.0</td>\n",
       "      <td>164.548839</td>\n",
       "      <td>217.050575</td>\n",
       "      <td>0.0</td>\n",
       "      <td>63.13</td>\n",
       "      <td>108.2</td>\n",
       "      <td>182.14</td>\n",
       "      <td>7274.88</td>\n",
       "    </tr>\n",
       "  </tbody>\n",
       "</table>\n",
       "</div>"
      ],
      "text/plain": [
       "           count        mean         std  min    25%    50%     75%      max\n",
       "montant  72247.0  164.548839  217.050575  0.0  63.13  108.2  182.14  7274.88"
      ]
     },
     "execution_count": 14,
     "metadata": {},
     "output_type": "execute_result"
    }
   ],
   "source": [
    "M_data.describe().T"
   ]
  },
  {
   "cell_type": "markdown",
   "id": "fbe11456-6719-4e11-aaca-fdfa8ddfbdd7",
   "metadata": {},
   "source": [
    "## Calcul des `scores RFM`"
   ]
  },
  {
   "cell_type": "markdown",
   "id": "f3d12ce7-762f-43c2-a0e4-e52c0b9f9233",
   "metadata": {},
   "source": [
    "#### On associe les trois jeux de données `R_data`, `F_data` et `M_data` en un unique jeu de données `RFM_data`"
   ]
  },
  {
   "cell_type": "code",
   "execution_count": 15,
   "id": "dd236f15-29d4-424f-86ae-56e01d331729",
   "metadata": {},
   "outputs": [
    {
     "data": {
      "text/html": [
       "<div>\n",
       "<style scoped>\n",
       "    .dataframe tbody tr th:only-of-type {\n",
       "        vertical-align: middle;\n",
       "    }\n",
       "\n",
       "    .dataframe tbody tr th {\n",
       "        vertical-align: top;\n",
       "    }\n",
       "\n",
       "    .dataframe thead th {\n",
       "        text-align: right;\n",
       "    }\n",
       "</style>\n",
       "<table border=\"1\" class=\"dataframe\">\n",
       "  <thead>\n",
       "    <tr style=\"text-align: right;\">\n",
       "      <th></th>\n",
       "      <th>customer_unique_id</th>\n",
       "      <th>recence</th>\n",
       "      <th>frequence</th>\n",
       "      <th>montant</th>\n",
       "    </tr>\n",
       "  </thead>\n",
       "  <tbody>\n",
       "    <tr>\n",
       "      <th>39752</th>\n",
       "      <td>8d50f5eadf50201ccdcedfb9e2ac8455</td>\n",
       "      <td>-361</td>\n",
       "      <td>11</td>\n",
       "      <td>557.15</td>\n",
       "    </tr>\n",
       "    <tr>\n",
       "      <th>17595</th>\n",
       "      <td>3e43e6105506432c953e165fb2acf44c</td>\n",
       "      <td>-348</td>\n",
       "      <td>9</td>\n",
       "      <td>1172.66</td>\n",
       "    </tr>\n",
       "    <tr>\n",
       "      <th>7709</th>\n",
       "      <td>1b6c7548a2a1f9037c1fd3ddfed95f33</td>\n",
       "      <td>-292</td>\n",
       "      <td>7</td>\n",
       "      <td>959.01</td>\n",
       "    </tr>\n",
       "    <tr>\n",
       "      <th>57218</th>\n",
       "      <td>ca77025e7201e3b30c44b472ff346268</td>\n",
       "      <td>-327</td>\n",
       "      <td>7</td>\n",
       "      <td>1122.72</td>\n",
       "    </tr>\n",
       "    <tr>\n",
       "      <th>28323</th>\n",
       "      <td>6469f99c1f9dfae7733b25662e7f1782</td>\n",
       "      <td>-347</td>\n",
       "      <td>7</td>\n",
       "      <td>758.83</td>\n",
       "    </tr>\n",
       "    <tr>\n",
       "      <th>...</th>\n",
       "      <td>...</td>\n",
       "      <td>...</td>\n",
       "      <td>...</td>\n",
       "      <td>...</td>\n",
       "    </tr>\n",
       "    <tr>\n",
       "      <th>45706</th>\n",
       "      <td>a1efe9a98bf03a0025efa9bc56fe9d1f</td>\n",
       "      <td>-365</td>\n",
       "      <td>1</td>\n",
       "      <td>35.00</td>\n",
       "    </tr>\n",
       "    <tr>\n",
       "      <th>53024</th>\n",
       "      <td>bb7ff07987c9bb0345b6b948478525b4</td>\n",
       "      <td>-365</td>\n",
       "      <td>1</td>\n",
       "      <td>31.75</td>\n",
       "    </tr>\n",
       "    <tr>\n",
       "      <th>35090</th>\n",
       "      <td>7c3db55121184d445bec70d421c62135</td>\n",
       "      <td>-365</td>\n",
       "      <td>1</td>\n",
       "      <td>31.38</td>\n",
       "    </tr>\n",
       "    <tr>\n",
       "      <th>69236</th>\n",
       "      <td>f514fa8c60b510de4c90242e86801717</td>\n",
       "      <td>-365</td>\n",
       "      <td>1</td>\n",
       "      <td>31.10</td>\n",
       "    </tr>\n",
       "    <tr>\n",
       "      <th>39949</th>\n",
       "      <td>8dfb24fac32ec7170821d2be63fa9c1c</td>\n",
       "      <td>-365</td>\n",
       "      <td>1</td>\n",
       "      <td>17.85</td>\n",
       "    </tr>\n",
       "  </tbody>\n",
       "</table>\n",
       "<p>72247 rows × 4 columns</p>\n",
       "</div>"
      ],
      "text/plain": [
       "                     customer_unique_id  recence  frequence  montant\n",
       "39752  8d50f5eadf50201ccdcedfb9e2ac8455     -361         11   557.15\n",
       "17595  3e43e6105506432c953e165fb2acf44c     -348          9  1172.66\n",
       "7709   1b6c7548a2a1f9037c1fd3ddfed95f33     -292          7   959.01\n",
       "57218  ca77025e7201e3b30c44b472ff346268     -327          7  1122.72\n",
       "28323  6469f99c1f9dfae7733b25662e7f1782     -347          7   758.83\n",
       "...                                 ...      ...        ...      ...\n",
       "45706  a1efe9a98bf03a0025efa9bc56fe9d1f     -365          1    35.00\n",
       "53024  bb7ff07987c9bb0345b6b948478525b4     -365          1    31.75\n",
       "35090  7c3db55121184d445bec70d421c62135     -365          1    31.38\n",
       "69236  f514fa8c60b510de4c90242e86801717     -365          1    31.10\n",
       "39949  8dfb24fac32ec7170821d2be63fa9c1c     -365          1    17.85\n",
       "\n",
       "[72247 rows x 4 columns]"
      ]
     },
     "execution_count": 15,
     "metadata": {},
     "output_type": "execute_result"
    }
   ],
   "source": [
    "from functools import reduce\n",
    "RFM_data = reduce(lambda x,y: pd.merge(x,y, on='customer_unique_id', how='left'), [R_data, F_data, M_data])\n",
    "RFM_data.sort_values(['frequence','recence','montant'], ascending=False)"
   ]
  },
  {
   "cell_type": "code",
   "execution_count": 16,
   "id": "0125ca3b-daa2-4545-aed6-5a32f54fa062",
   "metadata": {},
   "outputs": [
    {
     "data": {
      "text/html": [
       "<div>\n",
       "<style scoped>\n",
       "    .dataframe tbody tr th:only-of-type {\n",
       "        vertical-align: middle;\n",
       "    }\n",
       "\n",
       "    .dataframe tbody tr th {\n",
       "        vertical-align: top;\n",
       "    }\n",
       "\n",
       "    .dataframe thead th {\n",
       "        text-align: right;\n",
       "    }\n",
       "</style>\n",
       "<table border=\"1\" class=\"dataframe\">\n",
       "  <thead>\n",
       "    <tr style=\"text-align: right;\">\n",
       "      <th></th>\n",
       "      <th>count</th>\n",
       "      <th>mean</th>\n",
       "      <th>std</th>\n",
       "      <th>min</th>\n",
       "      <th>25%</th>\n",
       "      <th>50%</th>\n",
       "      <th>75%</th>\n",
       "      <th>max</th>\n",
       "    </tr>\n",
       "  </thead>\n",
       "  <tbody>\n",
       "    <tr>\n",
       "      <th>recence</th>\n",
       "      <td>72247.0</td>\n",
       "      <td>-176.548050</td>\n",
       "      <td>99.464265</td>\n",
       "      <td>-365.0</td>\n",
       "      <td>-264.00</td>\n",
       "      <td>-176.0</td>\n",
       "      <td>-92.50</td>\n",
       "      <td>-3.00</td>\n",
       "    </tr>\n",
       "    <tr>\n",
       "      <th>frequence</th>\n",
       "      <td>72247.0</td>\n",
       "      <td>1.027212</td>\n",
       "      <td>0.185742</td>\n",
       "      <td>1.0</td>\n",
       "      <td>1.00</td>\n",
       "      <td>1.0</td>\n",
       "      <td>1.00</td>\n",
       "      <td>11.00</td>\n",
       "    </tr>\n",
       "    <tr>\n",
       "      <th>montant</th>\n",
       "      <td>72247.0</td>\n",
       "      <td>164.548839</td>\n",
       "      <td>217.050575</td>\n",
       "      <td>0.0</td>\n",
       "      <td>63.13</td>\n",
       "      <td>108.2</td>\n",
       "      <td>182.14</td>\n",
       "      <td>7274.88</td>\n",
       "    </tr>\n",
       "  </tbody>\n",
       "</table>\n",
       "</div>"
      ],
      "text/plain": [
       "             count        mean         std    min     25%    50%     75%  \\\n",
       "recence    72247.0 -176.548050   99.464265 -365.0 -264.00 -176.0  -92.50   \n",
       "frequence  72247.0    1.027212    0.185742    1.0    1.00    1.0    1.00   \n",
       "montant    72247.0  164.548839  217.050575    0.0   63.13  108.2  182.14   \n",
       "\n",
       "               max  \n",
       "recence      -3.00  \n",
       "frequence    11.00  \n",
       "montant    7274.88  "
      ]
     },
     "execution_count": 16,
     "metadata": {},
     "output_type": "execute_result"
    }
   ],
   "source": [
    "RFM_data.describe().T"
   ]
  },
  {
   "cell_type": "markdown",
   "id": "dcc4eb0d-88f8-457a-96a6-fa213c7a4625",
   "metadata": {},
   "source": [
    "#### Puis, on utilise les quantiles pour calculer les seuil de répartition des scores pour chacune des 3 colonnes..."
   ]
  },
  {
   "cell_type": "code",
   "execution_count": 17,
   "id": "279745ad-dace-4af7-98a4-2a39c21351b4",
   "metadata": {},
   "outputs": [
    {
     "data": {
      "text/plain": [
       "0.0"
      ]
     },
     "execution_count": 17,
     "metadata": {},
     "output_type": "execute_result"
    }
   ],
   "source": [
    "num_groups = 3 # En combien de groupes voulont nous découper nos scores\n",
    "\n",
    "R_groups = RFM_data.recence.quantile(np.linspace(0,1,num_groups+1))\n",
    "R_groups.pop(0)\n",
    "\n",
    "F_groups = RFM_data.frequence.quantile(np.linspace(0,1,num_groups+1))\n",
    "F_groups.pop(0)\n",
    "\n",
    "M_groups = RFM_data.montant.quantile(np.linspace(0,1,num_groups+1))\n",
    "M_groups.pop(0)"
   ]
  },
  {
   "cell_type": "code",
   "execution_count": 18,
   "id": "26263406-8e47-400e-b90d-f13ba85ca9f7",
   "metadata": {},
   "outputs": [
    {
     "name": "stdout",
     "output_type": "stream",
     "text": [
      "score:0 | Recence:[     0;-229.0] | Frequence:[     0;   1.0] | Montant:[     0; 75.25]\n",
      "score:1 | Recence:[-229.0;-122.0] | Frequence:[   1.0;   1.0] | Montant:[ 75.25;152.71]\n",
      "score:2 | Recence:[-122.0;  -3.0] | Frequence:[   1.0;  11.0] | Montant:[152.71;7274.88]\n"
     ]
    }
   ],
   "source": [
    "r_start, f_start, m_start = 0,0,0\n",
    "for i,(r,f,m) in enumerate(zip(R_groups, F_groups, M_groups)):\n",
    "    print(f\"score:{i} | Recence:[{r_start:6};{r:6}] | Frequence:[{f_start:6};{f:6}] | Montant:[{m_start:6};{m:6}]\")\n",
    "    r_start, f_start, m_start = r, f, m"
   ]
  },
  {
   "cell_type": "markdown",
   "id": "f9e29fc3-0aae-4cfe-9e81-9b8fc5326824",
   "metadata": {},
   "source": [
    ">#### 🔔 On note que les **scores de fréquence vont présenter un problème** puisque le score 2 est inexistant de par la répartition des achats\n",
    "> *(rappelons que notre Analyse Exploratoire des données a montrée que seuls environ 3% des clients font plus d'un achat)*"
   ]
  },
  {
   "cell_type": "markdown",
   "id": "0a4750cc-2fdd-4bef-8f85-c4dd510b21b2",
   "metadata": {},
   "source": [
    "#### On utilise les seuils pour calculer et ajouter les scores `R_score`, `F_score` et `M_score` des 3 colonnes `recence`, `frequence` et `montant`"
   ]
  },
  {
   "cell_type": "code",
   "execution_count": 19,
   "id": "28f70d1e-bd4d-4deb-93e4-639c4ab6bae1",
   "metadata": {},
   "outputs": [],
   "source": [
    "def eval_score(x, split_values):\n",
    "    for i,v in enumerate(split_values):\n",
    "        if(x <= v):\n",
    "            return i+1\n",
    "        \n",
    "    print(f\"probleme: value={x}\\n\", split_values)\n",
    "    raise Exception\n",
    "\n",
    "RFM_data['R_score'] = RFM_data.recence.apply(eval_score, split_values=R_groups)\n",
    "RFM_data['F_score'] = RFM_data.frequence.apply(eval_score, split_values=F_groups)\n",
    "RFM_data['M_score'] = RFM_data.montant.apply(eval_score, split_values=M_groups)\n",
    "RFM_data['RFM_score'] = RFM_data[['R_score','F_score','M_score']].apply(lambda row: int(''.join(row.values.astype(str))), axis=1)"
   ]
  },
  {
   "cell_type": "code",
   "execution_count": 20,
   "id": "16f8cdcb-6324-4a82-84a3-66f94dfe3ac5",
   "metadata": {},
   "outputs": [
    {
     "data": {
      "text/html": [
       "<div>\n",
       "<style scoped>\n",
       "    .dataframe tbody tr th:only-of-type {\n",
       "        vertical-align: middle;\n",
       "    }\n",
       "\n",
       "    .dataframe tbody tr th {\n",
       "        vertical-align: top;\n",
       "    }\n",
       "\n",
       "    .dataframe thead th {\n",
       "        text-align: right;\n",
       "    }\n",
       "</style>\n",
       "<table border=\"1\" class=\"dataframe\">\n",
       "  <thead>\n",
       "    <tr style=\"text-align: right;\">\n",
       "      <th></th>\n",
       "      <th>customer_unique_id</th>\n",
       "      <th>recence</th>\n",
       "      <th>frequence</th>\n",
       "      <th>montant</th>\n",
       "      <th>R_score</th>\n",
       "      <th>F_score</th>\n",
       "      <th>M_score</th>\n",
       "      <th>RFM_score</th>\n",
       "    </tr>\n",
       "  </thead>\n",
       "  <tbody>\n",
       "    <tr>\n",
       "      <th>26076</th>\n",
       "      <td>5c58de6fb80e93396e2f35642666b693</td>\n",
       "      <td>-3</td>\n",
       "      <td>1</td>\n",
       "      <td>510.96</td>\n",
       "      <td>3</td>\n",
       "      <td>1</td>\n",
       "      <td>3</td>\n",
       "      <td>313</td>\n",
       "    </tr>\n",
       "    <tr>\n",
       "      <th>49731</th>\n",
       "      <td>afbcfd0b9c5233e7ccc73428526fbb52</td>\n",
       "      <td>-3</td>\n",
       "      <td>1</td>\n",
       "      <td>497.25</td>\n",
       "      <td>3</td>\n",
       "      <td>1</td>\n",
       "      <td>3</td>\n",
       "      <td>313</td>\n",
       "    </tr>\n",
       "    <tr>\n",
       "      <th>3475</th>\n",
       "      <td>0c6d7218d5f3fa14514fd29865269993</td>\n",
       "      <td>-3</td>\n",
       "      <td>1</td>\n",
       "      <td>178.25</td>\n",
       "      <td>3</td>\n",
       "      <td>1</td>\n",
       "      <td>3</td>\n",
       "      <td>313</td>\n",
       "    </tr>\n",
       "    <tr>\n",
       "      <th>1154</th>\n",
       "      <td>0421e7a23f21e5d54efed456aedbc513</td>\n",
       "      <td>-3</td>\n",
       "      <td>1</td>\n",
       "      <td>119.42</td>\n",
       "      <td>3</td>\n",
       "      <td>1</td>\n",
       "      <td>2</td>\n",
       "      <td>312</td>\n",
       "    </tr>\n",
       "    <tr>\n",
       "      <th>51155</th>\n",
       "      <td>b4dcade04bc548b7e3b0243c801f8c26</td>\n",
       "      <td>-3</td>\n",
       "      <td>1</td>\n",
       "      <td>106.95</td>\n",
       "      <td>3</td>\n",
       "      <td>1</td>\n",
       "      <td>2</td>\n",
       "      <td>312</td>\n",
       "    </tr>\n",
       "    <tr>\n",
       "      <th>...</th>\n",
       "      <td>...</td>\n",
       "      <td>...</td>\n",
       "      <td>...</td>\n",
       "      <td>...</td>\n",
       "      <td>...</td>\n",
       "      <td>...</td>\n",
       "      <td>...</td>\n",
       "      <td>...</td>\n",
       "    </tr>\n",
       "    <tr>\n",
       "      <th>45706</th>\n",
       "      <td>a1efe9a98bf03a0025efa9bc56fe9d1f</td>\n",
       "      <td>-365</td>\n",
       "      <td>1</td>\n",
       "      <td>35.00</td>\n",
       "      <td>1</td>\n",
       "      <td>1</td>\n",
       "      <td>1</td>\n",
       "      <td>111</td>\n",
       "    </tr>\n",
       "    <tr>\n",
       "      <th>53024</th>\n",
       "      <td>bb7ff07987c9bb0345b6b948478525b4</td>\n",
       "      <td>-365</td>\n",
       "      <td>1</td>\n",
       "      <td>31.75</td>\n",
       "      <td>1</td>\n",
       "      <td>1</td>\n",
       "      <td>1</td>\n",
       "      <td>111</td>\n",
       "    </tr>\n",
       "    <tr>\n",
       "      <th>35090</th>\n",
       "      <td>7c3db55121184d445bec70d421c62135</td>\n",
       "      <td>-365</td>\n",
       "      <td>1</td>\n",
       "      <td>31.38</td>\n",
       "      <td>1</td>\n",
       "      <td>1</td>\n",
       "      <td>1</td>\n",
       "      <td>111</td>\n",
       "    </tr>\n",
       "    <tr>\n",
       "      <th>69236</th>\n",
       "      <td>f514fa8c60b510de4c90242e86801717</td>\n",
       "      <td>-365</td>\n",
       "      <td>1</td>\n",
       "      <td>31.10</td>\n",
       "      <td>1</td>\n",
       "      <td>1</td>\n",
       "      <td>1</td>\n",
       "      <td>111</td>\n",
       "    </tr>\n",
       "    <tr>\n",
       "      <th>39949</th>\n",
       "      <td>8dfb24fac32ec7170821d2be63fa9c1c</td>\n",
       "      <td>-365</td>\n",
       "      <td>1</td>\n",
       "      <td>17.85</td>\n",
       "      <td>1</td>\n",
       "      <td>1</td>\n",
       "      <td>1</td>\n",
       "      <td>111</td>\n",
       "    </tr>\n",
       "  </tbody>\n",
       "</table>\n",
       "<p>72247 rows × 8 columns</p>\n",
       "</div>"
      ],
      "text/plain": [
       "                     customer_unique_id  recence  frequence  montant  R_score  \\\n",
       "26076  5c58de6fb80e93396e2f35642666b693       -3          1   510.96        3   \n",
       "49731  afbcfd0b9c5233e7ccc73428526fbb52       -3          1   497.25        3   \n",
       "3475   0c6d7218d5f3fa14514fd29865269993       -3          1   178.25        3   \n",
       "1154   0421e7a23f21e5d54efed456aedbc513       -3          1   119.42        3   \n",
       "51155  b4dcade04bc548b7e3b0243c801f8c26       -3          1   106.95        3   \n",
       "...                                 ...      ...        ...      ...      ...   \n",
       "45706  a1efe9a98bf03a0025efa9bc56fe9d1f     -365          1    35.00        1   \n",
       "53024  bb7ff07987c9bb0345b6b948478525b4     -365          1    31.75        1   \n",
       "35090  7c3db55121184d445bec70d421c62135     -365          1    31.38        1   \n",
       "69236  f514fa8c60b510de4c90242e86801717     -365          1    31.10        1   \n",
       "39949  8dfb24fac32ec7170821d2be63fa9c1c     -365          1    17.85        1   \n",
       "\n",
       "       F_score  M_score  RFM_score  \n",
       "26076        1        3        313  \n",
       "49731        1        3        313  \n",
       "3475         1        3        313  \n",
       "1154         1        2        312  \n",
       "51155        1        2        312  \n",
       "...        ...      ...        ...  \n",
       "45706        1        1        111  \n",
       "53024        1        1        111  \n",
       "35090        1        1        111  \n",
       "69236        1        1        111  \n",
       "39949        1        1        111  \n",
       "\n",
       "[72247 rows x 8 columns]"
      ]
     },
     "execution_count": 20,
     "metadata": {},
     "output_type": "execute_result"
    }
   ],
   "source": [
    "RFM_data.sort_values(['recence','frequence','montant'], ascending=False)"
   ]
  },
  {
   "cell_type": "markdown",
   "id": "3ad6501b-e47c-45e5-b349-883cd0141772",
   "metadata": {},
   "source": [
    "#### Ce qui nous permet d'avoir la ségmentation par groupes des clients"
   ]
  },
  {
   "cell_type": "code",
   "execution_count": 21,
   "id": "c0203c07-eee8-486c-b6a5-622609793111",
   "metadata": {},
   "outputs": [
    {
     "data": {
      "text/plain": [
       "RFM_score\n",
       "111    8011\n",
       "112    7962\n",
       "113    7491\n",
       "131      20\n",
       "132     204\n",
       "133     606\n",
       "211    8114\n",
       "212    7525\n",
       "213    7561\n",
       "231      34\n",
       "232     140\n",
       "233     502\n",
       "311    7914\n",
       "312    8158\n",
       "313    7717\n",
       "331      11\n",
       "332      73\n",
       "333     204\n",
       "dtype: int64"
      ]
     },
     "execution_count": 21,
     "metadata": {},
     "output_type": "execute_result"
    }
   ],
   "source": [
    "RFM_groups_size = RFM_data.groupby('RFM_score').size()\n",
    "RFM_groups_size"
   ]
  },
  {
   "cell_type": "markdown",
   "id": "142fbb03-9936-42b5-bf6b-16e44194450d",
   "metadata": {},
   "source": [
    ">#### On pourrait les intérpêter comme suit:\n",
    ">\n",
    "> **Champions** | RFM_score = **333**\n",
    ">> A acheté récemment, achète souvent et dépense le plus.<br>\n",
    ">> Récompensez-les. Ils peuvent devenir des early adopters de vos nouveaux produits. Ils vont promouvoir votre marque.\n",
    ">\n",
    "> **Clients fidèles** | RFM_score = **233** ou **332**\n",
    ">> Dépense pas mal d’argent et assez souvent. Sensible aux promotions.<br>\n",
    ">> Proposez-leur des produits de gamme supérieure (up-sell). Demandez-leur des feedbacks. Engagez-les.\n",
    ">\n",
    "> **Clients récents**  | RFM_score = **313**, **312** ou **311**\n",
    ">> A acheté récemment mais n’achète pas souvent.<br>\n",
    ">> Envoyez-leur un programme d’onboarding. Construisez une relation clients.\n",
    ">\n",
    "> **Clients à risque** | RFM_score = **133**\n",
    ">> A dépensé beaucoup d’argent et acheté souvent... mais il y a très longtemps. Vous devez les faire revenir à vous !<br>\n",
    ">> Envoyez-leur des emails personnalisés pour reconnecter avec eux. Offrez-leur des promotions sur leur renouvellement. Fournissez-leur des ressources utiles.\n",
    ">\n",
    "> **Clients que vous ne devez pas perdre** | RFM_score = **123** ou **132**\n",
    ">> A fait les plus gros achats et acheté souvent. Mais cela fait un moment qu’il n’a plus racheté.<br>\n",
    ">> Reconquérez-les avec des promotions ou des nouveaux produits. Ne les laissez pas partir chez la concurrence, parlez-leur.\n",
    ">\n",
    "> **Clients en hibernation** | RFM_score = **112** ou **113**\n",
    ">> Son dernier achat remonte à il y a moment... Ne dépense pas beaucoup et pas souvent du tout.<br>\n",
    ">> Offrez-leur des promotions spéciales, présentez-leur des produits pertinents. Recréez de la brand value.\n",
    ">\n",
    "> **Clients perdus** | RFM_score = **111**\n",
    ">> A les plus faibles scores en Récence, Fréquence et Montant.<br>\n",
    ">> Essayez de réveiller leur intérêt avec une campagne, sinon laissez tomber."
   ]
  },
  {
   "cell_type": "markdown",
   "id": "ab4b3f30-c91c-417f-9354-dbe86d910a0e",
   "metadata": {},
   "source": [
    "#### Enfin, on peut afficher ces groupes sous forme de `treemap`"
   ]
  },
  {
   "cell_type": "code",
   "execution_count": 22,
   "id": "6cb16d2d-ba09-4fed-accc-77638e2ece0e",
   "metadata": {},
   "outputs": [
    {
     "data": {
      "image/png": "[encoded data removed]",
      "text/plain": [
       "<Figure size 1080x720 with 1 Axes>"
      ]
     },
     "metadata": {
      "needs_background": "light"
     },
     "output_type": "display_data"
    }
   ],
   "source": [
    "fig = plt.figure(figsize=(15,10))\n",
    "ax = squarify.plot(sizes=RFM_groups_size, label=RFM_groups_size.keys(), alpha=0.6 )\n",
    "ax.axes.xaxis.set_visible(False)\n",
    "ax.axes.yaxis.set_visible(False)\n",
    "plt.show()"
   ]
  },
  {
   "cell_type": "code",
   "execution_count": null,
   "id": "3d1f34a7-e43b-4835-8e39-769af91d1cff",
   "metadata": {},
   "outputs": [],
   "source": []
  }
 ],
 "metadata": {
  "kernelspec": {
   "display_name": "venvP5",
   "language": "python",
   "name": "venvp5"
  },
  "language_info": {
   "codemirror_mode": {
    "name": "ipython",
    "version": 3
   },
   "file_extension": ".py",
   "mimetype": "text/x-python",
   "name": "python",
   "nbconvert_exporter": "python",
   "pygments_lexer": "ipython3",
   "version": "3.8.10"
  }
 },
 "nbformat": 4,
 "nbformat_minor": 5
}
