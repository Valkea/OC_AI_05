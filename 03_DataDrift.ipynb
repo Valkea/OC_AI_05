{
 "cells": [
  {
   "cell_type": "markdown",
   "id": "05ecc0b1-fbb9-4800-adad-8c7fa86638cb",
   "metadata": {},
   "source": [
    "# Menu <a class=\"anchor\" id=\"menu\"></a>\n",
    "\n",
    "* [1. Préparatifs pour les algorithmes non-supervisés](#setup)"
   ]
  },
  {
   "cell_type": "markdown",
   "id": "e8ece261-9c7a-4580-885c-deebfe24a7cd",
   "metadata": {},
   "source": [
    "# Le data-drift\n",
    "\n",
    "**TODO**"
   ]
  },
  {
   "cell_type": "markdown",
   "id": "012c8fae-9494-4804-8227-fa19fc94df15",
   "metadata": {
    "tags": []
   },
   "source": [
    "---\n",
    "# Préparatifs "
   ]
  },
  {
   "cell_type": "code",
   "execution_count": 1,
   "id": "550a67b6-0cb6-495b-a328-2e3ffcf6bfc5",
   "metadata": {
    "tags": []
   },
   "outputs": [],
   "source": [
    "import os\n",
    "# import re\n",
    "# import time\n",
    "# import math\n",
    "# import string\n",
    "import datetime\n",
    "# import unicodedata\n",
    "# import json\n",
    "from zipfile import ZipFile\n",
    "from functools import reduce\n",
    "\n",
    "import numpy as np\n",
    "import pandas as pd\n",
    "import matplotlib.pyplot as plt\n",
    "import seaborn as sns\n",
    "import squarify\n",
    "from scipy.cluster.hierarchy import dendrogram, linkage\n",
    "\n",
    "import warnings\n",
    "warnings.filterwarnings('ignore')\n",
    "\n",
    "random_seed = 0\n",
    "np.random.seed(random_seed)\n",
    "cmap_ref = 'nipy_spectral'\n",
    "\n",
    "# import gc\n",
    "# gc.enable()"
   ]
  },
  {
   "cell_type": "code",
   "execution_count": 2,
   "id": "63b7ee71-8a1f-4b0d-94a7-b6eba182a990",
   "metadata": {},
   "outputs": [],
   "source": [
    "def load_from_zip(csv_name):\n",
    "    return pd.read_csv(ZipFile(os.path.join(\"data\", f\"{csv_name}.zip\")).open(csv_name))\n",
    "\n",
    "\n",
    "# data_geo = load_from_zip(\"olist_geolocation_dataset.csv\")\n",
    "# data_geo = pd.read_csv(os.path.join('data',\"olist_geolocation_dataset_clean.csv\"))\n",
    "\n",
    "# data_customer = load_from_zip(\"olist_customers_dataset_clean.csv\")\n",
    "data_customer = pd.read_csv(os.path.join('data', \"olist_customers_dataset_clean.csv\"))\n",
    "\n",
    "# data_orders = load_from_zip(\"olist_orders_dataset.csv\")\n",
    "data_orders = pd.read_csv(os.path.join('data', \"olist_orders_dataset_clean.csv\"))\n",
    "\n",
    "# data_items = load_from_zip(\"olist_order_items_dataset.csv\")\n",
    "data_items = pd.read_csv(os.path.join('data', \"olist_order_items_dataset_clean.csv\"))\n",
    "\n",
    "# data_products = load_from_zip(\"olist_products_dataset.csv\")\n",
    "# data_products = pd.read_csv(os.path.join('data',\"olist_products_dataset_clean.csv\"))\n",
    "\n",
    "# data_payments = load_from_zip(\"olist_order_payments_dataset.csv\")\n",
    "data_payments = pd.read_csv(os.path.join('data', \"olist_order_payments_dataset_clean.csv\"))\n",
    "\n",
    "# data_reviews = load_from_zip(\"olist_order_reviews_dataset.csv\")\n",
    "data_reviews = pd.read_csv(os.path.join('data', \"olist_order_reviews_dataset_clean.csv\"))\n",
    "\n",
    "# data_sellers = pd.read_csv(os.path.join('data',\"olist_sellers_dataset_clean.csv\"))\n",
    "# data_categories = pd.read_csv(os.path.join('data',\"product_category_name_translation_clean.csv\"))"
   ]
  },
  {
   "cell_type": "markdown",
   "id": "0a7237a4-7b1d-4dfc-9a50-fa89f4ad9816",
   "metadata": {},
   "source": [
    "## Préparatifs"
   ]
  },
  {
   "cell_type": "markdown",
   "id": "67b4867a-9407-459a-b430-c48afcb29e2d",
   "metadata": {},
   "source": [
    "#### D'abord on restreint la selection entre le 01/09/2017 et le 01/09/2018 pour avoir une période d'un an et on ne garde que ceux dont le processus de livraison est allé jusqu'au bout (delivered)"
   ]
  },
  {
   "cell_type": "code",
   "execution_count": 3,
   "id": "b812c170-782e-4bc8-a819-4018e900185c",
   "metadata": {},
   "outputs": [
    {
     "data": {
      "text/html": [
       "<div>\n",
       "<style scoped>\n",
       "    .dataframe tbody tr th:only-of-type {\n",
       "        vertical-align: middle;\n",
       "    }\n",
       "\n",
       "    .dataframe tbody tr th {\n",
       "        vertical-align: top;\n",
       "    }\n",
       "\n",
       "    .dataframe thead th {\n",
       "        text-align: right;\n",
       "    }\n",
       "</style>\n",
       "<table border=\"1\" class=\"dataframe\">\n",
       "  <thead>\n",
       "    <tr style=\"text-align: right;\">\n",
       "      <th></th>\n",
       "      <th>order_id</th>\n",
       "      <th>customer_id</th>\n",
       "      <th>order_purchase_timestamp</th>\n",
       "    </tr>\n",
       "  </thead>\n",
       "  <tbody>\n",
       "    <tr>\n",
       "      <th>0</th>\n",
       "      <td>e481f51cbdc54678b7cc49136f2d6af7</td>\n",
       "      <td>9ef432eb6251297304e76186b10a928d</td>\n",
       "      <td>2017-10-02 10:56:33</td>\n",
       "    </tr>\n",
       "    <tr>\n",
       "      <th>1</th>\n",
       "      <td>53cdb2fc8bc7dce0b6741e2150273451</td>\n",
       "      <td>b0830fb4747a6c6d20dea0b8c802d7ef</td>\n",
       "      <td>2018-07-24 20:41:37</td>\n",
       "    </tr>\n",
       "    <tr>\n",
       "      <th>2</th>\n",
       "      <td>47770eb9100c2d0c44946d9cf07ec65d</td>\n",
       "      <td>41ce2a54c0b03bf3443c3d931a367089</td>\n",
       "      <td>2018-08-08 08:38:49</td>\n",
       "    </tr>\n",
       "    <tr>\n",
       "      <th>3</th>\n",
       "      <td>949d5b44dbf5de918fe9c16f97b45f8a</td>\n",
       "      <td>f88197465ea7920adcdbec7375364d82</td>\n",
       "      <td>2017-11-18 19:28:06</td>\n",
       "    </tr>\n",
       "    <tr>\n",
       "      <th>4</th>\n",
       "      <td>ad21c59c0840e6cb83a9ceb5573f8159</td>\n",
       "      <td>8ab97904e6daea8866dbdbc4fb7aad2c</td>\n",
       "      <td>2018-02-13 21:18:39</td>\n",
       "    </tr>\n",
       "  </tbody>\n",
       "</table>\n",
       "</div>"
      ],
      "text/plain": [
       "                           order_id                       customer_id  \\\n",
       "0  e481f51cbdc54678b7cc49136f2d6af7  9ef432eb6251297304e76186b10a928d   \n",
       "1  53cdb2fc8bc7dce0b6741e2150273451  b0830fb4747a6c6d20dea0b8c802d7ef   \n",
       "2  47770eb9100c2d0c44946d9cf07ec65d  41ce2a54c0b03bf3443c3d931a367089   \n",
       "3  949d5b44dbf5de918fe9c16f97b45f8a  f88197465ea7920adcdbec7375364d82   \n",
       "4  ad21c59c0840e6cb83a9ceb5573f8159  8ab97904e6daea8866dbdbc4fb7aad2c   \n",
       "\n",
       "  order_purchase_timestamp  \n",
       "0      2017-10-02 10:56:33  \n",
       "1      2018-07-24 20:41:37  \n",
       "2      2018-08-08 08:38:49  \n",
       "3      2017-11-18 19:28:06  \n",
       "4      2018-02-13 21:18:39  "
      ]
     },
     "execution_count": 3,
     "metadata": {},
     "output_type": "execute_result"
    }
   ],
   "source": [
    "selection1 = data_orders[\n",
    "    (data_orders.order_purchase_timestamp >= '2017-09-01 00:00:00') & \n",
    "    (data_orders.order_purchase_timestamp < '2018-09-01 00:00:00') & \n",
    "    (data_orders.order_status == 'delivered')][['order_id', 'customer_id', 'order_purchase_timestamp']]\n",
    "selection1.head()"
   ]
  },
  {
   "cell_type": "markdown",
   "id": "aa588e15-aac7-4bb9-b339-6672155a25a4",
   "metadata": {},
   "source": [
    "#### Puis on associe ces commandes aux id uniques des clients qui les ont passées"
   ]
  },
  {
   "cell_type": "code",
   "execution_count": 4,
   "id": "6e6e19f1-aceb-41d9-9526-28f0a15f63a6",
   "metadata": {},
   "outputs": [
    {
     "data": {
      "text/html": [
       "<div>\n",
       "<style scoped>\n",
       "    .dataframe tbody tr th:only-of-type {\n",
       "        vertical-align: middle;\n",
       "    }\n",
       "\n",
       "    .dataframe tbody tr th {\n",
       "        vertical-align: top;\n",
       "    }\n",
       "\n",
       "    .dataframe thead th {\n",
       "        text-align: right;\n",
       "    }\n",
       "</style>\n",
       "<table border=\"1\" class=\"dataframe\">\n",
       "  <thead>\n",
       "    <tr style=\"text-align: right;\">\n",
       "      <th></th>\n",
       "      <th>order_id</th>\n",
       "      <th>customer_id</th>\n",
       "      <th>order_purchase_timestamp</th>\n",
       "      <th>customer_unique_id</th>\n",
       "    </tr>\n",
       "  </thead>\n",
       "  <tbody>\n",
       "    <tr>\n",
       "      <th>0</th>\n",
       "      <td>e481f51cbdc54678b7cc49136f2d6af7</td>\n",
       "      <td>9ef432eb6251297304e76186b10a928d</td>\n",
       "      <td>2017-10-02 10:56:33</td>\n",
       "      <td>7c396fd4830fd04220f754e42b4e5bff</td>\n",
       "    </tr>\n",
       "    <tr>\n",
       "      <th>1</th>\n",
       "      <td>53cdb2fc8bc7dce0b6741e2150273451</td>\n",
       "      <td>b0830fb4747a6c6d20dea0b8c802d7ef</td>\n",
       "      <td>2018-07-24 20:41:37</td>\n",
       "      <td>af07308b275d755c9edb36a90c618231</td>\n",
       "    </tr>\n",
       "    <tr>\n",
       "      <th>2</th>\n",
       "      <td>47770eb9100c2d0c44946d9cf07ec65d</td>\n",
       "      <td>41ce2a54c0b03bf3443c3d931a367089</td>\n",
       "      <td>2018-08-08 08:38:49</td>\n",
       "      <td>3a653a41f6f9fc3d2a113cf8398680e8</td>\n",
       "    </tr>\n",
       "    <tr>\n",
       "      <th>3</th>\n",
       "      <td>949d5b44dbf5de918fe9c16f97b45f8a</td>\n",
       "      <td>f88197465ea7920adcdbec7375364d82</td>\n",
       "      <td>2017-11-18 19:28:06</td>\n",
       "      <td>7c142cf63193a1473d2e66489a9ae977</td>\n",
       "    </tr>\n",
       "    <tr>\n",
       "      <th>4</th>\n",
       "      <td>ad21c59c0840e6cb83a9ceb5573f8159</td>\n",
       "      <td>8ab97904e6daea8866dbdbc4fb7aad2c</td>\n",
       "      <td>2018-02-13 21:18:39</td>\n",
       "      <td>72632f0f9dd73dfee390c9b22eb56dd6</td>\n",
       "    </tr>\n",
       "  </tbody>\n",
       "</table>\n",
       "</div>"
      ],
      "text/plain": [
       "                           order_id                       customer_id  \\\n",
       "0  e481f51cbdc54678b7cc49136f2d6af7  9ef432eb6251297304e76186b10a928d   \n",
       "1  53cdb2fc8bc7dce0b6741e2150273451  b0830fb4747a6c6d20dea0b8c802d7ef   \n",
       "2  47770eb9100c2d0c44946d9cf07ec65d  41ce2a54c0b03bf3443c3d931a367089   \n",
       "3  949d5b44dbf5de918fe9c16f97b45f8a  f88197465ea7920adcdbec7375364d82   \n",
       "4  ad21c59c0840e6cb83a9ceb5573f8159  8ab97904e6daea8866dbdbc4fb7aad2c   \n",
       "\n",
       "  order_purchase_timestamp                customer_unique_id  \n",
       "0      2017-10-02 10:56:33  7c396fd4830fd04220f754e42b4e5bff  \n",
       "1      2018-07-24 20:41:37  af07308b275d755c9edb36a90c618231  \n",
       "2      2018-08-08 08:38:49  3a653a41f6f9fc3d2a113cf8398680e8  \n",
       "3      2017-11-18 19:28:06  7c142cf63193a1473d2e66489a9ae977  \n",
       "4      2018-02-13 21:18:39  72632f0f9dd73dfee390c9b22eb56dd6  "
      ]
     },
     "execution_count": 4,
     "metadata": {},
     "output_type": "execute_result"
    }
   ],
   "source": [
    "selection2 = selection1.merge(data_customer[['customer_id', 'customer_unique_id']], on='customer_id', how='left')\n",
    "selection2.head()"
   ]
  },
  {
   "cell_type": "markdown",
   "id": "b8b10c74-e683-4cd9-8f9c-ad2f9661986b",
   "metadata": {},
   "source": [
    "## 1.1 Calcul de la `Récence` <a class=\"anchor\" id=\"rfm_R\"></a> [⇪](#menu)"
   ]
  },
  {
   "cell_type": "markdown",
   "id": "1fc960c1-b497-4b5b-8c0a-9fe0984ab408",
   "metadata": {},
   "source": [
    "#### On converti la date d'achat en nombre de jours écoulés *(depuis le moment ou l'on arrête notre selection donc le 01/09/2018)*"
   ]
  },
  {
   "cell_type": "code",
   "execution_count": 5,
   "id": "856036d0-841b-4a4f-94df-53178ce26ab6",
   "metadata": {},
   "outputs": [
    {
     "data": {
      "text/html": [
       "<div>\n",
       "<style scoped>\n",
       "    .dataframe tbody tr th:only-of-type {\n",
       "        vertical-align: middle;\n",
       "    }\n",
       "\n",
       "    .dataframe tbody tr th {\n",
       "        vertical-align: top;\n",
       "    }\n",
       "\n",
       "    .dataframe thead th {\n",
       "        text-align: right;\n",
       "    }\n",
       "</style>\n",
       "<table border=\"1\" class=\"dataframe\">\n",
       "  <thead>\n",
       "    <tr style=\"text-align: right;\">\n",
       "      <th></th>\n",
       "      <th>order_id</th>\n",
       "      <th>customer_id</th>\n",
       "      <th>customer_unique_id</th>\n",
       "      <th>days_ago</th>\n",
       "    </tr>\n",
       "  </thead>\n",
       "  <tbody>\n",
       "    <tr>\n",
       "      <th>0</th>\n",
       "      <td>e481f51cbdc54678b7cc49136f2d6af7</td>\n",
       "      <td>9ef432eb6251297304e76186b10a928d</td>\n",
       "      <td>7c396fd4830fd04220f754e42b4e5bff</td>\n",
       "      <td>-334</td>\n",
       "    </tr>\n",
       "    <tr>\n",
       "      <th>1</th>\n",
       "      <td>53cdb2fc8bc7dce0b6741e2150273451</td>\n",
       "      <td>b0830fb4747a6c6d20dea0b8c802d7ef</td>\n",
       "      <td>af07308b275d755c9edb36a90c618231</td>\n",
       "      <td>-39</td>\n",
       "    </tr>\n",
       "    <tr>\n",
       "      <th>2</th>\n",
       "      <td>47770eb9100c2d0c44946d9cf07ec65d</td>\n",
       "      <td>41ce2a54c0b03bf3443c3d931a367089</td>\n",
       "      <td>3a653a41f6f9fc3d2a113cf8398680e8</td>\n",
       "      <td>-24</td>\n",
       "    </tr>\n",
       "    <tr>\n",
       "      <th>3</th>\n",
       "      <td>949d5b44dbf5de918fe9c16f97b45f8a</td>\n",
       "      <td>f88197465ea7920adcdbec7375364d82</td>\n",
       "      <td>7c142cf63193a1473d2e66489a9ae977</td>\n",
       "      <td>-287</td>\n",
       "    </tr>\n",
       "    <tr>\n",
       "      <th>4</th>\n",
       "      <td>ad21c59c0840e6cb83a9ceb5573f8159</td>\n",
       "      <td>8ab97904e6daea8866dbdbc4fb7aad2c</td>\n",
       "      <td>72632f0f9dd73dfee390c9b22eb56dd6</td>\n",
       "      <td>-200</td>\n",
       "    </tr>\n",
       "  </tbody>\n",
       "</table>\n",
       "</div>"
      ],
      "text/plain": [
       "                           order_id                       customer_id  \\\n",
       "0  e481f51cbdc54678b7cc49136f2d6af7  9ef432eb6251297304e76186b10a928d   \n",
       "1  53cdb2fc8bc7dce0b6741e2150273451  b0830fb4747a6c6d20dea0b8c802d7ef   \n",
       "2  47770eb9100c2d0c44946d9cf07ec65d  41ce2a54c0b03bf3443c3d931a367089   \n",
       "3  949d5b44dbf5de918fe9c16f97b45f8a  f88197465ea7920adcdbec7375364d82   \n",
       "4  ad21c59c0840e6cb83a9ceb5573f8159  8ab97904e6daea8866dbdbc4fb7aad2c   \n",
       "\n",
       "                 customer_unique_id  days_ago  \n",
       "0  7c396fd4830fd04220f754e42b4e5bff      -334  \n",
       "1  af07308b275d755c9edb36a90c618231       -39  \n",
       "2  3a653a41f6f9fc3d2a113cf8398680e8       -24  \n",
       "3  7c142cf63193a1473d2e66489a9ae977      -287  \n",
       "4  72632f0f9dd73dfee390c9b22eb56dd6      -200  "
      ]
     },
     "execution_count": 5,
     "metadata": {},
     "output_type": "execute_result"
    }
   ],
   "source": [
    "ref_date = datetime.datetime.strptime('2018-09-01 00:00:00', '%Y-%m-%d %H:%M:%S')\n",
    "selection3 = selection2.copy()\n",
    "\n",
    "selection3.order_purchase_timestamp = selection2.order_purchase_timestamp.apply(lambda x: datetime.datetime.strptime(x, '%Y-%m-%d %H:%M:%S'))\n",
    "selection3['days_ago'] = selection3.order_purchase_timestamp - ref_date\n",
    "selection3['days_ago'] = selection3.days_ago.apply(lambda x: x.days)\n",
    "selection3.drop(columns=['order_purchase_timestamp'], inplace=True)\n",
    "selection3.head()"
   ]
  },
  {
   "cell_type": "code",
   "execution_count": 6,
   "id": "223982e3-b4fd-497c-b9f9-82b30a324ca8",
   "metadata": {},
   "outputs": [
    {
     "data": {
      "text/html": [
       "<div>\n",
       "<style scoped>\n",
       "    .dataframe tbody tr th:only-of-type {\n",
       "        vertical-align: middle;\n",
       "    }\n",
       "\n",
       "    .dataframe tbody tr th {\n",
       "        vertical-align: top;\n",
       "    }\n",
       "\n",
       "    .dataframe thead th {\n",
       "        text-align: right;\n",
       "    }\n",
       "</style>\n",
       "<table border=\"1\" class=\"dataframe\">\n",
       "  <thead>\n",
       "    <tr style=\"text-align: right;\">\n",
       "      <th></th>\n",
       "      <th>count</th>\n",
       "      <th>mean</th>\n",
       "      <th>std</th>\n",
       "      <th>min</th>\n",
       "      <th>25%</th>\n",
       "      <th>50%</th>\n",
       "      <th>75%</th>\n",
       "      <th>max</th>\n",
       "    </tr>\n",
       "  </thead>\n",
       "  <tbody>\n",
       "    <tr>\n",
       "      <th>days_ago</th>\n",
       "      <td>74213.0</td>\n",
       "      <td>-176.203778</td>\n",
       "      <td>99.367873</td>\n",
       "      <td>-365.0</td>\n",
       "      <td>-263.0</td>\n",
       "      <td>-176.0</td>\n",
       "      <td>-92.0</td>\n",
       "      <td>-3.0</td>\n",
       "    </tr>\n",
       "  </tbody>\n",
       "</table>\n",
       "</div>"
      ],
      "text/plain": [
       "            count        mean        std    min    25%    50%   75%  max\n",
       "days_ago  74213.0 -176.203778  99.367873 -365.0 -263.0 -176.0 -92.0 -3.0"
      ]
     },
     "execution_count": 6,
     "metadata": {},
     "output_type": "execute_result"
    }
   ],
   "source": [
    "selection3.describe().T"
   ]
  },
  {
   "cell_type": "markdown",
   "id": "5e4b87a1-2b31-4959-b957-8dde326245c5",
   "metadata": {},
   "source": [
    "#### Puis, on crée une **nouvelle table** `R_data` qui stoque la **recence** *(la plus petite valeur `days_ago`)* de chaque client"
   ]
  },
  {
   "cell_type": "code",
   "execution_count": 7,
   "id": "2e81e6c0-af95-461f-aebc-170c0059ed19",
   "metadata": {},
   "outputs": [
    {
     "data": {
      "text/html": [
       "<div>\n",
       "<style scoped>\n",
       "    .dataframe tbody tr th:only-of-type {\n",
       "        vertical-align: middle;\n",
       "    }\n",
       "\n",
       "    .dataframe tbody tr th {\n",
       "        vertical-align: top;\n",
       "    }\n",
       "\n",
       "    .dataframe thead th {\n",
       "        text-align: right;\n",
       "    }\n",
       "</style>\n",
       "<table border=\"1\" class=\"dataframe\">\n",
       "  <thead>\n",
       "    <tr style=\"text-align: right;\">\n",
       "      <th></th>\n",
       "      <th>customer_unique_id</th>\n",
       "      <th>recence</th>\n",
       "    </tr>\n",
       "  </thead>\n",
       "  <tbody>\n",
       "    <tr>\n",
       "      <th>0</th>\n",
       "      <td>0000366f3b9a7992bf8c76cfdf3221e2</td>\n",
       "      <td>-114</td>\n",
       "    </tr>\n",
       "    <tr>\n",
       "      <th>1</th>\n",
       "      <td>0000b849f77a49e4a4ce2b2a4ca5be3f</td>\n",
       "      <td>-117</td>\n",
       "    </tr>\n",
       "    <tr>\n",
       "      <th>2</th>\n",
       "      <td>0000f6ccb0745a6a4b88665a16c9f078</td>\n",
       "      <td>-324</td>\n",
       "    </tr>\n",
       "    <tr>\n",
       "      <th>3</th>\n",
       "      <td>0004aac84e0df4da2b147fca70cf8255</td>\n",
       "      <td>-291</td>\n",
       "    </tr>\n",
       "    <tr>\n",
       "      <th>4</th>\n",
       "      <td>0004bd2a26a76fe21f786e4fbd80607f</td>\n",
       "      <td>-149</td>\n",
       "    </tr>\n",
       "  </tbody>\n",
       "</table>\n",
       "</div>"
      ],
      "text/plain": [
       "                 customer_unique_id  recence\n",
       "0  0000366f3b9a7992bf8c76cfdf3221e2     -114\n",
       "1  0000b849f77a49e4a4ce2b2a4ca5be3f     -117\n",
       "2  0000f6ccb0745a6a4b88665a16c9f078     -324\n",
       "3  0004aac84e0df4da2b147fca70cf8255     -291\n",
       "4  0004bd2a26a76fe21f786e4fbd80607f     -149"
      ]
     },
     "execution_count": 7,
     "metadata": {},
     "output_type": "execute_result"
    }
   ],
   "source": [
    "R_data = selection3[['customer_unique_id', 'days_ago']].groupby('customer_unique_id').min().reset_index()\n",
    "R_data.rename(columns={'days_ago': 'recence'}, inplace=True)\n",
    "R_data.head()"
   ]
  },
  {
   "cell_type": "code",
   "execution_count": 8,
   "id": "d4c58f9c-0e40-4374-aace-2946ae4e369b",
   "metadata": {},
   "outputs": [
    {
     "data": {
      "text/html": [
       "<div>\n",
       "<style scoped>\n",
       "    .dataframe tbody tr th:only-of-type {\n",
       "        vertical-align: middle;\n",
       "    }\n",
       "\n",
       "    .dataframe tbody tr th {\n",
       "        vertical-align: top;\n",
       "    }\n",
       "\n",
       "    .dataframe thead th {\n",
       "        text-align: right;\n",
       "    }\n",
       "</style>\n",
       "<table border=\"1\" class=\"dataframe\">\n",
       "  <thead>\n",
       "    <tr style=\"text-align: right;\">\n",
       "      <th></th>\n",
       "      <th>count</th>\n",
       "      <th>mean</th>\n",
       "      <th>std</th>\n",
       "      <th>min</th>\n",
       "      <th>25%</th>\n",
       "      <th>50%</th>\n",
       "      <th>75%</th>\n",
       "      <th>max</th>\n",
       "    </tr>\n",
       "  </thead>\n",
       "  <tbody>\n",
       "    <tr>\n",
       "      <th>recence</th>\n",
       "      <td>72247.0</td>\n",
       "      <td>-176.54805</td>\n",
       "      <td>99.464265</td>\n",
       "      <td>-365.0</td>\n",
       "      <td>-264.0</td>\n",
       "      <td>-176.0</td>\n",
       "      <td>-92.5</td>\n",
       "      <td>-3.0</td>\n",
       "    </tr>\n",
       "  </tbody>\n",
       "</table>\n",
       "</div>"
      ],
      "text/plain": [
       "           count       mean        std    min    25%    50%   75%  max\n",
       "recence  72247.0 -176.54805  99.464265 -365.0 -264.0 -176.0 -92.5 -3.0"
      ]
     },
     "execution_count": 8,
     "metadata": {},
     "output_type": "execute_result"
    }
   ],
   "source": [
    "R_data.describe().T"
   ]
  },
  {
   "cell_type": "markdown",
   "id": "522522b7-dc72-41a4-bf4d-6c83c8e72dae",
   "metadata": {},
   "source": [
    "## 1.3 Calcul du `Montant` <a class=\"anchor\" id=\"rfm_M\"></a> [⇪](#menu)"
   ]
  },
  {
   "cell_type": "markdown",
   "id": "4d78234e-5d86-4ba4-96ff-76393b1f5685",
   "metadata": {},
   "source": [
    "#### On calcul le montant total de chaque commande *(puisqu'il peut y avoir plusieurs moyens de paiements)*"
   ]
  },
  {
   "cell_type": "code",
   "execution_count": 12,
   "id": "6635812a-ada2-4995-a867-df542674748e",
   "metadata": {},
   "outputs": [
    {
     "data": {
      "text/html": [
       "<div>\n",
       "<style scoped>\n",
       "    .dataframe tbody tr th:only-of-type {\n",
       "        vertical-align: middle;\n",
       "    }\n",
       "\n",
       "    .dataframe tbody tr th {\n",
       "        vertical-align: top;\n",
       "    }\n",
       "\n",
       "    .dataframe thead th {\n",
       "        text-align: right;\n",
       "    }\n",
       "</style>\n",
       "<table border=\"1\" class=\"dataframe\">\n",
       "  <thead>\n",
       "    <tr style=\"text-align: right;\">\n",
       "      <th></th>\n",
       "      <th>order_id</th>\n",
       "      <th>montant</th>\n",
       "    </tr>\n",
       "  </thead>\n",
       "  <tbody>\n",
       "    <tr>\n",
       "      <th>0</th>\n",
       "      <td>00010242fe8c5a6d1ba2dd792cb16214</td>\n",
       "      <td>72.19</td>\n",
       "    </tr>\n",
       "    <tr>\n",
       "      <th>1</th>\n",
       "      <td>000229ec398224ef6ca0657da4fc703e</td>\n",
       "      <td>216.87</td>\n",
       "    </tr>\n",
       "    <tr>\n",
       "      <th>2</th>\n",
       "      <td>00024acbcdf0a6daa1e931b038114c75</td>\n",
       "      <td>25.78</td>\n",
       "    </tr>\n",
       "    <tr>\n",
       "      <th>3</th>\n",
       "      <td>00054e8431b9d7675808bcb819fb4a32</td>\n",
       "      <td>31.75</td>\n",
       "    </tr>\n",
       "    <tr>\n",
       "      <th>4</th>\n",
       "      <td>000576fe39319847cbb9d288c5617fa6</td>\n",
       "      <td>880.75</td>\n",
       "    </tr>\n",
       "  </tbody>\n",
       "</table>\n",
       "</div>"
      ],
      "text/plain": [
       "                           order_id  montant\n",
       "0  00010242fe8c5a6d1ba2dd792cb16214    72.19\n",
       "1  000229ec398224ef6ca0657da4fc703e   216.87\n",
       "2  00024acbcdf0a6daa1e931b038114c75    25.78\n",
       "3  00054e8431b9d7675808bcb819fb4a32    31.75\n",
       "4  000576fe39319847cbb9d288c5617fa6   880.75"
      ]
     },
     "execution_count": 12,
     "metadata": {},
     "output_type": "execute_result"
    }
   ],
   "source": [
    "total_amount_per_order = selection3[['order_id']].merge(\n",
    "        data_payments[['order_id', 'payment_value']], on='order_id', how='left'\n",
    "    ).groupby('order_id').sum().reset_index()\n",
    "total_amount_per_order.rename(columns={'payment_value': 'montant'}, inplace=True)\n",
    "total_amount_per_order.head()"
   ]
  },
  {
   "cell_type": "markdown",
   "id": "1ec3ef07-5ae3-4372-8e61-f1d36439dfaa",
   "metadata": {},
   "source": [
    "#### Puis, on crée une **nouvelle table** `M_data` qui stoque le **montant** *(le total des montants de toutes les commandes faites sur la période choisie)* pour chaque client"
   ]
  },
  {
   "cell_type": "code",
   "execution_count": 13,
   "id": "718ca685-e750-4c24-9fe4-0742cad16708",
   "metadata": {},
   "outputs": [
    {
     "data": {
      "text/html": [
       "<div>\n",
       "<style scoped>\n",
       "    .dataframe tbody tr th:only-of-type {\n",
       "        vertical-align: middle;\n",
       "    }\n",
       "\n",
       "    .dataframe tbody tr th {\n",
       "        vertical-align: top;\n",
       "    }\n",
       "\n",
       "    .dataframe thead th {\n",
       "        text-align: right;\n",
       "    }\n",
       "</style>\n",
       "<table border=\"1\" class=\"dataframe\">\n",
       "  <thead>\n",
       "    <tr style=\"text-align: right;\">\n",
       "      <th></th>\n",
       "      <th>customer_unique_id</th>\n",
       "      <th>montant</th>\n",
       "    </tr>\n",
       "  </thead>\n",
       "  <tbody>\n",
       "    <tr>\n",
       "      <th>0</th>\n",
       "      <td>0000366f3b9a7992bf8c76cfdf3221e2</td>\n",
       "      <td>141.90</td>\n",
       "    </tr>\n",
       "    <tr>\n",
       "      <th>1</th>\n",
       "      <td>0000b849f77a49e4a4ce2b2a4ca5be3f</td>\n",
       "      <td>27.19</td>\n",
       "    </tr>\n",
       "    <tr>\n",
       "      <th>2</th>\n",
       "      <td>0000f6ccb0745a6a4b88665a16c9f078</td>\n",
       "      <td>43.62</td>\n",
       "    </tr>\n",
       "    <tr>\n",
       "      <th>3</th>\n",
       "      <td>0004aac84e0df4da2b147fca70cf8255</td>\n",
       "      <td>196.89</td>\n",
       "    </tr>\n",
       "    <tr>\n",
       "      <th>4</th>\n",
       "      <td>0004bd2a26a76fe21f786e4fbd80607f</td>\n",
       "      <td>166.98</td>\n",
       "    </tr>\n",
       "  </tbody>\n",
       "</table>\n",
       "</div>"
      ],
      "text/plain": [
       "                 customer_unique_id  montant\n",
       "0  0000366f3b9a7992bf8c76cfdf3221e2   141.90\n",
       "1  0000b849f77a49e4a4ce2b2a4ca5be3f    27.19\n",
       "2  0000f6ccb0745a6a4b88665a16c9f078    43.62\n",
       "3  0004aac84e0df4da2b147fca70cf8255   196.89\n",
       "4  0004bd2a26a76fe21f786e4fbd80607f   166.98"
      ]
     },
     "execution_count": 13,
     "metadata": {},
     "output_type": "execute_result"
    }
   ],
   "source": [
    "M_data = selection3[['customer_unique_id', 'order_id']].merge(\n",
    "        total_amount_per_order, on='order_id', how='left'\n",
    "    ).groupby('customer_unique_id').sum().reset_index()\n",
    "M_data.head()"
   ]
  },
  {
   "cell_type": "code",
   "execution_count": 14,
   "id": "ac23a12f-46a8-4782-b824-2c210f445872",
   "metadata": {},
   "outputs": [
    {
     "data": {
      "text/html": [
       "<div>\n",
       "<style scoped>\n",
       "    .dataframe tbody tr th:only-of-type {\n",
       "        vertical-align: middle;\n",
       "    }\n",
       "\n",
       "    .dataframe tbody tr th {\n",
       "        vertical-align: top;\n",
       "    }\n",
       "\n",
       "    .dataframe thead th {\n",
       "        text-align: right;\n",
       "    }\n",
       "</style>\n",
       "<table border=\"1\" class=\"dataframe\">\n",
       "  <thead>\n",
       "    <tr style=\"text-align: right;\">\n",
       "      <th></th>\n",
       "      <th>count</th>\n",
       "      <th>mean</th>\n",
       "      <th>std</th>\n",
       "      <th>min</th>\n",
       "      <th>25%</th>\n",
       "      <th>50%</th>\n",
       "      <th>75%</th>\n",
       "      <th>max</th>\n",
       "    </tr>\n",
       "  </thead>\n",
       "  <tbody>\n",
       "    <tr>\n",
       "      <th>montant</th>\n",
       "      <td>72247.0</td>\n",
       "      <td>164.548839</td>\n",
       "      <td>217.050575</td>\n",
       "      <td>0.0</td>\n",
       "      <td>63.13</td>\n",
       "      <td>108.2</td>\n",
       "      <td>182.14</td>\n",
       "      <td>7274.88</td>\n",
       "    </tr>\n",
       "  </tbody>\n",
       "</table>\n",
       "</div>"
      ],
      "text/plain": [
       "           count        mean         std  min    25%    50%     75%      max\n",
       "montant  72247.0  164.548839  217.050575  0.0  63.13  108.2  182.14  7274.88"
      ]
     },
     "execution_count": 14,
     "metadata": {},
     "output_type": "execute_result"
    }
   ],
   "source": [
    "M_data.describe().T"
   ]
  },
  {
   "cell_type": "markdown",
   "id": "fbe11456-6719-4e11-aaca-fdfa8ddfbdd7",
   "metadata": {},
   "source": [
    "## 1.4 Calcul des `scores RFM` <a class=\"anchor\" id=\"rfm_scores\"></a> [⇪](#menu)"
   ]
  },
  {
   "cell_type": "markdown",
   "id": "f3d12ce7-762f-43c2-a0e4-e52c0b9f9233",
   "metadata": {},
   "source": [
    "#### On associe les trois jeux de données `R_data`, `F_data` et `M_data` en un unique jeu de données `RFM_data`"
   ]
  },
  {
   "cell_type": "code",
   "execution_count": 15,
   "id": "dd236f15-29d4-424f-86ae-56e01d331729",
   "metadata": {},
   "outputs": [
    {
     "data": {
      "text/html": [
       "<div>\n",
       "<style scoped>\n",
       "    .dataframe tbody tr th:only-of-type {\n",
       "        vertical-align: middle;\n",
       "    }\n",
       "\n",
       "    .dataframe tbody tr th {\n",
       "        vertical-align: top;\n",
       "    }\n",
       "\n",
       "    .dataframe thead th {\n",
       "        text-align: right;\n",
       "    }\n",
       "</style>\n",
       "<table border=\"1\" class=\"dataframe\">\n",
       "  <thead>\n",
       "    <tr style=\"text-align: right;\">\n",
       "      <th></th>\n",
       "      <th>customer_unique_id</th>\n",
       "      <th>recence</th>\n",
       "      <th>frequence</th>\n",
       "      <th>montant</th>\n",
       "    </tr>\n",
       "  </thead>\n",
       "  <tbody>\n",
       "    <tr>\n",
       "      <th>39752</th>\n",
       "      <td>8d50f5eadf50201ccdcedfb9e2ac8455</td>\n",
       "      <td>-361</td>\n",
       "      <td>11</td>\n",
       "      <td>557.15</td>\n",
       "    </tr>\n",
       "    <tr>\n",
       "      <th>17595</th>\n",
       "      <td>3e43e6105506432c953e165fb2acf44c</td>\n",
       "      <td>-348</td>\n",
       "      <td>9</td>\n",
       "      <td>1172.66</td>\n",
       "    </tr>\n",
       "    <tr>\n",
       "      <th>7709</th>\n",
       "      <td>1b6c7548a2a1f9037c1fd3ddfed95f33</td>\n",
       "      <td>-292</td>\n",
       "      <td>7</td>\n",
       "      <td>959.01</td>\n",
       "    </tr>\n",
       "    <tr>\n",
       "      <th>57218</th>\n",
       "      <td>ca77025e7201e3b30c44b472ff346268</td>\n",
       "      <td>-327</td>\n",
       "      <td>7</td>\n",
       "      <td>1122.72</td>\n",
       "    </tr>\n",
       "    <tr>\n",
       "      <th>28323</th>\n",
       "      <td>6469f99c1f9dfae7733b25662e7f1782</td>\n",
       "      <td>-347</td>\n",
       "      <td>7</td>\n",
       "      <td>758.83</td>\n",
       "    </tr>\n",
       "    <tr>\n",
       "      <th>...</th>\n",
       "      <td>...</td>\n",
       "      <td>...</td>\n",
       "      <td>...</td>\n",
       "      <td>...</td>\n",
       "    </tr>\n",
       "    <tr>\n",
       "      <th>45706</th>\n",
       "      <td>a1efe9a98bf03a0025efa9bc56fe9d1f</td>\n",
       "      <td>-365</td>\n",
       "      <td>1</td>\n",
       "      <td>35.00</td>\n",
       "    </tr>\n",
       "    <tr>\n",
       "      <th>53024</th>\n",
       "      <td>bb7ff07987c9bb0345b6b948478525b4</td>\n",
       "      <td>-365</td>\n",
       "      <td>1</td>\n",
       "      <td>31.75</td>\n",
       "    </tr>\n",
       "    <tr>\n",
       "      <th>35090</th>\n",
       "      <td>7c3db55121184d445bec70d421c62135</td>\n",
       "      <td>-365</td>\n",
       "      <td>1</td>\n",
       "      <td>31.38</td>\n",
       "    </tr>\n",
       "    <tr>\n",
       "      <th>69236</th>\n",
       "      <td>f514fa8c60b510de4c90242e86801717</td>\n",
       "      <td>-365</td>\n",
       "      <td>1</td>\n",
       "      <td>31.10</td>\n",
       "    </tr>\n",
       "    <tr>\n",
       "      <th>39949</th>\n",
       "      <td>8dfb24fac32ec7170821d2be63fa9c1c</td>\n",
       "      <td>-365</td>\n",
       "      <td>1</td>\n",
       "      <td>17.85</td>\n",
       "    </tr>\n",
       "  </tbody>\n",
       "</table>\n",
       "<p>72247 rows × 4 columns</p>\n",
       "</div>"
      ],
      "text/plain": [
       "                     customer_unique_id  recence  frequence  montant\n",
       "39752  8d50f5eadf50201ccdcedfb9e2ac8455     -361         11   557.15\n",
       "17595  3e43e6105506432c953e165fb2acf44c     -348          9  1172.66\n",
       "7709   1b6c7548a2a1f9037c1fd3ddfed95f33     -292          7   959.01\n",
       "57218  ca77025e7201e3b30c44b472ff346268     -327          7  1122.72\n",
       "28323  6469f99c1f9dfae7733b25662e7f1782     -347          7   758.83\n",
       "...                                 ...      ...        ...      ...\n",
       "45706  a1efe9a98bf03a0025efa9bc56fe9d1f     -365          1    35.00\n",
       "53024  bb7ff07987c9bb0345b6b948478525b4     -365          1    31.75\n",
       "35090  7c3db55121184d445bec70d421c62135     -365          1    31.38\n",
       "69236  f514fa8c60b510de4c90242e86801717     -365          1    31.10\n",
       "39949  8dfb24fac32ec7170821d2be63fa9c1c     -365          1    17.85\n",
       "\n",
       "[72247 rows x 4 columns]"
      ]
     },
     "execution_count": 15,
     "metadata": {},
     "output_type": "execute_result"
    }
   ],
   "source": [
    "RFM_data = reduce(lambda x, y: pd.merge(x, y, on='customer_unique_id', how='left'), [R_data, F_data, M_data])\n",
    "RFM_data.sort_values(['frequence', 'recence', 'montant'], ascending=False)"
   ]
  },
  {
   "cell_type": "code",
   "execution_count": 16,
   "id": "0125ca3b-daa2-4545-aed6-5a32f54fa062",
   "metadata": {},
   "outputs": [
    {
     "data": {
      "text/html": [
       "<div>\n",
       "<style scoped>\n",
       "    .dataframe tbody tr th:only-of-type {\n",
       "        vertical-align: middle;\n",
       "    }\n",
       "\n",
       "    .dataframe tbody tr th {\n",
       "        vertical-align: top;\n",
       "    }\n",
       "\n",
       "    .dataframe thead th {\n",
       "        text-align: right;\n",
       "    }\n",
       "</style>\n",
       "<table border=\"1\" class=\"dataframe\">\n",
       "  <thead>\n",
       "    <tr style=\"text-align: right;\">\n",
       "      <th></th>\n",
       "      <th>count</th>\n",
       "      <th>mean</th>\n",
       "      <th>std</th>\n",
       "      <th>min</th>\n",
       "      <th>25%</th>\n",
       "      <th>50%</th>\n",
       "      <th>75%</th>\n",
       "      <th>max</th>\n",
       "    </tr>\n",
       "  </thead>\n",
       "  <tbody>\n",
       "    <tr>\n",
       "      <th>recence</th>\n",
       "      <td>72247.0</td>\n",
       "      <td>-176.548050</td>\n",
       "      <td>99.464265</td>\n",
       "      <td>-365.0</td>\n",
       "      <td>-264.00</td>\n",
       "      <td>-176.0</td>\n",
       "      <td>-92.50</td>\n",
       "      <td>-3.00</td>\n",
       "    </tr>\n",
       "    <tr>\n",
       "      <th>frequence</th>\n",
       "      <td>72247.0</td>\n",
       "      <td>1.027212</td>\n",
       "      <td>0.185742</td>\n",
       "      <td>1.0</td>\n",
       "      <td>1.00</td>\n",
       "      <td>1.0</td>\n",
       "      <td>1.00</td>\n",
       "      <td>11.00</td>\n",
       "    </tr>\n",
       "    <tr>\n",
       "      <th>montant</th>\n",
       "      <td>72247.0</td>\n",
       "      <td>164.548839</td>\n",
       "      <td>217.050575</td>\n",
       "      <td>0.0</td>\n",
       "      <td>63.13</td>\n",
       "      <td>108.2</td>\n",
       "      <td>182.14</td>\n",
       "      <td>7274.88</td>\n",
       "    </tr>\n",
       "  </tbody>\n",
       "</table>\n",
       "</div>"
      ],
      "text/plain": [
       "             count        mean         std    min     25%    50%     75%  \\\n",
       "recence    72247.0 -176.548050   99.464265 -365.0 -264.00 -176.0  -92.50   \n",
       "frequence  72247.0    1.027212    0.185742    1.0    1.00    1.0    1.00   \n",
       "montant    72247.0  164.548839  217.050575    0.0   63.13  108.2  182.14   \n",
       "\n",
       "               max  \n",
       "recence      -3.00  \n",
       "frequence    11.00  \n",
       "montant    7274.88  "
      ]
     },
     "execution_count": 16,
     "metadata": {},
     "output_type": "execute_result"
    }
   ],
   "source": [
    "RFM_data.describe().T"
   ]
  },
  {
   "cell_type": "markdown",
   "id": "00922be8-78b6-4b19-8b9e-b99c363746f3",
   "metadata": {},
   "source": [
    "---\n",
    "---\n",
    "# 2. Feature Engineering <a class=\"anchor\" id=\"fe\"></a> [⇪](#menu)"
   ]
  },
  {
   "cell_type": "markdown",
   "id": "c5d1c370-5388-47e1-a08d-9f8853dc875f",
   "metadata": {},
   "source": [
    "## 2.1 Récupération des données `Recence` et `Montant` du RFM <a class=\"anchor\" id=\"fe_1\"></a> [⇪](#menu)"
   ]
  },
  {
   "cell_type": "markdown",
   "id": "7629639d-bc5b-425c-907a-1ca1c5ce4cc6",
   "metadata": {},
   "source": [
    "#### Préparons une table de référence qui nous permettra de faire facilement les jointures"
   ]
  },
  {
   "cell_type": "code",
   "execution_count": 25,
   "id": "f683bfe1-37aa-434c-83ce-c82f2ff2734a",
   "metadata": {},
   "outputs": [
    {
     "data": {
      "text/html": [
       "<div>\n",
       "<style scoped>\n",
       "    .dataframe tbody tr th:only-of-type {\n",
       "        vertical-align: middle;\n",
       "    }\n",
       "\n",
       "    .dataframe tbody tr th {\n",
       "        vertical-align: top;\n",
       "    }\n",
       "\n",
       "    .dataframe thead th {\n",
       "        text-align: right;\n",
       "    }\n",
       "</style>\n",
       "<table border=\"1\" class=\"dataframe\">\n",
       "  <thead>\n",
       "    <tr style=\"text-align: right;\">\n",
       "      <th></th>\n",
       "      <th>order_id</th>\n",
       "      <th>customer_id</th>\n",
       "      <th>customer_unique_id</th>\n",
       "    </tr>\n",
       "  </thead>\n",
       "  <tbody>\n",
       "    <tr>\n",
       "      <th>0</th>\n",
       "      <td>e481f51cbdc54678b7cc49136f2d6af7</td>\n",
       "      <td>9ef432eb6251297304e76186b10a928d</td>\n",
       "      <td>7c396fd4830fd04220f754e42b4e5bff</td>\n",
       "    </tr>\n",
       "    <tr>\n",
       "      <th>1</th>\n",
       "      <td>53cdb2fc8bc7dce0b6741e2150273451</td>\n",
       "      <td>b0830fb4747a6c6d20dea0b8c802d7ef</td>\n",
       "      <td>af07308b275d755c9edb36a90c618231</td>\n",
       "    </tr>\n",
       "  </tbody>\n",
       "</table>\n",
       "</div>"
      ],
      "text/plain": [
       "                           order_id                       customer_id  \\\n",
       "0  e481f51cbdc54678b7cc49136f2d6af7  9ef432eb6251297304e76186b10a928d   \n",
       "1  53cdb2fc8bc7dce0b6741e2150273451  b0830fb4747a6c6d20dea0b8c802d7ef   \n",
       "\n",
       "                 customer_unique_id  \n",
       "0  7c396fd4830fd04220f754e42b4e5bff  \n",
       "1  af07308b275d755c9edb36a90c618231  "
      ]
     },
     "execution_count": 25,
     "metadata": {},
     "output_type": "execute_result"
    }
   ],
   "source": [
    "data_base_join = selection2[['order_id', 'customer_id', 'customer_unique_id']]\n",
    "data_base_join.head(2)"
   ]
  },
  {
   "cell_type": "code",
   "execution_count": 26,
   "id": "b0713ad8-657c-4731-b125-61b202d3dda1",
   "metadata": {},
   "outputs": [
    {
     "data": {
      "text/plain": [
       "(74213, 3)"
      ]
     },
     "execution_count": 26,
     "metadata": {},
     "output_type": "execute_result"
    }
   ],
   "source": [
    "data_base_join.shape"
   ]
  },
  {
   "cell_type": "markdown",
   "id": "1fa32f65-b47d-4c4b-8422-c53850104dcf",
   "metadata": {},
   "source": [
    "#### Préparons notre nouveau jeu de données avec les colonnes `Recence` et `Montant` du RFM\n",
    "> C'est à cette nouvelle table que l'on va ajouter petit à petit les variables que l'on va préparer ou récupèrer des autres datasets"
   ]
  },
  {
   "cell_type": "code",
   "execution_count": 27,
   "id": "606c2e8d-3467-4002-9552-dbd90c836581",
   "metadata": {},
   "outputs": [
    {
     "data": {
      "text/html": [
       "<div>\n",
       "<style scoped>\n",
       "    .dataframe tbody tr th:only-of-type {\n",
       "        vertical-align: middle;\n",
       "    }\n",
       "\n",
       "    .dataframe tbody tr th {\n",
       "        vertical-align: top;\n",
       "    }\n",
       "\n",
       "    .dataframe thead th {\n",
       "        text-align: right;\n",
       "    }\n",
       "</style>\n",
       "<table border=\"1\" class=\"dataframe\">\n",
       "  <thead>\n",
       "    <tr style=\"text-align: right;\">\n",
       "      <th></th>\n",
       "      <th>customer_unique_id</th>\n",
       "      <th>recence</th>\n",
       "      <th>montant</th>\n",
       "    </tr>\n",
       "  </thead>\n",
       "  <tbody>\n",
       "    <tr>\n",
       "      <th>0</th>\n",
       "      <td>7c396fd4830fd04220f754e42b4e5bff</td>\n",
       "      <td>-362</td>\n",
       "      <td>82.82</td>\n",
       "    </tr>\n",
       "    <tr>\n",
       "      <th>1</th>\n",
       "      <td>af07308b275d755c9edb36a90c618231</td>\n",
       "      <td>-39</td>\n",
       "      <td>141.46</td>\n",
       "    </tr>\n",
       "  </tbody>\n",
       "</table>\n",
       "</div>"
      ],
      "text/plain": [
       "                 customer_unique_id  recence  montant\n",
       "0  7c396fd4830fd04220f754e42b4e5bff     -362    82.82\n",
       "1  af07308b275d755c9edb36a90c618231      -39   141.46"
      ]
     },
     "execution_count": 27,
     "metadata": {},
     "output_type": "execute_result"
    }
   ],
   "source": [
    "data_clustering = data_base_join[['customer_unique_id']].merge(\n",
    "        RFM_data[['customer_unique_id', 'recence', 'montant']],\n",
    "        on='customer_unique_id', how='left'\n",
    "    )\n",
    "data_clustering.head(2)"
   ]
  },
  {
   "cell_type": "raw",
   "id": "13721458-1ba5-4021-8c6c-3431d10ce3a7",
   "metadata": {},
   "source": [
    "# Use 'M_score' instead of 'montant'\n",
    "data_clustering = data_base_join[['customer_unique_id']].merge(\n",
    "        RFM_data[['customer_unique_id', 'recence', 'M_score']],\n",
    "        on='customer_unique_id', how='left'\n",
    "    )\n",
    "data_clustering.rename(columns={'M_score': 'montant'}, inplace=True)\n",
    "data_clustering.head(2)"
   ]
  },
  {
   "cell_type": "code",
   "execution_count": 28,
   "id": "a5482e90-69fd-4b42-875f-301498fbf9ab",
   "metadata": {},
   "outputs": [
    {
     "data": {
      "text/plain": [
       "(74213, 3)"
      ]
     },
     "execution_count": 28,
     "metadata": {},
     "output_type": "execute_result"
    }
   ],
   "source": [
    "data_clustering.shape"
   ]
  },
  {
   "cell_type": "markdown",
   "id": "f5c9cbc3-7870-45f5-963b-04bc8e165581",
   "metadata": {},
   "source": [
    "## 2.2 Récupération d'informations dans `olist_order_reviews_dataset.csv` <a class=\"anchor\" id=\"fe_2\"></a> [⇪](#menu)\n",
    "\n",
    "Ajoutons **les notes** données aux commandes par les clients et **le temps de réponse** à l'enquête de satisfaction *(que nous avions calculés lors de l'EDA)*."
   ]
  },
  {
   "cell_type": "markdown",
   "id": "9d310106-f927-4e30-9795-b5dbb791ed65",
   "metadata": {},
   "source": [
    "#### Nous allons d'abord récupèrer ces variables `par commande`"
   ]
  },
  {
   "cell_type": "code",
   "execution_count": 29,
   "id": "fd5647e9-cb1b-4e0d-b5c6-d4e219af3f60",
   "metadata": {},
   "outputs": [
    {
     "data": {
      "text/plain": [
       "(74213, 5)"
      ]
     },
     "execution_count": 29,
     "metadata": {},
     "output_type": "execute_result"
    }
   ],
   "source": [
    "data_fe1 = data_base_join.merge(\n",
    "        data_reviews[['order_id', 'review_score', 'answer_days']].groupby('order_id').last(), \n",
    "        on='order_id', how='left'\n",
    "    )\n",
    "data_fe1.shape"
   ]
  },
  {
   "cell_type": "code",
   "execution_count": 30,
   "id": "1385a28f-c124-4e2c-b46b-571087aef963",
   "metadata": {},
   "outputs": [
    {
     "data": {
      "text/html": [
       "<div>\n",
       "<style scoped>\n",
       "    .dataframe tbody tr th:only-of-type {\n",
       "        vertical-align: middle;\n",
       "    }\n",
       "\n",
       "    .dataframe tbody tr th {\n",
       "        vertical-align: top;\n",
       "    }\n",
       "\n",
       "    .dataframe thead th {\n",
       "        text-align: right;\n",
       "    }\n",
       "</style>\n",
       "<table border=\"1\" class=\"dataframe\">\n",
       "  <thead>\n",
       "    <tr style=\"text-align: right;\">\n",
       "      <th></th>\n",
       "      <th>order_id</th>\n",
       "      <th>customer_id</th>\n",
       "      <th>customer_unique_id</th>\n",
       "      <th>review_score</th>\n",
       "      <th>answer_days</th>\n",
       "    </tr>\n",
       "  </thead>\n",
       "  <tbody>\n",
       "    <tr>\n",
       "      <th>0</th>\n",
       "      <td>e481f51cbdc54678b7cc49136f2d6af7</td>\n",
       "      <td>9ef432eb6251297304e76186b10a928d</td>\n",
       "      <td>7c396fd4830fd04220f754e42b4e5bff</td>\n",
       "      <td>4.0</td>\n",
       "      <td>1.0</td>\n",
       "    </tr>\n",
       "    <tr>\n",
       "      <th>1</th>\n",
       "      <td>53cdb2fc8bc7dce0b6741e2150273451</td>\n",
       "      <td>b0830fb4747a6c6d20dea0b8c802d7ef</td>\n",
       "      <td>af07308b275d755c9edb36a90c618231</td>\n",
       "      <td>4.0</td>\n",
       "      <td>0.0</td>\n",
       "    </tr>\n",
       "  </tbody>\n",
       "</table>\n",
       "</div>"
      ],
      "text/plain": [
       "                           order_id                       customer_id  \\\n",
       "0  e481f51cbdc54678b7cc49136f2d6af7  9ef432eb6251297304e76186b10a928d   \n",
       "1  53cdb2fc8bc7dce0b6741e2150273451  b0830fb4747a6c6d20dea0b8c802d7ef   \n",
       "\n",
       "                 customer_unique_id  review_score  answer_days  \n",
       "0  7c396fd4830fd04220f754e42b4e5bff           4.0          1.0  \n",
       "1  af07308b275d755c9edb36a90c618231           4.0          0.0  "
      ]
     },
     "execution_count": 30,
     "metadata": {},
     "output_type": "execute_result"
    }
   ],
   "source": [
    "data_fe1.head(2)"
   ]
  },
  {
   "cell_type": "markdown",
   "id": "09da8e9d-29cb-443e-b829-40cbd2a9a25f",
   "metadata": {},
   "source": [
    "#### Puis en faire la moyenne `par client`"
   ]
  },
  {
   "cell_type": "code",
   "execution_count": 31,
   "id": "41fde4eb-3519-498d-9ac4-41ee60bc95b1",
   "metadata": {},
   "outputs": [
    {
     "data": {
      "text/html": [
       "<div>\n",
       "<style scoped>\n",
       "    .dataframe tbody tr th:only-of-type {\n",
       "        vertical-align: middle;\n",
       "    }\n",
       "\n",
       "    .dataframe tbody tr th {\n",
       "        vertical-align: top;\n",
       "    }\n",
       "\n",
       "    .dataframe thead th {\n",
       "        text-align: right;\n",
       "    }\n",
       "</style>\n",
       "<table border=\"1\" class=\"dataframe\">\n",
       "  <thead>\n",
       "    <tr style=\"text-align: right;\">\n",
       "      <th></th>\n",
       "      <th>customer_unique_id</th>\n",
       "      <th>review_score</th>\n",
       "      <th>answer_days</th>\n",
       "    </tr>\n",
       "  </thead>\n",
       "  <tbody>\n",
       "    <tr>\n",
       "      <th>0</th>\n",
       "      <td>0000366f3b9a7992bf8c76cfdf3221e2</td>\n",
       "      <td>5.0</td>\n",
       "      <td>4.0</td>\n",
       "    </tr>\n",
       "    <tr>\n",
       "      <th>1</th>\n",
       "      <td>0000b849f77a49e4a4ce2b2a4ca5be3f</td>\n",
       "      <td>4.0</td>\n",
       "      <td>0.0</td>\n",
       "    </tr>\n",
       "  </tbody>\n",
       "</table>\n",
       "</div>"
      ],
      "text/plain": [
       "                 customer_unique_id  review_score  answer_days\n",
       "0  0000366f3b9a7992bf8c76cfdf3221e2           5.0          4.0\n",
       "1  0000b849f77a49e4a4ce2b2a4ca5be3f           4.0          0.0"
      ]
     },
     "execution_count": 31,
     "metadata": {},
     "output_type": "execute_result"
    }
   ],
   "source": [
    "data_fe2 = data_fe1.groupby('customer_unique_id').mean().reset_index()\n",
    "data_fe2.head(2)"
   ]
  },
  {
   "cell_type": "code",
   "execution_count": 32,
   "id": "40e8e835-2a7c-443b-b29d-951679816e7e",
   "metadata": {},
   "outputs": [
    {
     "data": {
      "text/plain": [
       "(72247, 3)"
      ]
     },
     "execution_count": 32,
     "metadata": {},
     "output_type": "execute_result"
    }
   ],
   "source": [
    "data_fe2.shape"
   ]
  },
  {
   "cell_type": "markdown",
   "id": "2e65baa3-d46b-4eeb-82f1-4c6ece2f085b",
   "metadata": {},
   "source": [
    "#### On vérifie que l'on a pas perdu ou ajouté de lignes dans les jointures..."
   ]
  },
  {
   "cell_type": "code",
   "execution_count": 33,
   "id": "07765d53-e961-4525-b99d-80edf89f19b6",
   "metadata": {},
   "outputs": [
    {
     "data": {
      "text/plain": [
       "72247"
      ]
     },
     "execution_count": 33,
     "metadata": {},
     "output_type": "execute_result"
    }
   ],
   "source": [
    "selection2.customer_unique_id.nunique()"
   ]
  },
  {
   "cell_type": "markdown",
   "id": "f44b7ec5-ff49-4912-9f5f-d15e8b63eb87",
   "metadata": {},
   "source": [
    "#### On applique les nouvelles valeurs sur le jeu de données `data_clustering`"
   ]
  },
  {
   "cell_type": "code",
   "execution_count": 34,
   "id": "6afe19db-c1a6-4870-8c7b-ec0816c17123",
   "metadata": {},
   "outputs": [
    {
     "data": {
      "text/html": [
       "<div>\n",
       "<style scoped>\n",
       "    .dataframe tbody tr th:only-of-type {\n",
       "        vertical-align: middle;\n",
       "    }\n",
       "\n",
       "    .dataframe tbody tr th {\n",
       "        vertical-align: top;\n",
       "    }\n",
       "\n",
       "    .dataframe thead th {\n",
       "        text-align: right;\n",
       "    }\n",
       "</style>\n",
       "<table border=\"1\" class=\"dataframe\">\n",
       "  <thead>\n",
       "    <tr style=\"text-align: right;\">\n",
       "      <th></th>\n",
       "      <th>customer_unique_id</th>\n",
       "      <th>recence</th>\n",
       "      <th>montant</th>\n",
       "      <th>review_score</th>\n",
       "      <th>answer_days</th>\n",
       "    </tr>\n",
       "  </thead>\n",
       "  <tbody>\n",
       "    <tr>\n",
       "      <th>0</th>\n",
       "      <td>7c396fd4830fd04220f754e42b4e5bff</td>\n",
       "      <td>-362</td>\n",
       "      <td>82.82</td>\n",
       "      <td>4.5</td>\n",
       "      <td>1.0</td>\n",
       "    </tr>\n",
       "    <tr>\n",
       "      <th>1</th>\n",
       "      <td>af07308b275d755c9edb36a90c618231</td>\n",
       "      <td>-39</td>\n",
       "      <td>141.46</td>\n",
       "      <td>4.0</td>\n",
       "      <td>0.0</td>\n",
       "    </tr>\n",
       "  </tbody>\n",
       "</table>\n",
       "</div>"
      ],
      "text/plain": [
       "                 customer_unique_id  recence  montant  review_score  \\\n",
       "0  7c396fd4830fd04220f754e42b4e5bff     -362    82.82           4.5   \n",
       "1  af07308b275d755c9edb36a90c618231      -39   141.46           4.0   \n",
       "\n",
       "   answer_days  \n",
       "0          1.0  \n",
       "1          0.0  "
      ]
     },
     "execution_count": 34,
     "metadata": {},
     "output_type": "execute_result"
    }
   ],
   "source": [
    "data_clustering = data_clustering.merge(data_fe2, on='customer_unique_id', how='left')\n",
    "data_clustering.head(2)"
   ]
  },
  {
   "cell_type": "code",
   "execution_count": 35,
   "id": "4ad61283-c474-4397-9710-1ff67a235845",
   "metadata": {},
   "outputs": [
    {
     "data": {
      "text/plain": [
       "(74213, 5)"
      ]
     },
     "execution_count": 35,
     "metadata": {},
     "output_type": "execute_result"
    }
   ],
   "source": [
    "data_clustering.shape"
   ]
  },
  {
   "cell_type": "markdown",
   "id": "6b169f10-14c1-4a7c-b5cb-759212f99842",
   "metadata": {},
   "source": [
    "## 2.2 Récupération d'informations dans `olist_order_items_dataset.csv` <a class=\"anchor\" id=\"fe_3\"></a> [⇪](#menu)\n",
    "\n",
    "Ajoutons **le nombre moyen de produits** et le **le nombre total de produits** commandé par client"
   ]
  },
  {
   "cell_type": "markdown",
   "id": "c438d241-f00f-467a-a5ee-1f85d556e49e",
   "metadata": {},
   "source": [
    "#### Nous allons d'abord récupèrer ces variables `par commande`"
   ]
  },
  {
   "cell_type": "code",
   "execution_count": 36,
   "id": "9a6a32ab-00fa-4d81-81b2-d38f202397ec",
   "metadata": {},
   "outputs": [
    {
     "data": {
      "text/html": [
       "<div>\n",
       "<style scoped>\n",
       "    .dataframe tbody tr th:only-of-type {\n",
       "        vertical-align: middle;\n",
       "    }\n",
       "\n",
       "    .dataframe tbody tr th {\n",
       "        vertical-align: top;\n",
       "    }\n",
       "\n",
       "    .dataframe thead th {\n",
       "        text-align: right;\n",
       "    }\n",
       "</style>\n",
       "<table border=\"1\" class=\"dataframe\">\n",
       "  <thead>\n",
       "    <tr style=\"text-align: right;\">\n",
       "      <th></th>\n",
       "      <th>order_id</th>\n",
       "      <th>order_item_id</th>\n",
       "    </tr>\n",
       "  </thead>\n",
       "  <tbody>\n",
       "    <tr>\n",
       "      <th>0</th>\n",
       "      <td>00010242fe8c5a6d1ba2dd792cb16214</td>\n",
       "      <td>1</td>\n",
       "    </tr>\n",
       "    <tr>\n",
       "      <th>1</th>\n",
       "      <td>00018f77f2f0320c557190d7a144bdd3</td>\n",
       "      <td>1</td>\n",
       "    </tr>\n",
       "  </tbody>\n",
       "</table>\n",
       "</div>"
      ],
      "text/plain": [
       "                           order_id  order_item_id\n",
       "0  00010242fe8c5a6d1ba2dd792cb16214              1\n",
       "1  00018f77f2f0320c557190d7a144bdd3              1"
      ]
     },
     "execution_count": 36,
     "metadata": {},
     "output_type": "execute_result"
    }
   ],
   "source": [
    "data_fe = data_items.groupby('order_id').last()[['order_item_id']].reset_index()\n",
    "data_fe.head(2)"
   ]
  },
  {
   "cell_type": "code",
   "execution_count": 37,
   "id": "c4faa25a-da94-4552-807a-31e6c3079f1c",
   "metadata": {},
   "outputs": [
    {
     "data": {
      "text/html": [
       "<div>\n",
       "<style scoped>\n",
       "    .dataframe tbody tr th:only-of-type {\n",
       "        vertical-align: middle;\n",
       "    }\n",
       "\n",
       "    .dataframe tbody tr th {\n",
       "        vertical-align: top;\n",
       "    }\n",
       "\n",
       "    .dataframe thead th {\n",
       "        text-align: right;\n",
       "    }\n",
       "</style>\n",
       "<table border=\"1\" class=\"dataframe\">\n",
       "  <thead>\n",
       "    <tr style=\"text-align: right;\">\n",
       "      <th></th>\n",
       "      <th>order_id</th>\n",
       "      <th>customer_id</th>\n",
       "      <th>customer_unique_id</th>\n",
       "      <th>order_item_id</th>\n",
       "    </tr>\n",
       "  </thead>\n",
       "  <tbody>\n",
       "    <tr>\n",
       "      <th>0</th>\n",
       "      <td>e481f51cbdc54678b7cc49136f2d6af7</td>\n",
       "      <td>9ef432eb6251297304e76186b10a928d</td>\n",
       "      <td>7c396fd4830fd04220f754e42b4e5bff</td>\n",
       "      <td>1</td>\n",
       "    </tr>\n",
       "    <tr>\n",
       "      <th>1</th>\n",
       "      <td>53cdb2fc8bc7dce0b6741e2150273451</td>\n",
       "      <td>b0830fb4747a6c6d20dea0b8c802d7ef</td>\n",
       "      <td>af07308b275d755c9edb36a90c618231</td>\n",
       "      <td>1</td>\n",
       "    </tr>\n",
       "  </tbody>\n",
       "</table>\n",
       "</div>"
      ],
      "text/plain": [
       "                           order_id                       customer_id  \\\n",
       "0  e481f51cbdc54678b7cc49136f2d6af7  9ef432eb6251297304e76186b10a928d   \n",
       "1  53cdb2fc8bc7dce0b6741e2150273451  b0830fb4747a6c6d20dea0b8c802d7ef   \n",
       "\n",
       "                 customer_unique_id  order_item_id  \n",
       "0  7c396fd4830fd04220f754e42b4e5bff              1  \n",
       "1  af07308b275d755c9edb36a90c618231              1  "
      ]
     },
     "execution_count": 37,
     "metadata": {},
     "output_type": "execute_result"
    }
   ],
   "source": [
    "data_fe = data_base_join.merge(data_fe, on='order_id', how='left')\n",
    "data_fe.head(2)"
   ]
  },
  {
   "cell_type": "code",
   "execution_count": 38,
   "id": "458bc6b5-a18c-451d-bd3c-ace846b628e4",
   "metadata": {},
   "outputs": [
    {
     "data": {
      "text/plain": [
       "(74213, 4)"
      ]
     },
     "execution_count": 38,
     "metadata": {},
     "output_type": "execute_result"
    }
   ],
   "source": [
    "data_fe.shape"
   ]
  },
  {
   "cell_type": "markdown",
   "id": "4ffb74df-709a-447a-9ab8-c7335a9741dc",
   "metadata": {},
   "source": [
    "#### Puis en faire la moyenne `par client`"
   ]
  },
  {
   "cell_type": "code",
   "execution_count": 39,
   "id": "40b040c2-7055-469e-9602-18376d4cb349",
   "metadata": {},
   "outputs": [
    {
     "data": {
      "text/html": [
       "<div>\n",
       "<style scoped>\n",
       "    .dataframe tbody tr th:only-of-type {\n",
       "        vertical-align: middle;\n",
       "    }\n",
       "\n",
       "    .dataframe tbody tr th {\n",
       "        vertical-align: top;\n",
       "    }\n",
       "\n",
       "    .dataframe thead th {\n",
       "        text-align: right;\n",
       "    }\n",
       "</style>\n",
       "<table border=\"1\" class=\"dataframe\">\n",
       "  <thead>\n",
       "    <tr style=\"text-align: right;\">\n",
       "      <th></th>\n",
       "      <th>customer_unique_id</th>\n",
       "      <th>mean_items</th>\n",
       "    </tr>\n",
       "  </thead>\n",
       "  <tbody>\n",
       "    <tr>\n",
       "      <th>0</th>\n",
       "      <td>0000366f3b9a7992bf8c76cfdf3221e2</td>\n",
       "      <td>1.0</td>\n",
       "    </tr>\n",
       "    <tr>\n",
       "      <th>1</th>\n",
       "      <td>0000b849f77a49e4a4ce2b2a4ca5be3f</td>\n",
       "      <td>1.0</td>\n",
       "    </tr>\n",
       "  </tbody>\n",
       "</table>\n",
       "</div>"
      ],
      "text/plain": [
       "                 customer_unique_id  mean_items\n",
       "0  0000366f3b9a7992bf8c76cfdf3221e2         1.0\n",
       "1  0000b849f77a49e4a4ce2b2a4ca5be3f         1.0"
      ]
     },
     "execution_count": 39,
     "metadata": {},
     "output_type": "execute_result"
    }
   ],
   "source": [
    "data_fe2 = data_fe.groupby('customer_unique_id').mean().reset_index()\n",
    "data_fe2.rename(columns={'order_item_id': 'mean_items'}, inplace=True)\n",
    "data_fe2.head(2)"
   ]
  },
  {
   "cell_type": "code",
   "execution_count": 40,
   "id": "3304f986-af59-4f4d-82ab-1574be7ca049",
   "metadata": {},
   "outputs": [
    {
     "data": {
      "text/html": [
       "<div>\n",
       "<style scoped>\n",
       "    .dataframe tbody tr th:only-of-type {\n",
       "        vertical-align: middle;\n",
       "    }\n",
       "\n",
       "    .dataframe tbody tr th {\n",
       "        vertical-align: top;\n",
       "    }\n",
       "\n",
       "    .dataframe thead th {\n",
       "        text-align: right;\n",
       "    }\n",
       "</style>\n",
       "<table border=\"1\" class=\"dataframe\">\n",
       "  <thead>\n",
       "    <tr style=\"text-align: right;\">\n",
       "      <th></th>\n",
       "      <th>count</th>\n",
       "      <th>mean</th>\n",
       "      <th>std</th>\n",
       "      <th>min</th>\n",
       "      <th>25%</th>\n",
       "      <th>50%</th>\n",
       "      <th>75%</th>\n",
       "      <th>max</th>\n",
       "    </tr>\n",
       "  </thead>\n",
       "  <tbody>\n",
       "    <tr>\n",
       "      <th>mean_items</th>\n",
       "      <td>72247.0</td>\n",
       "      <td>1.141812</td>\n",
       "      <td>0.533297</td>\n",
       "      <td>1.0</td>\n",
       "      <td>1.0</td>\n",
       "      <td>1.0</td>\n",
       "      <td>1.0</td>\n",
       "      <td>20.0</td>\n",
       "    </tr>\n",
       "  </tbody>\n",
       "</table>\n",
       "</div>"
      ],
      "text/plain": [
       "              count      mean       std  min  25%  50%  75%   max\n",
       "mean_items  72247.0  1.141812  0.533297  1.0  1.0  1.0  1.0  20.0"
      ]
     },
     "execution_count": 40,
     "metadata": {},
     "output_type": "execute_result"
    }
   ],
   "source": [
    "data_fe2.describe().T"
   ]
  },
  {
   "cell_type": "code",
   "execution_count": 41,
   "id": "e1756285-9abc-445d-9fd1-aba1f9b7186b",
   "metadata": {},
   "outputs": [
    {
     "data": {
      "text/html": [
       "<div>\n",
       "<style scoped>\n",
       "    .dataframe tbody tr th:only-of-type {\n",
       "        vertical-align: middle;\n",
       "    }\n",
       "\n",
       "    .dataframe tbody tr th {\n",
       "        vertical-align: top;\n",
       "    }\n",
       "\n",
       "    .dataframe thead th {\n",
       "        text-align: right;\n",
       "    }\n",
       "</style>\n",
       "<table border=\"1\" class=\"dataframe\">\n",
       "  <thead>\n",
       "    <tr style=\"text-align: right;\">\n",
       "      <th></th>\n",
       "      <th>customer_unique_id</th>\n",
       "      <th>total_items</th>\n",
       "    </tr>\n",
       "  </thead>\n",
       "  <tbody>\n",
       "    <tr>\n",
       "      <th>0</th>\n",
       "      <td>0000366f3b9a7992bf8c76cfdf3221e2</td>\n",
       "      <td>1</td>\n",
       "    </tr>\n",
       "    <tr>\n",
       "      <th>1</th>\n",
       "      <td>0000b849f77a49e4a4ce2b2a4ca5be3f</td>\n",
       "      <td>1</td>\n",
       "    </tr>\n",
       "  </tbody>\n",
       "</table>\n",
       "</div>"
      ],
      "text/plain": [
       "                 customer_unique_id  total_items\n",
       "0  0000366f3b9a7992bf8c76cfdf3221e2            1\n",
       "1  0000b849f77a49e4a4ce2b2a4ca5be3f            1"
      ]
     },
     "execution_count": 41,
     "metadata": {},
     "output_type": "execute_result"
    }
   ],
   "source": [
    "data_fe3 = data_fe.groupby('customer_unique_id').sum().reset_index()\n",
    "data_fe3.rename(columns={'order_item_id': 'total_items'}, inplace=True)\n",
    "data_fe3.head(2)"
   ]
  },
  {
   "cell_type": "code",
   "execution_count": 42,
   "id": "a48d335d-28f2-47e9-99ed-da3745824a2e",
   "metadata": {},
   "outputs": [
    {
     "data": {
      "text/html": [
       "<div>\n",
       "<style scoped>\n",
       "    .dataframe tbody tr th:only-of-type {\n",
       "        vertical-align: middle;\n",
       "    }\n",
       "\n",
       "    .dataframe tbody tr th {\n",
       "        vertical-align: top;\n",
       "    }\n",
       "\n",
       "    .dataframe thead th {\n",
       "        text-align: right;\n",
       "    }\n",
       "</style>\n",
       "<table border=\"1\" class=\"dataframe\">\n",
       "  <thead>\n",
       "    <tr style=\"text-align: right;\">\n",
       "      <th></th>\n",
       "      <th>count</th>\n",
       "      <th>mean</th>\n",
       "      <th>std</th>\n",
       "      <th>min</th>\n",
       "      <th>25%</th>\n",
       "      <th>50%</th>\n",
       "      <th>75%</th>\n",
       "      <th>max</th>\n",
       "    </tr>\n",
       "  </thead>\n",
       "  <tbody>\n",
       "    <tr>\n",
       "      <th>total_items</th>\n",
       "      <td>72247.0</td>\n",
       "      <td>1.175647</td>\n",
       "      <td>0.616571</td>\n",
       "      <td>1.0</td>\n",
       "      <td>1.0</td>\n",
       "      <td>1.0</td>\n",
       "      <td>1.0</td>\n",
       "      <td>24.0</td>\n",
       "    </tr>\n",
       "  </tbody>\n",
       "</table>\n",
       "</div>"
      ],
      "text/plain": [
       "               count      mean       std  min  25%  50%  75%   max\n",
       "total_items  72247.0  1.175647  0.616571  1.0  1.0  1.0  1.0  24.0"
      ]
     },
     "execution_count": 42,
     "metadata": {},
     "output_type": "execute_result"
    }
   ],
   "source": [
    "data_fe3.describe().T"
   ]
  },
  {
   "cell_type": "code",
   "execution_count": 43,
   "id": "07c544e1-fe58-4fda-8905-1aa64e915f8e",
   "metadata": {},
   "outputs": [
    {
     "data": {
      "text/html": [
       "<div>\n",
       "<style scoped>\n",
       "    .dataframe tbody tr th:only-of-type {\n",
       "        vertical-align: middle;\n",
       "    }\n",
       "\n",
       "    .dataframe tbody tr th {\n",
       "        vertical-align: top;\n",
       "    }\n",
       "\n",
       "    .dataframe thead th {\n",
       "        text-align: right;\n",
       "    }\n",
       "</style>\n",
       "<table border=\"1\" class=\"dataframe\">\n",
       "  <thead>\n",
       "    <tr style=\"text-align: right;\">\n",
       "      <th></th>\n",
       "      <th>customer_unique_id</th>\n",
       "      <th>recence</th>\n",
       "      <th>montant</th>\n",
       "      <th>review_score</th>\n",
       "      <th>answer_days</th>\n",
       "      <th>mean_items</th>\n",
       "      <th>total_items</th>\n",
       "    </tr>\n",
       "  </thead>\n",
       "  <tbody>\n",
       "    <tr>\n",
       "      <th>0</th>\n",
       "      <td>7c396fd4830fd04220f754e42b4e5bff</td>\n",
       "      <td>-362</td>\n",
       "      <td>82.82</td>\n",
       "      <td>4.5</td>\n",
       "      <td>1.0</td>\n",
       "      <td>1.0</td>\n",
       "      <td>2</td>\n",
       "    </tr>\n",
       "    <tr>\n",
       "      <th>1</th>\n",
       "      <td>af07308b275d755c9edb36a90c618231</td>\n",
       "      <td>-39</td>\n",
       "      <td>141.46</td>\n",
       "      <td>4.0</td>\n",
       "      <td>0.0</td>\n",
       "      <td>1.0</td>\n",
       "      <td>1</td>\n",
       "    </tr>\n",
       "  </tbody>\n",
       "</table>\n",
       "</div>"
      ],
      "text/plain": [
       "                 customer_unique_id  recence  montant  review_score  \\\n",
       "0  7c396fd4830fd04220f754e42b4e5bff     -362    82.82           4.5   \n",
       "1  af07308b275d755c9edb36a90c618231      -39   141.46           4.0   \n",
       "\n",
       "   answer_days  mean_items  total_items  \n",
       "0          1.0         1.0            2  \n",
       "1          0.0         1.0            1  "
      ]
     },
     "execution_count": 43,
     "metadata": {},
     "output_type": "execute_result"
    }
   ],
   "source": [
    "data_clustering = data_clustering.merge(data_fe2, on='customer_unique_id', how='left')\n",
    "data_clustering = data_clustering.merge(data_fe3, on='customer_unique_id', how='left')\n",
    "data_clustering.head(2)"
   ]
  },
  {
   "cell_type": "code",
   "execution_count": 44,
   "id": "1db2b3e1-b04a-4036-b60f-f333b4319a18",
   "metadata": {},
   "outputs": [
    {
     "data": {
      "text/plain": [
       "(74213, 7)"
      ]
     },
     "execution_count": 44,
     "metadata": {},
     "output_type": "execute_result"
    }
   ],
   "source": [
    "data_clustering.shape"
   ]
  },
  {
   "cell_type": "markdown",
   "id": "f97fd6a2-f7cf-4f35-a416-eec2aa698789",
   "metadata": {},
   "source": [
    "## 2.3 Récupération d'informations dans `olist_orders_dataset.csv` <a class=\"anchor\" id=\"fe_4\"></a> [⇪](#menu)\n",
    "\n",
    "Ajoutons **le temps de livraison moyen** des commandes pour chaque client"
   ]
  },
  {
   "cell_type": "markdown",
   "id": "52cf4c31-efdd-416c-89be-aa9dda5f4351",
   "metadata": {},
   "source": [
    "#### Nous allons d'abord récupèrer ces variables `par commande`"
   ]
  },
  {
   "cell_type": "code",
   "execution_count": 45,
   "id": "0eaeb525-0c84-4915-88d8-61a68edafa63",
   "metadata": {},
   "outputs": [
    {
     "data": {
      "text/html": [
       "<div>\n",
       "<style scoped>\n",
       "    .dataframe tbody tr th:only-of-type {\n",
       "        vertical-align: middle;\n",
       "    }\n",
       "\n",
       "    .dataframe tbody tr th {\n",
       "        vertical-align: top;\n",
       "    }\n",
       "\n",
       "    .dataframe thead th {\n",
       "        text-align: right;\n",
       "    }\n",
       "</style>\n",
       "<table border=\"1\" class=\"dataframe\">\n",
       "  <thead>\n",
       "    <tr style=\"text-align: right;\">\n",
       "      <th></th>\n",
       "      <th>order_id</th>\n",
       "      <th>customer_id</th>\n",
       "      <th>customer_unique_id</th>\n",
       "      <th>delivery_days</th>\n",
       "    </tr>\n",
       "  </thead>\n",
       "  <tbody>\n",
       "    <tr>\n",
       "      <th>0</th>\n",
       "      <td>e481f51cbdc54678b7cc49136f2d6af7</td>\n",
       "      <td>9ef432eb6251297304e76186b10a928d</td>\n",
       "      <td>7c396fd4830fd04220f754e42b4e5bff</td>\n",
       "      <td>8.0</td>\n",
       "    </tr>\n",
       "    <tr>\n",
       "      <th>1</th>\n",
       "      <td>53cdb2fc8bc7dce0b6741e2150273451</td>\n",
       "      <td>b0830fb4747a6c6d20dea0b8c802d7ef</td>\n",
       "      <td>af07308b275d755c9edb36a90c618231</td>\n",
       "      <td>14.0</td>\n",
       "    </tr>\n",
       "  </tbody>\n",
       "</table>\n",
       "</div>"
      ],
      "text/plain": [
       "                           order_id                       customer_id  \\\n",
       "0  e481f51cbdc54678b7cc49136f2d6af7  9ef432eb6251297304e76186b10a928d   \n",
       "1  53cdb2fc8bc7dce0b6741e2150273451  b0830fb4747a6c6d20dea0b8c802d7ef   \n",
       "\n",
       "                 customer_unique_id  delivery_days  \n",
       "0  7c396fd4830fd04220f754e42b4e5bff            8.0  \n",
       "1  af07308b275d755c9edb36a90c618231           14.0  "
      ]
     },
     "execution_count": 45,
     "metadata": {},
     "output_type": "execute_result"
    }
   ],
   "source": [
    "data_fe = data_base_join.merge(\n",
    "        data_orders[['order_id', 'delivery_days']].groupby('order_id').last(), \n",
    "        on='order_id', how='left'\n",
    ")\n",
    "data_fe.head(2)"
   ]
  },
  {
   "cell_type": "code",
   "execution_count": 46,
   "id": "00ffa969-4c99-4bbd-bed8-0b454c989559",
   "metadata": {},
   "outputs": [
    {
     "data": {
      "text/plain": [
       "(74213, 4)"
      ]
     },
     "execution_count": 46,
     "metadata": {},
     "output_type": "execute_result"
    }
   ],
   "source": [
    "data_fe.shape"
   ]
  },
  {
   "cell_type": "markdown",
   "id": "621afa6b-ecaa-4261-add9-8d729c54dab1",
   "metadata": {},
   "source": [
    "#### Puis en faire la moyenne `par client`"
   ]
  },
  {
   "cell_type": "code",
   "execution_count": 47,
   "id": "b079e02c-7834-4140-a716-1b27346d1648",
   "metadata": {},
   "outputs": [
    {
     "data": {
      "text/html": [
       "<div>\n",
       "<style scoped>\n",
       "    .dataframe tbody tr th:only-of-type {\n",
       "        vertical-align: middle;\n",
       "    }\n",
       "\n",
       "    .dataframe tbody tr th {\n",
       "        vertical-align: top;\n",
       "    }\n",
       "\n",
       "    .dataframe thead th {\n",
       "        text-align: right;\n",
       "    }\n",
       "</style>\n",
       "<table border=\"1\" class=\"dataframe\">\n",
       "  <thead>\n",
       "    <tr style=\"text-align: right;\">\n",
       "      <th></th>\n",
       "      <th>customer_unique_id</th>\n",
       "      <th>delivery_days</th>\n",
       "    </tr>\n",
       "  </thead>\n",
       "  <tbody>\n",
       "    <tr>\n",
       "      <th>0</th>\n",
       "      <td>0000366f3b9a7992bf8c76cfdf3221e2</td>\n",
       "      <td>6.0</td>\n",
       "    </tr>\n",
       "    <tr>\n",
       "      <th>1</th>\n",
       "      <td>0000b849f77a49e4a4ce2b2a4ca5be3f</td>\n",
       "      <td>3.0</td>\n",
       "    </tr>\n",
       "  </tbody>\n",
       "</table>\n",
       "</div>"
      ],
      "text/plain": [
       "                 customer_unique_id  delivery_days\n",
       "0  0000366f3b9a7992bf8c76cfdf3221e2            6.0\n",
       "1  0000b849f77a49e4a4ce2b2a4ca5be3f            3.0"
      ]
     },
     "execution_count": 47,
     "metadata": {},
     "output_type": "execute_result"
    }
   ],
   "source": [
    "data_fe2 = data_fe.groupby('customer_unique_id').mean().reset_index()\n",
    "data_fe2.head(2)"
   ]
  },
  {
   "cell_type": "code",
   "execution_count": 48,
   "id": "0b47853e-ab63-476b-9cc9-99df72909023",
   "metadata": {},
   "outputs": [
    {
     "data": {
      "text/plain": [
       "(72247, 2)"
      ]
     },
     "execution_count": 48,
     "metadata": {},
     "output_type": "execute_result"
    }
   ],
   "source": [
    "data_fe2.shape"
   ]
  },
  {
   "cell_type": "markdown",
   "id": "b9a61822-4123-4efe-afcc-8233369890c3",
   "metadata": {},
   "source": [
    "#### On applique les nouvelles valeurs sur le jeu de données `data_clustering`"
   ]
  },
  {
   "cell_type": "markdown",
   "id": "a0ff36de-4433-449f-82cf-9a14e810dc18",
   "metadata": {},
   "source": [
    ">#### 🔔 Finalement je ne l'applique pas, car j'ai découvert que c'était inversement corrélé avec la variable `review_score`"
   ]
  },
  {
   "cell_type": "raw",
   "id": "c795dab6-c1fc-4ff6-ae7d-904cfe0703f5",
   "metadata": {},
   "source": [
    "data_clustering = data_clustering.merge(data_fe2, on='customer_unique_id', how='left')\n",
    "data_clustering.head(2)"
   ]
  },
  {
   "cell_type": "raw",
   "id": "b875cda1-1f3a-4585-904f-4155d5f97b7b",
   "metadata": {},
   "source": [
    "data_clustering.shape"
   ]
  },
  {
   "cell_type": "markdown",
   "id": "9d22d8cd-f916-4464-a8b9-a138f1ee7863",
   "metadata": {},
   "source": [
    "---\n",
    "---\n",
    "# 3. Préparatifs pour les algorithmes d'apprentissage non-supervisés  <a class=\"anchor\" id=\"setup\"></a> [⇪](#menu)\n",
    "\n",
    "- 🚩 **TODO** ICI on parle de l'apprentisage suppervisé \n",
    "- 🚩 **TODO** ICI on explique que l'on a pas besoin de train/validation/test split\n",
    "> La plupart des algorithmes de clustering ne peuvent pas \"prédire\" pour de nouvelles données. K-means est une rare exception, car vous pouvez effectuer une classification par plus proche voisin sur les centroïdes pour prédire. Mais pour toute méthode qui n'utilise pas les centroïdes, on ne voit pas très bien comment on pourrait appliquer cela à des données \"test\".\n",
    "- 🚩 **TODO** ICI on parle de la metric utilisé dans le cadre du clustering --> silhouette (ses avantages, ses défauts, ses bornes -1/+1 etc.)"
   ]
  },
  {
   "cell_type": "markdown",
   "id": "f0c7a81e-0955-4b4e-b07e-f7c206d30482",
   "metadata": {},
   "source": [
    "## 3.1 Suppression des ID <a class=\"anchor\" id=\"setup_1\"></a> [⇪](#menu)\n",
    "\n",
    "Supprimons la colonne `customer_unique_id` qui était utile pour faire les jointures, mais qui ne l'est pas pour le clustering"
   ]
  },
  {
   "cell_type": "code",
   "execution_count": 49,
   "id": "2110457d-f42a-4bbd-85f3-e0a52f6d9081",
   "metadata": {},
   "outputs": [
    {
     "data": {
      "text/html": [
       "<div>\n",
       "<style scoped>\n",
       "    .dataframe tbody tr th:only-of-type {\n",
       "        vertical-align: middle;\n",
       "    }\n",
       "\n",
       "    .dataframe tbody tr th {\n",
       "        vertical-align: top;\n",
       "    }\n",
       "\n",
       "    .dataframe thead th {\n",
       "        text-align: right;\n",
       "    }\n",
       "</style>\n",
       "<table border=\"1\" class=\"dataframe\">\n",
       "  <thead>\n",
       "    <tr style=\"text-align: right;\">\n",
       "      <th></th>\n",
       "      <th>recence</th>\n",
       "      <th>montant</th>\n",
       "      <th>review_score</th>\n",
       "      <th>answer_days</th>\n",
       "      <th>mean_items</th>\n",
       "      <th>total_items</th>\n",
       "    </tr>\n",
       "  </thead>\n",
       "  <tbody>\n",
       "    <tr>\n",
       "      <th>0</th>\n",
       "      <td>-362</td>\n",
       "      <td>82.82</td>\n",
       "      <td>4.5</td>\n",
       "      <td>1.0</td>\n",
       "      <td>1.0</td>\n",
       "      <td>2</td>\n",
       "    </tr>\n",
       "    <tr>\n",
       "      <th>1</th>\n",
       "      <td>-39</td>\n",
       "      <td>141.46</td>\n",
       "      <td>4.0</td>\n",
       "      <td>0.0</td>\n",
       "      <td>1.0</td>\n",
       "      <td>1</td>\n",
       "    </tr>\n",
       "  </tbody>\n",
       "</table>\n",
       "</div>"
      ],
      "text/plain": [
       "   recence  montant  review_score  answer_days  mean_items  total_items\n",
       "0     -362    82.82           4.5          1.0         1.0            2\n",
       "1      -39   141.46           4.0          0.0         1.0            1"
      ]
     },
     "execution_count": 49,
     "metadata": {},
     "output_type": "execute_result"
    }
   ],
   "source": [
    "X_cluster = data_clustering[[*data_clustering.select_dtypes(include='number')]].copy()\n",
    "X_cluster.head(2)"
   ]
  },
  {
   "cell_type": "code",
   "execution_count": 50,
   "id": "72b951ac-6842-4192-ab87-10ff6d785635",
   "metadata": {},
   "outputs": [
    {
     "data": {
      "text/plain": [
       "(74213, 6)"
      ]
     },
     "execution_count": 50,
     "metadata": {},
     "output_type": "execute_result"
    }
   ],
   "source": [
    "X_cluster.shape"
   ]
  },
  {
   "cell_type": "markdown",
   "id": "1209cc10-a2ac-4f92-bebb-3cd46f03b793",
   "metadata": {},
   "source": [
    "## 3.2 Suppression des `NaN` <a class=\"anchor\" id=\"setup_2\"></a> [⇪](#menu)"
   ]
  },
  {
   "cell_type": "code",
   "execution_count": 51,
   "id": "aa9c80cd-7270-4f96-95cf-838a2badd44e",
   "metadata": {},
   "outputs": [
    {
     "data": {
      "text/plain": [
       "recence         0.000000\n",
       "montant         0.000000\n",
       "review_score    0.006158\n",
       "answer_days     0.006158\n",
       "mean_items      0.000000\n",
       "total_items     0.000000\n",
       "dtype: float64"
      ]
     },
     "execution_count": 51,
     "metadata": {},
     "output_type": "execute_result"
    }
   ],
   "source": [
    "X_cluster.isnull().mean()"
   ]
  },
  {
   "cell_type": "code",
   "execution_count": 52,
   "id": "e3ac89a0-1bae-4986-b368-129bb20d5f50",
   "metadata": {},
   "outputs": [],
   "source": [
    "X_cluster.dropna(inplace=True)"
   ]
  },
  {
   "cell_type": "code",
   "execution_count": 53,
   "id": "a2c9b6c2-d297-4df6-9a99-60608645bda4",
   "metadata": {},
   "outputs": [
    {
     "data": {
      "text/plain": [
       "recence         0.0\n",
       "montant         0.0\n",
       "review_score    0.0\n",
       "answer_days     0.0\n",
       "mean_items      0.0\n",
       "total_items     0.0\n",
       "dtype: float64"
      ]
     },
     "execution_count": 53,
     "metadata": {},
     "output_type": "execute_result"
    }
   ],
   "source": [
    "X_cluster.isnull().mean()"
   ]
  },
  {
   "cell_type": "code",
   "execution_count": 54,
   "id": "75fb0b0c-071e-484b-aa59-e2753afbf644",
   "metadata": {},
   "outputs": [
    {
     "data": {
      "text/plain": [
       "(73756, 6)"
      ]
     },
     "execution_count": 54,
     "metadata": {},
     "output_type": "execute_result"
    }
   ],
   "source": [
    "X_cluster.shape"
   ]
  },
  {
   "cell_type": "markdown",
   "id": "ce384430-7ffe-45bb-8782-5904c26ec7e3",
   "metadata": {},
   "source": [
    "## 3.3 Traitement des `outliers` <a class=\"anchor\" id=\"setup_3\"></a> [⇪](#menu)"
   ]
  },
  {
   "cell_type": "code",
   "execution_count": 55,
   "id": "bad0884b-8aa0-4965-9805-c68597038931",
   "metadata": {},
   "outputs": [
    {
     "data": {
      "text/html": [
       "<div>\n",
       "<style scoped>\n",
       "    .dataframe tbody tr th:only-of-type {\n",
       "        vertical-align: middle;\n",
       "    }\n",
       "\n",
       "    .dataframe tbody tr th {\n",
       "        vertical-align: top;\n",
       "    }\n",
       "\n",
       "    .dataframe thead th {\n",
       "        text-align: right;\n",
       "    }\n",
       "</style>\n",
       "<table border=\"1\" class=\"dataframe\">\n",
       "  <thead>\n",
       "    <tr style=\"text-align: right;\">\n",
       "      <th></th>\n",
       "      <th>recence</th>\n",
       "      <th>montant</th>\n",
       "      <th>review_score</th>\n",
       "      <th>answer_days</th>\n",
       "      <th>mean_items</th>\n",
       "      <th>total_items</th>\n",
       "    </tr>\n",
       "  </thead>\n",
       "  <tbody>\n",
       "    <tr>\n",
       "      <th>count</th>\n",
       "      <td>73756.000000</td>\n",
       "      <td>73756.000000</td>\n",
       "      <td>73756.000000</td>\n",
       "      <td>73756.000000</td>\n",
       "      <td>73756.000000</td>\n",
       "      <td>73756.000000</td>\n",
       "    </tr>\n",
       "    <tr>\n",
       "      <th>mean</th>\n",
       "      <td>-177.625807</td>\n",
       "      <td>168.906778</td>\n",
       "      <td>4.133860</td>\n",
       "      <td>2.383257</td>\n",
       "      <td>1.143731</td>\n",
       "      <td>1.220118</td>\n",
       "    </tr>\n",
       "    <tr>\n",
       "      <th>std</th>\n",
       "      <td>99.529121</td>\n",
       "      <td>221.322621</td>\n",
       "      <td>1.298291</td>\n",
       "      <td>6.966256</td>\n",
       "      <td>0.534614</td>\n",
       "      <td>0.740889</td>\n",
       "    </tr>\n",
       "    <tr>\n",
       "      <th>min</th>\n",
       "      <td>-365.000000</td>\n",
       "      <td>0.000000</td>\n",
       "      <td>1.000000</td>\n",
       "      <td>0.000000</td>\n",
       "      <td>1.000000</td>\n",
       "      <td>1.000000</td>\n",
       "    </tr>\n",
       "    <tr>\n",
       "      <th>25%</th>\n",
       "      <td>-265.000000</td>\n",
       "      <td>64.000000</td>\n",
       "      <td>4.000000</td>\n",
       "      <td>0.000000</td>\n",
       "      <td>1.000000</td>\n",
       "      <td>1.000000</td>\n",
       "    </tr>\n",
       "    <tr>\n",
       "      <th>50%</th>\n",
       "      <td>-178.000000</td>\n",
       "      <td>110.770000</td>\n",
       "      <td>5.000000</td>\n",
       "      <td>1.000000</td>\n",
       "      <td>1.000000</td>\n",
       "      <td>1.000000</td>\n",
       "    </tr>\n",
       "    <tr>\n",
       "      <th>75%</th>\n",
       "      <td>-94.000000</td>\n",
       "      <td>187.262500</td>\n",
       "      <td>5.000000</td>\n",
       "      <td>3.000000</td>\n",
       "      <td>1.000000</td>\n",
       "      <td>1.000000</td>\n",
       "    </tr>\n",
       "    <tr>\n",
       "      <th>max</th>\n",
       "      <td>-3.000000</td>\n",
       "      <td>7274.880000</td>\n",
       "      <td>5.000000</td>\n",
       "      <td>348.000000</td>\n",
       "      <td>20.000000</td>\n",
       "      <td>24.000000</td>\n",
       "    </tr>\n",
       "  </tbody>\n",
       "</table>\n",
       "</div>"
      ],
      "text/plain": [
       "            recence       montant  review_score   answer_days    mean_items  \\\n",
       "count  73756.000000  73756.000000  73756.000000  73756.000000  73756.000000   \n",
       "mean    -177.625807    168.906778      4.133860      2.383257      1.143731   \n",
       "std       99.529121    221.322621      1.298291      6.966256      0.534614   \n",
       "min     -365.000000      0.000000      1.000000      0.000000      1.000000   \n",
       "25%     -265.000000     64.000000      4.000000      0.000000      1.000000   \n",
       "50%     -178.000000    110.770000      5.000000      1.000000      1.000000   \n",
       "75%      -94.000000    187.262500      5.000000      3.000000      1.000000   \n",
       "max       -3.000000   7274.880000      5.000000    348.000000     20.000000   \n",
       "\n",
       "        total_items  \n",
       "count  73756.000000  \n",
       "mean       1.220118  \n",
       "std        0.740889  \n",
       "min        1.000000  \n",
       "25%        1.000000  \n",
       "50%        1.000000  \n",
       "75%        1.000000  \n",
       "max       24.000000  "
      ]
     },
     "execution_count": 55,
     "metadata": {},
     "output_type": "execute_result"
    }
   ],
   "source": [
    "X_cluster.describe()"
   ]
  },
  {
   "cell_type": "markdown",
   "id": "93c72253-12af-4d08-ac24-b596c1aaf3f1",
   "metadata": {},
   "source": [
    "#### Supprimons le dernier pourcentile des colonnes problèmatiques"
   ]
  },
  {
   "cell_type": "raw",
   "id": "a2ab0bf4-be69-4717-952a-2121750d4afe",
   "metadata": {},
   "source": [
    "for col in ['montant', 'answer_days']:  # , 'mean_items', 'total_items']:\n",
    "    X_cluster = X_cluster[X_cluster[col] < X_cluster[col].quantile(0.9999)]\n",
    "\n",
    "X_cluster.shape"
   ]
  },
  {
   "cell_type": "markdown",
   "id": "293180bd-bd59-471d-aaab-50e8680c5173",
   "metadata": {},
   "source": [
    "Après plusieurs aproches pour supprimer ou imputer les top outliers, je constate que quoi qu'il arrive **le clustering est moins bon sans ces outliers** sur presque tous les modèles que testés...<br>\n",
    "Je désactive donc cette cecllule pour garder ces top-outliers et les utiliser dans les recherches de clusters."
   ]
  },
  {
   "cell_type": "markdown",
   "id": "6b2167f5-2772-483a-898e-c354d9e8274d",
   "metadata": {},
   "source": [
    "#### Supprimons les montant de 0"
   ]
  },
  {
   "cell_type": "raw",
   "id": "94e0f578-97cd-444e-93cb-c152c5546daa",
   "metadata": {},
   "source": [
    "X_cluster = X_cluster[ X_cluster.montant > 0 ]\n",
    "X_cluster.shape"
   ]
  },
  {
   "cell_type": "raw",
   "id": "8b29c563-1633-4424-a772-ca7607d8031a",
   "metadata": {},
   "source": [
    "X_cluster.describe()"
   ]
  },
  {
   "cell_type": "code",
   "execution_count": 56,
   "id": "d2fdce67-cf8b-47cc-8bdf-8724b7b427a3",
   "metadata": {},
   "outputs": [
    {
     "data": {
      "image/png": "[encoded data removed]",
      "text/plain": [
       "<Figure size 1080x504 with 1 Axes>"
      ]
     },
     "metadata": {
      "needs_background": "light"
     },
     "output_type": "display_data"
    }
   ],
   "source": [
    "fig = plt.figure(figsize=(15, 7))\n",
    "sns.scatterplot(x=X_cluster['recence'], y=X_cluster['montant'])\n",
    "plt.show()"
   ]
  },
  {
   "cell_type": "markdown",
   "id": "1a936e97-3735-42d2-8975-b1c162a348b5",
   "metadata": {},
   "source": [
    "## 3.3 `Normalisation` des variables <a class=\"anchor\" id=\"setup_4\"></a> [⇪](#menu)\n",
    "\n",
    "En effet, dans la mesure où nous allons utiliser des algorithmes basés sur la distance et ou l'on constate clairement des différences d'échelles, il est préférable de normaliser nos données."
   ]
  },
  {
   "cell_type": "code",
   "execution_count": 57,
   "id": "cb26a0b8-fcfa-43f4-8dc1-600b4aea43cd",
   "metadata": {},
   "outputs": [],
   "source": [
    "from sklearn.preprocessing import MinMaxScaler  # StandardScaler, LabelEncoder, OneHotEncoder, OrdinalEncoder,"
   ]
  },
  {
   "cell_type": "code",
   "execution_count": 58,
   "id": "c572b5c6-638a-4114-a5e3-b2bc1080e071",
   "metadata": {},
   "outputs": [],
   "source": [
    "def fit_normalizer(data):\n",
    "    \"\"\" Normalize the values of the provided dataset\n",
    "\n",
    "    Parameters\n",
    "    ----------\n",
    "    data: pandas' DataFrame\n",
    "        the dataset used as reference for the scaler\n",
    "\n",
    "    Returns\n",
    "    -------\n",
    "    MinMaxScaler\n",
    "        the scaler instance\n",
    "    \"\"\"\n",
    "\n",
    "    scaler = MinMaxScaler()\n",
    "    scaler.fit(data)\n",
    "\n",
    "    return scaler\n",
    "\n",
    "\n",
    "def normalize(data, scaler):\n",
    "    \"\"\" Transform the provided dataset using the provided scaler.\n",
    "\n",
    "    Parameters\n",
    "    ----------\n",
    "    data: pandas' DataFrame\n",
    "        the dataset that needs to be scaled\n",
    "    scaler: MinMaxScaler \n",
    "        the scaler instance to apply on the dataset\n",
    "\n",
    "    Returns\n",
    "    -------\n",
    "    DataFrame\n",
    "        a new dataframe with the scaled values\n",
    "    \"\"\"\n",
    "\n",
    "    dt = data.copy()\n",
    "    dt = pd.DataFrame(scaler.transform(dt), index=dt.index, columns=dt.columns)\n",
    "\n",
    "    return dt\n",
    "\n",
    "\n",
    "def get_inverse_normalization(scaler, data):\n",
    "    \"\"\" Transform the provided dataset using the provided scaler back to the original scales\n",
    "\n",
    "    Parameters\n",
    "    ----------\n",
    "    data: pandas' DataFrame\n",
    "        the dataset that needs to be scaled\n",
    "    scaler: MinMaxScaler \n",
    "        the scaler instance to apply on the dataset\n",
    "    columns: list\n",
    "        the list of columns to consider\n",
    "\n",
    "    Returns\n",
    "    -------\n",
    "    DataFrame\n",
    "        a new dataframe with the scaled values\n",
    "    \"\"\"\n",
    "    \n",
    "    return pd.DataFrame(scaler.inverse_transform(data), columns=data.columns)"
   ]
  },
  {
   "cell_type": "code",
   "execution_count": 59,
   "id": "42d3571f-9fe1-402f-99a9-e42e7118299e",
   "metadata": {},
   "outputs": [],
   "source": [
    "model_scaler = fit_normalizer(X_cluster)\n",
    "X_cluster_norm = normalize(X_cluster, model_scaler)"
   ]
  },
  {
   "cell_type": "code",
   "execution_count": 60,
   "id": "b8295299-0316-40d3-b80e-0be123d9fc91",
   "metadata": {},
   "outputs": [
    {
     "data": {
      "text/html": [
       "<div>\n",
       "<style scoped>\n",
       "    .dataframe tbody tr th:only-of-type {\n",
       "        vertical-align: middle;\n",
       "    }\n",
       "\n",
       "    .dataframe tbody tr th {\n",
       "        vertical-align: top;\n",
       "    }\n",
       "\n",
       "    .dataframe thead th {\n",
       "        text-align: right;\n",
       "    }\n",
       "</style>\n",
       "<table border=\"1\" class=\"dataframe\">\n",
       "  <thead>\n",
       "    <tr style=\"text-align: right;\">\n",
       "      <th></th>\n",
       "      <th>recence</th>\n",
       "      <th>montant</th>\n",
       "      <th>review_score</th>\n",
       "      <th>answer_days</th>\n",
       "      <th>mean_items</th>\n",
       "      <th>total_items</th>\n",
       "    </tr>\n",
       "  </thead>\n",
       "  <tbody>\n",
       "    <tr>\n",
       "      <th>0</th>\n",
       "      <td>0.008287</td>\n",
       "      <td>0.011384</td>\n",
       "      <td>0.875</td>\n",
       "      <td>0.002874</td>\n",
       "      <td>0.0</td>\n",
       "      <td>0.043478</td>\n",
       "    </tr>\n",
       "    <tr>\n",
       "      <th>1</th>\n",
       "      <td>0.900552</td>\n",
       "      <td>0.019445</td>\n",
       "      <td>0.750</td>\n",
       "      <td>0.000000</td>\n",
       "      <td>0.0</td>\n",
       "      <td>0.000000</td>\n",
       "    </tr>\n",
       "  </tbody>\n",
       "</table>\n",
       "</div>"
      ],
      "text/plain": [
       "    recence   montant  review_score  answer_days  mean_items  total_items\n",
       "0  0.008287  0.011384         0.875     0.002874         0.0     0.043478\n",
       "1  0.900552  0.019445         0.750     0.000000         0.0     0.000000"
      ]
     },
     "execution_count": 60,
     "metadata": {},
     "output_type": "execute_result"
    }
   ],
   "source": [
    "X_cluster_norm.head(2)"
   ]
  },
  {
   "cell_type": "code",
   "execution_count": 61,
   "id": "12b7895c-fa2d-49b6-8e74-cfc75bea8d78",
   "metadata": {},
   "outputs": [
    {
     "data": {
      "text/html": [
       "<div>\n",
       "<style scoped>\n",
       "    .dataframe tbody tr th:only-of-type {\n",
       "        vertical-align: middle;\n",
       "    }\n",
       "\n",
       "    .dataframe tbody tr th {\n",
       "        vertical-align: top;\n",
       "    }\n",
       "\n",
       "    .dataframe thead th {\n",
       "        text-align: right;\n",
       "    }\n",
       "</style>\n",
       "<table border=\"1\" class=\"dataframe\">\n",
       "  <thead>\n",
       "    <tr style=\"text-align: right;\">\n",
       "      <th></th>\n",
       "      <th>count</th>\n",
       "      <th>mean</th>\n",
       "      <th>std</th>\n",
       "      <th>min</th>\n",
       "      <th>25%</th>\n",
       "      <th>50%</th>\n",
       "      <th>75%</th>\n",
       "      <th>max</th>\n",
       "    </tr>\n",
       "  </thead>\n",
       "  <tbody>\n",
       "    <tr>\n",
       "      <th>recence</th>\n",
       "      <td>73756.0</td>\n",
       "      <td>0.517608</td>\n",
       "      <td>0.274942</td>\n",
       "      <td>0.0</td>\n",
       "      <td>0.276243</td>\n",
       "      <td>0.516575</td>\n",
       "      <td>0.748619</td>\n",
       "      <td>1.0</td>\n",
       "    </tr>\n",
       "    <tr>\n",
       "      <th>montant</th>\n",
       "      <td>73756.0</td>\n",
       "      <td>0.023218</td>\n",
       "      <td>0.030423</td>\n",
       "      <td>0.0</td>\n",
       "      <td>0.008797</td>\n",
       "      <td>0.015226</td>\n",
       "      <td>0.025741</td>\n",
       "      <td>1.0</td>\n",
       "    </tr>\n",
       "    <tr>\n",
       "      <th>review_score</th>\n",
       "      <td>73756.0</td>\n",
       "      <td>0.783465</td>\n",
       "      <td>0.324573</td>\n",
       "      <td>0.0</td>\n",
       "      <td>0.750000</td>\n",
       "      <td>1.000000</td>\n",
       "      <td>1.000000</td>\n",
       "      <td>1.0</td>\n",
       "    </tr>\n",
       "    <tr>\n",
       "      <th>answer_days</th>\n",
       "      <td>73756.0</td>\n",
       "      <td>0.006848</td>\n",
       "      <td>0.020018</td>\n",
       "      <td>0.0</td>\n",
       "      <td>0.000000</td>\n",
       "      <td>0.002874</td>\n",
       "      <td>0.008621</td>\n",
       "      <td>1.0</td>\n",
       "    </tr>\n",
       "    <tr>\n",
       "      <th>mean_items</th>\n",
       "      <td>73756.0</td>\n",
       "      <td>0.007565</td>\n",
       "      <td>0.028138</td>\n",
       "      <td>0.0</td>\n",
       "      <td>0.000000</td>\n",
       "      <td>0.000000</td>\n",
       "      <td>0.000000</td>\n",
       "      <td>1.0</td>\n",
       "    </tr>\n",
       "    <tr>\n",
       "      <th>total_items</th>\n",
       "      <td>73756.0</td>\n",
       "      <td>0.009570</td>\n",
       "      <td>0.032213</td>\n",
       "      <td>0.0</td>\n",
       "      <td>0.000000</td>\n",
       "      <td>0.000000</td>\n",
       "      <td>0.000000</td>\n",
       "      <td>1.0</td>\n",
       "    </tr>\n",
       "  </tbody>\n",
       "</table>\n",
       "</div>"
      ],
      "text/plain": [
       "                count      mean       std  min       25%       50%       75%  \\\n",
       "recence       73756.0  0.517608  0.274942  0.0  0.276243  0.516575  0.748619   \n",
       "montant       73756.0  0.023218  0.030423  0.0  0.008797  0.015226  0.025741   \n",
       "review_score  73756.0  0.783465  0.324573  0.0  0.750000  1.000000  1.000000   \n",
       "answer_days   73756.0  0.006848  0.020018  0.0  0.000000  0.002874  0.008621   \n",
       "mean_items    73756.0  0.007565  0.028138  0.0  0.000000  0.000000  0.000000   \n",
       "total_items   73756.0  0.009570  0.032213  0.0  0.000000  0.000000  0.000000   \n",
       "\n",
       "              max  \n",
       "recence       1.0  \n",
       "montant       1.0  \n",
       "review_score  1.0  \n",
       "answer_days   1.0  \n",
       "mean_items    1.0  \n",
       "total_items   1.0  "
      ]
     },
     "execution_count": 61,
     "metadata": {},
     "output_type": "execute_result"
    }
   ],
   "source": [
    "X_cluster_norm.describe().T"
   ]
  },
  {
   "cell_type": "markdown",
   "id": "9cf667a9-c836-493f-b87e-4638921717fa",
   "metadata": {},
   "source": [
    "## 3.4 Création des fonctions génériques <a class=\"anchor\" id=\"setup_5\"></a> [⇪](#menu)"
   ]
  },
  {
   "cell_type": "markdown",
   "id": "e8dd0f14-8d4d-4f62-ae5b-baf5d36b13e7",
   "metadata": {
    "tags": []
   },
   "source": [
    "### Définissons la métrique utilisée par la fonction de recherche des hyper-paramètres"
   ]
  },
  {
   "cell_type": "code",
   "execution_count": 62,
   "id": "c5d0bfbc-cb8c-4541-817c-9f962d6ca788",
   "metadata": {},
   "outputs": [],
   "source": [
    "from sklearn.metrics import make_scorer, silhouette_score, silhouette_samples"
   ]
  },
  {
   "cell_type": "code",
   "execution_count": 63,
   "id": "0211d1de-b604-483b-be48-7b8d1787ccf0",
   "metadata": {},
   "outputs": [],
   "source": [
    "def cv_silhouette_scorer(estimator, X_ref):\n",
    "    estimator.fit(X_ref)\n",
    "    cluster_labels = estimator.labels_\n",
    "    num_labels = len(set(cluster_labels))\n",
    "    num_samples = len(X_ref.index)\n",
    "    if num_labels == 1 or num_labels == num_samples:\n",
    "        return -1\n",
    "    else:\n",
    "        return silhouette_score(X_ref, cluster_labels)"
   ]
  },
  {
   "cell_type": "markdown",
   "id": "d3dbd438-fb48-44b9-b65a-6672699fa18d",
   "metadata": {
    "tags": []
   },
   "source": [
    "### Définissons des fonctions pour afficher et enregistrer les scores"
   ]
  },
  {
   "cell_type": "code",
   "execution_count": 64,
   "id": "157301ea-3ae0-440f-916f-0aa9a9ccf165",
   "metadata": {},
   "outputs": [],
   "source": [
    "#from yellowbrick.cluster import SilhouetteVisualizer, InterclusterDistance\n",
    "import matplotlib.cm as cm"
   ]
  },
  {
   "cell_type": "code",
   "execution_count": 65,
   "id": "2c5227b2-e3f6-449f-8fb5-4ef749aeb226",
   "metadata": {},
   "outputs": [],
   "source": [
    "def draw_silhouette(fitted_model, X_ref, silhouette_avg=None):\n",
    "\n",
    "    #fig, (ax1, ax2) = plt.subplots(1, 2)\n",
    "    #fig.set_size_inches(15, 7)\n",
    "    fig = plt.figure(figsize=(15, 7))\n",
    "\n",
    "    if silhouette_avg is None:\n",
    "        silhouette_avg = cv_silhouette_scorer(fitted_model, X_ref)\n",
    "\n",
    "    cluster_labels = fitted_model.labels_\n",
    "    try:\n",
    "        sample_silhouette_values = silhouette_samples(X_ref, cluster_labels)\n",
    "    except Exception:\n",
    "        print(\"Il n'y a qu'un seul cluster, et silhouette_samples à besoin d'au moins 2 cluster...\")\n",
    "        return\n",
    "\n",
    "    if hasattr(fitted_model, 'n_clusters'):\n",
    "        n_clusters = fitted_model.n_clusters\n",
    "    elif hasattr(fitted_model, 'n_features_in_'):\n",
    "        # n_clusters = fitted_model.n_features_in_\n",
    "        n_clusters = pd.DataFrame(cluster_labels).nunique()[0]\n",
    "\n",
    "    # 1st Plot showing the silhouettes\n",
    "    ax1 = fig.add_subplot(121)\n",
    "    y_lower = 10\n",
    "    for i in range(n_clusters):\n",
    "        # Aggregate the silhouette scores\n",
    "        ith_cluster_silhouette_values = sample_silhouette_values[cluster_labels == i]\n",
    "        ith_cluster_silhouette_values.sort()\n",
    "        size_cluster_i = ith_cluster_silhouette_values.shape[0]\n",
    "        y_upper = y_lower + size_cluster_i\n",
    "\n",
    "        #color = cm.cmap_ref(float(i) / n_clusters)\n",
    "        color = cm.nipy_spectral(float(i) / n_clusters)\n",
    "\n",
    "        ax1.fill_betweenx(\n",
    "            np.arange(y_lower, y_upper),\n",
    "            0,\n",
    "            ith_cluster_silhouette_values,\n",
    "            facecolor=color,\n",
    "            edgecolor=color,\n",
    "            alpha=0.7,\n",
    "        )\n",
    "        ax1.text(-0.05, y_lower + 0.5 * size_cluster_i, str(i))\n",
    "        y_lower = y_upper + 10 \n",
    "\n",
    "    ax1.set_title(\"The silhouette plot for the various clusters.\")\n",
    "    ax1.set_xlabel(\"The silhouette coefficient values\")\n",
    "    ax1.set_ylabel(\"Cluster label\")\n",
    "\n",
    "    # The vertical line for average silhouette score of all the values\n",
    "    ax1.axvline(x=silhouette_avg, color=\"red\", linestyle=\"--\")\n",
    "\n",
    "    ax1.set_yticks([])  # Clear the yaxis labels / ticks\n",
    "    ax1.set_xticks([-0.1, 0, 0.2, 0.4, 0.6, 0.8, 1])\n",
    "\n",
    "    # 2nd Plot showing the actual clusters formed\n",
    "    colors = cm.nipy_spectral(cluster_labels.astype(float) / n_clusters)\n",
    "    if len(X_ref.columns) > 2:\n",
    "        ax2 = fig.add_subplot(122, projection='3d')\n",
    "        ax2.scatter(\n",
    "            X_training['recence'], X_training['montant'], X_training['review_score'],\n",
    "            marker=\"o\", lw=0, alpha=0.7,\n",
    "            c=colors, edgecolor=\"k\"\n",
    "        )\n",
    "        ax2.set_xlabel('recence')\n",
    "        ax2.set_ylabel('montant')\n",
    "        ax2.set_zlabel('review score')\n",
    "        ax2.set_title(\"The 3D visualization of the clustered data.\")\n",
    "    else:\n",
    "        ax2 = fig.add_subplot(122)\n",
    "        ax2.scatter(\n",
    "            #X_ref.iloc[:, 0], X_ref.iloc[:, 1],\n",
    "            X_training['recence'], X_training['montant'],\n",
    "            marker=\".\", lw=0, alpha=0.7, \n",
    "            c=cluster_labels, edgecolor=\"k\", cmap=cmap_ref,\n",
    "        )\n",
    "        ax2.set_xlabel('recence')\n",
    "        ax2.set_ylabel('montant')\n",
    "        ax2.set_title(\"The 2D visualization of the clustered data.\")\n",
    "\n",
    "    plt.suptitle(f\"Silhouette analysis with n_clusters = {n_clusters}\", fontsize=14, fontweight=\"bold\")\n",
    "    plt.show()"
   ]
  },
  {
   "cell_type": "code",
   "execution_count": 66,
   "id": "29ecdadc-31c9-437e-ac3a-2aa68d5f1168",
   "metadata": {
    "tags": []
   },
   "outputs": [],
   "source": [
    "scores_df = pd.DataFrame(columns=['Method', 'params', 'best_params', 'silhouette', 'Training time', 'Inference time'])\n",
    "scores_path = 'data/scores.csv'\n",
    "scores_df.to_csv(scores_path, index=False)\n",
    "\n",
    "\n",
    "def get_clustering_scores(method_name, model, X_ref=None, param_grid=None, best_params=None, training_time=None, inference_time=None, register=False, **others):\n",
    "    \"\"\" Compute / Display / Save scores for the provided model\n",
    "\n",
    "    More precisely, it compute the scores then call various function to display and save them.\n",
    "\n",
    "    Parameters\n",
    "    ----------\n",
    "    method_name: str\n",
    "        the name used to identify the record in the list\n",
    "    model: \n",
    "        the model that needs to be evaluated\n",
    "    X_ref: list of lists\n",
    "        the X values used to get the predictions\n",
    "    param_grid: dict\n",
    "        the parameter grid used to get the provided scores\n",
    "    best_params: dict\n",
    "        the best parameters found with the gridsearch\n",
    "    training_time: float\n",
    "        the time needed for the fitting process\n",
    "    inference_time: float\n",
    "        the time needed for the prediction process\n",
    "    \"\"\"\n",
    "\n",
    "    if X_ref is None:\n",
    "        X_ref = X_cluster\n",
    "\n",
    "    silhouette_avg = cv_silhouette_scorer(model, X_ref)\n",
    "    scores = {'silhouette': silhouette_avg}\n",
    "\n",
    "    # Register score and replace if it already exists\n",
    "    if register:\n",
    "        save_score(method_name, param_grid, best_params, training_time, inference_time, **scores)\n",
    "\n",
    "    # Basic report\n",
    "    scores_str = \"\"\n",
    "    for key in scores.keys():\n",
    "        scores_str += f\"{key.upper().rjust(20)} : {scores[key]:.4f}\\n\"\n",
    "\n",
    "    print(f\"--- {method_name} ---\".ljust(100, '-'), \"\\n\\n\", scores_str, sep=\"\")\n",
    "\n",
    "    # Silhouette plot\n",
    "    # visualizer = SilhouetteVisualizer(model, colors='yellowbrick', is_fitted=True)\n",
    "    # visualizer.fit(X_ref)\n",
    "    # visualizer.show();\n",
    "    draw_silhouette(model, X_ref, silhouette_avg=silhouette_avg)"
   ]
  },
  {
   "cell_type": "code",
   "execution_count": 67,
   "id": "0d2099ec-100d-44d9-9eef-4f22fabe5e17",
   "metadata": {
    "tags": []
   },
   "outputs": [],
   "source": [
    "def save_score(method_name, param_grid, best_params, training_time, inference_time, **scores):\n",
    "    \"\"\" Save the scores into the 'scores_df' DataFrame and to the 'scores_path' CSV file.\n",
    "    Each call to this function appends exactly one row to the DataFrame and hence to the CSV.\n",
    "\n",
    "    Parameters\n",
    "    ----------\n",
    "    method_name: str\n",
    "        the name used to identify the record in the list\n",
    "    param_grid: dict\n",
    "        the parameter grid used to get the provided scores\n",
    "    best_params: dict\n",
    "        the best parameters found with the gridsearch\n",
    "    training_time: float\n",
    "        the time needed for the fitting process\n",
    "    inference_time: float\n",
    "        the time needed for the prediction process\n",
    "    scores: list of parameters\n",
    "        the scores to register\n",
    "    \"\"\"\n",
    "\n",
    "    idx = np.where(scores_df.Method == method_name)[0]\n",
    "    idx = idx[0] if idx.size > 0 else len(scores_df.index)\n",
    "\n",
    "    silhouette = scores.get('silhouette', None)\n",
    "\n",
    "    scores_df.loc[idx] = [method_name, param_grid, best_params, silhouette, training_time, inference_time]\n",
    "    scores_df.to_csv(scores_path, index=False)"
   ]
  },
  {
   "cell_type": "code",
   "execution_count": 68,
   "id": "64fa3b5b-497c-4acd-a6a8-4d753cea85d0",
   "metadata": {},
   "outputs": [],
   "source": [
    "def plot_silhouette(model, data):\n",
    "\n",
    "    model = model.fit(data)\n",
    "    score = silhouette_score(data, model.labels_)\n",
    "    print(f\"Silhouette score moyen: {score:.3f}\")\n",
    "\n",
    "    # plt.figure(figsize=(10, 7))\n",
    "    # visualizer = SilhouetteVisualizer(model, colors='yellowbrick', is_fitted=True)\n",
    "    # visualizer.fit(data)\n",
    "    # visualizer.show();\n",
    "    draw_silhouette(model, data, silhouette_avg=score)\n",
    "\n",
    "    return model"
   ]
  },
  {
   "cell_type": "code",
   "execution_count": 69,
   "id": "aeb3ba36-ec18-4a73-9542-f65fabd8ac59",
   "metadata": {},
   "outputs": [],
   "source": [
    "def get_means(fitted_model, X_cluster):\n",
    "    X_labels = pd.DataFrame(fitted_model.labels_, columns=['label'])\n",
    "    X_results = X_cluster.merge(X_labels, left_index=True, right_index=True)\n",
    "\n",
    "    groups = {}\n",
    "    for i in range(fitted_model.n_clusters):\n",
    "        groups[i] = X_results[X_results.label == i].mean()\n",
    "\n",
    "    return pd.DataFrame.from_dict(groups).T.drop(columns=['label'])"
   ]
  },
  {
   "cell_type": "code",
   "execution_count": 70,
   "id": "a8b2d98f-5589-4a64-bd62-f75ddd7f1813",
   "metadata": {},
   "outputs": [],
   "source": [
    "def plot_dendrogram(model, y_cut=0, **kwargs):\n",
    "    # Create linkage matrix and then plot the dendrogram\n",
    "\n",
    "    # create the counts of samples under each node\n",
    "    counts = np.zeros(model.children_.shape[0])\n",
    "    n_samples = len(model.labels_)\n",
    "    for i, merge in enumerate(model.children_):\n",
    "        current_count = 0\n",
    "        for child_idx in merge:\n",
    "            if child_idx < n_samples:\n",
    "                current_count += 1  # leaf node\n",
    "            else:\n",
    "                current_count += counts[child_idx - n_samples]\n",
    "        counts[i] = current_count\n",
    "\n",
    "    linkage_matrix = np.column_stack(\n",
    "        [model.children_, model.distances_, counts]\n",
    "    ).astype(float)\n",
    "\n",
    "    # Plot the corresponding dendrogram\n",
    "    fig = plt.figure(figsize=(15, 7))\n",
    "    dendrogram(linkage_matrix, **kwargs)\n",
    "    plt.grid(False)\n",
    "    if type(y_cut) == list:\n",
    "        for y_c in y_cut:\n",
    "            plt.axhline(y=y_c, c='grey', lw=1, linestyle='dashed')\n",
    "    else:\n",
    "        plt.axhline(y=y_cut, c='grey', lw=1, linestyle='dashed')\n",
    "    plt.show()\n",
    "\n",
    "\n",
    "def plot_dendrogram_full(X_ref):\n",
    "    linked = linkage(X_ref, 'single')\n",
    "\n",
    "    # Plot dendrogram\n",
    "    plt.figure(figsize=(10, 7))\n",
    "    dendrogram(linked,\n",
    "            orientation='top',\n",
    "            #labels=labelList,\n",
    "            distance_sort='descending',\n",
    "            show_leaf_counts=True)\n",
    "    plt.show()\n"
   ]
  },
  {
   "cell_type": "markdown",
   "id": "04225158-a14b-4954-91e6-87ccf77077cc",
   "metadata": {},
   "source": [
    "---\n",
    ">#### `TODO`  done ✅ | todo ❌ |\n",
    "> - ✅ Comme on a des algorithmes qui utilisent les distances, il est préférable de **normaliser les données** !"
   ]
  },
  {
   "cell_type": "markdown",
   "id": "59fdb939-f4ec-4db0-b647-78ab48e801c8",
   "metadata": {},
   "source": [
    "---\n",
    "---\n",
    "### 🔔 Avant d'aller plus loin, réduisons le jeu de données pour que les algorithmes puissent travailler plus rapidement dans un premier temps"
   ]
  },
  {
   "cell_type": "code",
   "execution_count": 71,
   "id": "3e5251c5-4263-421c-8450-f68071dbfa60",
   "metadata": {},
   "outputs": [],
   "source": [
    "X_training = X_cluster_norm.sample(frac=0.25, random_state=random_seed).reset_index(drop=True).copy()\n",
    "#X_training = X_cluster_norm.reset_index(drop=True).copy()"
   ]
  },
  {
   "cell_type": "markdown",
   "id": "8fe32e76-d83b-440f-924c-b16d161ce3ab",
   "metadata": {},
   "source": [
    "---\n",
    "---\n",
    "# 7. Modèle final <a class=\"anchor\" id=\"final\"></a> [⇪](#menu)\n"
   ]
  },
  {
   "cell_type": "markdown",
   "id": "0fac99bd-e58f-4907-8945-d813517c399d",
   "metadata": {},
   "source": [
    "#### Reprenons le modèle le plus utile que nous avons pu découvrir"
   ]
  },
  {
   "cell_type": "code",
   "execution_count": 136,
   "id": "37e43833-8aac-4300-bf5a-1434a7065082",
   "metadata": {},
   "outputs": [
    {
     "name": "stdout",
     "output_type": "stream",
     "text": [
      "Silhouette score moyen: 0.453\n"
     ]
    },
    {
     "data": {
      "image/png": "[encoded data removed]",
      "text/plain": [
       "<Figure size 1080x504 with 2 Axes>"
      ]
     },
     "metadata": {},
     "output_type": "display_data"
    }
   ],
   "source": [
    "fitted_model = plot_silhouette(KMeans(n_clusters=9, random_state=random_seed), X_training)"
   ]
  },
  {
   "cell_type": "markdown",
   "id": "2c8b353d-5bee-4733-a090-9bfcfb482def",
   "metadata": {},
   "source": [
    "#### Affichons les moyennes des variables par cluster *(dans les échelles d'origine)*"
   ]
  },
  {
   "cell_type": "code",
   "execution_count": 137,
   "id": "ce08ef7a-0e5d-4ba0-97ae-f58cf8b391a2",
   "metadata": {},
   "outputs": [
    {
     "data": {
      "text/html": [
       "<div>\n",
       "<style scoped>\n",
       "    .dataframe tbody tr th:only-of-type {\n",
       "        vertical-align: middle;\n",
       "    }\n",
       "\n",
       "    .dataframe tbody tr th {\n",
       "        vertical-align: top;\n",
       "    }\n",
       "\n",
       "    .dataframe thead th {\n",
       "        text-align: right;\n",
       "    }\n",
       "</style>\n",
       "<table border=\"1\" class=\"dataframe\">\n",
       "  <thead>\n",
       "    <tr style=\"text-align: right;\">\n",
       "      <th></th>\n",
       "      <th>recence</th>\n",
       "      <th>montant</th>\n",
       "      <th>review_score</th>\n",
       "      <th>answer_days</th>\n",
       "      <th>mean_items</th>\n",
       "      <th>total_items</th>\n",
       "    </tr>\n",
       "  </thead>\n",
       "  <tbody>\n",
       "    <tr>\n",
       "      <th>5</th>\n",
       "      <td>-298.380774</td>\n",
       "      <td>170.748533</td>\n",
       "      <td>3.671532</td>\n",
       "      <td>2.463986</td>\n",
       "      <td>1.135074</td>\n",
       "      <td>1.234082</td>\n",
       "    </tr>\n",
       "    <tr>\n",
       "      <th>0</th>\n",
       "      <td>-297.591688</td>\n",
       "      <td>167.414002</td>\n",
       "      <td>4.993059</td>\n",
       "      <td>2.651216</td>\n",
       "      <td>1.109789</td>\n",
       "      <td>1.229003</td>\n",
       "    </tr>\n",
       "    <tr>\n",
       "      <th>8</th>\n",
       "      <td>-288.948428</td>\n",
       "      <td>197.461660</td>\n",
       "      <td>1.242558</td>\n",
       "      <td>2.274214</td>\n",
       "      <td>1.337526</td>\n",
       "      <td>1.426415</td>\n",
       "    </tr>\n",
       "    <tr>\n",
       "      <th>4</th>\n",
       "      <td>-183.283029</td>\n",
       "      <td>163.329196</td>\n",
       "      <td>3.666118</td>\n",
       "      <td>2.655352</td>\n",
       "      <td>1.150870</td>\n",
       "      <td>1.250131</td>\n",
       "    </tr>\n",
       "    <tr>\n",
       "      <th>2</th>\n",
       "      <td>-178.585244</td>\n",
       "      <td>190.032293</td>\n",
       "      <td>1.196577</td>\n",
       "      <td>2.164673</td>\n",
       "      <td>1.296278</td>\n",
       "      <td>1.356929</td>\n",
       "    </tr>\n",
       "    <tr>\n",
       "      <th>3</th>\n",
       "      <td>-175.994729</td>\n",
       "      <td>159.140327</td>\n",
       "      <td>4.994641</td>\n",
       "      <td>2.291645</td>\n",
       "      <td>1.106528</td>\n",
       "      <td>1.181603</td>\n",
       "    </tr>\n",
       "    <tr>\n",
       "      <th>7</th>\n",
       "      <td>-64.943639</td>\n",
       "      <td>180.165330</td>\n",
       "      <td>1.269726</td>\n",
       "      <td>2.427536</td>\n",
       "      <td>1.352657</td>\n",
       "      <td>1.371981</td>\n",
       "    </tr>\n",
       "    <tr>\n",
       "      <th>6</th>\n",
       "      <td>-64.519899</td>\n",
       "      <td>159.750600</td>\n",
       "      <td>3.731207</td>\n",
       "      <td>2.289482</td>\n",
       "      <td>1.144978</td>\n",
       "      <td>1.193304</td>\n",
       "    </tr>\n",
       "    <tr>\n",
       "      <th>1</th>\n",
       "      <td>-59.743555</td>\n",
       "      <td>165.925216</td>\n",
       "      <td>4.998010</td>\n",
       "      <td>2.087427</td>\n",
       "      <td>1.115332</td>\n",
       "      <td>1.156038</td>\n",
       "    </tr>\n",
       "  </tbody>\n",
       "</table>\n",
       "</div>"
      ],
      "text/plain": [
       "      recence     montant  review_score  answer_days  mean_items  total_items\n",
       "5 -298.380774  170.748533      3.671532     2.463986    1.135074     1.234082\n",
       "0 -297.591688  167.414002      4.993059     2.651216    1.109789     1.229003\n",
       "8 -288.948428  197.461660      1.242558     2.274214    1.337526     1.426415\n",
       "4 -183.283029  163.329196      3.666118     2.655352    1.150870     1.250131\n",
       "2 -178.585244  190.032293      1.196577     2.164673    1.296278     1.356929\n",
       "3 -175.994729  159.140327      4.994641     2.291645    1.106528     1.181603\n",
       "7  -64.943639  180.165330      1.269726     2.427536    1.352657     1.371981\n",
       "6  -64.519899  159.750600      3.731207     2.289482    1.144978     1.193304\n",
       "1  -59.743555  165.925216      4.998010     2.087427    1.115332     1.156038"
      ]
     },
     "execution_count": 137,
     "metadata": {},
     "output_type": "execute_result"
    }
   ],
   "source": [
    "get_inverse_normalization(model_scaler, get_means(fitted_model, X_training)).sort_values(['recence'])"
   ]
  },
  {
   "cell_type": "markdown",
   "id": "e7b7598c-a100-4e1d-9438-11fe67418689",
   "metadata": {},
   "source": [
    ">#### On constate que:\n",
    "> - les silhouettes montrent quelques points mal classés sur les groupes 4,5 et 8.\n",
    "> - on a un score honorable de 0.454.\n",
    "\n",
    "> - `cluster 7`: les clients *insatisfaits* qui ont *dépensé plus que la moyenne* et que l'on a *vu récemment*.\n",
    "> - `cluster 2`: les clients *insatisfaits* qui ont *dépensé plus que la moyenne* et que l'on a *vu il y a un certain temps*.\n",
    "> - `cluster 8`: les clients *insatisfaits* qui ont *dépensé plus que la moyenne* et que l'on a *vu il y a longtemps*.\n",
    "><br><br>\n",
    "> - `cluster 6`: les clients *modérément satisfaits* qui ont *dépensé moins que la moyenne* et que l'on a *vu récemment*.\n",
    "> - `cluster 4`: les clients *modérément satisfaits* et que l'on a *vu il y a un certain temps*.\n",
    "> - `cluster 5`: les clients *modérément satisfaits* et que l'on a *vu il y a longtemps*.\n",
    "><br><br>\n",
    "> - `cluster 1`: les clients *satisfaits* et que l'on a *vu récemment*.\n",
    "> - `cluster 3`: les clients *satisfaits* qui ont *dépensé moins que la moyenne* et que l'on a *vu il y a un certain temps*.\n",
    "> - `cluster 0`: les clients *satisfaits* et que l'on a *vu il y a longtemps*.\n",
    ">\n",
    "> Ce découpage est plutôt intéressant aussi."
   ]
  },
  {
   "cell_type": "markdown",
   "id": "c4bf4140-0987-4441-8e7c-dbd8ecef0408",
   "metadata": {},
   "source": [
    "#### Affichons un parallel plot des centroids"
   ]
  },
  {
   "cell_type": "code",
   "execution_count": 152,
   "id": "8b03ccd9-dbee-46b1-9329-ee6880d71cf1",
   "metadata": {},
   "outputs": [
    {
     "data": {
      "image/png": "[encoded data removed]",
      "text/plain": [
       "<Figure size 1080x504 with 1 Axes>"
      ]
     },
     "metadata": {},
     "output_type": "display_data"
    }
   ],
   "source": [
    "fig = plt.figure(figsize=(15, 7))\n",
    "centroids = pd.DataFrame(fitted_model.cluster_centers_.T, index=X_training.columns).reset_index()\n",
    "pd.plotting.parallel_coordinates(centroids, class_column='index')\n",
    "plt.show()"
   ]
  },
  {
   "cell_type": "markdown",
   "id": "1d3d0e4b-2042-48d9-8d50-0ec6c6167070",
   "metadata": {},
   "source": [
    ">#### On constate que sur ce modèle, ce sont principalement la `recence` et le `review_score` qui aident à déterminer les clusters...\n",
    ">Les autres variables n'ont qu'une influence à la marge."
   ]
  }
 ],
 "metadata": {
  "kernelspec": {
   "display_name": "venvP5",
   "language": "python",
   "name": "venvp5"
  },
  "language_info": {
   "codemirror_mode": {
    "name": "ipython",
    "version": 3
   },
   "file_extension": ".py",
   "mimetype": "text/x-python",
   "name": "python",
   "nbconvert_exporter": "python",
   "pygments_lexer": "ipython3",
   "version": "3.8.10"
  }
 },
 "nbformat": 4,
 "nbformat_minor": 5
}
